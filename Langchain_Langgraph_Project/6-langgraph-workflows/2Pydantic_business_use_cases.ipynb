{
  "cells": [
    {
      "cell_type": "markdown",
      "metadata": {},
      "source": [
        "# Pydantic\n",
        "\n",
        "Pydantic is a powerful Python library used primarily for data validation and settings management using Python type hints."
      ]
    },
    {
      "cell_type": "markdown",
      "metadata": {
        "id": "vwTjhOjtFm9N"
      },
      "source": [
        "### Prompt Chaining\n",
        "Prompt chaining decomposes a task into a sequence of steps, where each LLM call processes the output of the previous one. You can add programmatic checks on any intermediate steps to ensure that the process is still on track.\n",
        "\n",
        "When to use this workflow: This workflow is ideal for situations where the task can be easily and cleanly decomposed into fixed subtasks. The main goal is to trade off latency for higher accuracy, by making each LLM call an easier task."
      ]
    },
    {
      "cell_type": "code",
      "execution_count": 1,
      "metadata": {},
      "outputs": [],
      "source": [
        "from typing_extensions import TypedDict\n",
        "from langgraph.graph import StateGraph, START, END\n",
        "from IPython.display import Image, display"
      ]
    },
    {
      "cell_type": "code",
      "execution_count": null,
      "metadata": {},
      "outputs": [],
      "source": [
        "#Graph state\n",
        "class State(TypedDict):\n",
        "    topic:str\n",
        "    tagline:str\n",
        "    improved_tagline:str\n",
        "    final_tagline:str \n",
        "\n"
      ]
    },
    {
      "cell_type": "code",
      "execution_count": 25,
      "metadata": {},
      "outputs": [
        {
          "data": {
            "text/plain": [
              "AIMessage(content='Hello! How can I assist you today?', additional_kwargs={'refusal': None}, response_metadata={'token_usage': {'completion_tokens': 10, 'prompt_tokens': 10, 'total_tokens': 20, 'completion_tokens_details': {'accepted_prediction_tokens': 0, 'audio_tokens': 0, 'reasoning_tokens': 0, 'rejected_prediction_tokens': 0}, 'prompt_tokens_details': {'audio_tokens': 0, 'cached_tokens': 0}}, 'model_name': 'gpt-4o-2024-08-06', 'system_fingerprint': 'fp_f5bdcc3276', 'id': 'chatcmpl-BOk10S2YDli4dxhXfVzxGpWumVCGu', 'finish_reason': 'stop', 'logprobs': None}, id='run-f8dbbdcf-d442-4da5-bc23-e0b31960959d-0', usage_metadata={'input_tokens': 10, 'output_tokens': 10, 'total_tokens': 20, 'input_token_details': {'audio': 0, 'cache_read': 0}, 'output_token_details': {'audio': 0, 'reasoning': 0}})"
            ]
          },
          "execution_count": 25,
          "metadata": {},
          "output_type": "execute_result"
        }
      ],
      "source": [
        "import os\n",
        "from dotenv import load_dotenv\n",
        "load_dotenv()\n",
        "\n",
        "from langchain_openai import ChatOpenAI\n",
        "\n",
        "\n",
        "#os.environ[\"OPENAI_API_KEY\"]=os.getenv(\"OPENAI_API_KEY\")\n",
        "os.environ[\"OPENAI_API_KEY\"]=os.getenv(\"OPENAI_API_KEY\")\n",
        "\n",
        "\n",
        "llm=ChatOpenAI(model=\"gpt-4o\")\n",
        "#llm = ChatOpenAI(model=\"gpt-4o\")\n",
        "result=llm.invoke(\"Hello llms\")\n",
        "result\n",
        "\n"
      ]
    },
    {
      "cell_type": "code",
      "execution_count": null,
      "metadata": {},
      "outputs": [],
      "source": [
        "# Nodes\n",
        "def generate_tagline(state: State):\n",
        "    \"\"\"First LLM call to generate initial tagline\"\"\"\n",
        "    msg = llm.invoke(f\"Write a catchy tagline for the product: {state['topic']}\")\n",
        "    return {\"tagline\": msg.content}\n",
        "\n",
        "\n",
        "def check_tagline_quality(state: State):\n",
        "    \"\"\"Gate function to check if the tagline has strong impact\"\"\"\n",
        "\n",
        "    # Simple heuristic - check for presence of action word or emotion\n",
        "    if any(word in state[\"tagline\"].lower() for word in [\"buy\", \"get\", \"love\", \"feel\", \"now\"]):\n",
        "        return \"Pass\"\n",
        "    return \"Fail\"\n",
        "\n",
        "\n",
        "def improve_tagline(state: State):\n",
        "    \"\"\"Second LLM call to improve tagline with creativity\"\"\"\n",
        "\n",
        "    msg = llm.invoke(f\"Make this tagline more creative and appealing: {state['tagline']}\")\n",
        "    return {\"improved_tagline\": msg.content}\n",
        "\n",
        "\n",
        "def polish_tagline(state: State):\n",
        "    \"\"\"Third LLM call for final polish\"\"\"\n",
        "\n",
        "    msg = llm.invoke(f\"Add a memorable twist to this tagline: {state['improved_tagline']}\")\n",
        "    return {\"final_tagline\": msg.content}\n",
        "\n",
        "\n"
      ]
    },
    {
      "cell_type": "code",
      "execution_count": 34,
      "metadata": {},
      "outputs": [
        {
          "data": {
            "image/png": "[encoded data removed]",
            "text/plain": [
              "<IPython.core.display.Image object>"
            ]
          },
          "metadata": {},
          "output_type": "display_data"
        }
      ],
      "source": [
        "# Build workflow\n",
        "workflow = StateGraph(State)\n",
        "\n",
        "# Add nodes\n",
        "workflow.add_node(\"generate_tagline\", generate_tagline)\n",
        "workflow.add_node(\"improve_tagline\", improve_tagline)\n",
        "workflow.add_node(\"polish_tagline\", polish_tagline)\n",
        "\n",
        "# Add edges to connect nodes\n",
        "workflow.add_edge(START, \"generate_tagline\")\n",
        "workflow.add_conditional_edges(\"generate_tagline\",check_tagline_quality,{\"Fail\":\"improve_tagline\",\"Pass\":END})\n",
        "workflow.add_edge(\"improve_tagline\", \"polish_tagline\")\n",
        "workflow.add_edge(\"polish_tagline\", END)\n",
        "\n",
        "# Compile\n",
        "chain = workflow.compile()\n",
        "\n",
        "# Show workflow\n",
        "display(Image(chain.get_graph().draw_mermaid_png()))\n",
        "\n"
      ]
    },
    {
      "cell_type": "code",
      "execution_count": 35,
      "metadata": {},
      "outputs": [],
      "source": [
        "#invoke\n",
        "state=chain.invoke({\"topic\":\"Samsung Smart phone\"})"
      ]
    },
    {
      "cell_type": "code",
      "execution_count": 36,
      "metadata": {},
      "outputs": [
        {
          "data": {
            "text/plain": [
              "{'topic': 'Samsung Smart phone',\n",
              " 'tagline': '\"Samsung Smartphone: Unleash the Power of Possibility.\"',\n",
              " 'improved_tagline': '\"Samsung Smartphones: Ignite Your World of Unlimited Possibilities.\"',\n",
              " 'final_tagline': '\"Samsung Smartphones: Ignite Your World, Unleash the Universe of Possibilities.\"'}"
            ]
          },
          "execution_count": 36,
          "metadata": {},
          "output_type": "execute_result"
        }
      ],
      "source": [
        "state"
      ]
    },
    {
      "cell_type": "code",
      "execution_count": 37,
      "metadata": {},
      "outputs": [
        {
          "data": {
            "text/plain": [
              "'\"Samsung Smartphones: Ignite Your World of Unlimited Possibilities.\"'"
            ]
          },
          "execution_count": 37,
          "metadata": {},
          "output_type": "execute_result"
        }
      ],
      "source": [
        "state['improved_tagline']"
      ]
    },
    {
      "cell_type": "code",
      "execution_count": 38,
      "metadata": {},
      "outputs": [
        {
          "data": {
            "text/plain": [
              "'\"Samsung Smartphones: Ignite Your World, Unleash the Universe of Possibilities.\"'"
            ]
          },
          "execution_count": 38,
          "metadata": {},
          "output_type": "execute_result"
        }
      ],
      "source": [
        "state['final_tagline']"
      ]
    },
    {
      "cell_type": "code",
      "execution_count": null,
      "metadata": {},
      "outputs": [],
      "source": []
    },
    {
      "cell_type": "code",
      "execution_count": null,
      "metadata": {},
      "outputs": [],
      "source": []
    },
    {
      "cell_type": "markdown",
      "metadata": {
        "id": "oMV5EDuaFm9N"
      },
      "source": [
        "![image.png](attachment:image.png)"
      ]
    },
    {
      "cell_type": "markdown",
      "metadata": {
        "id": "EFemJe3jFm9O"
      },
      "source": [
        "### Parallelization¶\n",
        "With parallelization, LLMs work simultaneously on a task:\n",
        "\n",
        "LLMs can sometimes work simultaneously on a task and have their outputs aggregated programmatically. This workflow, parallelization, manifests in two key variations: Sectioning: Breaking a task into independent subtasks run in parallel. Voting: Running the same task multiple times to get diverse outputs.\n",
        "\n",
        "When to use this workflow: Parallelization is effective when the divided subtasks can be parallelized for speed, or when multiple perspectives or attempts are needed for higher confidence results. For complex tasks with multiple considerations, LLMs generally perform better when each consideration is handled by a separate LLM call, allowing focused attention on each specific aspect.\n",
        "\n",
        "![image.png](attachment:image.png)"
      ]
    },
    {
      "cell_type": "code",
      "execution_count": 39,
      "metadata": {},
      "outputs": [
        {
          "data": {
            "image/png": "[encoded data removed]",
            "text/plain": [
              "<IPython.core.display.Image object>"
            ]
          },
          "metadata": {},
          "output_type": "display_data"
        },
        {
          "name": "stdout",
          "output_type": "stream",
          "text": [
            "Here's a tagline , use cases,  and marketing about samsung AI smart phone!\n",
            "\n",
            "tagline:\n",
            "\"Experience the Future in Your Hand: Samsung AI Smartphones - Where Innovation Meets Intelligence.\"\n",
            "\n",
            "usecases:\n",
            "**Use Case 1: Personalized Digital Assistant**\n",
            "\n",
            "**Name:** Daily Organizer and Personal Assistant\n",
            "\n",
            "**Primary Actor:** User\n",
            "\n",
            "**Stakeholders and Interests:**\n",
            "- **User:** Wants to efficiently manage daily tasks and schedules.\n",
            "- **Samsung:** Aims to provide a seamless user experience to enhance customer satisfaction and brand loyalty.\n",
            "\n",
            "**Preconditions:**\n",
            "- The user has a Samsung AI smartphone with the digital assistant feature enabled.\n",
            "- User has granted necessary permissions for calendar, contacts, and email access.\n",
            "\n",
            "**Success Guarantee:**\n",
            "- The user efficiently manages their daily activities with the help of the AI assistant, saving time and increasing productivity.\n",
            "\n",
            "**Main Success Scenario:**\n",
            "1. The user activates the Samsung digital assistant by voice command or designated gesture.\n",
            "2. The assistant greets the user and summarizes the day's agenda, appointments, and tasks.\n",
            "3. The user instructs the assistant to add a new meeting to the calendar.\n",
            "4. The assistant suggests optimal meeting times based on availability and priorities.\n",
            "5. The user confirms the time, and the assistant schedules the meeting, sending out invitations.\n",
            "6. The assistant reminds the user of an upcoming conference call and offers to set up a hands-free connection.\n",
            "7. The assistant provides weather updates and suggests carrying an umbrella due to rain predictions.\n",
            "8. At the end of the day, the assistant provides a summary of completed tasks and pending ones for tomorrow.\n",
            "\n",
            "**Extensions:**\n",
            "- 3a. The assistant detects a scheduling conflict and offers alternative solutions.\n",
            "- 6a. The user asks the assistant to cancel the conference call, and the assistant updates the calendar and sends notifications to involved parties.\n",
            "\n",
            "**Use Case 2: Smart Photography Assistant**\n",
            "\n",
            "**Name:** Enhanced Photography Experience\n",
            "\n",
            "**Primary Actor:** User\n",
            "\n",
            "**Stakeholders and Interests:**\n",
            "- **User:** Wants to capture high-quality photos effortlessly.\n",
            "- **Samsung:** Wants to showcase AI capabilities and improve customer engagement through photography.\n",
            "\n",
            "**Preconditions:**\n",
            "- The user has a Samsung AI smartphone equipped with advanced camera features.\n",
            "- The camera app has AI functionalities activated.\n",
            "\n",
            "**Success Guarantee:**\n",
            "- The user captures professional-grade photographs with minimal effort, enhancing their creative expression and satisfaction.\n",
            "\n",
            "**Main Success Scenario:**\n",
            "1. The user opens the camera app and points it at a scenic view.\n",
            "2. The AI camera assistant analyzes the scene for optimal settings, including lighting, focus, and exposure.\n",
            "3. The assistant suggests switching to landscape mode for better composition.\n",
            "4. The user accepts, and the camera automatically adjusts settings.\n",
            "5. The assistant recommends utilizing HDR mode for enhanced detail.\n",
            "6. The user takes the photo, and the assistant applies post-processing enhancements instantly.\n",
            "7. The user reviews the photo, impressed with its quality, and shares it directly on social media via integrated features.\n",
            "\n",
            "**Extensions:**\n",
            "- 2a. The camera detects low light conditions and prompts the user to enable Night Mode for better results.\n",
            "- 6a. The assistant offers creative filters and AI-generated backgrounds to further enhance the photo before sharing.\n",
            "\n",
            "**Use Case 3: Health Monitoring and Management**\n",
            "\n",
            "**Name:** Personal Health Coach\n",
            "\n",
            "**Primary Actor:** User\n",
            "\n",
            "**Stakeholders and Interests:**\n",
            "- **User:** Desires to monitor health metrics and promote a healthier lifestyle.\n",
            "- **Samsung:** Aims to encourage the use of health-oriented features, promoting product value.\n",
            "\n",
            "**Preconditions:**\n",
            "- The user owns a Samsung AI smartphone integrated with health monitoring sensors and apps.\n",
            "- The device is regularly updated and synchronized with health data.\n",
            "\n",
            "**Success Guarantee:**\n",
            "- The user maintains a healthier lifestyle through proactive tracking and management of health data.\n",
            "\n",
            "**Main Success Scenario:**\n",
            "1. The user wears their smartphone or connects it to compatible health accessories (e.g., smartwatch).\n",
            "2. The AI health assistant collects data on the user’s physical activity, heart rate, and sleep patterns.\n",
            "3. The assistant analyzes trends and provides personalized recommendations, encouraging more steps or suggesting relaxation techniques.\n",
            "4. The user sets health goals, such as weight loss or increased activity.\n",
            "5. The assistant tracks progress, offering daily updates and motivational prompts.\n",
            "6. The user consults the assistant for nutrition advice, receiving AI-generated meal plans based on dietary preferences.\n",
            "7. The assistant integrates with third-party health apps for comprehensive health management.\n",
            "\n",
            "**Extensions:**\n",
            "- 2a. The assistant observes irregular health patterns and advises the user to seek professional medical consultation.\n",
            "- 5a. During low activity periods, the assistant suggests quick exercises to meet daily goals.\n",
            "\n",
            "These use cases demonstrate the versatility and potential of Samsung AI-powered smartphones to enhance everyday experiences across various aspects of users’ lives.\n",
            "\n",
            "marketingidea:\n",
            "**Campaign Title: \"Galaxy Genius: The Smartphone That Knows You\"**\n",
            "\n",
            "**Objective:**  \n",
            "To highlight the advanced AI capabilities of Samsung's latest AI-powered smartphone, positioning it as a truly intelligent companion that understands, predicts, and improves the user experience.\n",
            "\n",
            "**Target Audience:**  \n",
            "Tech-savvy millennials, young professionals, and early adopters looking for cutting-edge technology that simplifies and enhances everyday tasks.\n",
            "\n",
            "**Core Message:**  \n",
            "“Experience the Future with the Smartphone That Enhances Your Life.”\n",
            "\n",
            "**Campaign Elements:**\n",
            "\n",
            "1. **Interactive Launch Event: \"Galaxy Genius Experience Zones\"**  \n",
            "   Set up interactive zones in major cities where consumers can experience the AI capabilities of the new Samsung smartphone. Each zone targets a specific feature:\n",
            "   - **Personal Assistant Zone:** Demonstrations of the phone’s personal assistant predicting user needs and preferences.\n",
            "   - **Photography Zone:** Showcasing AI-enhanced camera features that automatically adjust settings for picture-perfect results.\n",
            "   - **Multitasking Zone:** Illustrating the phone’s ability to manage multiple tasks seamlessly using AI.\n",
            "   - **Battery Optimization Zone:** Demonstrating how AI optimizes battery life based on user habits.\n",
            "\n",
            "2. **Influencer Partnerships: \"Genius Meetings\"**  \n",
            "   Collaborate with tech influencers and lifestyle bloggers to share their \"Genius Moments\" where the Samsung smartphone's AI functionality made a significant difference in their daily lives. Encourage followers to share their own stories under the hashtag #GalaxyGenius.\n",
            "\n",
            "3. **Content Series: \"A Day with Galaxy Genius\"**  \n",
            "   Create a video series following diverse users (e.g., a busy parent, an entrepreneur, a photographer) showing how the smartphone's AI optimizes their day, addressing unique needs and preferences.\n",
            "\n",
            "4. **Social Media Challenge: \"#PredictTheFuture\"**  \n",
            "   Launch a social media challenge inviting users to share what their AI-powered Samsung smartphone predicts for them (from weather suggestions to calendar reminders) using the hashtag #PredictTheFuture. The most creative and engaging posts win exclusive Samsung accessories or a free smartphone.\n",
            "\n",
            "5. **Virtual AI Experience with AR**  \n",
            "   Develop an AR app that allows users to visualize and interact with the phone’s AI capabilities in their own environments, creating a personalized virtual experience.\n",
            "\n",
            "6. **Partnerships with AI Enthusiasts Communities**  \n",
            "   Partner with AI and tech communities to host webinars and online workshops focusing on AI developments in smartphones, with guest appearances by Samsung engineers and product experts.\n",
            "\n",
            "7. **Targeted Ads with Predictive Messaging**  \n",
            "   Use AI-driven algorithms to create personalized ads that speak to specific user behaviors. For example, if a user frequently engages with photography content, show them ads highlighting the smartphone's AI-powered camera features.\n",
            "\n",
            "**Metrics for Success:**\n",
            "\n",
            "- Increased brand awareness measured through social media engagements and hashtag use.\n",
            "- Higher attendance and media coverage of experiential launch events.\n",
            "- Rise in pre-orders and sales of the new smartphone.\n",
            "- Growth in Samsung’s subscriber list from campaign participation.\n",
            "- Positive user feedback and testimonials shared across platforms.\n",
            "\n",
            "By emphasizing Samsung's commitment to intelligent design and seamless user experience, this campaign positions their AI-powered smartphone as an essential and intuitive gadget for the modern consumer.\n"
          ]
        }
      ],
      "source": [
        "# Graph state\n",
        "class State(TypedDict):\n",
        "    topic: str\n",
        "    tagline: str\n",
        "    usecases: str\n",
        "    marketingidea: str\n",
        "    combined_output: str\n",
        "\n",
        "\n",
        "# Nodes\n",
        "def call_llm_1(state: State):\n",
        "    \"\"\"First LLM call to generate initial tag_line\"\"\"\n",
        "\n",
        "    msg = llm.invoke(f\"Write a tag_line about {state['topic']}\")\n",
        "    return {\"tagline\": msg.content}\n",
        "\n",
        "\n",
        "def call_llm_2(state: State):\n",
        "    \"\"\"Second LLM call to generate use case\"\"\"\n",
        "\n",
        "    msg = llm.invoke(f\"Write a use cases about {state['topic']}\")\n",
        "    return {\"usecases\": msg.content}\n",
        "\n",
        "\n",
        "def call_llm_3(state: State):\n",
        "    \"\"\"Third LLM call to generate marketing idea\"\"\"\n",
        "\n",
        "    msg = llm.invoke(f\"Write a marketing idea about {state['topic']}\")\n",
        "    return {\"marketingidea\": msg.content}\n",
        "\n",
        "\n",
        "def aggregator(state: State):\n",
        "    \"\"\"Combine the tagline,use cases and marketing idea into a single output\"\"\"\n",
        "\n",
        "    combined = f\"Here's a tagline , use cases,  and marketing about {state['topic']}!\\n\\n\"\n",
        "    combined += f\"tagline:\\n{state['tagline']}\\n\\n\"\n",
        "    combined += f\"usecases:\\n{state['usecases']}\\n\\n\"\n",
        "    combined += f\"marketingidea:\\n{state['marketingidea']}\"\n",
        "    return {\"combined_output\": combined}\n",
        "\n",
        "\n",
        "# Build workflow\n",
        "parallel_builder = StateGraph(State)\n",
        "\n",
        "# Add nodes\n",
        "parallel_builder.add_node(\"call_llm_1\", call_llm_1)\n",
        "parallel_builder.add_node(\"call_llm_2\", call_llm_2)\n",
        "parallel_builder.add_node(\"call_llm_3\", call_llm_3)\n",
        "parallel_builder.add_node(\"aggregator\", aggregator)\n",
        "\n",
        "# Add edges to connect nodes\n",
        "parallel_builder.add_edge(START, \"call_llm_1\")\n",
        "parallel_builder.add_edge(START, \"call_llm_2\")\n",
        "parallel_builder.add_edge(START, \"call_llm_3\")\n",
        "parallel_builder.add_edge(\"call_llm_1\", \"aggregator\")\n",
        "parallel_builder.add_edge(\"call_llm_2\", \"aggregator\")\n",
        "parallel_builder.add_edge(\"call_llm_3\", \"aggregator\")\n",
        "parallel_builder.add_edge(\"aggregator\", END)\n",
        "parallel_workflow = parallel_builder.compile()\n",
        "\n",
        "# Show workflow\n",
        "display(Image(parallel_workflow.get_graph().draw_mermaid_png()))\n",
        "\n",
        "# Invoke\n",
        "state = parallel_workflow.invoke({\"topic\": \"samsung AI smart phone\"})\n",
        "print(state[\"combined_output\"])"
      ]
    },
    {
      "cell_type": "code",
      "execution_count": 40,
      "metadata": {},
      "outputs": [
        {
          "data": {
            "text/plain": [
              "'\"Experience the Future in Your Hand: Samsung AI Smartphones - Where Innovation Meets Intelligence.\"'"
            ]
          },
          "execution_count": 40,
          "metadata": {},
          "output_type": "execute_result"
        }
      ],
      "source": [
        "state[\"tagline\"]"
      ]
    },
    {
      "cell_type": "code",
      "execution_count": 41,
      "metadata": {},
      "outputs": [
        {
          "data": {
            "text/plain": [
              "\"**Use Case 1: Personalized Digital Assistant**\\n\\n**Name:** Daily Organizer and Personal Assistant\\n\\n**Primary Actor:** User\\n\\n**Stakeholders and Interests:**\\n- **User:** Wants to efficiently manage daily tasks and schedules.\\n- **Samsung:** Aims to provide a seamless user experience to enhance customer satisfaction and brand loyalty.\\n\\n**Preconditions:**\\n- The user has a Samsung AI smartphone with the digital assistant feature enabled.\\n- User has granted necessary permissions for calendar, contacts, and email access.\\n\\n**Success Guarantee:**\\n- The user efficiently manages their daily activities with the help of the AI assistant, saving time and increasing productivity.\\n\\n**Main Success Scenario:**\\n1. The user activates the Samsung digital assistant by voice command or designated gesture.\\n2. The assistant greets the user and summarizes the day's agenda, appointments, and tasks.\\n3. The user instructs the assistant to add a new meeting to the calendar.\\n4. The assistant suggests optimal meeting times based on availability and priorities.\\n5. The user confirms the time, and the assistant schedules the meeting, sending out invitations.\\n6. The assistant reminds the user of an upcoming conference call and offers to set up a hands-free connection.\\n7. The assistant provides weather updates and suggests carrying an umbrella due to rain predictions.\\n8. At the end of the day, the assistant provides a summary of completed tasks and pending ones for tomorrow.\\n\\n**Extensions:**\\n- 3a. The assistant detects a scheduling conflict and offers alternative solutions.\\n- 6a. The user asks the assistant to cancel the conference call, and the assistant updates the calendar and sends notifications to involved parties.\\n\\n**Use Case 2: Smart Photography Assistant**\\n\\n**Name:** Enhanced Photography Experience\\n\\n**Primary Actor:** User\\n\\n**Stakeholders and Interests:**\\n- **User:** Wants to capture high-quality photos effortlessly.\\n- **Samsung:** Wants to showcase AI capabilities and improve customer engagement through photography.\\n\\n**Preconditions:**\\n- The user has a Samsung AI smartphone equipped with advanced camera features.\\n- The camera app has AI functionalities activated.\\n\\n**Success Guarantee:**\\n- The user captures professional-grade photographs with minimal effort, enhancing their creative expression and satisfaction.\\n\\n**Main Success Scenario:**\\n1. The user opens the camera app and points it at a scenic view.\\n2. The AI camera assistant analyzes the scene for optimal settings, including lighting, focus, and exposure.\\n3. The assistant suggests switching to landscape mode for better composition.\\n4. The user accepts, and the camera automatically adjusts settings.\\n5. The assistant recommends utilizing HDR mode for enhanced detail.\\n6. The user takes the photo, and the assistant applies post-processing enhancements instantly.\\n7. The user reviews the photo, impressed with its quality, and shares it directly on social media via integrated features.\\n\\n**Extensions:**\\n- 2a. The camera detects low light conditions and prompts the user to enable Night Mode for better results.\\n- 6a. The assistant offers creative filters and AI-generated backgrounds to further enhance the photo before sharing.\\n\\n**Use Case 3: Health Monitoring and Management**\\n\\n**Name:** Personal Health Coach\\n\\n**Primary Actor:** User\\n\\n**Stakeholders and Interests:**\\n- **User:** Desires to monitor health metrics and promote a healthier lifestyle.\\n- **Samsung:** Aims to encourage the use of health-oriented features, promoting product value.\\n\\n**Preconditions:**\\n- The user owns a Samsung AI smartphone integrated with health monitoring sensors and apps.\\n- The device is regularly updated and synchronized with health data.\\n\\n**Success Guarantee:**\\n- The user maintains a healthier lifestyle through proactive tracking and management of health data.\\n\\n**Main Success Scenario:**\\n1. The user wears their smartphone or connects it to compatible health accessories (e.g., smartwatch).\\n2. The AI health assistant collects data on the user’s physical activity, heart rate, and sleep patterns.\\n3. The assistant analyzes trends and provides personalized recommendations, encouraging more steps or suggesting relaxation techniques.\\n4. The user sets health goals, such as weight loss or increased activity.\\n5. The assistant tracks progress, offering daily updates and motivational prompts.\\n6. The user consults the assistant for nutrition advice, receiving AI-generated meal plans based on dietary preferences.\\n7. The assistant integrates with third-party health apps for comprehensive health management.\\n\\n**Extensions:**\\n- 2a. The assistant observes irregular health patterns and advises the user to seek professional medical consultation.\\n- 5a. During low activity periods, the assistant suggests quick exercises to meet daily goals.\\n\\nThese use cases demonstrate the versatility and potential of Samsung AI-powered smartphones to enhance everyday experiences across various aspects of users’ lives.\""
            ]
          },
          "execution_count": 41,
          "metadata": {},
          "output_type": "execute_result"
        }
      ],
      "source": [
        "state[\"usecases\"]"
      ]
    },
    {
      "cell_type": "code",
      "execution_count": 42,
      "metadata": {},
      "outputs": [
        {
          "data": {
            "text/plain": [
              "'**Campaign Title: \"Galaxy Genius: The Smartphone That Knows You\"**\\n\\n**Objective:**  \\nTo highlight the advanced AI capabilities of Samsung\\'s latest AI-powered smartphone, positioning it as a truly intelligent companion that understands, predicts, and improves the user experience.\\n\\n**Target Audience:**  \\nTech-savvy millennials, young professionals, and early adopters looking for cutting-edge technology that simplifies and enhances everyday tasks.\\n\\n**Core Message:**  \\n“Experience the Future with the Smartphone That Enhances Your Life.”\\n\\n**Campaign Elements:**\\n\\n1. **Interactive Launch Event: \"Galaxy Genius Experience Zones\"**  \\n   Set up interactive zones in major cities where consumers can experience the AI capabilities of the new Samsung smartphone. Each zone targets a specific feature:\\n   - **Personal Assistant Zone:** Demonstrations of the phone’s personal assistant predicting user needs and preferences.\\n   - **Photography Zone:** Showcasing AI-enhanced camera features that automatically adjust settings for picture-perfect results.\\n   - **Multitasking Zone:** Illustrating the phone’s ability to manage multiple tasks seamlessly using AI.\\n   - **Battery Optimization Zone:** Demonstrating how AI optimizes battery life based on user habits.\\n\\n2. **Influencer Partnerships: \"Genius Meetings\"**  \\n   Collaborate with tech influencers and lifestyle bloggers to share their \"Genius Moments\" where the Samsung smartphone\\'s AI functionality made a significant difference in their daily lives. Encourage followers to share their own stories under the hashtag #GalaxyGenius.\\n\\n3. **Content Series: \"A Day with Galaxy Genius\"**  \\n   Create a video series following diverse users (e.g., a busy parent, an entrepreneur, a photographer) showing how the smartphone\\'s AI optimizes their day, addressing unique needs and preferences.\\n\\n4. **Social Media Challenge: \"#PredictTheFuture\"**  \\n   Launch a social media challenge inviting users to share what their AI-powered Samsung smartphone predicts for them (from weather suggestions to calendar reminders) using the hashtag #PredictTheFuture. The most creative and engaging posts win exclusive Samsung accessories or a free smartphone.\\n\\n5. **Virtual AI Experience with AR**  \\n   Develop an AR app that allows users to visualize and interact with the phone’s AI capabilities in their own environments, creating a personalized virtual experience.\\n\\n6. **Partnerships with AI Enthusiasts Communities**  \\n   Partner with AI and tech communities to host webinars and online workshops focusing on AI developments in smartphones, with guest appearances by Samsung engineers and product experts.\\n\\n7. **Targeted Ads with Predictive Messaging**  \\n   Use AI-driven algorithms to create personalized ads that speak to specific user behaviors. For example, if a user frequently engages with photography content, show them ads highlighting the smartphone\\'s AI-powered camera features.\\n\\n**Metrics for Success:**\\n\\n- Increased brand awareness measured through social media engagements and hashtag use.\\n- Higher attendance and media coverage of experiential launch events.\\n- Rise in pre-orders and sales of the new smartphone.\\n- Growth in Samsung’s subscriber list from campaign participation.\\n- Positive user feedback and testimonials shared across platforms.\\n\\nBy emphasizing Samsung\\'s commitment to intelligent design and seamless user experience, this campaign positions their AI-powered smartphone as an essential and intuitive gadget for the modern consumer.'"
            ]
          },
          "execution_count": 42,
          "metadata": {},
          "output_type": "execute_result"
        }
      ],
      "source": [
        "state[\"marketingidea\"]"
      ]
    },
    {
      "cell_type": "code",
      "execution_count": null,
      "metadata": {},
      "outputs": [],
      "source": []
    },
    {
      "cell_type": "code",
      "execution_count": null,
      "metadata": {},
      "outputs": [],
      "source": []
    },
    {
      "cell_type": "code",
      "execution_count": null,
      "metadata": {},
      "outputs": [],
      "source": []
    },
    {
      "cell_type": "markdown",
      "metadata": {
        "id": "OL2UHCLQFm9O"
      },
      "source": [
        "### Routing\n",
        "Routing classifies an input and directs it to a specialized followup task. This workflow allows for separation of concerns, and building more specialized prompts. Without this workflow, optimizing for one kind of input can hurt performance on other inputs.\n",
        "\n",
        "When to use this workflow: Routing works well for complex tasks where there are distinct categories that are better handled separately, and where classification can be handled accurately, either by an LLM or a more traditional classification model/algorithm.\n",
        "\n",
        "![image.png](attachment:image.png)"
      ]
    },
    {
      "cell_type": "code",
      "execution_count": null,
      "metadata": {},
      "outputs": [],
      "source": [
        "from typing_extensions import Literal\n",
        "from pydantic import BaseModel, Field\n",
        "from langchain_core.messages import HumanMessage, SystemMessage\n",
        "\n",
        "# Schema for structured output to use as routing logic\n",
        "\n",
        "\n",
        "# Augment the LLM with schema for structured output\n",
        "\n",
        "\n"
      ]
    },
    {
      "cell_type": "code",
      "execution_count": null,
      "metadata": {},
      "outputs": [],
      "source": []
    },
    {
      "cell_type": "code",
      "execution_count": null,
      "metadata": {},
      "outputs": [],
      "source": []
    },
    {
      "cell_type": "code",
      "execution_count": null,
      "metadata": {},
      "outputs": [],
      "source": []
    },
    {
      "cell_type": "code",
      "execution_count": null,
      "metadata": {},
      "outputs": [],
      "source": []
    },
    {
      "cell_type": "code",
      "execution_count": null,
      "metadata": {},
      "outputs": [],
      "source": []
    },
    {
      "cell_type": "code",
      "execution_count": null,
      "metadata": {},
      "outputs": [],
      "source": []
    },
    {
      "cell_type": "code",
      "execution_count": null,
      "metadata": {},
      "outputs": [],
      "source": []
    },
    {
      "cell_type": "code",
      "execution_count": null,
      "metadata": {},
      "outputs": [],
      "source": []
    },
    {
      "cell_type": "code",
      "execution_count": null,
      "metadata": {},
      "outputs": [],
      "source": []
    },
    {
      "cell_type": "code",
      "execution_count": null,
      "metadata": {},
      "outputs": [],
      "source": []
    },
    {
      "cell_type": "markdown",
      "metadata": {
        "id": "VH-pBizvFm9O"
      },
      "source": [
        "### Orchestrator-Worker\n",
        "In the orchestrator-workers workflow, a central LLM dynamically breaks down tasks, delegates them to worker LLMs, and synthesizes their results.\n",
        "\n",
        "When to use this workflow: This workflow is well-suited for complex tasks where you can’t predict the subtasks needed (in coding, for example, the number of files that need to be changed and the nature of the change in each file likely depend on the task). Whereas it’s topographically similar, the key difference from parallelization is its flexibility—subtasks aren't pre-defined, but determined by the orchestrator based on the specific input.\n",
        "\n",
        "![image.png](attachment:image.png)"
      ]
    },
    {
      "cell_type": "code",
      "execution_count": null,
      "metadata": {},
      "outputs": [],
      "source": []
    },
    {
      "cell_type": "code",
      "execution_count": null,
      "metadata": {},
      "outputs": [],
      "source": []
    },
    {
      "cell_type": "code",
      "execution_count": null,
      "metadata": {},
      "outputs": [],
      "source": []
    },
    {
      "cell_type": "code",
      "execution_count": null,
      "metadata": {},
      "outputs": [],
      "source": []
    },
    {
      "cell_type": "code",
      "execution_count": null,
      "metadata": {},
      "outputs": [],
      "source": []
    },
    {
      "cell_type": "markdown",
      "metadata": {
        "id": "qRl816-DFm9P"
      },
      "source": [
        "### Creating Workers in LangGraph\n",
        "\n",
        "Because orchestrator-worker workflows are common, LangGraph has the Send API to support this. It lets you dynamically create worker nodes and send each one a specific input. Each worker has its own state, and all worker outputs are written to a shared state key that is accessible to the orchestrator graph. This gives the orchestrator access to all worker output and allows it to synthesize them into a final output. As you can see below, we iterate over a list of sections and Send each to a worker node."
      ]
    },
    {
      "cell_type": "code",
      "execution_count": null,
      "metadata": {},
      "outputs": [],
      "source": []
    },
    {
      "cell_type": "code",
      "execution_count": null,
      "metadata": {},
      "outputs": [],
      "source": []
    },
    {
      "cell_type": "code",
      "execution_count": null,
      "metadata": {},
      "outputs": [],
      "source": []
    },
    {
      "cell_type": "code",
      "execution_count": null,
      "metadata": {},
      "outputs": [],
      "source": []
    },
    {
      "cell_type": "markdown",
      "metadata": {
        "id": "NOB_xIS8Fm9P"
      },
      "source": [
        "### Evaluator-optimizer\n",
        "In the evaluator-optimizer workflow, one LLM call generates a response while another provides evaluation and feedback in a loop.\n",
        "\n",
        "When to use this workflow: This workflow is particularly effective when we have clear evaluation criteria, and when iterative refinement provides measurable value. The two signs of good fit are, first, that LLM responses can be demonstrably improved when a human articulates their feedback; and second, that the LLM can provide such feedback. This is analogous to the iterative writing process a human writer might go through when producing a polished document.\n",
        "\n",
        "![image.png](attachment:image.png)"
      ]
    },
    {
      "cell_type": "code",
      "execution_count": null,
      "metadata": {
        "id": "V_wVt_lfFm9P"
      },
      "outputs": [],
      "source": []
    }
  ],
  "metadata": {
    "colab": {
      "provenance": []
    },
    "kernelspec": {
      "display_name": "venv",
      "language": "python",
      "name": "python3"
    },
    "language_info": {
      "codemirror_mode": {
        "name": "ipython",
        "version": 3
      },
      "file_extension": ".py",
      "mimetype": "text/x-python",
      "name": "python",
      "nbconvert_exporter": "python",
      "pygments_lexer": "ipython3",
      "version": "3.12.7"
    }
  },
  "nbformat": 4,
  "nbformat_minor": 0
}

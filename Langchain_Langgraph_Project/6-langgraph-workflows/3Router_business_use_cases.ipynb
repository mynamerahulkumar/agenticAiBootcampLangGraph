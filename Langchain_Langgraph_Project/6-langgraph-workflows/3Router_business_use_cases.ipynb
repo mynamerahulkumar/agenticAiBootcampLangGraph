{
  "cells": [
    {
      "cell_type": "markdown",
      "metadata": {
        "id": "OL2UHCLQFm9O"
      },
      "source": [
        "### Routing\n",
        "Routing classifies an input and directs it to a specialized followup task. This workflow allows for separation of concerns, and building more specialized prompts. Without this workflow, optimizing for one kind of input can hurt performance on other inputs.\n",
        "\n",
        "When to use this workflow: Routing works well for complex tasks where there are distinct categories that are better handled separately, and where classification can be handled accurately, either by an LLM or a more traditional classification model/algorithm.\n",
        "\n",
        "![image.png](attachment:image.png)"
      ]
    },
    {
      "cell_type": "code",
      "execution_count": 1,
      "metadata": {},
      "outputs": [
        {
          "data": {
            "text/plain": [
              "AIMessage(content='Hello! How can I assist you today?', additional_kwargs={'refusal': None}, response_metadata={'token_usage': {'completion_tokens': 10, 'prompt_tokens': 8, 'total_tokens': 18, 'completion_tokens_details': {'accepted_prediction_tokens': 0, 'audio_tokens': 0, 'reasoning_tokens': 0, 'rejected_prediction_tokens': 0}, 'prompt_tokens_details': {'audio_tokens': 0, 'cached_tokens': 0}}, 'model_name': 'gpt-4o-2024-08-06', 'system_fingerprint': 'fp_f5bdcc3276', 'id': 'chatcmpl-BPasFu7Lkn8xRlw5CtClSLUhvrvfk', 'finish_reason': 'stop', 'logprobs': None}, id='run-d091e92e-1b59-4e23-91d2-0dac4e9acce6-0', usage_metadata={'input_tokens': 8, 'output_tokens': 10, 'total_tokens': 18, 'input_token_details': {'audio': 0, 'cache_read': 0}, 'output_token_details': {'audio': 0, 'reasoning': 0}})"
            ]
          },
          "execution_count": 1,
          "metadata": {},
          "output_type": "execute_result"
        }
      ],
      "source": [
        "\n",
        "import os\n",
        "from dotenv import load_dotenv\n",
        "load_dotenv()\n",
        "\n",
        "from langchain_groq import ChatGroq\n",
        "from langchain_openai import ChatOpenAI\n",
        "\n",
        "os.environ[\"OPENAI_API_KEY\"]=os.getenv(\"OPENAI_API_KEY\")\n",
        "# os.environ[\"GROQ_API_KEY\"]=os.getenv(\"GROQ_API_KEY\")\n",
        "\n",
        "\n",
        "# llm=ChatGroq(model=\"qwen-2.5-32b\")\n",
        "llm = ChatOpenAI(model=\"gpt-4o\")\n",
        "result=llm.invoke(\"Hello\")\n",
        "result\n"
      ]
    },
    {
      "cell_type": "code",
      "execution_count": 3,
      "metadata": {},
      "outputs": [],
      "source": [
        "from typing_extensions import Literal,TypedDict\n",
        "from pydantic import BaseModel, Field\n",
        "from langchain_core.messages import HumanMessage, SystemMessage\n",
        "\n",
        "# Schema for structured output to use as routing logic\n",
        "class Route(BaseModel):\n",
        "    step:Literal[\"tag_line\",\"use_cases\",\"marketing_idea\"]=Field(None,description=\"The next step in \" \\\n",
        "    \"the routing process\")\n",
        "\n",
        "# Augment the LLM with schema for structured output\n",
        "\n",
        "router=llm.with_structured_output(Route)\n",
        "\n"
      ]
    },
    {
      "cell_type": "code",
      "execution_count": 4,
      "metadata": {},
      "outputs": [],
      "source": [
        "#State\n",
        "\n",
        "class State(TypedDict):\n",
        "    input:str\n",
        "    decision:str\n",
        "    output:str"
      ]
    },
    {
      "cell_type": "code",
      "execution_count": 5,
      "metadata": {},
      "outputs": [],
      "source": [
        "\n",
        "\n",
        "# Nodes\n",
        "def llm_call_1(state:State):\n",
        "    \"\"\"Write a tag_line based on user input\"\"\"\n",
        "    result=llm.invoke(state[\"input\"])\n",
        "    return {\"output\":result.content}\n",
        "\n",
        "def llm_call_2(state: State):\n",
        "    \"\"\"Write a use_cases\"\"\"\n",
        "\n",
        "    print(\"LLM call 2 is called\")\n",
        "\n",
        "    result = llm.invoke(state[\"input\"])\n",
        "    return {\"output\": result.content}\n",
        "\n",
        "\n",
        "def llm_call_3(state: State):\n",
        "    \"\"\"Write a marketing idea\"\"\"\n",
        "\n",
        "    result = llm.invoke(state[\"input\"])\n",
        "    return {\"output\": result.content}\n",
        "\n",
        "def llm_call_router(state:State):\n",
        "    \"\"\"Route the input to the appropriate node\"\"\"\n",
        "\n",
        "    # Run the augmented LLM with structured output to serve as routing logic\n",
        "    decision=router.invoke(\n",
        "        [SystemMessage(\n",
        "            content=\"Route input to tag_line,use_case,marketing_idea based on the user's request\"\n",
        "        ),\n",
        "        HumanMessage(content=state[\"input\"]),]\n",
        "    )\n",
        "    return {\"decision\":decision.step}\n",
        "\n",
        "# Conditional edge function to route to the appropriate node\n",
        "def route_decision(state:State):\n",
        "    if state[\"decision\"]==\"tag_line\":\n",
        "        return \"llm_call_1\"\n",
        "    elif state[\"decision\"]==\"use_cases\":\n",
        "        return \"llm_call_2\"\n",
        "    elif state[\"decision\"]==\"marketing_idea\":\n",
        "        return \"llm_call_3\"\n",
        "\n",
        "\n"
      ]
    },
    {
      "cell_type": "code",
      "execution_count": 6,
      "metadata": {},
      "outputs": [
        {
          "data": {
            "image/png": "[encoded data removed]",
            "text/plain": [
              "<IPython.core.display.Image object>"
            ]
          },
          "metadata": {},
          "output_type": "display_data"
        }
      ],
      "source": [
        "from langgraph.graph import StateGraph,START,END\n",
        "from IPython.display import Image,display\n",
        "# Build workflow\n",
        "\n",
        "router_builder=StateGraph(State)\n",
        "\n",
        "#Add nodes\n",
        "router_builder.add_node(\"llm_call_1\",llm_call_1)\n",
        "router_builder.add_node(\"llm_call_2\", llm_call_2)\n",
        "router_builder.add_node(\"llm_call_3\", llm_call_3)\n",
        "router_builder.add_node(\"llm_call_router\",llm_call_router)\n",
        "\n",
        "#add edges to connect nodes\n",
        "\n",
        "router_builder.add_edge(START,\"llm_call_router\")\n",
        "router_builder.add_conditional_edges(\n",
        "    \"llm_call_router\",\n",
        "    route_decision,\n",
        "    {\n",
        "        # Name returned by route_decision : Name of next node to visit\n",
        "        \"llm_call_1\":\"llm_call_1\",\n",
        "         \"llm_call_2\": \"llm_call_2\",\n",
        "        \"llm_call_3\": \"llm_call_3\",\n",
        "    }\n",
        ")\n",
        "\n",
        "\n",
        "router_builder.add_edge(\"llm_call_1\",END)\n",
        "router_builder.add_edge(\"llm_call_2\", END)\n",
        "router_builder.add_edge(\"llm_call_3\", END)\n",
        "#compile workflow\n",
        "\n",
        "router_workflow=router_builder.compile()\n",
        "\n",
        "#show the workflow\n",
        "\n",
        "display(Image(router_workflow.get_graph().draw_mermaid_png()))\n"
      ]
    },
    {
      "cell_type": "code",
      "execution_count": 7,
      "metadata": {},
      "outputs": [
        {
          "name": "stdout",
          "output_type": "stream",
          "text": [
            "LLM call 2 is called\n"
          ]
        }
      ],
      "source": [
        "#invoke\n",
        "state=router_workflow.invoke({\"input\":\"Create use cases for Apple Iphone with AI\"})"
      ]
    },
    {
      "cell_type": "code",
      "execution_count": 8,
      "metadata": {},
      "outputs": [
        {
          "name": "stdout",
          "output_type": "stream",
          "text": [
            "Certainly! The integration of artificial intelligence (AI) into the iPhone opens up a wide array of use cases that can enhance user experience, productivity, and personalization. Here are several illustrative use cases for AI on an iPhone:\n",
            "\n",
            "1. **Personalized Siri Assistant**: \n",
            "   - **Contextual Awareness**: Siri can provide context-aware suggestions and reminders based on the user’s habits and location, such as advising when to leave for a meeting based on traffic conditions.\n",
            "   - **Voice Customization**: AI can adapt Siri’s voice responses to match the user’s preferences or even create a custom voice profile from a short voice sample.\n",
            "\n",
            "2. **Camera Enhancements**:\n",
            "   - **Advanced Photo Editing**: AI-driven editing features that automatically improve photo quality, enhance color accuracy, and even remove unwanted objects from images.\n",
            "   - **Smart Suggestions**: Recognition of scenes, people, and objects, prompting users with settings or filters best suited for capturing the moment.\n",
            "\n",
            "3. **Health and Fitness Tracking**:\n",
            "   - **Activity Predictions**: Personal trainer recommendations based on patterns in user behavior, suggesting workouts or activities that fit their goals and lifestyle.\n",
            "   - **Mental Health Monitoring**: Analyze speech patterns, keyboard use, and heart rate data to provide insights or recommendations regarding the user's mental well-being.\n",
            "\n",
            "4. **Language Translation**:\n",
            "   - **Real-time Conversation Translation**: AI-powered translation for multilingual conversation in real-time, facilitating communication across languages during voice and text interactions.\n",
            "   - **Text-in-Image Translation**: Instantly translating text captured with the camera.\n",
            "\n",
            "5. **Custom ringtones and notifications**:\n",
            "   - **AI-Generated Sounds**: Use AI to create personalized ringtones and notification sounds based on the user’s preferences or music choices.\n",
            "   - **Context-Based Alerts**: Modify alert styles and sounds based on current activity, location, or focus mode.\n",
            "\n",
            "6. **Augmented Reality (AR) Experiences**:\n",
            "   - **Enhanced AR Apps**: Use AI for more realistic motion tracking and object recognition in AR apps, improving gaming and practical applications like home decor visualization.\n",
            "   - **Virtual Try-Ons**: Virtually try on clothing, eyewear, or makeup with realistic AI-driven renderings that use the iPhone’s front camera and AR capabilities.\n",
            "\n",
            "7. **Smart Typing and Messaging**:\n",
            "   - **Predictive Text and Emojis**: Improved AI models that learn from user writing styles and preferences for more accurate predictive text and contextual emojis.\n",
            "   - **Automated Summarization**: AI can summarize lengthy text messages, emails, or articles for quick reading.\n",
            "\n",
            "8. **Security and Privacy**:\n",
            "   - **AI-Powered Threat Detection**: Automatically detect phishing attempts and potential fraudulent activities within emails and messages.\n",
            "   - **Face ID Enhancements**: Improve facial recognition technology using AI to adapt to changes in user appearance over time.\n",
            "\n",
            "9. **Battery Optimization**:\n",
            "   - **Smart Charging**: Analyze usage patterns to optimize charging cycles and prolong battery lifespan.\n",
            "   - **Performance Management**: AI can intelligently manage background processes to maintain performance and extend battery life.\n",
            "\n",
            "Each of these use cases highlights how AI can be harnessed to make the iPhone smarter, more intuitive, and more in tune with the individual user's needs and preferences. As AI technology continues to evolve, the potential applications on the iPhone will likely expand even further.\n"
          ]
        }
      ],
      "source": [
        "print(state[\"output\"])"
      ]
    },
    {
      "cell_type": "code",
      "execution_count": 9,
      "metadata": {},
      "outputs": [],
      "source": [
        "#invoke\n",
        "state=router_workflow.invoke({\"input\":\"Create marketing idea for Apple Iphone with AI\"})"
      ]
    },
    {
      "cell_type": "code",
      "execution_count": 10,
      "metadata": {},
      "outputs": [
        {
          "data": {
            "text/plain": [
              "{'input': 'Create marketing idea for Apple Iphone with AI',\n",
              " 'decision': 'marketing_idea',\n",
              " 'output': '**Marketing Campaign: \"Intelligence in Your Hand\"**\\n\\n**Campaign Overview:**\\nThe \"Intelligence in Your Hand\" campaign emphasizes the integration of AI-powered features in the latest iPhone, showcasing how artificial intelligence can seamlessly enhance everyday experiences for users. The campaign will highlight innovative AI capabilities that set the iPhone apart, making it an indispensable tool for modern life.\\n\\n**Key Features to Highlight:**\\n\\n1. **Smart Photography:**\\n   - AI-driven camera enhancements for perfect photos every time.\\n   - Feature photographer testimonials showing the versatility of AI in various environments.\\n   - Interactive online gallery comparing AI-enhanced photos to standard ones.\\n\\n2. **Personalized User Experience:**\\n   - Adaptive learning features that customize apps and settings based on user behavior.\\n   - Testimonials from users on how AI has tailored their device to their daily needs.\\n\\n3. **Voice and Language:**\\n   - Enhanced Siri capabilities with AI-driven understanding for natural conversations and suggestions.\\n   - Language translation features that learn speech patterns for accuracy and efficiency.\\n\\n4. **Battery and Efficiency:**\\n   - AI systems that optimize battery usage based on user habits and patterns.\\n   - Demonstrations showing extended battery life with AI optimization.\\n\\n**Marketing Channels:**\\n\\n1. **Social Media:**\\n   - Interactive Instagram stories featuring mini-tutorials on AI features.\\n   - TikTok challenges showcasing creative uses of the AI camera features.\\n\\n2. **Influencer Partnerships:**\\n   - Collaboration with tech influencers to unbox and demonstrate AI features in real-world scenarios.\\n   - Partnerships with photographers and filmmakers to create visual content using AI features.\\n\\n3. **Experiential Events:**\\n   - Pop-up events in major cities where customers can experience AI features hands-on.\\n   - Virtual demonstrations and webinars.\\n\\n4. **Content Series:**\\n   - YouTube series titled \"AI Life Hacks\" showcasing innovative uses for AI features.\\n   - Blog articles and podcasts featuring interviews with Apple developers and AI experts.\\n\\n5. **Interactive Ads:**\\n   - Digital ads with clickable elements that let users explore AI features.\\n   - Use AR technology to create virtual experiences where users can test AI features on their own devices.\\n\\n**Call to Action:**\\nEncourage users to experience the \"Intelligence in Your Hand\" by visiting Apple stores or the Apple website for a demo. Promote trade-in offers to upgrade to the newest AI-powered iPhone.\\n\\nThis campaign aims to not only highlight the technical prowess of Apple’s AI integration but also to clearly demonstrate the tangible benefits to everyday users, thereby driving both excitement and understanding of what makes the new iPhone indispensable.'}"
            ]
          },
          "execution_count": 10,
          "metadata": {},
          "output_type": "execute_result"
        }
      ],
      "source": [
        "state"
      ]
    },
    {
      "cell_type": "code",
      "execution_count": null,
      "metadata": {},
      "outputs": [],
      "source": []
    },
    {
      "cell_type": "code",
      "execution_count": null,
      "metadata": {},
      "outputs": [],
      "source": []
    },
    {
      "cell_type": "code",
      "execution_count": null,
      "metadata": {},
      "outputs": [],
      "source": []
    },
    {
      "cell_type": "code",
      "execution_count": null,
      "metadata": {},
      "outputs": [],
      "source": []
    },
    {
      "cell_type": "code",
      "execution_count": null,
      "metadata": {},
      "outputs": [],
      "source": []
    },
    {
      "cell_type": "markdown",
      "metadata": {
        "id": "VH-pBizvFm9O"
      },
      "source": [
        "### Orchestrator-Worker\n",
        "In the orchestrator-workers workflow, a central LLM dynamically breaks down tasks, delegates them to worker LLMs, and synthesizes their results.\n",
        "\n",
        "When to use this workflow: This workflow is well-suited for complex tasks where you can’t predict the subtasks needed (in coding, for example, the number of files that need to be changed and the nature of the change in each file likely depend on the task). Whereas it’s topographically similar, the key difference from parallelization is its flexibility—subtasks aren't pre-defined, but determined by the orchestrator based on the specific input.\n",
        "\n",
        "![image.png](attachment:image.png)"
      ]
    },
    {
      "cell_type": "code",
      "execution_count": null,
      "metadata": {},
      "outputs": [],
      "source": []
    },
    {
      "cell_type": "code",
      "execution_count": null,
      "metadata": {},
      "outputs": [],
      "source": []
    },
    {
      "cell_type": "code",
      "execution_count": null,
      "metadata": {},
      "outputs": [],
      "source": []
    },
    {
      "cell_type": "code",
      "execution_count": null,
      "metadata": {},
      "outputs": [],
      "source": []
    },
    {
      "cell_type": "code",
      "execution_count": null,
      "metadata": {},
      "outputs": [],
      "source": []
    },
    {
      "cell_type": "markdown",
      "metadata": {
        "id": "qRl816-DFm9P"
      },
      "source": [
        "### Creating Workers in LangGraph\n",
        "\n",
        "Because orchestrator-worker workflows are common, LangGraph has the Send API to support this. It lets you dynamically create worker nodes and send each one a specific input. Each worker has its own state, and all worker outputs are written to a shared state key that is accessible to the orchestrator graph. This gives the orchestrator access to all worker output and allows it to synthesize them into a final output. As you can see below, we iterate over a list of sections and Send each to a worker node."
      ]
    },
    {
      "cell_type": "code",
      "execution_count": null,
      "metadata": {},
      "outputs": [],
      "source": []
    },
    {
      "cell_type": "code",
      "execution_count": null,
      "metadata": {},
      "outputs": [],
      "source": []
    },
    {
      "cell_type": "code",
      "execution_count": null,
      "metadata": {},
      "outputs": [],
      "source": []
    },
    {
      "cell_type": "code",
      "execution_count": null,
      "metadata": {},
      "outputs": [],
      "source": []
    },
    {
      "cell_type": "markdown",
      "metadata": {
        "id": "NOB_xIS8Fm9P"
      },
      "source": [
        "### Evaluator-optimizer\n",
        "In the evaluator-optimizer workflow, one LLM call generates a response while another provides evaluation and feedback in a loop.\n",
        "\n",
        "When to use this workflow: This workflow is particularly effective when we have clear evaluation criteria, and when iterative refinement provides measurable value. The two signs of good fit are, first, that LLM responses can be demonstrably improved when a human articulates their feedback; and second, that the LLM can provide such feedback. This is analogous to the iterative writing process a human writer might go through when producing a polished document.\n",
        "\n",
        "![image.png](attachment:image.png)"
      ]
    },
    {
      "cell_type": "code",
      "execution_count": null,
      "metadata": {
        "id": "V_wVt_lfFm9P"
      },
      "outputs": [],
      "source": []
    }
  ],
  "metadata": {
    "colab": {
      "provenance": []
    },
    "kernelspec": {
      "display_name": "venv",
      "language": "python",
      "name": "python3"
    },
    "language_info": {
      "codemirror_mode": {
        "name": "ipython",
        "version": 3
      },
      "file_extension": ".py",
      "mimetype": "text/x-python",
      "name": "python",
      "nbconvert_exporter": "python",
      "pygments_lexer": "ipython3",
      "version": "3.12.7"
    }
  },
  "nbformat": 4,
  "nbformat_minor": 0
}

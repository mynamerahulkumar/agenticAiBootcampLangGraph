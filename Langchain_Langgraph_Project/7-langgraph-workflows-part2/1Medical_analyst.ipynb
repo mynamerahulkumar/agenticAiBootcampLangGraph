{
 "cells": [
  {
   "cell_type": "markdown",
   "id": "7c66a317",
   "metadata": {},
   "source": [
    "### Medical Analyst With Human Loop\n",
    "\n",
    "There are typically three different actions that you can do with a human-in-the-loop workflow:\n",
    "\n",
    "Approve or Reject: Pause the graph before a critical step, such as an API call, to review and approve the action. If the action is rejected, you can prevent the graph from executing the step, and potentially take an alternative action. This pattern often involve routing the graph based on the human's input.\n",
    "\n",
    "Edit Graph State: Pause the graph to review and edit the graph state. This is useful for correcting mistakes or updating the state with additional information. This pattern often involves updating the state with the human's input.\n",
    "\n",
    "Get Input: Explicitly request human input at a particular step in the graph. This is useful for collecting additional information or context to inform the agent's decision-making process or for supporting multi-turn conversations.\n",
    "\n"
   ]
  },
  {
   "cell_type": "code",
   "execution_count": 1,
   "id": "c99d7d12",
   "metadata": {},
   "outputs": [
    {
     "data": {
      "text/plain": [
       "AIMessage(content='Hello! How can I assist you today?', additional_kwargs={'refusal': None}, response_metadata={'token_usage': {'completion_tokens': 10, 'prompt_tokens': 8, 'total_tokens': 18, 'completion_tokens_details': {'accepted_prediction_tokens': 0, 'audio_tokens': 0, 'reasoning_tokens': 0, 'rejected_prediction_tokens': 0}, 'prompt_tokens_details': {'audio_tokens': 0, 'cached_tokens': 0}}, 'model_name': 'gpt-4o-2024-08-06', 'system_fingerprint': 'fp_f5bdcc3276', 'id': 'chatcmpl-BRGA6Eh0rqJL6iNsd1VICnKtJAlbl', 'finish_reason': 'stop', 'logprobs': None}, id='run-984e8e9e-072c-45cd-b735-317f20ccaaa4-0', usage_metadata={'input_tokens': 8, 'output_tokens': 10, 'total_tokens': 18, 'input_token_details': {'audio': 0, 'cache_read': 0}, 'output_token_details': {'audio': 0, 'reasoning': 0}})"
      ]
     },
     "execution_count": 1,
     "metadata": {},
     "output_type": "execute_result"
    }
   ],
   "source": [
    "from dotenv import load_dotenv\n",
    "load_dotenv()\n",
    "import os\n",
    "\n",
    "from langchain_openai import ChatOpenAI\n",
    "\n",
    "\n",
    "#os.environ[\"OPENAI_API_KEY\"]=os.getenv(\"OPENAI_API_KEY\")\n",
    "os.environ[\"OPENAI_API_KEY\"]=os.getenv(\"OPENAI_API_KEY\")\n",
    "\n",
    "\n",
    "llm=ChatOpenAI(model=\"gpt-4o\")\n",
    "#llm = ChatOpenAI(model=\"gpt-4o\")\n",
    "result=llm.invoke(\"Hello\")\n",
    "result"
   ]
  },
  {
   "cell_type": "code",
   "execution_count": 2,
   "id": "6ebc7471",
   "metadata": {},
   "outputs": [],
   "source": [
    "from typing import List\n",
    "from typing_extensions import TypedDict\n",
    "from pydantic import BaseModel,Field\n",
    "\n",
    "class MedicalAnalyst(BaseModel):\n",
    "    affiliation:str=Field(\n",
    "        description=\"Primary qualification of the medical anaylyst\"\n",
    "    )\n",
    "    name:str=Field(\n",
    "        description=\"Name of the Medical Analyst \"\n",
    "    )\n",
    "    role:str=Field(\n",
    "        description=\"Role of the medical analyst in the context of the research topic\",\n",
    "    )\n",
    "    description:str=Field(\n",
    "        description=\"Description of the medical analyst research focus,concerns and research objectives to achieve\"\n",
    "    )\n",
    "    @property\n",
    "    def persona(self)->str:\n",
    "        return f\" Name:{self.name} \\n Role:{self.role} \\n affiliation:{self.affiliation}\\n Description:{self.description}\\n\"\n",
    "\n",
    "\n",
    "class Perspectives(BaseModel):\n",
    "    medicalanalysts:List[MedicalAnalyst]=Field(\n",
    "        description=\"Comprehensive list of medical analyst with there roles and affiliations \"\n",
    "    )\n",
    "\n",
    "class GenerateMedicalAnalystState(TypedDict):\n",
    "    researchTopic:str # Research topic\n",
    "    max_medical_analysts:int # number of analysts\n",
    "    human_analyst_feedback:str # human feedback\n",
    "    medicalanalysts:List[MedicalAnalyst] #Medical analyst asking questions\n"
   ]
  },
  {
   "cell_type": "code",
   "execution_count": 3,
   "id": "48b5bb50",
   "metadata": {},
   "outputs": [],
   "source": [
    "from IPython.display import Image, display\n",
    "from langgraph.graph import START, END, StateGraph\n",
    "from langgraph.checkpoint.memory import MemorySaver\n",
    "from langchain_core.messages import AIMessage, HumanMessage, SystemMessage\n",
    "\n",
    "medical_analyst_instructions=\"\"\"You are tasked with creating a set of Medical AI analyst personas. Follow these instructions carefully:\n",
    "\n",
    "1. First, review the medical research topic:\n",
    "{researchTopic}\n",
    "        \n",
    "2. Examine any medical editorial feedback or medical research   that has been optionally provided to guide creation of the medical analysts that will work to generate medicines for the research or you can your own knowledge for this task: \n",
    "        \n",
    "{human_analyst_feedback}\n",
    "    \n",
    "3. Determine the most interesting research parts based upon documents and / or feedback above.\n",
    "                    \n",
    "4. Pick the top {max_medical_analysts} research.\n",
    "\n",
    "5. Assign one analyst to each research part.\"\"\""
   ]
  },
  {
   "cell_type": "code",
   "execution_count": 4,
   "id": "2f6a0665",
   "metadata": {},
   "outputs": [],
   "source": [
    "def  create_medical_analysts(state:GenerateMedicalAnalystState):\n",
    "    \"\"\"Create medical analysts\"\"\"\n",
    "\n",
    "    researchTopic=state[\"researchTopic\"]\n",
    "    max_medical_analysts=state[\"max_medical_analysts\"]\n",
    "    human_analyst_feedback=state.get('human_analyst_feedback')\n",
    "\n",
    "    #Enforece structured output\n",
    "    structured_llm=llm.with_structured_output(Perspectives)\n",
    "\n",
    "    #System message\n",
    "    system_message=medical_analyst_instructions.format(researchTopic=researchTopic,\n",
    "                                                       human_analyst_feedback=human_analyst_feedback,\n",
    "                                                       max_medical_analysts=max_medical_analysts)\n",
    "    \n",
    "    #Generate questions\n",
    "\n",
    "    analysts=structured_llm.invoke([SystemMessage(content=system_message)]+[HumanMessage(content=\"Generate the set of medical analyst\")])\n",
    "\n",
    "    #Write the list of analysis to state\n",
    "    return {\"medicalanalysts\":analysts.medicalanalysts}\n"
   ]
  },
  {
   "cell_type": "code",
   "execution_count": 5,
   "id": "031aa95a",
   "metadata": {},
   "outputs": [],
   "source": [
    "def human_feedback(state:GenerateMedicalAnalystState):\n",
    "    \"\"\"No operation node that should be interrupted\"\"\"\n",
    "    pass"
   ]
  },
  {
   "cell_type": "code",
   "execution_count": 6,
   "id": "572e7358",
   "metadata": {},
   "outputs": [],
   "source": [
    "def should_continue(state:GenerateMedicalAnalystState):\n",
    "    \"\"\"Return the next node to execute\"\"\"\n",
    "\n",
    "    #check if human feedback\n",
    "\n",
    "    human_analyst_feedback=state.get(\"human_analyst_feedback\",None)\n",
    "    if( human_analyst_feedback):\n",
    "        return \"create_medical_analysts\"\n",
    "    return END\n"
   ]
  },
  {
   "cell_type": "code",
   "execution_count": 7,
   "id": "b12fd5f1",
   "metadata": {},
   "outputs": [
    {
     "data": {
      "image/png": "[encoded data removed]",
      "text/plain": [
       "<IPython.core.display.Image object>"
      ]
     },
     "metadata": {},
     "output_type": "display_data"
    }
   ],
   "source": [
    "#Add nodes and edges \n",
    "\n",
    "medical_analyst_builder=StateGraph(GenerateMedicalAnalystState)\n",
    "\n",
    "medical_analyst_builder.add_node(\"create_medical_analysts\",create_medical_analysts)\n",
    "medical_analyst_builder.add_node(\"human_feedback\",human_feedback)\n",
    "medical_analyst_builder.add_edge(START,\"create_medical_analysts\")\n",
    "medical_analyst_builder.add_edge(\"create_medical_analysts\",\"human_feedback\")\n",
    "medical_analyst_builder.add_conditional_edges(\"human_feedback\",should_continue,[\"create_medical_analysts\",END])\n",
    "#compile\n",
    "\n",
    "memory=MemorySaver()\n",
    "graph=medical_analyst_builder.compile(interrupt_before=[\"human_feedback\"],checkpointer=memory)\n",
    "\n",
    "#View\n",
    "display(Image(graph.get_graph().draw_mermaid_png()))"
   ]
  },
  {
   "cell_type": "code",
   "execution_count": 11,
   "id": "64bf3af3",
   "metadata": {},
   "outputs": [],
   "source": [
    "# Input\n",
    "max_medical_analysts=4\n",
    "topic=\"Vaccines for  chicken pox diseaes\"\n",
    "thread={\"configurable\":{\"thread_id\":\"1\"}}\n"
   ]
  },
  {
   "cell_type": "code",
   "execution_count": 12,
   "id": "08fda37f",
   "metadata": {},
   "outputs": [
    {
     "name": "stdout",
     "output_type": "stream",
     "text": [
      "Name :Dr. Eleanor Morgan\n",
      "Affiliation:Virology Department, Johns Hopkins University\n",
      "Role:Virologist\n",
      "Description:Dr. Eleanor Morgan focuses on the genetic composition of the Varicella Zoster virus and its implications on vaccine development. She aims to identify key viral epitopes that are most likely to elicit strong immune responses, thereby improving the efficacy of new vaccines against chicken pox. Her research also concerns potential mutations that could impact future vaccine effectiveness.\n",
      "--------------------------------------------------\n",
      "Name :Dr. Rahul Desai\n",
      "Affiliation:Immunology Institute, Stanford University\n",
      "Role:Immunologist\n",
      "Description:Dr. Rahul Desai investigates how the immune system interacts with the chicken pox virus post-vaccination. His main objective is to enhance the understanding of long-term immunity and the potential need for booster doses in the chicken pox vaccination schedule. He is particularly concerned with the durability of the immune memory response in different population subsets.\n",
      "--------------------------------------------------\n",
      "Name :Dr. Mei Ling Chen\n",
      "Affiliation:Biostatistics Department, Harvard School of Public Health\n",
      "Role:Biostatistician\n",
      "Description:Dr. Mei Ling Chen is tasked with analyzing clinical trial data to evaluate the safety and efficacy parameters of new chicken pox vaccines. Her research focuses on interpreting complex datasets to offer insights on vaccine performance across various demographics, and she aims to identify statistical correlations that could suggest vaccine improvements.\n",
      "--------------------------------------------------\n",
      "Name :Dr. Samuel Wright\n",
      "Affiliation:Department of Pediatric Infectious Disease, Mayo Clinic\n",
      "Role:Pediatric Infectious Disease Specialist\n",
      "Description:Dr. Samuel Wright concerns himself with the clinical applications of chicken pox vaccines in children. He seeks to understand the impact of vaccination on reducing transmission in pediatric populations and is involved in developing guidelines for vaccination schedules. His objective is to ensure optimal vaccine protection with minimal side effects for children of all ages.\n",
      "--------------------------------------------------\n"
     ]
    }
   ],
   "source": [
    "# Run the graph until the first interruption\n",
    "for event in graph.stream({\"researchTopic\":topic,\"max_medical_analysts\":max_medical_analysts},thread,stream_mode=\"values\"):\n",
    "     analysts=event.get(\"medicalanalysts\",'')\n",
    "     if analysts:\n",
    "          for analyst in analysts:\n",
    "               print(f\"Name :{analyst.name}\")\n",
    "               print(f\"Affiliation:{analyst.affiliation}\" )\n",
    "               print(f\"Role:{analyst.role}\")\n",
    "               print(f\"Description:{analyst.description}\")\n",
    "               print(\"-\"*50)"
   ]
  },
  {
   "cell_type": "code",
   "execution_count": null,
   "id": "7fc9479e",
   "metadata": {},
   "outputs": [],
   "source": [
    "state=graph.get_state(thread)\n"
   ]
  },
  {
   "cell_type": "code",
   "execution_count": 14,
   "id": "b0f015f2",
   "metadata": {},
   "outputs": [
    {
     "data": {
      "text/plain": [
       "('human_feedback',)"
      ]
     },
     "execution_count": 14,
     "metadata": {},
     "output_type": "execute_result"
    }
   ],
   "source": [
    "state.next"
   ]
  },
  {
   "cell_type": "code",
   "execution_count": 15,
   "id": "ee958879",
   "metadata": {},
   "outputs": [
    {
     "data": {
      "text/plain": [
       "{'configurable': {'thread_id': '1',\n",
       "  'checkpoint_ns': '',\n",
       "  'checkpoint_id': '1f024257-df3b-6f34-8004-d6b7e6d2d1ad'}}"
      ]
     },
     "execution_count": 15,
     "metadata": {},
     "output_type": "execute_result"
    }
   ],
   "source": [
    "# We now update the state as if we are the human_feedback node\n",
    "graph.update_state(thread, {\"human_analyst_feedback\": \n",
    "                            \"Add in someone from a research for children chicken pox\"}, as_node=\"human_feedback\")"
   ]
  },
  {
   "cell_type": "code",
   "execution_count": 17,
   "id": "a5c84a60",
   "metadata": {},
   "outputs": [
    {
     "name": "stdout",
     "output_type": "stream",
     "text": [
      "Name: Dr. Alice Thompson\n",
      "Affiliation: Pediatric Vaccinology\n",
      "Role: Lead Pediatric Vaccine Researcher\n",
      "Description: Dr. Thompson focuses on the development and optimization of chicken pox vaccines specifically tailored for children. Her primary concerns involve ensuring the safety and efficacy of the vaccine in pediatric populations while minimizing side effects.\n",
      "--------------------------------------------------\n",
      "Name: Dr. Robert Chen\n",
      "Affiliation: Immunology and Vaccine Development\n",
      "Role: Immunologist\n",
      "Description: Dr. Chen is responsible for understanding the immune response mechanisms to chicken pox vaccines. His objective is to enhance the vaccine's ability to elicit a robust and lasting immunity against the virus, potentially leading to new vaccine formulations.\n",
      "--------------------------------------------------\n",
      "Name: Dr. Emily Watson\n",
      "Affiliation: Clinical Trials Design\n",
      "Role: Clinical Trials Specialist\n",
      "Description: Dr. Watson designs and oversees clinical trials to test new versions of chicken pox vaccines. Her research focuses on optimizing trial methodologies to gather reliable data on vaccine efficiency, particularly in diverse demographic groups.\n",
      "--------------------------------------------------\n",
      "Name: Dr. Michael Lee\n",
      "Affiliation: Public Health and Epidemiology\n",
      "Role: Public Health Expert\n",
      "Description: Dr. Lee's research is aimed at understanding the epidemiological impacts of chicken pox and the role of vaccines in reducing disease spread. He analyzes data to advise on public health strategies for the widest and most effective implementation of vaccination programs.\n",
      "--------------------------------------------------\n",
      "Name: Dr. Eliza Sanders\n",
      "Affiliation: Virology and Immunology Research Institute\n",
      "Role: Lead Virologist\n",
      "Description: Dr. Eliza Sanders focuses on the molecular dynamics of the varicella-zoster virus (VZV) that causes chicken pox, aiming to understand how the virus operates in the host and how it can be effectively targeted by vaccines. Her primary concern is to identify any potential genetic variations of VZV that could influence vaccine efficacy.\n",
      "--------------------------------------------------\n",
      "Name: Dr. Miguel Rodriguez\n",
      "Affiliation: Pediatric Infectious Disease Department, Children's Hospital\n",
      "Role: Pediatric Research Specialist\n",
      "Description: Dr. Miguel Rodriguez is focused on the development of chicken pox vaccines specifically for children. His research involves understanding how children's immune systems react differently to vaccines and designing vaccine schedules that provide robust protection during early childhood without adverse effects.\n",
      "--------------------------------------------------\n",
      "Name: Prof. Lin Cheng\n",
      "Affiliation: Immunogenetics Laboratory, National University\n",
      "Role: Immunogeneticist\n",
      "Description: Prof. Lin Cheng works on understanding the genetic factors that impact individual responses to chicken pox vaccines. She conducts research on how genetic variations among populations may affect vaccine effectiveness and what genetic markers can predict adverse vaccine reactions.\n",
      "--------------------------------------------------\n",
      "Name: Dr. Samantha Pierce\n",
      "Affiliation: Public Health and Safety Board\n",
      "Role: Public Health Policy Advisor\n",
      "Description: Dr. Samantha Pierce is concerned with the public health implications of chicken pox vaccination programs. Her role is to evaluate the epidemiological data to assess vaccine coverage and herd immunity thresholds, and to ensure equitable access to vaccines across diverse population groups. Her aims include reducing misinformation about vaccines and increasing uptake in communities with historically lower vaccination rates.\n",
      "--------------------------------------------------\n"
     ]
    }
   ],
   "source": [
    "# Continue the graph execution\n",
    "for event in graph.stream(None, thread, stream_mode=\"values\"):\n",
    "    # Review\n",
    "    analysts = event.get('medicalanalysts', '')\n",
    "    if analysts:\n",
    "        for analyst in analysts:\n",
    "            print(f\"Name: {analyst.name}\")\n",
    "            print(f\"Affiliation: {analyst.affiliation}\")\n",
    "            print(f\"Role: {analyst.role}\")\n",
    "            print(f\"Description: {analyst.description}\")\n",
    "            print(\"-\" * 50) "
   ]
  },
  {
   "cell_type": "code",
   "execution_count": 18,
   "id": "680a9a1e",
   "metadata": {},
   "outputs": [
    {
     "data": {
      "text/plain": [
       "{'configurable': {'thread_id': '1',\n",
       "  'checkpoint_ns': '',\n",
       "  'checkpoint_id': '1f024260-6b6c-66cc-8008-dd10ac234ba1'}}"
      ]
     },
     "execution_count": 18,
     "metadata": {},
     "output_type": "execute_result"
    }
   ],
   "source": [
    "further_feedack = None\n",
    "graph.update_state(thread, {\"human_analyst_feedback\": \n",
    "                            further_feedack}, as_node=\"human_feedback\")"
   ]
  },
  {
   "cell_type": "code",
   "execution_count": 19,
   "id": "8e03dba2",
   "metadata": {},
   "outputs": [],
   "source": [
    "# Continue the graph execution to end\n",
    "for event in graph.stream(None, thread, stream_mode=\"updates\"):\n",
    "    print(\"--Node--\")\n",
    "    node_name = next(iter(event.keys()))\n",
    "    print(node_name)"
   ]
  },
  {
   "cell_type": "code",
   "execution_count": 20,
   "id": "77c48152",
   "metadata": {},
   "outputs": [],
   "source": [
    "final_state = graph.get_state(thread)\n",
    "analysts = final_state.values.get('medicalanalysts')"
   ]
  },
  {
   "cell_type": "code",
   "execution_count": 23,
   "id": "775aa30d",
   "metadata": {},
   "outputs": [
    {
     "data": {
      "text/plain": [
       "[MedicalAnalyst(affiliation='Virology and Immunology Research Institute', name='Dr. Eliza Sanders', role='Lead Virologist', description='Dr. Eliza Sanders focuses on the molecular dynamics of the varicella-zoster virus (VZV) that causes chicken pox, aiming to understand how the virus operates in the host and how it can be effectively targeted by vaccines. Her primary concern is to identify any potential genetic variations of VZV that could influence vaccine efficacy.'),\n",
       " MedicalAnalyst(affiliation=\"Pediatric Infectious Disease Department, Children's Hospital\", name='Dr. Miguel Rodriguez', role='Pediatric Research Specialist', description=\"Dr. Miguel Rodriguez is focused on the development of chicken pox vaccines specifically for children. His research involves understanding how children's immune systems react differently to vaccines and designing vaccine schedules that provide robust protection during early childhood without adverse effects.\"),\n",
       " MedicalAnalyst(affiliation='Immunogenetics Laboratory, National University', name='Prof. Lin Cheng', role='Immunogeneticist', description='Prof. Lin Cheng works on understanding the genetic factors that impact individual responses to chicken pox vaccines. She conducts research on how genetic variations among populations may affect vaccine effectiveness and what genetic markers can predict adverse vaccine reactions.'),\n",
       " MedicalAnalyst(affiliation='Public Health and Safety Board', name='Dr. Samantha Pierce', role='Public Health Policy Advisor', description='Dr. Samantha Pierce is concerned with the public health implications of chicken pox vaccination programs. Her role is to evaluate the epidemiological data to assess vaccine coverage and herd immunity thresholds, and to ensure equitable access to vaccines across diverse population groups. Her aims include reducing misinformation about vaccines and increasing uptake in communities with historically lower vaccination rates.')]"
      ]
     },
     "execution_count": 23,
     "metadata": {},
     "output_type": "execute_result"
    }
   ],
   "source": [
    "analysts"
   ]
  },
  {
   "cell_type": "code",
   "execution_count": 21,
   "id": "436d3758",
   "metadata": {},
   "outputs": [
    {
     "data": {
      "text/plain": [
       "()"
      ]
     },
     "execution_count": 21,
     "metadata": {},
     "output_type": "execute_result"
    }
   ],
   "source": [
    "final_state.next"
   ]
  },
  {
   "cell_type": "code",
   "execution_count": 22,
   "id": "227b708e",
   "metadata": {},
   "outputs": [
    {
     "data": {
      "text/plain": [
       "[MedicalAnalyst(affiliation='Virology and Immunology Research Institute', name='Dr. Eliza Sanders', role='Lead Virologist', description='Dr. Eliza Sanders focuses on the molecular dynamics of the varicella-zoster virus (VZV) that causes chicken pox, aiming to understand how the virus operates in the host and how it can be effectively targeted by vaccines. Her primary concern is to identify any potential genetic variations of VZV that could influence vaccine efficacy.'),\n",
       " MedicalAnalyst(affiliation=\"Pediatric Infectious Disease Department, Children's Hospital\", name='Dr. Miguel Rodriguez', role='Pediatric Research Specialist', description=\"Dr. Miguel Rodriguez is focused on the development of chicken pox vaccines specifically for children. His research involves understanding how children's immune systems react differently to vaccines and designing vaccine schedules that provide robust protection during early childhood without adverse effects.\"),\n",
       " MedicalAnalyst(affiliation='Immunogenetics Laboratory, National University', name='Prof. Lin Cheng', role='Immunogeneticist', description='Prof. Lin Cheng works on understanding the genetic factors that impact individual responses to chicken pox vaccines. She conducts research on how genetic variations among populations may affect vaccine effectiveness and what genetic markers can predict adverse vaccine reactions.'),\n",
       " MedicalAnalyst(affiliation='Public Health and Safety Board', name='Dr. Samantha Pierce', role='Public Health Policy Advisor', description='Dr. Samantha Pierce is concerned with the public health implications of chicken pox vaccination programs. Her role is to evaluate the epidemiological data to assess vaccine coverage and herd immunity thresholds, and to ensure equitable access to vaccines across diverse population groups. Her aims include reducing misinformation about vaccines and increasing uptake in communities with historically lower vaccination rates.')]"
      ]
     },
     "execution_count": 22,
     "metadata": {},
     "output_type": "execute_result"
    }
   ],
   "source": [
    "analysts"
   ]
  }
 ],
 "metadata": {
  "kernelspec": {
   "display_name": "venv",
   "language": "python",
   "name": "python3"
  },
  "language_info": {
   "codemirror_mode": {
    "name": "ipython",
    "version": 3
   },
   "file_extension": ".py",
   "mimetype": "text/x-python",
   "name": "python",
   "nbconvert_exporter": "python",
   "pygments_lexer": "ipython3",
   "version": "3.12.7"
  }
 },
 "nbformat": 4,
 "nbformat_minor": 5
}

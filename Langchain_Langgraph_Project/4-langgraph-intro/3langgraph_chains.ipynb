{
  "cells": [
    {
      "cell_type": "markdown",
      "metadata": {
        "id": "YPlyGA4MtOom"
      },
      "source": [
        "### Langgrah Chain\n",
        "Review\n",
        "We built a simple graph with nodes, normal edges, and conditional edges.\n",
        "\n",
        "Goals\n",
        "Now, let's build up to a simple chain that combines 4 concepts:\n",
        "\n",
        "Using chat messages as our graph state\n",
        "Using chat models in graph nodes\n",
        "Binding tools to our chat model\n",
        "Executing tool calls in graph nodes"
      ]
    },
    {
      "cell_type": "code",
      "execution_count": 1,
      "metadata": {
        "id": "CZWHC2qBtOom",
        "outputId": "c13cfdce-d3fc-4fc1-d72f-19b21d66543f"
      },
      "outputs": [
        {
          "name": "stdout",
          "output_type": "stream",
          "text": [
            "==================================\u001b[1m Ai Message \u001b[0m==================================\n",
            "Name: Model\n",
            "\n",
            "So you said you were researching Nvidia stock?\n",
            "================================\u001b[1m Human Message \u001b[0m=================================\n",
            "Name: Lance\n",
            "\n",
            "Yes, that's right.\n",
            "==================================\u001b[1m Ai Message \u001b[0m==================================\n",
            "Name: Model\n",
            "\n",
            "Great, what would you like to learn about Nvidia stock .\n",
            "================================\u001b[1m Human Message \u001b[0m=================================\n",
            "Name: Lance\n",
            "\n",
            "I want to learn about the how Nvidia stock perform in future.\n"
          ]
        }
      ],
      "source": [
        "from pprint import pprint\n",
        "from langchain_core.messages import AIMessage, HumanMessage\n",
        "\n",
        "messages = [AIMessage(content=f\"So you said you were researching Nvidia stock?\", name=\"Model\")]\n",
        "messages.append(HumanMessage(content=f\"Yes, that's right.\",name=\"Lance\"))\n",
        "messages.append(AIMessage(content=f\"Great, what would you like to learn about Nvidia stock .\", name=\"Model\"))\n",
        "messages.append(HumanMessage(content=f\"I want to learn about the how Nvidia stock perform in future.\", name=\"Lance\"))\n",
        "\n",
        "for m in messages:\n",
        "    m.pretty_print()"
      ]
    },
    {
      "cell_type": "code",
      "execution_count": 2,
      "metadata": {},
      "outputs": [],
      "source": [
        "import os\n",
        "from dotenv import load_dotenv\n",
        "load_dotenv()\n",
        "\n",
        "os.environ[\"GROQ_API_KEY\"]=os.getenv(\"GROQ_API_KEY\")"
      ]
    },
    {
      "cell_type": "code",
      "execution_count": 3,
      "metadata": {},
      "outputs": [
        {
          "data": {
            "text/plain": [
              "AIMessage(content='\\n<think>\\nOkay, the user wants to know how Nvidia\\'s stock will perform in the future. Let me start by recalling the key factors that influence stock performance. First, I should consider the company\\'s recent performance and trends. Nvidia has been doing well in AI and gaming, so that\\'s a positive sign. But I should also think about potential risks like economic downturns or supply chain issues.\\n\\nI need to break down the analysis into sections. Maybe start with market drivers, then challenges, and then the broader economic context. Also, including historical performance could provide a baseline. The user might not be familiar with technical terms, so I should explain things clearly without too much jargon.\\n\\nWait, they mentioned future performance, so maybe forecasting methods are important. Analysts often use EPS growth, revenue projections, and P/E ratios. I should mention those and explain what they mean. Also, factors like the AI boom and data center demand are critical for Nvidia\\'s tech.\\n\\nI should also think about risks. Even if the company is doing well now, there could be regulatory issues or competition. For example, other companies like AMD or new AI start-ups might pose a threat. The stock\\'s valuation is another point—high P/E ratios could indicate overvaluation.\\n\\nThe user might also be interested in how to approach investing, so including strategies like long-term vs. short-term could be helpful. I need to make sure to caution about the unpredictability of the stock market and the importance of diversification.\\n\\nLet me structure this step by step. Start with an overview of key drivers, then go into specific points like AI adoption, gaming, automotive, challenges, economic factors, valuation, expert opinions, and investment strategies. Conclude with a balanced view and a note on risks.\\n\\nWait, should I include specific financial metrics? Maybe mention revenue growth percentages if I have the latest data. But since I don\\'t have real-time data, I\\'ll need to make that clear. Also, check if there are any recent events like new product launches or partnerships that could affect the stock.\\n\\nOh, the user might be an investor looking to make decisions, so practical advice is key. Emphasize that while trends are positive, there are risks. Maybe suggest keeping an eye on specific indicators like quarterly earnings or AI adoption rates.\\n\\nI should also mention that past performance isn\\'t a guarantee. Maybe explain the difference between fundamental and technical analysis. But keep it concise since the user wants future performance insights. Need to ensure the information is actionable but not overly technical.\\n\\nHmm, do I need to address the possibility of market volatility? Yes, that\\'s important. Also, the Fed\\'s interest rate policies could impact the stock. Tech stocks are sensitive to interest rates because they often rely on borrowed money for growth.\\n\\nI should structure each section clearly, using headings for readability even though the user can\\'t see formatting. Use bullet points or numbered lists where possible. Make sure to highlight the main factors in each section so the user can grasp the key points quickly.\\n\\nNeed to remind the user to consult with a financial advisor. Since I can\\'t offer investment advice, it\\'s better to present the factors and let them make informed decisions. Also, maybe suggest following quarterly reports and industry news as ongoing indicators.\\n\\nWait, I should also touch on competitors. How does Nvidia\\'s position compare? Their dominance in GPUs for AI gives them an edge, but competition is there. Maybe mention AMD and their RDNA 3 chips as a potential challenge.\\n\\nIn summary, the answer should provide a balanced view of opportunities and risks, key factors to watch, and practical advice. Make sure it\\'s comprehensive but not overwhelming, using clear examples and explanations.\\n</think>\\n\\nPredicting the exact future performance of any stock, including **NVIDIA (NVDA)**, is inherently uncertain because it depends on countless variables—from market conditions to geopolitical events. However, we can analyze **key drivers**, **trends**, and **risks** to form an informed perspective. Here’s a structured breakdown:\\n\\n---\\n\\n### **1. Key Drivers of NVIDIA’s Future Performance**\\n#### **a. Artificial Intelligence (AI) and Data Centers**\\n- **AI Boom**: NVIDIA’s GPUs (Graphics Processing Units) and AI software (like Hopper architecture and the Clara platform) are central to training large language models (LLMs), autonomous systems, and generative AI. Demand for data centers and cloud infrastructure is soaring as industries adopt AI.\\n- **HPC (High-Performance Computing)**: The company’s H100 and H800 GPUs are critical for AI workloads, and partnerships with tech giants (e.g., Microsoft, Google) and cloud providers (AWS, Azure) will likely drive growth.\\n\\n#### **b. Gaming and Consumer Demand**\\n- **GPU Sales**: NVIDIA’s GeForce RTX 40/50 series GPUs remain in high demand for gaming and content creation. However, competition from AMD’s RDNA 3 architecture (e.g., RX 8000 series) could pressure margins.\\n- **Metaverse and VR**: Long-term opportunities in virtual reality (VR) and the metaverse could boost GPU sales, though adoption timelines are uncertain.\\n\\n#### **c. Automotive and Autonomous Driving**\\n- **NVIDIA DRIVE Platform**: The company is a leader in automotive AI, partnering with automakers (Ford,比亚迪, Toyota) for autonomous vehicles and in-car infotainment systems. This segment is expected to grow as electric vehicles (EVs) and autonomous tech expand.\\n\\n#### **d. Software and Ecosystem Dominance**\\n- NVIDIA’s **CUDA ecosystem** (a programming framework for GPUs) is a major competitive advantage, locking in developers and businesses reliant on its tools.\\n- Revenue diversification: NVIDIA is shifting toward **software-as-a-service (SaaS)** models, such as AI cloud services and subscription-based software, which could stabilize income streams.\\n\\n---\\n\\n### **2. Risks and Challenges**\\n#### **a. Economic and Market Risks**\\n- **Recession or Slow Growth**: A prolonged economic downturn could reduce corporate and consumer spending on tech (e.g., data centers, GPUs).\\n- **Supply Chain Issues**: Global chip shortages or geopolitical tensions (e.g., U.S.-China trade disputes) could disrupt production or sales in key markets like China.\\n\\n#### **b. Competition**\\n- **AMD’s Growth**: AMD’s advancements in AI GPUs (MI300X) and CPU-GPU hybrid chips (e.g., Instinct series) could eat into NVIDIA’s market share.\\n- **New Entrants**: Companies like Intel (with its Ponte Vecchio GPUs) and AI startups (e.g., Tenstorrent) may disrupt the space.\\n\\n#### **c. Valuation Risks**\\n- **High Valuation**: NVIDIA’s stock price has surged with AI enthusiasm, and valuations are elevated compared to historical averages. A correction or a \"AI winter\" could lead to a pullback.\\n- **Profit Margins**: Scaling AI software revenue is critical to offset potential margin pressures from cutthroat GPU competition.\\n\\n#### **d. Regulatory Risks**\\n- **AI Regulation**: Governments might impose stricter regulations on AI (e.g., EU’s AI Act), which could complicate NVIDIA’s business model.\\n- **Export Controls**: U.S. restrictions on GPU exports (e.g., China’s adoption of A800 chips instead of U.S.-made H100s) could impact sales in key markets.\\n\\n---\\n\\n### **3. Analyst Consensus and Technical Analysis**\\n#### **a. Analyst Forecasts**\\n- Most analysts expect NVIDIA’s revenue to grow **10–15% annually** over the next 3–5 years, driven by AI and data center demand. However, estimates vary depending on macroeconomic factors.\\n- High Street analysts (e.g., Morgan Stanley, Goldman Sachs) often rate NVIDIA as a \"Buy\" or \"Outperform,\" citing its dominance in AI and long-term growth catalysts.\\n\\n#### **b. Technical Indicators**\\n- **Price-to-Earnings (P/E) Ratio**: NVIDIA’s P/E is currently around **50x**, which is high but justified by growth expectations. A drop in growth could lead to a reevaluation.\\n- **Revenue Growth**: NVIDIA reported 61% year-over-year revenue growth in Q3 2023 (AI supercycle), but sustaining this pace is challenging.\\n\\n---\\n\\n### **4. Long-Term Opportunities**\\n- **AI as a Long-Term Trend**: The AI revolution is likely to last decades, with applications in healthcare, finance, robotics, and defense fueling demand for NVIDIA’s infrastructure.\\n- **AIaaS (AI as a Service)**: NVIDIA’s AI cloud services (e.g., NVIDIA Omniverse, DGX Cloud) could become recurring revenue streams.\\n- **Quantum Computing**: NVIDIA is exploring quantum computing with partners, which could open new markets in the long term.\\n\\n---\\n\\n### **5. Risks from Over-Reliance on AI**\\n- NVIDIA’s stock has become a \"proxy for AI,\" meaning its stock price is heavily tied to investor sentiment about AI’s adoption. If AI growth slows (e.g., slower enterprise adoption, technical bottlenecks), the stock could underperform.\\n- **Bubble Risk**: If AI hype exceeds real-world adoption, there could be a sharp correction.\\n\\n---\\n\\n### **6. What to Watch for in 2024–2025**\\n- **Q4 2024 Earnings Reports**: Revenue and profit margins in data center and AI segments will signal if the AI boom is sustainable.\\n- **New Product Launches**: NVIDIA’s next-gen GPUs (e.g., Hopper 2.0, Grace Hopper chips) and software updates could unlock new markets.\\n- **China’s AI Adoption**: China’s tech sector is a major market for NVIDIA’s GPUs, but geopolitical tensions and regulatory hurdles (e.g., China’s push for domestic chipmaking) could affect sales.\\n- **Interest Rates**: Lower interest rates could boost tech stock valuations, while higher rates might pressure growth stocks like NVIDIA.\\n\\n---\\n\\n### **7. Historical Performance for Context**\\n- NVIDIA’s stock has surged ~**60% in 12 months** (as of late 2023), fueled by the AI boom. However, it’s also been volatile (e.g., a 40% drop in early 2023 due to crypto crash and supply chain issues).\\n- Long-term trends: NVIDIA has delivered annualized returns of ~20% over the past decade, driven by gaming, AI, and automotive.\\n\\n---\\n\\n### **8. Key Metrics to Track**\\n- **Revenue Growth**: Data center and AI revenue (should exceed gaming and PC sales).\\n- **Margin Expansions**: Gross margins and operating margins under pressure from competition and commoditization.\\n- **Quarterly Guidance**: NVIDIA’s management often provides forward-looking statements on AI adoption and supply constraints.\\n\\n---\\n\\n### **9. Potential Scenarios**\\n- **Best-Case Scenario**: Continued AI adoption, no major regulatory pushback, and strong enterprise/government spending → **Potential Upside of 30–50%+**.\\n- **Base Case**: Steady AI growth, moderate competition → **Single-digit to low-teen yearly returns**.\\n- **Worst-Case Scenario**: AI hype wanes, margin pressure, or geopolitical disruptions → **Potential downside of 20–30%**.\\n\\n---\\n\\n### **10. Final Thoughts**\\nNVIDIA is positioned to benefit from long-term trends in AI, autonomous vehicles, and edge computing. However, investors should:\\n- **Diversify**: Avoid over-concentration in one stock or sector.\\n- **Monitor**: Track quarterly earnings, AI adoption rates, and macroeconomic conditions.\\n- **Consider Valuation**: High multiples require sustained revenue growth to justify current prices.\\n\\n---\\n\\n### **Key Takeaway**\\nNVIDIA’s stock has **strong long-term growth potential** due to its leadership in AI and data center solutions, but short-term volatility is likely. Investors should focus on **fundamentals** (revenue growth, margins, R&D) and **external factors** (economic cycles, competition) rather than short-term hype.\\n\\nFor personalized advice, consult a financial advisor to align your risk tolerance and investment horizon with these trends.', additional_kwargs={}, response_metadata={'token_usage': {'completion_tokens': 2501, 'prompt_tokens': 70, 'total_tokens': 2571, 'completion_time': 6.209400012, 'prompt_time': 0.006125968, 'queue_time': 0.121754176, 'total_time': 6.21552598}, 'model_name': 'qwen-qwq-32b', 'system_fingerprint': 'fp_fbb7e6cc39', 'finish_reason': 'stop', 'logprobs': None}, id='run-72c4969d-85ef-44b0-b828-63ed52e352fc-0', usage_metadata={'input_tokens': 70, 'output_tokens': 2501, 'total_tokens': 2571})"
            ]
          },
          "execution_count": 3,
          "metadata": {},
          "output_type": "execute_result"
        }
      ],
      "source": [
        "from langchain_groq import ChatGroq\n",
        "\n",
        "llm=ChatGroq(model=\"qwen-qwq-32b\")\n",
        "result=llm.invoke(messages)\n",
        "result"
      ]
    },
    {
      "cell_type": "markdown",
      "metadata": {},
      "source": [
        "# Langgraph with tools"
      ]
    },
    {
      "cell_type": "code",
      "execution_count": 26,
      "metadata": {},
      "outputs": [],
      "source": [
        "def mul(a:int,b:int)->int:\n",
        "    \"\"\" Mul a and b\n",
        "    Args:\n",
        "    a:first int\n",
        "    b:second int\n",
        "    \"\"\" \n",
        "    return a*b"
      ]
    },
    {
      "cell_type": "code",
      "execution_count": 27,
      "metadata": {},
      "outputs": [],
      "source": [
        "llm_with_tools=llm.bind_tools([mul])"
      ]
    },
    {
      "cell_type": "code",
      "execution_count": 28,
      "metadata": {},
      "outputs": [
        {
          "data": {
            "text/plain": [
              "AIMessage(content='', additional_kwargs={'tool_calls': [{'id': 'call_SonbAQ6KZdIeFA8ePUSRs37h', 'function': {'arguments': '{\"a\":2,\"b\":3}', 'name': 'mul'}, 'type': 'function'}], 'refusal': None}, response_metadata={'token_usage': {'completion_tokens': 18, 'prompt_tokens': 65, 'total_tokens': 83, 'completion_tokens_details': {'accepted_prediction_tokens': 0, 'audio_tokens': 0, 'reasoning_tokens': 0, 'rejected_prediction_tokens': 0}, 'prompt_tokens_details': {'audio_tokens': 0, 'cached_tokens': 0}}, 'model_name': 'gpt-4o-2024-08-06', 'system_fingerprint': 'fp_f7a584cf1f', 'id': 'chatcmpl-BO3rZsHq5Q6qprvNFF1zlZbuMJMLt', 'finish_reason': 'tool_calls', 'logprobs': None}, id='run-9fc175fd-75d7-4895-a802-87d08c923fbb-0', tool_calls=[{'name': 'mul', 'args': {'a': 2, 'b': 3}, 'id': 'call_SonbAQ6KZdIeFA8ePUSRs37h', 'type': 'tool_call'}], usage_metadata={'input_tokens': 65, 'output_tokens': 18, 'total_tokens': 83, 'input_token_details': {'audio': 0, 'cache_read': 0}, 'output_token_details': {'audio': 0, 'reasoning': 0}})"
            ]
          },
          "execution_count": 28,
          "metadata": {},
          "output_type": "execute_result"
        }
      ],
      "source": [
        "tool_call=llm_with_tools.invoke([HumanMessage(content=f\"What is 2 mul 3\")])\n",
        "tool_call"
      ]
    },
    {
      "cell_type": "code",
      "execution_count": 29,
      "metadata": {},
      "outputs": [
        {
          "data": {
            "text/plain": [
              "[{'name': 'mul',\n",
              "  'args': {'a': 2, 'b': 3},\n",
              "  'id': 'call_SonbAQ6KZdIeFA8ePUSRs37h',\n",
              "  'type': 'tool_call'}]"
            ]
          },
          "execution_count": 29,
          "metadata": {},
          "output_type": "execute_result"
        }
      ],
      "source": [
        "tool_call.tool_calls"
      ]
    },
    {
      "cell_type": "markdown",
      "metadata": {},
      "source": [
        "## Langgraph message add"
      ]
    },
    {
      "cell_type": "code",
      "execution_count": 30,
      "metadata": {},
      "outputs": [],
      "source": [
        "from typing_extensions import TypedDict\n",
        "from langchain_core.messages import AnyMessage\n",
        "from typing import Annotated\n",
        "from langgraph.graph.message import add_messages"
      ]
    },
    {
      "cell_type": "code",
      "execution_count": 31,
      "metadata": {},
      "outputs": [],
      "source": [
        "class MessageState(TypedDict):\n",
        "    messages:Annotated[list[AnyMessage],add_messages]"
      ]
    },
    {
      "cell_type": "code",
      "execution_count": 32,
      "metadata": {},
      "outputs": [
        {
          "data": {
            "text/plain": [
              "[AIMessage(content='Hello! I am financial expert how can I help you?', additional_kwargs={}, response_metadata={}, name='model', id='20f0786b-c3b9-4806-a2b3-c61d5d4da588'),\n",
              " HumanMessage(content='I want to know about Microsoft stock growth', additional_kwargs={}, response_metadata={}, name='Rahul', id='490aeb8e-3b1a-4d4a-b469-86bf221eb58c'),\n",
              " AIMessage(content='Sure,I can help with that ,Are you looking for future investement? ', additional_kwargs={}, response_metadata={}, name='model', id='76cd5359-ff70-4d59-8baa-179f77109ae5')]"
            ]
          },
          "execution_count": 32,
          "metadata": {},
          "output_type": "execute_result"
        }
      ],
      "source": [
        "initial_message=[AIMessage(content=\"Hello! I am financial expert how can I help you?\",name=\"model\"),\n",
        "                 HumanMessage(content=\"I want to know about Microsoft stock growth\",name=\"Rahul\")]\n",
        "\n",
        "# new  messsage to add\n",
        "new_message=AIMessage(content=\"Sure,I can help with that ,Are you looking for future investement? \",name=\"model\")\n",
        "add_messages(initial_message,new_message)"
      ]
    },
    {
      "cell_type": "code",
      "execution_count": 33,
      "metadata": {},
      "outputs": [
        {
          "data": {
            "image/png": "[encoded data removed]",
            "text/plain": [
              "<IPython.core.display.Image object>"
            ]
          },
          "metadata": {},
          "output_type": "display_data"
        }
      ],
      "source": [
        "from IPython.display import Image,display\n",
        "from langgraph.graph import StateGraph,START,END\n",
        "\n",
        "# node\n",
        "def tool_calling_llm_fun(state:MessageState):\n",
        "    return {\"messages\":[llm_with_tools.invoke(state[\"messages\"])]}\n",
        "\n",
        "# Build the graph\n",
        "graph_builder=StateGraph(MessageState)\n",
        "graph_builder.add_node(\"tool_calling_llm_fun\",tool_calling_llm_fun)\n",
        "graph_builder.add_edge(START,\"tool_calling_llm_fun\")\n",
        "graph_builder.add_edge(\"tool_calling_llm_fun\",END)\n",
        "\n",
        "graph=graph_builder.compile()\n",
        "\n",
        "#view\n",
        "display(Image(graph.get_graph().draw_mermaid_png()))"
      ]
    },
    {
      "cell_type": "code",
      "execution_count": 34,
      "metadata": {},
      "outputs": [],
      "source": [
        "messages=graph.invoke({\"messages\":HumanMessage(content=\"What is 2 mul 3\")})\n"
      ]
    },
    {
      "cell_type": "code",
      "execution_count": 35,
      "metadata": {},
      "outputs": [
        {
          "data": {
            "text/plain": [
              "[HumanMessage(content='What is 2 mul 3', additional_kwargs={}, response_metadata={}, id='87885c33-cb4b-4c7a-82bd-f0c9bd6a0155'),\n",
              " AIMessage(content='', additional_kwargs={'tool_calls': [{'id': 'call_CbFrV6IPnjcpmpLdUwBvLEkI', 'function': {'arguments': '{\"a\":2,\"b\":3}', 'name': 'mul'}, 'type': 'function'}], 'refusal': None}, response_metadata={'token_usage': {'completion_tokens': 18, 'prompt_tokens': 65, 'total_tokens': 83, 'completion_tokens_details': {'accepted_prediction_tokens': 0, 'audio_tokens': 0, 'reasoning_tokens': 0, 'rejected_prediction_tokens': 0}, 'prompt_tokens_details': {'audio_tokens': 0, 'cached_tokens': 0}}, 'model_name': 'gpt-4o-2024-08-06', 'system_fingerprint': 'fp_f7a584cf1f', 'id': 'chatcmpl-BO3rrtQg6v6psaG3w4hyJee3effRD', 'finish_reason': 'tool_calls', 'logprobs': None}, id='run-501f68ea-1ed9-4bef-8062-9b3e6af41b3e-0', tool_calls=[{'name': 'mul', 'args': {'a': 2, 'b': 3}, 'id': 'call_CbFrV6IPnjcpmpLdUwBvLEkI', 'type': 'tool_call'}], usage_metadata={'input_tokens': 65, 'output_tokens': 18, 'total_tokens': 83, 'input_token_details': {'audio': 0, 'cache_read': 0}, 'output_token_details': {'audio': 0, 'reasoning': 0}})]"
            ]
          },
          "execution_count": 35,
          "metadata": {},
          "output_type": "execute_result"
        }
      ],
      "source": [
        "messages['messages']\n"
      ]
    },
    {
      "cell_type": "code",
      "execution_count": 36,
      "metadata": {},
      "outputs": [],
      "source": [
        "from langchain_openai import ChatOpenAI\n",
        "\n",
        "def substraction(a: int, b: int) -> int:\n",
        "    \"\"\"Substract and b.\n",
        "\n",
        "    Args:\n",
        "        a: first int\n",
        "        b: second int\n",
        "    \"\"\"\n",
        "    return a - b"
      ]
    },
    {
      "cell_type": "code",
      "execution_count": 37,
      "metadata": {},
      "outputs": [],
      "source": [
        "os.environ[\"OPENAI_API_KEY\"]=os.getenv(\"OPENAI_API_KEY\")"
      ]
    },
    {
      "cell_type": "markdown",
      "metadata": {
        "id": "iPh9xvJttOoq"
      },
      "source": [
        "### Tools\n",
        "Tools are useful whenever you want a model to interact with external systems.\n",
        "\n",
        "External systems (e.g., APIs) often require a particular input schema or payload, rather than natural language.\n",
        "\n",
        "When we bind an API, for example, as a tool we given the model awareness of the required input schema.\n",
        "\n",
        "The model will choose to call a tool based upon the natural language input from the user.\n",
        "\n",
        "And, it will return an output that adheres to the tool's schema.\n",
        "\n",
        "Many LLM providers support tool calling and tool calling interface in LangChain is simple.\n",
        "\n",
        "You can simply pass any Python function into ChatModel.bind_tools(function)."
      ]
    },
    {
      "cell_type": "code",
      "execution_count": 38,
      "metadata": {
        "id": "NnBaYO-AtOoq"
      },
      "outputs": [
        {
          "data": {
            "text/plain": [
              "AIMessage(content='Hello! How can I assist you today?', additional_kwargs={'refusal': None}, response_metadata={'token_usage': {'completion_tokens': 10, 'prompt_tokens': 10, 'total_tokens': 20, 'completion_tokens_details': {'accepted_prediction_tokens': 0, 'audio_tokens': 0, 'reasoning_tokens': 0, 'rejected_prediction_tokens': 0}, 'prompt_tokens_details': {'audio_tokens': 0, 'cached_tokens': 0}}, 'model_name': 'gpt-4o-2024-08-06', 'system_fingerprint': 'fp_f7a584cf1f', 'id': 'chatcmpl-BO3s2AjCHWXKJroTEbw4UkKO1GSJq', 'finish_reason': 'stop', 'logprobs': None}, id='run-5d1982f7-9f72-4821-9c37-61cadf0c73a1-0', usage_metadata={'input_tokens': 10, 'output_tokens': 10, 'total_tokens': 20, 'input_token_details': {'audio': 0, 'cache_read': 0}, 'output_token_details': {'audio': 0, 'reasoning': 0}})"
            ]
          },
          "execution_count": 38,
          "metadata": {},
          "output_type": "execute_result"
        }
      ],
      "source": [
        "llm=ChatOpenAI(model=\"gpt-4o\")\n",
        "result=llm.invoke(\"Hello openAI\")\n",
        "result"
      ]
    },
    {
      "cell_type": "code",
      "execution_count": 39,
      "metadata": {},
      "outputs": [],
      "source": [
        "llm_with_tools=llm.bind_tools([mul,substraction])"
      ]
    },
    {
      "cell_type": "code",
      "execution_count": 40,
      "metadata": {},
      "outputs": [],
      "source": [
        "from IPython.display import Image, display\n",
        "from langgraph.graph import StateGraph, START, END\n",
        "from langgraph.graph import MessagesState\n",
        "\n",
        "\n"
      ]
    },
    {
      "cell_type": "code",
      "execution_count": 41,
      "metadata": {},
      "outputs": [],
      "source": [
        "from langgraph.prebuilt import ToolNode\n",
        "from langgraph.prebuilt import tools_condition"
      ]
    },
    {
      "cell_type": "code",
      "execution_count": 42,
      "metadata": {},
      "outputs": [
        {
          "data": {
            "image/png": "[encoded data removed]",
            "text/plain": [
              "<IPython.core.display.Image object>"
            ]
          },
          "metadata": {},
          "output_type": "display_data"
        }
      ],
      "source": [
        "# Node\n",
        "def tool_calling_llm(state: MessagesState):\n",
        "    return {\"messages\": [llm_with_tools.invoke(state[\"messages\"])]}\n",
        "\n",
        "# Build graph\n",
        "builder = StateGraph(MessagesState)\n",
        "builder.add_node(\"tool_calling_llm\", tool_calling_llm)\n",
        "builder.add_node(\"tools\", ToolNode([mul,substraction]))\n",
        "\n",
        "builder.add_edge(START, \"tool_calling_llm\")\n",
        "builder.add_conditional_edges(\n",
        "    \"tool_calling_llm\",\n",
        "    # If the latest message (result) from assistant is a tool call -> tools_condition routes to tools\n",
        "    # If the latest message (result) from assistant is a not a tool call -> tools_condition routes to END\n",
        "    tools_condition,\n",
        ")\n",
        "builder.add_edge(\"tools\", END)\n",
        "#builder.add_edge(\"tool2\", END)\n",
        "graph = builder.compile()\n",
        "\n",
        "# View\n",
        "display(Image(graph.get_graph().draw_mermaid_png()))"
      ]
    },
    {
      "cell_type": "code",
      "execution_count": 45,
      "metadata": {},
      "outputs": [
        {
          "name": "stdout",
          "output_type": "stream",
          "text": [
            "================================\u001b[1m Human Message \u001b[0m=================================\n",
            "\n",
            "Sub 3 and 4 and  mul the output by 2 \n",
            "==================================\u001b[1m Ai Message \u001b[0m==================================\n",
            "Tool Calls:\n",
            "  substraction (call_WYtLJjc37VdoUe5VTsTilza3)\n",
            " Call ID: call_WYtLJjc37VdoUe5VTsTilza3\n",
            "  Args:\n",
            "    a: 3\n",
            "    b: 4\n",
            "  mul (call_mRjgEuHDeGqFdCMnCCtkkCJN)\n",
            " Call ID: call_mRjgEuHDeGqFdCMnCCtkkCJN\n",
            "  Args:\n",
            "    a: -1\n",
            "    b: 2\n",
            "=================================\u001b[1m Tool Message \u001b[0m=================================\n",
            "Name: substraction\n",
            "\n",
            "-1\n",
            "=================================\u001b[1m Tool Message \u001b[0m=================================\n",
            "Name: mul\n",
            "\n",
            "-2\n"
          ]
        }
      ],
      "source": [
        "from langchain_core.messages import HumanMessage\n",
        "messages = [HumanMessage(content=\"Sub 3 and 4 and  mul the output by 2 \")]\n",
        "messages = graph.invoke({\"messages\": messages})\n",
        "for m in messages['messages']:\n",
        "    m.pretty_print()"
      ]
    },
    {
      "cell_type": "code",
      "execution_count": 25,
      "metadata": {},
      "outputs": [
        {
          "data": {
            "text/plain": [
              "[HumanMessage(content='Sub 3 and 4. Multiply the output by 2 and add 5.', additional_kwargs={}, response_metadata={}, id='5fbc5c0e-7043-4b01-9698-0f6b8993db0b'),\n",
              " AIMessage(content='', additional_kwargs={'tool_calls': [{'id': 'call_hf8RaZ14wX5ZTbQLj5GBk0Rl', 'function': {'arguments': '{\"a\":3,\"b\":4}', 'name': 'substraction'}, 'type': 'function'}], 'refusal': None}, response_metadata={'token_usage': {'completion_tokens': 19, 'prompt_tokens': 107, 'total_tokens': 126, 'completion_tokens_details': {'accepted_prediction_tokens': 0, 'audio_tokens': 0, 'reasoning_tokens': 0, 'rejected_prediction_tokens': 0}, 'prompt_tokens_details': {'audio_tokens': 0, 'cached_tokens': 0}}, 'model_name': 'gpt-4o-2024-08-06', 'system_fingerprint': 'fp_f7a584cf1f', 'id': 'chatcmpl-BO3nVTEZre5wGb1c36rjCBwxPIodJ', 'finish_reason': 'tool_calls', 'logprobs': None}, id='run-f3891bd6-3232-4aaf-9508-2f977e456a4a-0', tool_calls=[{'name': 'substraction', 'args': {'a': 3, 'b': 4}, 'id': 'call_hf8RaZ14wX5ZTbQLj5GBk0Rl', 'type': 'tool_call'}], usage_metadata={'input_tokens': 107, 'output_tokens': 19, 'total_tokens': 126, 'input_token_details': {'audio': 0, 'cache_read': 0}, 'output_token_details': {'audio': 0, 'reasoning': 0}}),\n",
              " ToolMessage(content='-1', name='substraction', id='318ef024-d86c-4e3b-968c-bec9a64bb7a8', tool_call_id='call_hf8RaZ14wX5ZTbQLj5GBk0Rl')]"
            ]
          },
          "execution_count": 25,
          "metadata": {},
          "output_type": "execute_result"
        }
      ],
      "source": [
        " messages['messages']"
      ]
    },
    {
      "cell_type": "code",
      "execution_count": null,
      "metadata": {},
      "outputs": [],
      "source": []
    }
  ],
  "metadata": {
    "colab": {
      "provenance": []
    },
    "kernelspec": {
      "display_name": "venv",
      "language": "python",
      "name": "python3"
    },
    "language_info": {
      "codemirror_mode": {
        "name": "ipython",
        "version": 3
      },
      "file_extension": ".py",
      "mimetype": "text/x-python",
      "name": "python",
      "nbconvert_exporter": "python",
      "pygments_lexer": "ipython3",
      "version": "3.12.7"
    }
  },
  "nbformat": 4,
  "nbformat_minor": 0
}

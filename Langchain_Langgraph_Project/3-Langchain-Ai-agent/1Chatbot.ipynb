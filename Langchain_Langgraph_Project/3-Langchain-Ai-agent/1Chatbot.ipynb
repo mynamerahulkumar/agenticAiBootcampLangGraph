{
 "cells": [
  {
   "cell_type": "markdown",
   "id": "e182dd37",
   "metadata": {},
   "source": [
    "# GROQ Chatbot"
   ]
  },
  {
   "cell_type": "code",
   "execution_count": 2,
   "id": "c4a25425",
   "metadata": {},
   "outputs": [],
   "source": [
    "import os\n",
    "from dotenv import load_dotenv\n",
    "load_dotenv() ## aloading all the environment variable\n",
    "\n",
    "os.environ[\"GROQ_API_KEY\"]=os.getenv(\"GROQ_API_KEY\")\n",
    "\n"
   ]
  },
  {
   "cell_type": "code",
   "execution_count": 3,
   "id": "ff1edc80",
   "metadata": {},
   "outputs": [
    {
     "data": {
      "text/plain": [
       "ChatGroq(client=<groq.resources.chat.completions.Completions object at 0x10fcb0f80>, async_client=<groq.resources.chat.completions.AsyncCompletions object at 0x10fcb20f0>, model_name='Gemma2-9b-It', model_kwargs={}, groq_api_key=SecretStr('**********'))"
      ]
     },
     "execution_count": 3,
     "metadata": {},
     "output_type": "execute_result"
    }
   ],
   "source": [
    "from langchain_groq import ChatGroq\n",
    "model=ChatGroq(model=\"Gemma2-9b-It\")\n",
    "model"
   ]
  },
  {
   "cell_type": "code",
   "execution_count": 4,
   "id": "566a247c",
   "metadata": {},
   "outputs": [
    {
     "data": {
      "text/plain": [
       "AIMessage(content=\"Hi Rahul Raj,\\n\\nThat's great! Agentic AI is a fascinating and rapidly developing field. \\n\\nWhat aspects of agential AI are you particularly interested in? \\n\\nKnowing your focus will help me give you more relevant information and resources. \\n\\nFor example, are you interested in:\\n\\n* **Specific algorithms or architectures** used in agential AI?\\n* **Applications** of agential AI in different domains (e.g., robotics, game playing, education)?\\n* **Ethical considerations** surrounding the development and deployment of agential AI?\\n\\nI'm here to help you learn more about agential AI. Let me know what you'd like to explore!\\n\", additional_kwargs={}, response_metadata={'token_usage': {'completion_tokens': 144, 'prompt_tokens': 23, 'total_tokens': 167, 'completion_time': 0.261818182, 'prompt_time': 0.002197105, 'queue_time': 0.161606489, 'total_time': 0.264015287}, 'model_name': 'Gemma2-9b-It', 'system_fingerprint': 'fp_10c08bf97d', 'finish_reason': 'stop', 'logprobs': None}, id='run-beecc12c-3d9e-4ef0-bde5-efdf952adcfb-0', usage_metadata={'input_tokens': 23, 'output_tokens': 144, 'total_tokens': 167})"
      ]
     },
     "execution_count": 4,
     "metadata": {},
     "output_type": "execute_result"
    }
   ],
   "source": [
    "from langchain_core.messages import HumanMessage\n",
    "model.invoke([HumanMessage(content=\"Hi ,My Name is Rahul Raj and I am Learning Agentic AI\")])"
   ]
  },
  {
   "cell_type": "code",
   "execution_count": 5,
   "id": "b5ad7106",
   "metadata": {},
   "outputs": [
    {
     "data": {
      "text/plain": [
       "AIMessage(content=\"As an AI, I don't have access to your personal information, including your name. If you'd like to tell me your name, I'd be happy to know!\\n\", additional_kwargs={}, response_metadata={'token_usage': {'completion_tokens': 41, 'prompt_tokens': 14, 'total_tokens': 55, 'completion_time': 0.074545455, 'prompt_time': 0.001905255, 'queue_time': 0.160884695, 'total_time': 0.07645071}, 'model_name': 'Gemma2-9b-It', 'system_fingerprint': 'fp_10c08bf97d', 'finish_reason': 'stop', 'logprobs': None}, id='run-527f7a66-b51c-4ad3-8102-9ca09ee81a1a-0', usage_metadata={'input_tokens': 14, 'output_tokens': 41, 'total_tokens': 55})"
      ]
     },
     "execution_count": 5,
     "metadata": {},
     "output_type": "execute_result"
    }
   ],
   "source": [
    "model.invoke([HumanMessage(content=\"What is my Name?\")])"
   ]
  },
  {
   "cell_type": "code",
   "execution_count": 6,
   "id": "957d23cb",
   "metadata": {},
   "outputs": [
    {
     "data": {
      "text/plain": [
       "AIMessage(content='Your name is Rahul Raj.  \\n\\nYou told me at the beginning of our conversation! 😊  \\n\\n', additional_kwargs={}, response_metadata={'token_usage': {'completion_tokens': 24, 'prompt_tokens': 82, 'total_tokens': 106, 'completion_time': 0.043636364, 'prompt_time': 0.005736376, 'queue_time': 0.16150113900000002, 'total_time': 0.04937274}, 'model_name': 'Gemma2-9b-It', 'system_fingerprint': 'fp_10c08bf97d', 'finish_reason': 'stop', 'logprobs': None}, id='run-0becb454-7cdd-47da-bab5-7af540a58ba3-0', usage_metadata={'input_tokens': 82, 'output_tokens': 24, 'total_tokens': 106})"
      ]
     },
     "execution_count": 6,
     "metadata": {},
     "output_type": "execute_result"
    }
   ],
   "source": [
    "from langchain_core.messages import AIMessage\n",
    "model.invoke(\n",
    "    [\n",
    "        HumanMessage(content=\"Hi ,My Name is Rahul Raj and I am Learning Agentic AI\"),\n",
    "        AIMessage(content=\"Hi Rahul Raj,\\n\\nIt's great to hear you're learning about Agentic AI! It's a fascinating and rapidly developing field. \\n\\nWhat specifically are you interested in learning about Agentic AI?\"),\n",
    "        HumanMessage(content=\"What is my Name?\")\n",
    "    ]\n",
    ")"
   ]
  },
  {
   "cell_type": "code",
   "execution_count": 7,
   "id": "1841a42f",
   "metadata": {},
   "outputs": [],
   "source": [
    "from langchain_community.chat_message_histories import ChatMessageHistory\n",
    "from langchain_core.chat_history import BaseChatMessageHistory\n",
    "\n",
    "from langchain_core.runnables.history import RunnableWithMessageHistory\n",
    "\n",
    "store={}\n",
    "def get_session_history(session_id:str)->BaseChatMessageHistory:\n",
    "    if session_id not in store:\n",
    "        store[session_id]=ChatMessageHistory()\n",
    "    return store[session_id]\n",
    "\n",
    "with_message_history=RunnableWithMessageHistory(model,get_session_history)"
   ]
  },
  {
   "cell_type": "code",
   "execution_count": 8,
   "id": "4c4ff802",
   "metadata": {},
   "outputs": [
    {
     "name": "stdout",
     "output_type": "stream",
     "text": [
      "bound=RunnableBinding(bound=RunnableBinding(bound=RunnableLambda(_enter_history), kwargs={}, config={'run_name': 'load_history'}, config_factories=[])\n",
      "| RunnableBinding(bound=RunnableLambda(_call_runnable_sync), kwargs={}, config={'run_name': 'check_sync_or_async'}, config_factories=[]), kwargs={}, config={'run_name': 'RunnableWithMessageHistory'}, config_factories=[]) kwargs={} config={} config_factories=[] get_session_history=<function get_session_history at 0x10fcc9440> history_factory_config=[ConfigurableFieldSpec(id='session_id', annotation=<class 'str'>, name='Session ID', description='Unique identifier for a session.', default='', is_shared=True, dependencies=None)]\n"
     ]
    }
   ],
   "source": [
    "print(with_message_history)"
   ]
  },
  {
   "cell_type": "code",
   "execution_count": 9,
   "id": "f153384f",
   "metadata": {},
   "outputs": [],
   "source": [
    "config={\"configurable\":{\"session_id\":\"Rahul\"}}"
   ]
  },
  {
   "cell_type": "code",
   "execution_count": 10,
   "id": "bd09b7fb",
   "metadata": {},
   "outputs": [],
   "source": [
    "response=with_message_history.invoke(\n",
    "    [HumanMessage(content=\"Hi my name is Rahul,Generative AI is the future\")],\n",
    "    config=config\n",
    ")"
   ]
  },
  {
   "cell_type": "code",
   "execution_count": 11,
   "id": "a6ec194b",
   "metadata": {},
   "outputs": [
    {
     "data": {
      "text/plain": [
       "AIMessage(content=\"Hi Rahul,\\n\\nIt's great to meet you!  \\n\\nI agree, Generative AI has the potential to be incredibly transformative. It's already making waves in many fields, from art and writing to science and technology. \\n\\nWhat aspects of Generative AI are you most excited about?  Perhaps we can discuss some of its applications or even explore some examples together. 😊 \\n\\n\", additional_kwargs={}, response_metadata={'token_usage': {'completion_tokens': 83, 'prompt_tokens': 21, 'total_tokens': 104, 'completion_time': 0.150909091, 'prompt_time': 0.002827703, 'queue_time': 0.160272048, 'total_time': 0.153736794}, 'model_name': 'Gemma2-9b-It', 'system_fingerprint': 'fp_10c08bf97d', 'finish_reason': 'stop', 'logprobs': None}, id='run-0639aaf7-341e-4c1a-9ea6-7ade14780b78-0', usage_metadata={'input_tokens': 21, 'output_tokens': 83, 'total_tokens': 104})"
      ]
     },
     "execution_count": 11,
     "metadata": {},
     "output_type": "execute_result"
    }
   ],
   "source": [
    "response"
   ]
  },
  {
   "cell_type": "code",
   "execution_count": 14,
   "id": "385705c1",
   "metadata": {},
   "outputs": [],
   "source": [
    "response=with_message_history.invoke(\n",
    "    [HumanMessage(content=\"What is my name\")],\n",
    "    config=config\n",
    ")"
   ]
  },
  {
   "cell_type": "code",
   "execution_count": 15,
   "id": "cdbde75c",
   "metadata": {},
   "outputs": [
    {
     "name": "stdout",
     "output_type": "stream",
     "text": [
      "content='Your name is Rahul, as you told me at the beginning of our conversation.  😊 \\n\\n' additional_kwargs={} response_metadata={'token_usage': {'completion_tokens': 23, 'prompt_tokens': 115, 'total_tokens': 138, 'completion_time': 0.041818182, 'prompt_time': 0.005382767, 'queue_time': 0.162578438, 'total_time': 0.047200949}, 'model_name': 'Gemma2-9b-It', 'system_fingerprint': 'fp_10c08bf97d', 'finish_reason': 'stop', 'logprobs': None} id='run-e9d9ccef-4756-410a-b81f-6dc99ed06ed6-0' usage_metadata={'input_tokens': 115, 'output_tokens': 23, 'total_tokens': 138}\n"
     ]
    }
   ],
   "source": [
    "print(response)"
   ]
  },
  {
   "cell_type": "code",
   "execution_count": 16,
   "id": "0cb686bd",
   "metadata": {},
   "outputs": [
    {
     "name": "stdout",
     "output_type": "stream",
     "text": [
      "content=\"As an AI, I have no memory of past conversations and do not know your name. If you'd like to tell me, I'd be happy to know! 😊\\n\" additional_kwargs={} response_metadata={'token_usage': {'completion_tokens': 39, 'prompt_tokens': 14, 'total_tokens': 53, 'completion_time': 0.070909091, 'prompt_time': 0.001904085, 'queue_time': 0.16095781, 'total_time': 0.072813176}, 'model_name': 'Gemma2-9b-It', 'system_fingerprint': 'fp_10c08bf97d', 'finish_reason': 'stop', 'logprobs': None} id='run-c7e76241-4c47-480a-adeb-45d3a82e0fd3-0' usage_metadata={'input_tokens': 14, 'output_tokens': 39, 'total_tokens': 53}\n"
     ]
    }
   ],
   "source": [
    "config2={\"configurable\":{\"session_id\":\"Rohit\"}}\n",
    "response=with_message_history.invoke(\n",
    "    [HumanMessage(content=\"What is my name?\")],\n",
    "    config=config2\n",
    "\n",
    ")\n",
    "print(response)"
   ]
  },
  {
   "cell_type": "markdown",
   "id": "bbaa9999",
   "metadata": {},
   "source": [
    "# Prompt Template"
   ]
  },
  {
   "cell_type": "code",
   "execution_count": 18,
   "id": "0630663e",
   "metadata": {},
   "outputs": [],
   "source": [
    "from langchain_core.prompts import ChatPromptTemplate,MessagesPlaceholder\n",
    "prompt=ChatPromptTemplate.from_messages(\n",
    "    [\n",
    "        (\"system\",\"You are an Financial expert.Answer all the question\"),\n",
    "        MessagesPlaceholder(variable_name=\"messages\")\n",
    "    ]\n",
    ")\n",
    "chain=prompt|model "
   ]
  },
  {
   "cell_type": "code",
   "execution_count": 19,
   "id": "415372ec",
   "metadata": {},
   "outputs": [
    {
     "data": {
      "text/plain": [
       "AIMessage(content=\"Hello Rahul!  \\n\\nI'm happy to help answer your financial questions. To give you the best advice, please tell me what's on your mind. \\n\\nFor example, are you curious about:\\n\\n* **Investing?** (stocks, bonds, real estate, etc.)\\n* **Saving for retirement?**\\n* **Managing debt?**\\n* **Budgeting?**\\n* **Planning for a big purchase?**\\n* **Something else?**\\n\\n\\nThe more specific you are, the more helpful I can be! \\n\\n\", additional_kwargs={}, response_metadata={'token_usage': {'completion_tokens': 117, 'prompt_tokens': 25, 'total_tokens': 142, 'completion_time': 0.212727273, 'prompt_time': 0.002126826, 'queue_time': 0.160101694, 'total_time': 0.214854099}, 'model_name': 'Gemma2-9b-It', 'system_fingerprint': 'fp_10c08bf97d', 'finish_reason': 'stop', 'logprobs': None}, id='run-e51dcd80-9b65-4dd8-9fcb-27cd9614825d-0', usage_metadata={'input_tokens': 25, 'output_tokens': 117, 'total_tokens': 142})"
      ]
     },
     "execution_count": 19,
     "metadata": {},
     "output_type": "execute_result"
    }
   ],
   "source": [
    "chain.invoke({\"messages\":[HumanMessage(content=\"Hi My name is Rahul?\")]})"
   ]
  },
  {
   "cell_type": "code",
   "execution_count": 20,
   "id": "302e72b2",
   "metadata": {},
   "outputs": [
    {
     "data": {
      "text/plain": [
       "AIMessage(content='As an AI, I have no memory of past conversations and no access to your personal information, including your name.  \\n\\nTo answer your question, I need you to tell me your name! 😊 \\n\\n', additional_kwargs={}, response_metadata={'token_usage': {'completion_tokens': 45, 'prompt_tokens': 24, 'total_tokens': 69, 'completion_time': 0.081818182, 'prompt_time': 0.002123875, 'queue_time': 0.160696731, 'total_time': 0.083942057}, 'model_name': 'Gemma2-9b-It', 'system_fingerprint': 'fp_10c08bf97d', 'finish_reason': 'stop', 'logprobs': None}, id='run-d6b4f269-e678-4de2-8fe8-9d7352390872-0', usage_metadata={'input_tokens': 24, 'output_tokens': 45, 'total_tokens': 69})"
      ]
     },
     "execution_count": 20,
     "metadata": {},
     "output_type": "execute_result"
    }
   ],
   "source": [
    "chain.invoke({\"messages\":[HumanMessage(content=\"What is my name?\")]})"
   ]
  },
  {
   "cell_type": "code",
   "execution_count": 21,
   "id": "e8881394",
   "metadata": {},
   "outputs": [],
   "source": [
    "with_message_histor=RunnableWithMessageHistory(chain,get_session_history)"
   ]
  },
  {
   "cell_type": "code",
   "execution_count": 22,
   "id": "f416b24c",
   "metadata": {},
   "outputs": [
    {
     "name": "stdout",
     "output_type": "stream",
     "text": [
      "content=\"I understand you're looking for saving ideas by investing $2,000 in stocks in the USA, Rahul. I'm an AI and can't give financial advice, so I can't tell you what to invest in. \\n\\nHowever, I can give you some general information and ideas to discuss with a qualified financial advisor:\\n\\n**Important Considerations:**\\n\\n* **Your Risk Tolerance:** How comfortable are you with the possibility of losing some of your investment? Stocks can be volatile, meaning their prices go up and down.\\n* **Investment Goals:** What are you saving for? Retirement? A down payment on a house? Knowing your goals will help determine your investment timeline and strategy.\\n* **Time Horizon:** How long do you plan to invest your money? Longer time horizons generally allow for more risk.\\n* **Diversification:** Don't put all your eggs in one basket! Spreading your investment across different types of stocks and other asset classes can help reduce risk.\\n\\n**Possible Investment Ideas:**\\n\\n* **Index Funds:** These funds track a specific market index, like the S&P 500. They offer instant diversification and are generally considered low-cost.\\n* **ETFs (Exchange-Traded Funds):** Similar to index funds, ETFs trade on stock exchanges. They offer diversification and can focus on specific sectors or themes.\\n* **Fractional Shares:** Many brokerages now allow you to buy fractions of shares, making it easier to invest in expensive stocks with a smaller amount of money.\\n* **Robo-Advisors:** These platforms use algorithms to create and manage a diversified portfolio based on your risk tolerance and goals.\\n\\n**Where to Start:**\\n\\n1. **Educate Yourself:** Read books, articles, and online resources about investing.\\n2. **Open a Brokerage Account:** There are many online brokerages that offer low fees and easy-to-use platforms.\\n3. **Start Small:** Don't feel pressured to invest all of your money at once. Start with a small amount and gradually increase your investments as you gain experience.\\n4. **Seek Professional Advice:** Consider consulting with a financial advisor who can provide personalized guidance based on your individual circumstances.\\n\\n\\nRemember, investing involves risk and there's no guarantee of returns. Do your research, understand the risks, and invest responsibly. \\n\" additional_kwargs={} response_metadata={'token_usage': {'completion_tokens': 486, 'prompt_tokens': 37, 'total_tokens': 523, 'completion_time': 0.883636364, 'prompt_time': 0.002341988, 'queue_time': 0.159996141, 'total_time': 0.885978352}, 'model_name': 'Gemma2-9b-It', 'system_fingerprint': 'fp_10c08bf97d', 'finish_reason': 'stop', 'logprobs': None} id='run-a2c4c481-cc1d-4879-b03a-3a5385294257-0' usage_metadata={'input_tokens': 37, 'output_tokens': 486, 'total_tokens': 523}\n"
     ]
    }
   ],
   "source": [
    "config={\"configurable\":{\"session_id\":\"chat_financial\"}}\n",
    "response=with_message_history.invoke(\n",
    "    [HumanMessage(content=\"Hi My name is Rahul,suggest me some saving idea by investing stock,I have 2000 dollar ,I live in USA\")],\n",
    "    config=config\n",
    ")\n",
    "print(response)"
   ]
  },
  {
   "cell_type": "code",
   "execution_count": 26,
   "id": "fbbc2f13",
   "metadata": {},
   "outputs": [
    {
     "name": "stdout",
     "output_type": "stream",
     "text": [
      "content='You mentioned you have $2,000 to invest.  \\n\\nIs there anything else I can help you with regarding your investment plan?\\n' additional_kwargs={} response_metadata={'token_usage': {'completion_tokens': 32, 'prompt_tokens': 617, 'total_tokens': 649, 'completion_time': 0.058181818, 'prompt_time': 0.0223139, 'queue_time': 0.159114804, 'total_time': 0.080495718}, 'model_name': 'Gemma2-9b-It', 'system_fingerprint': 'fp_10c08bf97d', 'finish_reason': 'stop', 'logprobs': None} id='run-97dd66b8-82c4-4024-b872-6edbd46d2ded-0' usage_metadata={'input_tokens': 617, 'output_tokens': 32, 'total_tokens': 649}\n"
     ]
    }
   ],
   "source": [
    "response=with_message_history.invoke(\n",
    "    [HumanMessage(content=\"how much money I have?\")],\n",
    "    config=config\n",
    ")\n",
    "print(response)"
   ]
  },
  {
   "cell_type": "markdown",
   "id": "fa87ce26",
   "metadata": {},
   "source": [
    "# Add more complexity"
   ]
  },
  {
   "cell_type": "code",
   "execution_count": 28,
   "id": "9e8e1852",
   "metadata": {},
   "outputs": [],
   "source": [
    "prompt=ChatPromptTemplate.from_messages(\n",
    "    [\n",
    "    (\"system\",\"You are an financial experet .Answer all the question to best of your ability in {language}\"),\n",
    "    MessagesPlaceholder(variable_name=\"messages\")\n",
    "    ]\n",
    "\n",
    ")\n",
    "chain=prompt|model"
   ]
  },
  {
   "cell_type": "code",
   "execution_count": 29,
   "id": "b8d7485d",
   "metadata": {},
   "outputs": [],
   "source": [
    "response=chain.invoke({\"messages\":[HumanMessage(content=\"Hi My name is Rahul,Is Nvidia good to invest for longer term \")],\"language\":\"Hindi\"})"
   ]
  },
  {
   "cell_type": "code",
   "execution_count": 30,
   "id": "ca72a6f9",
   "metadata": {},
   "outputs": [
    {
     "name": "stdout",
     "output_type": "stream",
     "text": [
      "content='नमस्ते राहुल!\\n\\nनवोडा (Nvidia) एक बहुत ही लोकप्रिय और तेजी से बढ़ती कंपनी है।  उनके ग्राफिक्स कार्ड और AI (कृत्रिम बुद्धिमत्ता) सॉल्यूशंस बहुत मांग में हैं।  \\n\\n**लंबी अवधि के निवेश के लिए नवोडा में निवेश करने के कुछ फायदे:**\\n\\n* **तेजी से बढ़ता बाजार:**  Gaming, Data Center, AI और ऑटोमोबाइल जैसे क्षेत्रों में नवोडा का बाजार बहुत तेजी से बढ़ रहा है। \\n* **नवाचार:** नवोडा लगातार नए उत्पाद और तकनीक विकसित कर रहा है, जो भविष्य में भी उन्हें प्रतिस्पर्धी रखेगा। \\n* **मजबूत वित्तीय स्थिति:** नवोडा की वित्तीय स्थिति मजबूत है और उन्हें निवेश के लिए पर्याप्त संसाधन हैं।\\n\\n**हालांकि, कुछ जोखिम भी हैं:**\\n\\n* **प्रतिस्पर्धा:**  नवोडा के प्रतिस्पर्धियों की संख्या बढ़ रही है, जो उन्हें चुनौती दे सकती है। \\n* **आर्थिक मंदी:**  अगर वैश्विक अर्थव्यवस्था मंदी में जाती है, तो नवोडा की बिक्री और लाभ प्रभावित हो सकते हैं। \\n* **तकनीकी जोखिम:**  नए उत्पादों और तकनीकों के विकास में जोखिम हमेशा रहता है।  \\n\\n**निष्कर्ष:**\\n\\nनवोडा लंबी अवधि के निवेश के लिए एक आकर्षक विकल्प हो सकता है, लेकिन निवेश करने से पहले आपको जोखिमों को ध्यान में रखना चाहिए।  अपने निवेश पोर्टफोलियो में विविधता बनाए रखना भी महत्वपूर्ण है।  \\n\\n**मैं एक आर्थिक सलाहकार नहीं हूँ, इसलिए यह सलाह केवल सूचना के लिए है।  कोई भी निवेश निर्णय लेने से पहले किसी वित्तीय सलाहकार से परामर्श करें।** \\n' additional_kwargs={} response_metadata={'token_usage': {'completion_tokens': 473, 'prompt_tokens': 42, 'total_tokens': 515, 'completion_time': 0.86, 'prompt_time': 0.002611585, 'queue_time': 0.156912709, 'total_time': 0.862611585}, 'model_name': 'Gemma2-9b-It', 'system_fingerprint': 'fp_10c08bf97d', 'finish_reason': 'stop', 'logprobs': None} id='run-6c9a0327-ded8-4056-a948-853d178fefce-0' usage_metadata={'input_tokens': 42, 'output_tokens': 473, 'total_tokens': 515}\n"
     ]
    }
   ],
   "source": [
    "print(response)"
   ]
  },
  {
   "cell_type": "code",
   "execution_count": null,
   "id": "7365658e",
   "metadata": {},
   "outputs": [],
   "source": []
  },
  {
   "cell_type": "code",
   "execution_count": null,
   "id": "5a430a77",
   "metadata": {},
   "outputs": [],
   "source": []
  },
  {
   "cell_type": "code",
   "execution_count": null,
   "id": "ff9f0d6a",
   "metadata": {},
   "outputs": [],
   "source": []
  },
  {
   "cell_type": "code",
   "execution_count": 31,
   "id": "62dc404f",
   "metadata": {},
   "outputs": [],
   "source": [
    "with_message_history=RunnableWithMessageHistory(\n",
    "    chain,\n",
    "    get_session_history,\n",
    "    input_messages_key=\"messages\"\n",
    ")"
   ]
  },
  {
   "cell_type": "code",
   "execution_count": 33,
   "id": "cc2be49a",
   "metadata": {},
   "outputs": [
    {
     "data": {
      "text/plain": [
       "'¡Hola Rahul! \\n\\nNvidia es una compañía muy fuerte que lidera en áreas en crecimiento como la inteligencia artificial (IA), videojuegos y centros de datos. Invertir en Nvidia a largo plazo podría ser una buena opción.\\n\\n**Aquí hay algunas razones por las que Nvidia puede ser una buena inversión a largo plazo:**\\n\\n* **Crecimiento constante:** La IA, el aprendizaje automático y el análisis de datos están creciendo rápidamente, y Nvidia juega un papel importante en estos campos.\\n* **Líder tecnológico:** Nvidia se mantiene a la vanguardia en el desarrollo de procesadores gráficos y chips de IA.\\n* **Sólida rentabilidad:** La compañía ha experimentado un crecimiento constante en sus ingresos en los últimos años.\\n* **Buena posición financiera:** Nvidia tiene una posición financiera sólida y puede invertir en nuevas tecnologías.\\n\\n**Sin embargo, también existen algunos riesgos a considerar:**\\n\\n* **Competencia:** Nvidia tiene competidores importantes como AMD e Intel.\\n* **Volatilidad del mercado:** El sector tecnológico puede ser volátil, y el precio de las acciones de Nvidia puede fluctuar.\\n* **Condiciones económicas:** Un declive económico podría afectar los ingresos de Nvidia.\\n\\n**En resumen:**\\n\\nNvidia puede ser una buena inversión a largo plazo, pero es importante evaluar su tolerancia al riesgo y sus objetivos de inversión. \\n\\n**Como no soy un asesor financiero, te recomiendo que consultes con un profesional antes de tomar cualquier decisión de inversión.**\\n\\n¡Espero que esta información te sea útil! \\n'"
      ]
     },
     "execution_count": 33,
     "metadata": {},
     "output_type": "execute_result"
    }
   ],
   "source": [
    "config = {\"configurable\": {\"session_id\": \"chat4\"}}\n",
    "repsonse=with_message_history.invoke(\n",
    "    {'messages': [HumanMessage(content=\"Hi My name is Rahul,Is Nvidia good to invest for longer term\")],\"language\":\"Spanish\"},\n",
    "    config=config\n",
    ")\n",
    "repsonse.content"
   ]
  },
  {
   "cell_type": "markdown",
   "id": "ec2d239a",
   "metadata": {},
   "source": [
    "# Managing the Conversation History\n",
    "\n",
    "One important concept to understand when building chatbots is how to manage conversation history. If left unmanaged, the list of messages will grow unbounded and potentially overflow the context window of the LLM. Therefore, it is important to add a step that limits the size of the messages you are passing in.\n",
    "'trim_messages' helper to reduce how many messages we're sending to the model. The trimmer allows us to specify how many tokens we want to keep, along with other parameters like if we want to always keep the system message and whether to allow partial messages"
   ]
  },
  {
   "cell_type": "code",
   "execution_count": 34,
   "id": "7623192a",
   "metadata": {},
   "outputs": [
    {
     "data": {
      "text/plain": [
       "[SystemMessage(content=\"you're a good financial assistant\", additional_kwargs={}, response_metadata={}),\n",
       " HumanMessage(content=\"hi! I'm bob\", additional_kwargs={}, response_metadata={}),\n",
       " AIMessage(content='hi!', additional_kwargs={}, response_metadata={}),\n",
       " HumanMessage(content='I like stock investing like Nvidia', additional_kwargs={}, response_metadata={}),\n",
       " AIMessage(content='nice', additional_kwargs={}, response_metadata={}),\n",
       " HumanMessage(content='whats is current stock price', additional_kwargs={}, response_metadata={}),\n",
       " AIMessage(content='$150', additional_kwargs={}, response_metadata={}),\n",
       " HumanMessage(content='thanks', additional_kwargs={}, response_metadata={}),\n",
       " AIMessage(content='no problem!', additional_kwargs={}, response_metadata={}),\n",
       " HumanMessage(content='Did you gain profit?', additional_kwargs={}, response_metadata={}),\n",
       " AIMessage(content='yes!', additional_kwargs={}, response_metadata={})]"
      ]
     },
     "execution_count": 34,
     "metadata": {},
     "output_type": "execute_result"
    }
   ],
   "source": [
    "from langchain_core.messages import SystemMessage,trim_messages\n",
    "trimmer=trim_messages(\n",
    "    max_tokens=70,\n",
    "    strategy=\"last\",\n",
    "    token_counter=model,\n",
    "    include_system=True,\n",
    "    allow_partial=False,\n",
    "    start_on=\"human\"\n",
    ")\n",
    "messages = [\n",
    "    SystemMessage(content=\"you're a good financial assistant\"),\n",
    "    HumanMessage(content=\"hi! I'm bob\"),\n",
    "    AIMessage(content=\"hi!\"),\n",
    "    HumanMessage(content=\"I like stock investing like Nvidia\"),\n",
    "    AIMessage(content=\"nice\"),\n",
    "    HumanMessage(content=\"whats is current stock price\"),\n",
    "    AIMessage(content=\"$150\"),\n",
    "    HumanMessage(content=\"thanks\"),\n",
    "    AIMessage(content=\"no problem!\"),\n",
    "    HumanMessage(content=\"Did you gain profit?\"),\n",
    "    AIMessage(content=\"yes!\"),\n",
    "]\n",
    "trimmer.invoke(messages)"
   ]
  },
  {
   "cell_type": "code",
   "execution_count": 36,
   "id": "d79e0dbc",
   "metadata": {},
   "outputs": [
    {
     "name": "stdout",
     "output_type": "stream",
     "text": [
      "Apple is generally considered a strong investment, but like any stock, it has its pros and cons. \n",
      "\n",
      "**Here are some points to consider:**\n",
      "\n",
      "**Pros:**\n",
      "\n",
      "* **Strong Brand and Loyal Customer Base:** Apple has a very recognizable brand and a loyal customer base that is willing to pay a premium for its products.\n",
      "* **Innovative Products:** Apple is known for its innovative products, such as the iPhone, iPad, and Mac computers. These products are often at the forefront of technological advancements.\n",
      "* **Large and Growing Ecosystem:** Apple has a large and growing ecosystem of products and services, which creates a network effect that benefits the company.\n",
      "* **Strong Financial Performance:** Apple is a very profitable company with a strong balance sheet.\n",
      "\n",
      "**Cons:**\n",
      "\n",
      "* **High Valuation:** Apple's stock is currently trading at a relatively high valuation, which may make it less attractive to some investors.\n",
      "* **Competition:** Apple faces competition from other tech giants, such as Samsung and Google.\n",
      "* **Dependence on iPhone Sales:** A significant portion of Apple's revenue comes from iPhone sales, which can be cyclical.\n",
      "* **Economic Sensitivity:** Apple's sales can be affected by economic downturns.\n",
      "\n",
      "**Overall:**\n",
      "\n",
      "Apple is a well-established company with a strong track record of success. Its innovative products, loyal customer base, and strong financial performance make it a potentially attractive investment. However, its high valuation and dependence on iPhone sales are risks to consider.\n",
      "\n",
      "**Disclaimer:** I am an AI chatbot and cannot provide financial advice. It's important to conduct your own research and consult with a financial advisor before making any investment decisions.\n",
      "\n"
     ]
    }
   ],
   "source": [
    "from operator import itemgetter\n",
    "\n",
    "from langchain_core.runnables import RunnablePassthrough\n",
    "\n",
    "chain=(\n",
    "    RunnablePassthrough.assign(messages=itemgetter(\"messages\")|trimmer)\n",
    "    |prompt|model\n",
    ")\n",
    "\n",
    "response=chain.invoke(\n",
    "    {\n",
    "        \"messages\":messages+[HumanMessage(content=\" Is Apple company good to invest?\")],\n",
    "        \"language\":\"English\"\n",
    "    }\n",
    ")\n",
    "print(response.content)"
   ]
  },
  {
   "cell_type": "code",
   "execution_count": 37,
   "id": "a7c1038f",
   "metadata": {},
   "outputs": [
    {
     "name": "stdout",
     "output_type": "stream",
     "text": [
      "Google (Alphabet Inc.) is generally considered a solid investment by many financial experts. \n",
      "\n",
      "Here are some reasons why:\n",
      "\n",
      "* **Dominant Market Share:** Google holds a dominant position in search, online advertising, cloud computing, and mobile operating systems.\n",
      "* **Strong Financials:** Alphabet has a history of strong revenue and earnings growth.\n",
      "* **Innovation:** Google is known for its constant innovation and development of new products and services.\n",
      "* **Diversified Revenue Streams:** Alphabet's revenue comes from a variety of sources, including advertising, cloud computing, hardware, and subscriptions. This diversification can help protect against market downturns.\n",
      "\n",
      "**However, like any investment, there are also some risks to consider:**\n",
      "\n",
      "* **Competition:** Google faces competition from other tech giants like Microsoft, Amazon, and Apple.\n",
      "* **Regulation:** Google is subject to increasing regulatory scrutiny, which could impact its business.\n",
      "* **Valuation:** Google's stock price is currently quite high, which means there is a risk of a correction.\n",
      "\n",
      "**Overall:**\n",
      "\n",
      "Investing in Google can be a good option for long-term investors who are comfortable with some risk. It's important to do your own research and consider your own financial situation before making any investment decisions.\n",
      "\n",
      "**Remember:** I am not a financial advisor. This information is for general knowledge purposes only and should not be considered investment advice.  It's always best to consult with a qualified financial professional before making any investment decisions.\n",
      "\n"
     ]
    }
   ],
   "source": [
    "response=chain.invoke(\n",
    "    {\n",
    "        \"messages\":messages+[HumanMessage(content=\" Is Google company good to invest?\")],\n",
    "        \"language\":\"English\"\n",
    "    }\n",
    ")\n",
    "print(response.content)"
   ]
  },
  {
   "cell_type": "code",
   "execution_count": 38,
   "id": "8a9e37d0",
   "metadata": {},
   "outputs": [
    {
     "name": "stdout",
     "output_type": "stream",
     "text": [
      "Your name is Bob! 😊  I remember from our earlier conversation.  \n",
      "\n",
      "Is there anything else I can help you with regarding Nvidia or your investments?\n",
      "\n"
     ]
    }
   ],
   "source": [
    "response=chain.invoke(\n",
    "    {\n",
    "        \"messages\":messages+[HumanMessage(content=\"What is my name?\")],\n",
    "        \"language\":\"English\"\n",
    "    }\n",
    ")\n",
    "print(response.content)"
   ]
  },
  {
   "cell_type": "code",
   "execution_count": null,
   "id": "84cafd64",
   "metadata": {},
   "outputs": [],
   "source": [
    "response=chain.invoke(\n",
    "    {\n",
    "        \"messages\":messages+[HumanMessage(content=\"What is my name?\")],\n",
    "        \"language\":\"English\"\n",
    "    }\n",
    ")\n",
    "print(response.content)"
   ]
  },
  {
   "cell_type": "code",
   "execution_count": null,
   "id": "d905e95d",
   "metadata": {},
   "outputs": [],
   "source": []
  },
  {
   "cell_type": "code",
   "execution_count": 39,
   "id": "22d92008",
   "metadata": {},
   "outputs": [
    {
     "name": "stdout",
     "output_type": "stream",
     "text": [
      "Samsung is a generally well-regarded company, a global leader in electronics. \n",
      "\n",
      "**Here are some factors to consider when thinking about investing in Samsung:**\n",
      "\n",
      "**Pros:**\n",
      "\n",
      "* **Strong Brand Recognition:** Samsung is a household name with a reputation for quality products.\n",
      "* **Diversified Business:** Samsung operates in a variety of sectors, including smartphones, TVs, home appliances, semiconductors, and more. This diversification can provide some protection against downturns in any single market.\n",
      "* **Innovation:** Samsung is known for its investment in research and development, which helps it stay competitive.\n",
      "* **Financially Sound:** Samsung is a large, profitable company with a solid financial track record.\n",
      "\n",
      "**Cons:**\n",
      "\n",
      "* **Competition:** Samsung faces intense competition from companies like Apple, Huawei, and Xiaomi in many of its markets.\n",
      "* **Economic Sensitivity:** Samsung's business can be affected by global economic conditions, particularly in areas like consumer spending.\n",
      "* **Geopolitical Risks:** Samsung operates in several countries, which exposes it to geopolitical risks.\n",
      "\n",
      "**Overall:**\n",
      "\n",
      "Samsung can be a good investment for long-term investors who are willing to accept some risk. However, it's important to do your own research and consider your investment goals and risk tolerance before making any decisions.\n",
      "\n",
      "**Remember:** I am an AI and cannot give financial advice. Consulting a financial advisor is always recommended before making any investment decisions.\n",
      "\n"
     ]
    }
   ],
   "source": [
    "response=chain.invoke(\n",
    "    {\n",
    "        \"messages\":messages+[HumanMessage(content=\" Is Samsung company good to invest?\")],\n",
    "        \"language\":\"English\"\n",
    "    }\n",
    ")\n",
    "print(response.content)"
   ]
  },
  {
   "cell_type": "code",
   "execution_count": null,
   "id": "f5badeee",
   "metadata": {},
   "outputs": [
    {
     "name": "stdout",
     "output_type": "stream",
     "text": [
      "Microsoft is generally considered a strong and stable investment. \n",
      "\n",
      "Here's why:\n",
      "\n",
      "* **Strong Financial Performance:** Microsoft has a history of consistent revenue and profit growth.\n",
      "* **Diversified Business:** Microsoft has a wide range of products and services, including cloud computing (Azure), software (Office 365), gaming (Xbox), and hardware (Surface). This diversification helps to mitigate risk.\n",
      "* **Market Leader:** Microsoft is a leader in many of its key markets, giving it a competitive advantage.\n",
      "* **Innovation:** Microsoft is constantly investing in research and development, which helps to drive future growth.\n",
      "\n",
      "**However, like any investment, there are also some potential risks to consider:**\n",
      "\n",
      "* **Competition:** Microsoft faces competition from other tech giants like Apple, Amazon, and Google.\n",
      "* **Economic Slowdown:** A global economic downturn could negatively impact Microsoft's sales.\n",
      "* **Regulatory Scrutiny:** Microsoft is a large and influential company, and it may face increased regulatory scrutiny in the future.\n",
      "\n",
      "**Overall, Microsoft is a solid investment option, but it's important to do your own research and consider your own investment goals and risk tolerance before making a decision.**\n",
      "\n",
      "\n",
      "Do you have any other questions about Microsoft or other companies you're interested in?\n",
      "\n"
     ]
    }
   ],
   "source": [
    "response=chain.invoke(\n",
    "    {\n",
    "        \"messages\":messages+[HumanMessage(content=\" Which company I like to invest?\")],\n",
    "        \"language\":\"English\"\n",
    "    }\n",
    ")\n",
    "print(response.content)"
   ]
  },
  {
   "cell_type": "code",
   "execution_count": null,
   "id": "b1767720",
   "metadata": {},
   "outputs": [],
   "source": []
  },
  {
   "cell_type": "code",
   "execution_count": 43,
   "id": "e1a7f015",
   "metadata": {},
   "outputs": [
    {
     "name": "stdout",
     "output_type": "stream",
     "text": [
      "As an AI, I can't provide financial advice, and it would be irresponsible of me to tell you whether or not to invest in any particular company, including LinkedIn. \n",
      "\n",
      "However, I can give you some factors to consider when making your own investment decisions:\n",
      "\n",
      "* **LinkedIn's Business Model:** LinkedIn is a leading professional networking platform. Consider their revenue streams (subscriptions, advertising), growth potential in different markets, and competition from other platforms.\n",
      "* **Financial Performance:** Look at their past earnings reports, revenue growth, profitability, and cash flow. This can give you an idea of their financial health.\n",
      "* **Industry Trends:** The social media and professional networking landscape is constantly evolving. Research how LinkedIn is adapting to changes in user behavior and emerging technologies.\n",
      "* **Valuation:** Compare LinkedIn's stock price to its earnings, growth prospects, and industry peers to see if it's fairly valued.\n",
      "* **Your Investment Goals and Risk Tolerance:**  Are you looking for long-term growth or short-term gains? How much risk are you comfortable taking? LinkedIn's stock price can be volatile, so consider your overall investment strategy.\n",
      "\n",
      "**Remember:**\n",
      "\n",
      "* **Do your own research:** Don't rely solely on my information. Gather data from multiple sources and consult with a qualified financial advisor.\n",
      "* **Diversify your portfolio:** Don't put all your eggs in one basket. Spread your investments across different asset classes and companies to reduce risk.\n",
      "* **Invest for the long term:**  The stock market goes up and down in the short term. Focus on companies with strong fundamentals and a long-term growth potential.\n",
      "\n",
      "\n",
      "Good luck with your investing!\n",
      "\n"
     ]
    }
   ],
   "source": [
    "response=chain.invoke(\n",
    "    {\n",
    "        \"messages\":messages+[HumanMessage(content=\" Is Linkedin company good to invest?\")],\n",
    "        \"language\":\"English\"\n",
    "    }\n",
    ")\n",
    "print(response.content)"
   ]
  },
  {
   "cell_type": "code",
   "execution_count": 44,
   "id": "65086951",
   "metadata": {},
   "outputs": [
    {
     "name": "stdout",
     "output_type": "stream",
     "text": [
      "I'm an AI, so I can't give financial advice, and it wouldn't be ethical for me to say whether LinkedIn is a good investment or not. \n",
      "\n",
      "That said, here are some factors to consider when researching any stock, including LinkedIn (LNKD):\n",
      "\n",
      "* **Company Performance:**\n",
      "    * Revenue growth\n",
      "    * Profitability\n",
      "    * User growth and engagement\n",
      "    * Market share\n",
      "* **Industry Trends:**\n",
      "    * Is the social media and professional networking industry growing or shrinking?\n",
      "    * What are the competitive threats?\n",
      "* **Financial Health:**\n",
      "    * Debt levels\n",
      "    * Cash flow\n",
      "    * Dividend history\n",
      "* **Valuation:**\n",
      "    * Price-to-earnings ratio (P/E)\n",
      "    * Price-to-sales ratio (P/S)\n",
      "    * Other relevant valuation metrics\n",
      "\n",
      "**Where to Find Information:**\n",
      "\n",
      "* **Company Website:** LinkedIn's investor relations page will have financial statements, presentations, and news releases.\n",
      "* **Financial News Sites:** Websites like Yahoo Finance, Google Finance, and Bloomberg provide stock quotes, news, and analysis.\n",
      "* **Securities and Exchange Commission (SEC) Filings:** Public companies are required to file reports with the SEC, which are available for free on the SEC's website.\n",
      "\n",
      "**Remember:**\n",
      "\n",
      "* **Do your own research:** Don't rely solely on my or anyone else's opinions.\n",
      "* **Consider your risk tolerance:**  Stock investing involves risk. Only invest money you can afford to lose.\n",
      "* **Diversify your portfolio:** Don't put all your eggs in one basket.\n",
      "\n",
      "\n",
      "It's always a good idea to consult with a qualified financial advisor before making any investment decisions.\n",
      "\n"
     ]
    }
   ],
   "source": [
    "response=chain.invoke(\n",
    "    {\n",
    "        \"messages\":messages+[HumanMessage(content=\" Is Linkedin company good to invest?\")],\n",
    "        \"language\":\"English\"\n",
    "    }\n",
    ")\n",
    "print(response.content)"
   ]
  },
  {
   "cell_type": "code",
   "execution_count": 45,
   "id": "9140bf03",
   "metadata": {},
   "outputs": [
    {
     "name": "stdout",
     "output_type": "stream",
     "text": [
      "As an AI, I can't give financial advice, and it's important to do your own research before investing. \n",
      "\n",
      "That said, I can tell you about some popular companies and industries that investors are interested in right now:\n",
      "\n",
      "* **Technology:** Companies like Nvidia are doing well, but there are also many other players in AI, cloud computing, and cybersecurity.\n",
      "* **Renewable Energy:**  With growing concerns about climate change, companies involved in solar, wind, and battery technology are attracting investment.\n",
      "* **Healthcare:**  An aging population and advances in medical technology are driving growth in this sector.\n",
      "\n",
      "**Before you invest, consider:**\n",
      "\n",
      "* **Your financial goals:** What are you hoping to achieve with your investments?\n",
      "* **Your risk tolerance:** How much risk are you comfortable taking on?\n",
      "* **Your investment timeline:** How long do you plan to hold your investments?\n",
      "\n",
      "It's always a good idea to talk to a financial advisor who can help you create an investment strategy that meets your individual needs.\n",
      "\n"
     ]
    }
   ],
   "source": [
    "response=chain.invoke(\n",
    "    {\n",
    "        \"messages\":messages+[HumanMessage(content=\" Which company I like to invest?\")],\n",
    "        \"language\":\"English\"\n",
    "    }\n",
    ")\n",
    "print(response.content)"
   ]
  },
  {
   "cell_type": "markdown",
   "id": "ef5cbefd",
   "metadata": {},
   "source": []
  }
 ],
 "metadata": {
  "kernelspec": {
   "display_name": "venv",
   "language": "python",
   "name": "python3"
  },
  "language_info": {
   "codemirror_mode": {
    "name": "ipython",
    "version": 3
   },
   "file_extension": ".py",
   "mimetype": "text/x-python",
   "name": "python",
   "nbconvert_exporter": "python",
   "pygments_lexer": "ipython3",
   "version": "3.12.7"
  }
 },
 "nbformat": 4,
 "nbformat_minor": 5
}

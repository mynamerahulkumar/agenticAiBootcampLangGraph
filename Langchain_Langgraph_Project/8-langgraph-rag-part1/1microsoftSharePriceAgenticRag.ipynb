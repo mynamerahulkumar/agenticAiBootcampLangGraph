{
 "cells": [
  {
   "cell_type": "code",
   "execution_count": 1,
   "id": "7e5372f4",
   "metadata": {},
   "outputs": [],
   "source": [
    "import os\n",
    "from dotenv import load_dotenv\n",
    "load_dotenv() ## aloading all the environment variable\n",
    "\n",
    "os.environ[\"GROQ_API_KEY\"]=os.getenv(\"GROQ_API_KEY\")\n",
    "os.environ[\"OPENAI_API_KEY\"]=os.getenv(\"OPENAI_API_KEY\")"
   ]
  },
  {
   "cell_type": "code",
   "execution_count": 2,
   "id": "85e98ddb",
   "metadata": {},
   "outputs": [
    {
     "name": "stderr",
     "output_type": "stream",
     "text": [
      "USER_AGENT environment variable not set, consider setting it to identify your requests.\n"
     ]
    },
    {
     "data": {
      "text/plain": [
       "[[Document(metadata={'source': 'https://www.microsoft.com/investor/reports/ar24/index.html/'}, page_content='The resource you are looking for has been removed, had its name changed, or is temporarily unavailable.')],\n",
       " [Document(metadata={'source': 'https://www.microsoft.com/en-us/investor/earnings/fy-2024-q4/segment-revenues/', 'title': 'FY24 Q4 - Segment Revenue and Operating Income - Investor Relations - Microsoft', 'language': 'en-US'}, page_content=\"\\n\\n\\n\\n\\n\\n\\n\\n\\n\\n\\n\\n\\n\\n\\n\\n\\n\\n\\n\\n\\n\\n\\n\\n\\n\\n\\n\\n\\n\\n\\n\\n\\n\\n\\n\\n\\n\\n\\n\\n\\n\\n\\n\\n\\n\\n\\n\\n\\n\\n\\n\\n\\n\\n\\n\\n\\n\\n\\n\\nFY24 Q4 - Segment Revenue and Operating Income - Investor Relations - Microsoft\\n\\n\\n\\n\\n\\n\\n\\n\\n\\n\\n\\n\\n\\n\\n\\n\\n\\n\\n\\n\\n\\n\\n\\n\\n\\n\\n\\n\\t\\t\\t\\n\\n\\t\\t\\n\\t\\t\\n\\t\\t\\t\\tThis is the Trace Id: 3881e16e28d4026f7147a8b76cb16bf8\\n\\t\\t\\t\\t\\n\\n\\n\\n\\n\\n\\n\\n\\n\\n\\n\\n\\n\\n \\n\\n\\n\\n\\n\\n\\n\\n\\n\\n\\n\\n\\n\\n\\n\\n\\n\\n\\n\\n\\n\\n\\n\\n\\nSkip to main content\\n\\n\\n\\n\\n\\n\\n\\nMicrosoft\\n\\n\\n\\nInvestor Relations\\n\\n\\n\\n\\nInvestor Relations\\n\\n\\n\\n\\n                            Investor Relations\\n                        \\n\\n\\n\\n\\n Home \\n\\n\\n\\nInvestor Relations\\n\\n\\nHome\\n\\n\\nCompany Information\\n\\n\\nBoard & ESG\\n\\n\\nAnnual Reports\\n\\n\\nSEC Filings\\n\\n\\nEvents\\n\\n\\nInvestor Information\\n\\n\\nContacts\\n\\n\\n\\n \\n\\nEarnings Releases\\n\\n\\nPress Release & Webcast\\n\\n\\nFinancial Statements\\nFinancial Statements\\n\\n\\nIncome Statements\\n\\n\\nComprehensive Income\\n\\n\\nBalance Sheets\\n\\n\\nCash Flows\\n\\n\\nSegment Revenue & Operating Income\\n\\n\\n\\n\\nPerformance\\n\\n\\nMetrics\\n\\n\\nSegment Results\\nSegment Results\\n\\n\\nProductivity and Business Processes\\n\\n\\nIntelligent Cloud\\n\\n\\nMore Personal Computing\\n\\n\\n\\n\\n\\n \\n\\nFinancial Statements\\n\\n\\nIncome Statements\\n\\n\\nComprehensive Income\\n\\n\\nBalance Sheets\\n\\n\\nCash Flows\\n\\n\\nSegment Revenue & Operating Income\\n\\n\\n\\n\\n\\n\\nMore\\n\\n\\n\\n\\n\\n\\n\\n \\n\\n\\n\\n All Microsoft\\n\\n\\nGlobal\\n\\n\\nMicrosoft 365\\n\\n\\nTeams\\n\\n\\nCopilot\\n\\n\\nWindows\\n\\n\\nSurface\\n\\n\\nXbox\\n\\n\\nDeals\\n\\n\\nSmall Business\\n\\n\\nSupport\\n\\n\\n\\n\\nSoftware\\nSoftware\\n\\n\\nWindows Apps\\n\\n\\nAI\\n\\n\\nOutlook\\n\\n\\nOneDrive\\n\\n\\nMicrosoft Teams\\n\\n\\nOneNote\\n\\n\\nMicrosoft Edge\\n\\n\\nSkype\\n\\n\\n\\n\\nPCs & Devices  \\nPCs & Devices  \\n\\n\\nComputers\\n\\n\\nShop Xbox\\n\\n\\nAccessories\\n\\n\\nVR & mixed reality\\n\\n\\nCertified Refurbished\\n\\n\\nTrade-in for cash\\n\\n\\n\\n\\nEntertainment\\nEntertainment\\n\\n\\nXbox Game Pass Ultimate\\n\\n\\nPC Game Pass\\n\\n\\nXbox games\\n\\n\\nPC and Windows games\\n\\n\\nMovies & TV\\n\\n\\n\\n\\nBusiness\\nBusiness\\n\\n\\nMicrosoft Cloud\\n\\n\\nMicrosoft Security\\n\\n\\nDynamics 365\\n\\n\\nMicrosoft 365 for business\\n\\n\\nMicrosoft Power Platform\\n\\n\\nWindows 365\\n\\n\\nMicrosoft Industry\\n\\n\\nSmall Business\\n\\n\\n\\n\\nDeveloper & IT  \\nDeveloper & IT  \\n\\n\\nAzure\\n\\n\\nMicrosoft Developer\\n\\n\\nMicrosoft Learn\\n\\n\\nSupport for AI marketplace apps\\n\\n\\nMicrosoft Tech Community\\n\\n\\nAzure Marketplace\\n\\n\\nAppSource\\n\\n\\nVisual Studio\\n\\n\\n\\n\\nOther\\nOther\\n\\n\\nMicrosoft Rewards \\n\\n\\nFree downloads & security\\n\\n\\nEducation\\n\\n\\nGift cards\\n\\n\\nLicensing\\n\\n\\nUnlocked stories\\n\\n\\n\\n\\nView Sitemap\\n\\n\\n\\n\\n\\n\\n\\n\\n\\n\\nSearch\\nSearch Microsoft.com\\n\\n\\n\\n\\n No results\\n\\n\\n\\n\\nCancel\\n\\n\\n\\n\\n\\n\\n\\n\\n\\n\\n\\n\\n\\n\\n\\n\\n\\n\\n\\n\\n\\n\\n\\n\\n\\n\\n\\n\\nEarnings Release FY24 Q4\\n\\n\\n\\n\\n\\n\\n\\n\\n                Income Statements\\n                    \\n\\n\\n\\n\\n                Comprehensive Income\\n                    \\n\\n\\n\\n\\n                Balance Sheets\\n                    \\n\\n\\n\\n\\n                Cash Flows\\n                    \\n\\n\\n\\n\\nSegment Revenue & Operating Income\\n\\n\\n\\n\\n\\n\\n\\n\\n\\n\\n\\n\\n\\n\\n\\n\\n\\n\\n\\n\\n\\n\\nSegment Revenue and Operating Income\\n\\n\\n\\n\\n\\n\\r\\n  (In millions) \\n\\n\\n\\nYear Ended June 30,\\n\\n\\n\\n\\n2024\\n\\n\\n2023\\n\\n\\n2022\\n\\n\\n\\n\\n\\n\\nElementName\\n\\nRevenue\\n\\n\\n\\n\\n\\n\\n\\nus-gaap:RevenueFromContractWithCustomerExcludingAssessedTaxmsft:ProductivityAndBusinessProcessesMember\\n\\n\\nProductivity and Business Processes\\n\\n\\n\\n\\n\\n$\\n77,728\\n\\n\\n\\n\\n\\n\\n$\\n69,274\\n\\n\\n\\n\\n\\n$\\n63,364\\n\\n\\n\\n\\n\\n\\nus-gaap:RevenueFromContractWithCustomerExcludingAssessedTaxmsft:IntelligentCloudMember\\n\\n\\nIntelligent Cloud\\n\\n\\n\\n\\n\\n\\n105,362\\n\\n\\n\\n\\n\\n\\n\\n87,907\\n\\n\\n\\n\\n\\n\\n74,965\\n\\n\\n\\n\\n\\n\\nus-gaap:RevenueFromContractWithCustomerExcludingAssessedTaxmsft:MorePersonalComputingMember\\n\\n\\nMore Personal Computing\\n\\n\\n\\n\\n\\n\\n62,032\\n\\n\\n\\n\\n\\n\\n\\n54,734\\n\\n\\n\\n\\n\\n\\n59,941\\n\\n\\n\\n\\n\\n\\nus-gaap:RevenueFromContractWithCustomerExcludingAssessedTax\\n\\nTotal\\n\\n\\n\\n\\n$\\n245,122\\n\\n\\n\\n\\n\\n\\n$\\n211,915\\n\\n\\n\\n\\n\\n$\\n198,270\\n\\n\\n\\n\\n\\nElementName\\n\\nOperating Income\\n\\n\\n\\n\\n\\n\\n\\nus-gaap:OperatingIncomeLossmsft:ProductivityAndBusinessProcessesMember\\n\\n\\nProductivity and Business Processes\\n\\n\\n\\n\\n\\n$\\n40,540\\n\\n\\n\\n\\n\\n\\n$\\n34,189\\n\\n\\n\\n\\n\\n$\\n29,690\\n\\n\\n\\n\\n\\n\\nus-gaap:OperatingIncomeLossmsft:IntelligentCloudMember\\n\\n\\nIntelligent Cloud\\n\\n\\n\\n\\n\\n\\n49,584\\n\\n\\n\\n\\n\\n\\n\\n37,884\\n\\n\\n\\n\\n\\n\\n33,203\\n\\n\\n\\n\\n\\n\\nus-gaap:OperatingIncomeLossmsft:MorePersonalComputingMember\\n\\n\\nMore Personal Computing\\n\\n\\n\\n\\n\\n\\n19,309\\n\\n\\n\\n\\n\\n\\n\\n16,450\\n\\n\\n\\n\\n\\n\\n20,490\\n\\n\\n\\n\\n\\n\\nus-gaap:OperatingIncomeLoss\\n\\nTotal\\n\\n\\n\\n\\n$\\n109,433\\n\\n\\n\\n\\n\\n\\n$\\n88,523\\n\\n\\n\\n\\n\\n$\\n83,383\\n\\n\\n\\n\\n\\n\\n\\n\\nIMPORTANT NOTICE TO USERS (summary only,\\r\\nclick here\\r\\n\\xa0for full text of notice);\\xa0All information is unaudited unless otherwise noted or accompanied by an audit opinion and\\r\\nis subject to the more comprehensive information contained in our SEC reports and filings. We do not endorse third-party\\r\\ninformation. All information speaks as of the last fiscal quarter or year for which we have filed a Form 10-K or 10-Q, or\\r\\nfor historical information the date or period expressly indicated in or with such information. We undertake no duty to update\\r\\nthe information. Forward-looking statements are subject to risks and uncertainties described in our\\xa0\\r\\nForms 10-Q and 10-K.\\n\\n\\n\\n\\n\\n\\n\\n\\n\\n\\n\\n\\n\\n\\nDownload Earnings Related Files\\nInformation contained in these documents is current as of the earnings date, and not restated for new accounting standards\\nEarnings Call Slides\\n        \\nEarnings Call Transcript\\n        \\nFinancial Statements\\n        \\nOutlook\\n        \\nPress Release\\n        \\n10K\\n        \\nFY24Q4 Product Release List\\n        \\n\\n            ASSET PACKAGE\\n            \\n\\n\\n\\n\\n\\n\\n\\n\\n\\n\\n\\n'max-age=0,s-maxage=900'\\n\\n\\n\\n                        $add_header('Cache-Control', $(xfMaxAgeHeaders))\\n                    \\n\\n\\n\\n\\n\\n\\n\\n\\n\\n\\n\\n\\nEarnings Release Pages\\nMetrics\\nPerformance\\nPress Release & Webcast\\nFinancial Statements\\nSegment Results\\nCustomer & Partner Highlights\\r\\n\\xa0\\n\\n\\n\\n\\n\\n\\n\\n\\n'max-age=0,s-maxage=900'\\n\\n\\n\\n                        $add_header('Cache-Control', $(xfMaxAgeHeaders))\\n                    \\n\\n\\n\\n\\n\\n\\n\\n\\n\\n\\n\\n\\r\\n Related Information\\nWebcast\\nSEC Filings\\nXBRL\\n\\n\\n\\n\\n\\n\\n\\n\\n\\n'max-age=0,s-maxage=900'\\n\\n\\n\\n                        $add_header('Cache-Control', $(xfMaxAgeHeaders))\\n                    \\n\\n\\n\\n\\n\\n\\n\\n\\n\\n\\n\\n\\n\\n\\n\\n\\n\\n\\n\\n\\n\\n\\n\\n\\n\\n\\n\\n\\n\\nMicrosoft Corp (MSFT)\\n\\n\\n\\n\\n\\n\\n\\n\\n\\n\\n\\n\\n\\n\\n\\n\\n\\n\\n\\n\\n\\r\\n2024 ANNUAL REPORT\\n\\nVIEW ONLINE\\xa0\\nDOWNLOAD NOW\\n\\xa0\\n\\n\\n\\n\\n\\n\\n\\n\\n\\n\\n\\n\\n'max-age=0,s-maxage=900'\\n\\n\\n\\n                        $add_header('Cache-Control', $(xfMaxAgeHeaders))\\n                    \\n\\n\\n\\n\\n\\n\\n\\n\\n\\n\\n\\n\\n\\n\\n\\n\\n\\n\\n\\n\\n\\n            Follow us\\n        \\n\\n\\n\\n\\n\\n\\n\\n\\n\\n\\n\\n\\n\\n\\n\\n\\n\\n\\n\\n\\n\\n\\n\\n\\n\\n\\n\\n\\n\\n\\n\\n            Share this page\\n        \\n\\n\\n\\n\\n\\n\\n\\n\\n\\n\\n\\n\\n\\n\\n\\n\\n\\n\\n\\n\\n\\n\\n\\n\\n\\n\\n\\n\\n\\n'max-age=0,s-maxage=900'\\n\\n\\n\\n                        $add_header('Cache-Control', $(xfMaxAgeHeaders))\\n                    \\n\\n\\n\\n\\n\\n\\n\\n\\n\\n\\n\\n\\n\\n\\n\\n\\n\\n\\nWhat's new\\n\\n\\nSurface Pro\\n\\n\\nSurface Laptop\\n\\n\\nSurface Laptop Studio 2\\n\\n\\nSurface Laptop Go 3\\n\\n\\nMicrosoft Copilot\\n\\n\\nAI in Windows\\n\\n\\nExplore Microsoft products\\n\\n\\nWindows 11 apps\\n\\n\\n\\n\\nMicrosoft Store\\n\\n\\nAccount profile\\n\\n\\nDownload Center\\n\\n\\nMicrosoft Store support\\n\\n\\nReturns\\n\\n\\nOrder tracking\\n\\n\\nCertified Refurbished\\n\\n\\nMicrosoft Store Promise\\n\\n\\nFlexible Payments\\n\\n\\n\\n\\nEducation\\n\\n\\nMicrosoft in education\\n\\n\\nDevices for education\\n\\n\\nMicrosoft Teams for Education\\n\\n\\nMicrosoft 365 Education\\n\\n\\nHow to buy for your school\\n\\n\\nEducator training and development\\n\\n\\nDeals for students and parents\\n\\n\\nAI for education\\n\\n\\n\\n\\n\\n\\nBusiness\\n\\n\\nMicrosoft Cloud\\n\\n\\nMicrosoft Security\\n\\n\\nDynamics 365\\n\\n\\nMicrosoft 365\\n\\n\\nMicrosoft Power Platform\\n\\n\\nMicrosoft Teams\\n\\n\\nMicrosoft 365 Copilot\\n\\n\\nSmall Business\\n\\n\\n\\n\\nDeveloper & IT\\n\\n\\nAzure\\n\\n\\nMicrosoft Developer\\n\\n\\nMicrosoft Learn\\n\\n\\nSupport for AI marketplace apps\\n\\n\\nMicrosoft Tech Community\\n\\n\\nAzure Marketplace\\n\\n\\nAppSource\\n\\n\\nVisual Studio\\n\\n\\n\\n\\nCompany\\n\\n\\nCareers\\n\\n\\nAbout Microsoft\\n\\n\\nCompany news\\n\\n\\nPrivacy at Microsoft\\n\\n\\nInvestors\\n\\n\\nDiversity and inclusion\\n\\n\\nAccessibility\\n\\n\\nSustainability\\n\\n\\n\\n\\n\\n\\nEnglish (United States)\\n\\n\\nYour Privacy Choices Opt-Out Icon\\n\\n\\n\\n\\n\\nYour Privacy Choices\\n\\n\\n\\n\\nYour Privacy Choices Opt-Out Icon\\n\\n\\n\\n\\n\\nYour Privacy Choices\\n\\n\\n\\nConsumer Health Privacy\\n\\n\\n\\n\\nSitemap\\n\\n\\nContact Microsoft\\n\\n\\nPrivacy \\n\\n\\nManage cookies\\n\\n\\nTerms of use\\n\\n\\nTrademarks\\n\\n\\nSafety & eco\\n\\n\\nRecycling\\n\\n\\nAbout our ads\\n\\n© Microsoft 2025\\n\\n\\n\\n\\n\\n\\n\\n\\n\\n\\n\\n\\n\\n\\n\\n\\n\\n\\n\\n\\n\\n\\n\\n\\n\\n\\n\\n\\n\\n\\n\\n\\n\\n\\n\\n\\n\")],\n",
       " [Document(metadata={'source': 'https://www.investopedia.com/how-microsoft-makes-money-4798809/', 'title': 'How Microsoft Makes Money', 'description': \"Microsoft's is committed to responsibly designed AI. Its Intelligent Cloud segment is growing fast and is the largest source of the company's revenue and profit.\", 'language': 'en'}, page_content='\\n\\n\\n\\n\\n\\n\\n\\n\\n\\n\\n\\n\\nHow Microsoft Makes Money\\n\\n\\n\\n\\n\\n\\n\\n\\n\\n\\n\\n\\n\\n\\n\\n\\n\\n\\n\\n\\n\\n\\n\\n\\n\\n\\n\\n\\n\\n\\n\\n\\n\\n\\n\\n\\n\\n\\n\\n\\n\\n\\n\\n\\n\\n\\n\\n\\n\\n\\n\\n \\n\\n \\n\\n \\n\\n \\n\\n \\n\\n \\n\\n \\n\\n \\n\\n \\n\\n \\n\\n \\n\\n \\n\\n \\n\\n \\n\\n \\n\\n \\n\\n \\n\\n \\n\\n \\n\\n \\n\\n \\n\\n \\n\\n \\n\\n \\n\\n \\n\\n \\n\\n \\n\\n\\n\\n\\n\\n\\n\\nSkip to content\\n\\n\\n\\n\\n\\n\\n\\n\\n\\n\\n\\n\\n\\n\\n\\n\\n \\n\\n\\n\\n\\n News\\n\\n\\n\\n Markets\\n \\n\\n Companies\\n \\n\\n Earnings\\n \\n\\n CD Rates\\n \\n\\n Mortgage Rates\\n \\n\\n Economy\\n \\n\\n Government\\n \\n\\n Crypto\\n \\n\\n Live Markets News\\n \\n\\n Personal Finance\\n \\n\\n View All\\n \\n\\n\\n\\n Investing\\n\\n\\n\\n Best Online Brokers\\n \\n\\n Best Stock Screeners\\n \\n\\n Best Robo Advisors\\n \\n\\n Best Investment Apps\\n \\n\\n Best Brokers for ETFs\\n \\n\\n Best Crypto Exchanges\\n \\n\\n Best Gold IRAs\\n \\n\\n Best IRAs\\n \\n\\n Best Bitcoin IRAs\\n \\n\\n View All\\n \\n\\n\\n\\n Banking\\n\\n\\n\\n Best CD Rates\\n \\n\\n Best High Yield Savings Accounts\\n \\n\\n Best 1 Year CD Rates\\n \\n\\n Best 6 Month CD Rates\\n \\n\\n Best Jumbo CD Rates\\n \\n\\n Best Money Market Accounts\\n \\n\\n Best 3 Month CD Rates\\n \\n\\n Best 18 Month CD Rates\\n \\n\\n Best Savings Account for Kids\\n \\n\\n View All\\n \\n\\n\\n\\n Personal Finance\\n\\n\\n\\n Best Savings Account Bonuses\\n \\n\\n Best Bank Account Bonuses\\n \\n\\n Best High Yield Checking Accounts\\n \\n\\n Best Tax Relief Companies\\n \\n\\n Best Debt Relief Companies\\n \\n\\n Best Small Business Bank Accounts\\n \\n\\n Best Cash Advance Apps\\n \\n\\n Best Credit Repair Companies\\n \\n\\n Best Credit Unions\\n \\n\\n View All\\n \\n\\n\\n\\n Loans\\n\\n\\n\\n Best Mortgage Rates\\n \\n\\n Best Auto Loan Rates\\n \\n\\n Best Personal Loans\\n \\n\\n Best Bad Credit Loans\\n \\n\\n Best Emergency Loans for Bad Credit\\n \\n\\n Best Debt Consolidation Loans\\n \\n\\n Best Personal Loans With No Fees\\n \\n\\n Best Auto Refinance Loans\\n \\n\\n Best HELOC Loans\\n \\n\\n View All\\n \\n\\n\\n\\n Insurance\\n\\n\\n\\n Best Affordable Health Insurance\\n \\n\\n Best Dental Insurance\\n \\n\\n Best Life Insurance\\n \\n\\n Best Small Business Insurance\\n \\n\\n Best Life Insurance for People Over 50\\n \\n\\n Best Universal Life Insurance\\n \\n\\n Best Dental Insurance for Implants\\n \\n\\n Best Health Insurance Companies\\n \\n\\n Best Disability Insurance\\n \\n\\n View All\\n \\n\\n\\n\\n Simulator\\n\\n\\n\\n Login / Portfolio\\n \\n\\n Trade\\n \\n\\n Research\\n \\n\\n My Games\\n \\n\\n Leaderboard\\n \\n\\n\\n\\n\\n\\n\\n\\nLive\\n\\n\\n \\n\\n\\n\\n\\n\\n\\nSearch\\n\\n\\nSearch\\n\\n\\n\\n\\n\\n\\n\\n\\n\\n\\n\\n \\n\\n\\n\\nPlease fill out this field.\\n\\n\\n\\n\\n\\n\\n\\n\\n\\n\\n \\n\\n\\n\\n\\n\\nSearch\\n\\n\\nSearch\\n\\n\\n\\n\\n\\n\\n \\n\\n\\n\\nPlease fill out this field.\\n\\n\\n\\n\\n\\n\\n\\n\\n\\n\\n\\nNews\\n\\n\\n\\n\\n\\n\\n\\n\\n\\n\\nNews\\n\\n\\n\\n\\n Markets\\n \\n\\n Companies\\n \\n\\n Earnings\\n \\n\\n CD Rates\\n \\n\\n Mortgage Rates\\n \\n\\n Economy\\n \\n\\n Government\\n \\n\\n Crypto\\n \\n\\n Live Markets News\\n \\n\\n Personal Finance\\n \\n\\n View All\\n \\n\\n\\n\\n\\n\\nInvesting\\n\\n\\n\\n\\n\\n\\n\\n\\n\\n\\nInvesting\\n\\n\\n\\n\\n Best Online Brokers\\n \\n\\n Best Stock Screeners\\n \\n\\n Best Robo Advisors\\n \\n\\n Best Investment Apps\\n \\n\\n Best Brokers for ETFs\\n \\n\\n Best Crypto Exchanges\\n \\n\\n Best Gold IRAs\\n \\n\\n Best IRAs\\n \\n\\n Best Bitcoin IRAs\\n \\n\\n View All\\n \\n\\n\\n\\n\\n\\nBanking\\n\\n\\n\\n\\n\\n\\n\\n\\n\\n\\nBanking\\n\\n\\n\\n\\n Best CD Rates\\n \\n\\n Best High Yield Savings Accounts\\n \\n\\n Best 1 Year CD Rates\\n \\n\\n Best 6 Month CD Rates\\n \\n\\n Best Jumbo CD Rates\\n \\n\\n Best Money Market Accounts\\n \\n\\n Best 3 Month CD Rates\\n \\n\\n Best 18 Month CD Rates\\n \\n\\n Best Savings Account for Kids\\n \\n\\n View All\\n \\n\\n\\n\\n\\n\\nPersonal Finance\\n\\n\\n\\n\\n\\n\\n\\n\\n\\n\\nPersonal Finance\\n\\n\\n\\n\\n Best Savings Account Bonuses\\n \\n\\n Best Bank Account Bonuses\\n \\n\\n Best High Yield Checking Accounts\\n \\n\\n Best Tax Relief Companies\\n \\n\\n Best Debt Relief Companies\\n \\n\\n Best Small Business Bank Accounts\\n \\n\\n Best Cash Advance Apps\\n \\n\\n Best Credit Repair Companies\\n \\n\\n Best Credit Unions\\n \\n\\n View All\\n \\n\\n\\n\\n\\n\\nLoans\\n\\n\\n\\n\\n\\n\\n\\n\\n\\n\\nLoans\\n\\n\\n\\n\\n Best Mortgage Rates\\n \\n\\n Best Auto Loan Rates\\n \\n\\n Best Personal Loans\\n \\n\\n Best Bad Credit Loans\\n \\n\\n Best Emergency Loans for Bad Credit\\n \\n\\n Best Debt Consolidation Loans\\n \\n\\n Best Personal Loans With No Fees\\n \\n\\n Best Auto Refinance Loans\\n \\n\\n Best HELOC Loans\\n \\n\\n View All\\n \\n\\n\\n\\n\\n\\nInsurance\\n\\n\\n\\n\\n\\n\\n\\n\\n\\n\\nInsurance\\n\\n\\n\\n\\n Best Affordable Health Insurance\\n \\n\\n Best Dental Insurance\\n \\n\\n Best Life Insurance\\n \\n\\n Best Small Business Insurance\\n \\n\\n Best Life Insurance for People Over 50\\n \\n\\n Best Universal Life Insurance\\n \\n\\n Best Dental Insurance for Implants\\n \\n\\n Best Health Insurance Companies\\n \\n\\n Best Disability Insurance\\n \\n\\n View All\\n \\n\\n\\n\\n\\n\\nSimulator\\n\\n\\n\\n\\n\\n\\n\\n\\n\\n\\nSimulator\\n\\n\\n\\n\\n Login / Portfolio\\n \\n\\n Trade\\n \\n\\n Research\\n \\n\\n My Games\\n \\n\\n Leaderboard\\n \\n\\n\\n\\n\\n\\n\\n\\n\\n\\nFollow Us\\n\\n\\n \\n\\n\\n \\n\\n \\n\\n\\n \\n\\n \\n\\n\\n \\n\\n \\n\\n\\n \\n\\n \\n\\n\\n \\n\\n\\n \\n\\n\\n\\n\\n\\n\\nTable of Contents\\nExpand\\nTable of Contents\\n\\n\\n\\nMicrosoft\\'s Industry\\nFinancials\\nHistory and Leadership\\nRecent Developments\\nFAQs\\nThe Bottom Line\\nCompany Profiles\\nFAANG and FAAMG Companies\\nHow Microsoft Makes Money\\nIntelligent Cloud Generates the Most Profit\\n\\n\\nBy\\n Nathan Reiff\\n \\n\\n\\n\\n\\n\\n\\n \\nFull Bio \\nNathan Reiff has been writing expert articles and news about financial topics such as investing and trading, cryptocurrency, ETFs, and alternative investments on Investopedia since 2016.\\n\\n\\n\\nLearn about our \\neditorial policies\\n\\n\\n\\nUpdated May 10, 2024\\n\\n\\n\\nReviewed by\\n Somer Anderson\\n \\n\\n\\n\\n\\n\\n\\n \\n\\n\\n\\nReviewed by\\nSomer Anderson\\n\\nFull Bio\\n\\n\\n\\n \\n\\n\\n \\n\\n \\n\\u200bSomer G. Anderson is CPA, doctor of accounting, and an accounting and finance professor who has been working in the accounting and finance industries for more than 20 years. Her expertise covers a wide range of accounting, corporate finance, taxes, lending, and personal finance areas.\\n\\n\\n\\nLearn about our \\nFinancial Review Board\\n\\n\\n\\n\\n\\n\\nFact checked by\\n Suzanne Kvilhaug\\n \\n\\n\\n\\n\\n\\n\\n \\n\\n\\n\\nFact checked by\\nSuzanne Kvilhaug\\n\\nFull Bio \\nSuzanne is a content marketer, writer, and fact-checker.\\xa0She holds a Bachelor of Science in Finance degree from Bridgewater State University and helps develop content strategies.\\n\\n\\n\\nLearn about our \\neditorial policies\\n\\n\\n\\n\\n\\n\\nClose\\n\\n\\n\\n Microsoft Corp., one of the world\\'s biggest tech companies, sells a variety of products and services to support the various efforts of people and businesses in work and life. The source of its greatest amount of revenue is its Intelligent Cloud business segment.\\n\\n\\n For the AI era, Microsoft is reexamining all of its customer solutions and every part of its tech stack to ensure that it delivers responsibly designed AI and maintains the company\\'s mission to \"empower every person and every organization on the planet to achieve more.\"\\n\\n\\n Microsoft\\'s products include operating systems, server applications, business solution applications, software development tools, and collaboration applications. It also designs and offers personal computing devices such as PCs, tablets, and gaming consoles.\\n\\n\\n Its services include cloud-based computing solutions, online advertising, online platforms and content, and consulting.\\n\\n\\n The foundation for all of Microsoft\\'s efforts are the core principles of fairness, reliability and safety, privacy and security, inclusiveness, transparency, and accountability.\\n\\n\\n Key Takeaways\\nMicrosoft sells computing devices, cloud systems and services, software, and other products to consumers and businesses.The company\\'s Intelligent Cloud segment is the largest source of profit, as well as the fastest-growing.Microsoft is focused on delivering AI solutions to customers in a broad swath of industries.Some of its many competitors include Apple, Amazon, Meta, Alphabet, Oracle, and IBM.Microsoft\\'s current CEO is Satya Nadella.\\n\\n  Microsoft\\'s Industry  \\n Microsoft (MSFT) operates in the software industry within the information technology sector. AI continues to drive the software industry at a lightning pace. Microsoft is at the forefront of the development and distribution of AI for application by all types of companies, business industries, people, and countries.\\n\\n\\n Its three business and reporting segments, Productivity and Business Processes, Intelligent Cloud, and More Personal Computing face competition from such well-known companies as:\\n\\n\\n Productivity and Business Processes\\n\\n\\n\\nApple (AAPL)\\nCisco Systems (CSCO)\\nMeta (META)\\nAlphabet (GOOG)\\nOkta (OKTA)\\nSlack (WORK)\\nZoom (ZM)\\nOracle (ORCL)\\nSalesforce (CRM)\\nSAP (SAP)\\n\\n\\n Intelligent Cloud\\n\\n\\n\\nAmazon Code Whisperer\\nGoogle AI\\nIBM (IBM)\\nOracle\\nVMware\\nHewlett-Packard (HPE)\\nAdobe (ADBE)\\nApache\\nCA Technologies\\nSnowflake\\n\\n\\n More Personal Computing\\n\\n\\n\\nApple\\nAmazon (AMZN)\\nMeta\\nTencent\\nNintendo\\nSony\\n\\n\\n Fast Fact\\nMicrosoft is the largest company in the world as measured by market cap.\\n\\n\\n\\n  Microsoft\\'s Financials  \\n As of May 2024, Microsoft\\'s market capitalization was $3.07 trillion.\\n\\n\\n Microsoft\\'s 2023 annual report reported the company\\'s financial results for the 2023 fiscal year (FY). Additionally, on April 25, 2024, the company announced financial results for the quarter ended March 31, 2024.\\n\\n\\n  Revenue  \\n For FY 2023, revenue was $211.91 billion, an increase of 7% over the previous year\\'s $198.27 billion. For the third quarter of FY 2024, revenue was $61.9 billion, an increase of 17% over the previous year\\'s third quarter.\\n\\n\\n  Net Income  \\n For FY 2023, net income was $72.36 billion, a drop of 1% from the previous year\\'s $72.73 billion. For the third quarter of FY 2024, net income was $21.9 billion, an increase of 20% over the previous year\\'s third quarter.\\n\\n\\n  Operating Income  \\n For FY 2023, operating income was $88.52 billion, an increase of 6% over the previous year\\'s $83.38 billion. For the third quarter of FY 2024, operating income was $27.6 billion, an increase of 23% over the previous year\\'s third quarter.\\n\\n\\n  Revenue From Business Segments  \\n Microsoft divides its business into three segments for the purpose of operating and reporting. These segments are Productivity and Business Processes, Intelligent Cloud, and More Personal Computing.\\n\\n\\n Underscoring the financials of the Intelligent Cloud segment, CEO Satya Nadella wrote, “Microsoft Copilot and Copilot stack are orchestrating a new era of AI transformation, driving better business outcomes across every role and industry.” In addition, for the third quarter of FY 2024, Microsoft Cloud revenue was up 23% year over year, at $35.1 billion.\\n\\n\\n Productivity and Business Processes\\n\\n\\n This segment offers a portfolio of products designed to enhance corporate productivity, communication, and information services. One of its major products is Microsoft\\'s Office software suite, including both the commercial and consumer divisions. The segment also includes business solutions products such as Dynamics 365, as well as the professional networking site, LinkedIn.\\n\\n\\n For FY 2023, Productivity and Business Processes generated $69.3 billion in revenue, up 9% over the previous year. Operating income was $34.1 billion, an increase of 15% over the previous year. \\n\\n\\n For the third quarter of FY 2024, revenue was $19.6 billion, an increase of 12% over the same period the previous year. It was driven by Dynamics products and cloud services which increased 19%. Operating income for the quarter was $10.1 billion, up about 17%.\\n\\n\\n Intelligent Cloud\\n\\n\\n The Intelligent Cloud segment is comprised of all of Microsoft\\'s public, private, and hybrid server products as well as cloud services for business. These include Microsoft Azure, SQL Server, Windows Server, GitHub, Enterprise Services, and more.\\n\\n\\n For FY 2023, Intelligent Cloud generated $87.9 billion in revenue, up 17% over the previous year. Operating income was $37.8 billion, an increase of 14% over the previous year.\\n\\n\\n For the third quarter of FY 2024, revenue was $26.7 billion, an increase of 21% over the same period the previous year. In addition to the growth of revenue from Microsoft Cloud mentioned above, revenue from Azure and other cloud services grew 31%, which powered the overall revenue from server products and cloud services to a 24% growth. Operating income for the quarter was $12.5 billion, up about 32%.\\n\\n\\n More Personal Computing\\n\\n\\n Microsoft describes its More Personal Computing segment as consisting of products and services aimed at putting \"customers at the center of the experience with our technology.\" The Windows operating system, Surface device, gaming products, and search and news advertising are all included in this segment.\\n\\n\\n For FY 2023, More Personal Computing generated $54.7 billion in revenue, down 9% from the previous year. Operating income was $16.4 billion, down 20%.\\n\\n\\n For the third quarter of FY 2024, revenue was $15.6 billion, an increase of 17% over the same period the previous year. Revenue from Xbox content and services grew by 62%. Search and news advertising revenue grew by 12%. Operating income for the quarter was $4.9 billion, up about 16%.\\n\\n\\n\\n\\n  History and Leadership  \\n Microsoft was founded in 1975 by Bill Gates and Paul Allen. It is headquartered in Redmond, Wash.\\n\\n\\n Gates was a software developer and manager in the company. He stepped away from daily activities in 2008 and resigned from the Board of Directors in 2020. Gates continues to meet with the company\\'s product teams to discuss a variety of relevant topics, and in particular, artificial intelligence and Microsoft\\'s role in developing AI\\'s capabilities for a variety of applications.\\n\\n\\n Allen was Microsoft\\'s chief technologist until he resigned in 1983. He passed away in 2018.\\n\\n\\n In January 2000, Steve Ballmer was named Microsoft\\'s President and Chief Executive Officer. He left the company in 2014. Satya Nadella has held the position of CEO since 2014. He has overseen an important period of change for the company, during which it has placed a major focus on cloud computing and subscription services, and AI.\\n\\n\\n  Recent Developments  \\n • In May 2024, Microsoft announced its intended investment in Southeast Wisconsin to develop AI-powered economic activity, innovation, and job creation. The amount of $3.3 billion will go to cloud computing and AI infrastructure, an AI co-innovation lab that will focus on manufacturing, and a program to train more than 100,000 Wisconsin residents in AI.\\n\\n\\n • In April 2024, Microsoft announced an investment of $1.7 billion to build new cloud and AI infrastructure in the nation of Indonesia. It will also offer training in AI for 840,000 people. The investment is the largest Microsoft has ever made in Indonesia.\\xa0Microsoft\\'s goal is to assist the Indonesian government in achieving its Golden Indonesia 2045 Vision of developing the nation into a \"global economic powerhouse.\"\\n\\n\\n • In March 2024, Microsoft and NVIDIA merged their efforts to deliver the capabilities of generative AI, the cloud, and accelerated computing to companies focused on healthcare and life sciences. Microsoft Azure,\\xa0NVIDIA\\xa0DGX Cloud, and the\\xa0NVIDIA\\xa0Clara\\xa0computing platforms and software will be used to improve patient care.\\n\\n\\n What\\'s the Value of a Share of Microsoft Stock?\\nOn May 10, 2024, a share of Microsoft was trading at $413.86.\\n\\n\\n What\\'s Microsoft\\'s Primary Focus Now?\\nAs with other technology companies, Microsoft has dramatically increased its efforts to develop artificial intelligence for use by people and companies. One of its goals is to design a natural language for a more intuitive human-computer interface and a new reasoning engine.\\n\\n\\n Does Bill Gates Still Run Microsoft?\\nNo, Bill Gates left behind day-to-day business activities at Microsoft in 2008. He resigned from the Board in 2020. Now, he focuses a lot of time on the Bill and Melinda Gates Foundation.\\n\\n\\n  The Bottom Line  \\n Founded in 1975 by Bill Gates and Paul Allen, Microsoft is the world\\'s largest technology company today, measured by market cap.\\n\\n\\n It offers products and services related to, among other things, software, business applications, cloud computing, gaming, and online advertising. It invests heavily in AI.\\n\\n\\n The greatest amount of revenue for the company comes from its Intelligent Cloud business segment.\\n\\n\\n\\n\\n\\nArticle Sources\\n\\n\\n\\nInvestopedia requires writers to use primary sources to support their work. These include white papers, government data, original reporting, and interviews with industry experts. We also reference original research from other reputable publishers where appropriate. You can learn more about the standards we follow in producing accurate, unbiased content in our\\neditorial policy.\\n \\nMicrosoft. \"Annual Report 2023: CEO\\'s Letter.\"\\nMicrosoft. \"Annual Report 2023: Business–What We Offer.\"\\nMicrosoft. \"Annual Report 2023: Business–Embracing Our Future.\"\\ncompaniesmarketcap. \"Largest Companies by Market Cap.\"\\ncompaniesmarketcap. \"Market Capitalization of Microsoft (MSFT).\"\\nMicrosoft. \"Microsoft Cloud Strength Fuels Third Quarter Results.\"\\nMicrosoft. \"Annual Report 2023: Summary Results of Operations.\"\\nMicrosoft. \"Segment Information.\"\\nMicrosoft. \"Annual Report 2023: Segment Results of Operations.\"\\nU.S. Securities and Exchange Commission. \"Form 10-Q Microsoft Corporation,\" Page 29.\\nForbes. \"Exclusive: Bill Gates On Advising OpenAI, Microsoft And Why AI Is ‘The Hottest Topic Of 2023’.\"\\nMicrosoft. \"About Microsoft: Satya Nadella Marks Five Years as CEO.\"\\nMicrosoft. \"Microsoft Announces $3.3 Billion Investment in Wisconsin To Spur Artificial Intelligence Innovation and Economic Growth.\"\\nMicrosoft. \"Microsoft Announces US$1.7 Billion Investment To Advance Indonesia’s Cloud and AI Ambitions.\"\\nMicrosoft. \"Microsoft Announces Collaboration With NVIDIA To Accelerate Healthcare and Life Sciences Innovation With Advanced Cloud, AI and Accelerated Computing Capabilities.\"\\n\\n\\n\\nCompare Accounts\\n Advertiser Disclosure\\n\\n ×\\n\\nThe offers that appear in this table are from partnerships from which Investopedia receives compensation. This compensation may impact how and where listings appear. Investopedia does not include all offers available in the marketplace.\\n\\n\\n\\n\\n\\n\\n\\n\\n\\nPartner Links\\n\\n\\n\\n\\n\\n\\n\\n\\n\\n\\n\\n\\n\\n\\n\\n\\n\\n\\n\\n\\n\\n\\n\\n\\n\\n\\n\\n\\n\\n\\n\\n\\n\\n\\n\\n\\n\\n\\n\\n\\n\\n\\n\\n\\n\\n\\n\\n\\n\\n\\n\\n\\nRelated Articles\\n\\n\\n\\n\\n\\n\\n\\n\\n\\n\\n\\n\\nTop 3 Companies Owned by Facebook (Meta)\\n\\n\\n\\n\\n\\n\\n\\n\\n\\n\\n\\n\\n\\n\\n\\nAlphabet’s GOOG vs. GOOGL: What’s the Difference?\\n\\n\\n\\n\\n\\n\\n\\n\\n\\n\\n\\n\\n\\n\\n\\nHow Amazon Makes Money\\n\\n\\n\\n\\n\\n\\n\\n\\n\\n\\n\\n\\n\\n\\n\\nThe Secret to Microsoft\\'s Success\\n\\n\\n\\n\\n\\n\\n\\n\\n\\n\\n\\n\\n\\n\\n\\nHow BlackRock Makes Money\\n\\n\\n\\n\\n\\n\\n\\n\\n\\n\\n\\n\\n\\n\\n\\nHow Reddit Makes Money\\n\\n\\n\\n\\n\\n\\n\\n\\n\\n\\n\\n\\n\\n\\n\\nStartup Capital Definition, Types, and Risks\\n\\n\\n\\n\\n\\n\\n\\n\\n\\n\\n\\n\\n\\n\\n\\nAmerican Express\\'s Main Competition\\n\\n\\n\\n\\n\\n\\n\\n\\n\\n\\n\\n\\n\\n\\n\\n\\n\\n\\nMoneyGram vs. PayPal vs. Xoom: Who Has the Lowest Fees?\\n\\n\\n\\n\\n\\n\\n\\n\\n\\n\\n\\n\\n\\n\\n\\nValuing Startup Ventures\\n\\n\\n\\n\\n\\n\\n\\n\\n\\n\\n\\n\\n\\n\\n\\nTarget\\'s Circle Card: What You Need to Know\\n\\n\\n\\n\\n\\n\\n\\n\\n\\n\\n\\n\\n\\n\\n\\nTesla: The True Untold Story\\n\\n\\n\\n\\n\\n\\n\\n\\n\\n\\n\\n\\n\\n\\n\\nTop 10 Largest Global IPOs of All Time\\n\\n\\n\\n\\n\\n\\n\\n\\n\\n\\n\\n\\n\\n\\n\\nWhy Is There an IPO Lockup Period and How Long Does It Last?\\n\\n\\n\\n\\n\\n\\n\\n\\n\\n\\n\\n\\n\\n\\n\\nThe Evolution of the Coca-Cola Brand\\n\\n\\n\\n\\n\\n\\n\\n\\n\\n\\n\\n\\n\\n\\n\\n5 Companies Owned by Comcast\\n\\n\\n\\n\\n\\n\\n\\n\\n\\n\\n\\n\\n \\n\\n\\n \\n\\n \\n\\n\\n \\n\\n \\n\\n\\n \\n\\n \\n\\n\\n \\n\\n\\n\\n About Us\\nTerms of Service\\nDictionary\\nEditorial Policy\\nAdvertise\\nNews\\nPrivacy Policy\\nContact Us\\nCareers\\nEU Privacy\\n\\n\\n#\\nA\\nB\\nC\\nD\\nE\\nF\\nG\\nH\\nI\\nJ\\nK\\nL\\nM\\nN\\nO\\nP\\nQ\\nR\\nS\\nT\\nU\\nV\\nW\\nX\\nY\\nZ\\n \\n\\n\\n\\n\\n\\nInvestopedia\\nis part of the Dotdash Meredith\\xa0publishing\\xa0family.\\n\\n\\n\\n\\n\\n\\n\\n\\n\\n\\n\\n\\n\\nWe Care About Your PrivacyWe and our 100 partners store and/or access information on a device, such as unique IDs in cookies to process personal data. You may accept or manage your choices by clicking below, including your right to object where legitimate interest is used, or at any time in the privacy policy page. These choices will be signaled to our partners and will not affect browsing data.We and our partners process data to provide:Store and/or access information on a device. Use limited data to select advertising. Create profiles for personalised advertising. Use profiles to select personalised advertising. Create profiles to personalise content. Use profiles to select personalised content. Measure advertising performance. Measure content performance. Understand audiences through statistics or combinations of data from different sources. Develop and improve services. Use limited data to select content. \\nList of Partners (vendors)\\nAccept All Reject All Show Purposes\\n\\n\\n')]]"
      ]
     },
     "execution_count": 2,
     "metadata": {},
     "output_type": "execute_result"
    }
   ],
   "source": [
    "from langchain_community.document_loaders import WebBaseLoader\n",
    "from langchain_community.vectorstores import FAISS\n",
    "from langchain_openai import OpenAIEmbeddings\n",
    "from langchain_text_splitters import RecursiveCharacterTextSplitter\n",
    "\n",
    "\n",
    "urls=[\n",
    "    \"https://www.microsoft.com/investor/reports/ar24/index.html/\",\n",
    "    \"https://www.microsoft.com/en-us/investor/earnings/fy-2024-q4/segment-revenues/\",\n",
    "    \"https://www.investopedia.com/how-microsoft-makes-money-4798809/\"\n",
    "]\n",
    "\n",
    "docs=[WebBaseLoader(url).load() for url in urls]\n",
    "docs\n"
   ]
  },
  {
   "cell_type": "code",
   "execution_count": 3,
   "id": "f1a5860f",
   "metadata": {},
   "outputs": [],
   "source": [
    "doc_list=[ item for sublist in docs  for item in sublist]\n",
    "\n",
    "text_splitter=RecursiveCharacterTextSplitter(chunk_size=1000,chunk_overlap=100)\n",
    "\n",
    "\n",
    "doc_splits=text_splitter.split_documents(doc_list)\n",
    "\n",
    "#Add all these text to vectordb\n",
    "\n",
    "vectorstore=FAISS.from_documents(\n",
    "    documents=doc_splits,\n",
    "    embedding=OpenAIEmbeddings()\n",
    ")\n",
    "retriever=vectorstore.as_retriever()"
   ]
  },
  {
   "cell_type": "code",
   "execution_count": 4,
   "id": "cd8d7f32",
   "metadata": {},
   "outputs": [
    {
     "data": {
      "text/plain": [
       "[Document(id='d356bc72-4978-4489-a303-88adff0928fe', metadata={'source': 'https://www.investopedia.com/how-microsoft-makes-money-4798809/', 'title': 'How Microsoft Makes Money', 'description': \"Microsoft's is committed to responsibly designed AI. Its Intelligent Cloud segment is growing fast and is the largest source of the company's revenue and profit.\", 'language': 'en'}, page_content='For the third quarter of FY 2024, revenue was $26.7 billion, an increase of 21% over the same period the previous year. In addition to the growth of revenue from Microsoft Cloud mentioned above, revenue from Azure and other cloud services grew 31%, which powered the overall revenue from server products and cloud services to a 24% growth. Operating income for the quarter was $12.5 billion, up about 32%.\\n\\n\\n More Personal Computing\\n\\n\\n Microsoft describes its More Personal Computing segment as consisting of products and services aimed at putting \"customers at the center of the experience with our technology.\" The Windows operating system, Surface device, gaming products, and search and news advertising are all included in this segment.\\n\\n\\n For FY 2023, More Personal Computing generated $54.7 billion in revenue, down 9% from the previous year. Operating income was $16.4 billion, down 20%.'),\n",
       " Document(id='11fa46f0-d611-43ac-a214-dd4fba382f5e', metadata={'source': 'https://www.investopedia.com/how-microsoft-makes-money-4798809/', 'title': 'How Microsoft Makes Money', 'description': \"Microsoft's is committed to responsibly designed AI. Its Intelligent Cloud segment is growing fast and is the largest source of the company's revenue and profit.\", 'language': 'en'}, page_content=\"For the third quarter of FY 2024, revenue was $15.6 billion, an increase of 17% over the same period the previous year. Revenue from Xbox content and services grew by 62%. Search and news advertising revenue grew by 12%. Operating income for the quarter was $4.9 billion, up about 16%.\\n\\n\\n\\n\\n  History and Leadership  \\n Microsoft was founded in 1975 by Bill Gates and Paul Allen. It is headquartered in Redmond, Wash.\\n\\n\\n Gates was a software developer and manager in the company. He stepped away from daily activities in 2008 and resigned from the Board of Directors in 2020. Gates continues to meet with the company's product teams to discuss a variety of relevant topics, and in particular, artificial intelligence and Microsoft's role in developing AI's capabilities for a variety of applications.\\n\\n\\n Allen was Microsoft's chief technologist until he resigned in 1983. He passed away in 2018.\"),\n",
       " Document(id='0a234e20-ae3e-4d4f-9e9f-0904a3eb6978', metadata={'source': 'https://www.investopedia.com/how-microsoft-makes-money-4798809/', 'title': 'How Microsoft Makes Money', 'description': \"Microsoft's is committed to responsibly designed AI. Its Intelligent Cloud segment is growing fast and is the largest source of the company's revenue and profit.\", 'language': 'en'}, page_content=\"Revenue  \\n For FY 2023, revenue was $211.91 billion, an increase of 7% over the previous year's $198.27 billion. For the third quarter of FY 2024, revenue was $61.9 billion, an increase of 17% over the previous year's third quarter.\\n\\n\\n  Net Income  \\n For FY 2023, net income was $72.36 billion, a drop of 1% from the previous year's $72.73 billion. For the third quarter of FY 2024, net income was $21.9 billion, an increase of 20% over the previous year's third quarter.\\n\\n\\n  Operating Income  \\n For FY 2023, operating income was $88.52 billion, an increase of 6% over the previous year's $83.38 billion. For the third quarter of FY 2024, operating income was $27.6 billion, an increase of 23% over the previous year's third quarter.\\n\\n\\n  Revenue From Business Segments  \\n Microsoft divides its business into three segments for the purpose of operating and reporting. These segments are Productivity and Business Processes, Intelligent Cloud, and More Personal Computing.\"),\n",
       " Document(id='22cc39f1-304c-464f-abae-a4ba8c4d2d1e', metadata={'source': 'https://www.microsoft.com/en-us/investor/earnings/fy-2024-q4/segment-revenues/', 'title': 'FY24 Q4 - Segment Revenue and Operating Income - Investor Relations - Microsoft', 'language': 'en-US'}, page_content='Developer & IT  \\nDeveloper & IT  \\n\\n\\nAzure\\n\\n\\nMicrosoft Developer\\n\\n\\nMicrosoft Learn\\n\\n\\nSupport for AI marketplace apps\\n\\n\\nMicrosoft Tech Community\\n\\n\\nAzure Marketplace\\n\\n\\nAppSource\\n\\n\\nVisual Studio\\n\\n\\n\\n\\nOther\\nOther\\n\\n\\nMicrosoft Rewards \\n\\n\\nFree downloads & security\\n\\n\\nEducation\\n\\n\\nGift cards\\n\\n\\nLicensing\\n\\n\\nUnlocked stories\\n\\n\\n\\n\\nView Sitemap\\n\\n\\n\\n\\n\\n\\n\\n\\n\\n\\nSearch\\nSearch Microsoft.com\\n\\n\\n\\n\\n No results\\n\\n\\n\\n\\nCancel\\n\\n\\n\\n\\n\\n\\n\\n\\n\\n\\n\\n\\n\\n\\n\\n\\n\\n\\n\\n\\n\\n\\n\\n\\n\\n\\n\\n\\nEarnings Release FY24 Q4\\n\\n\\n\\n\\n\\n\\n\\n\\n                Income Statements\\n                    \\n\\n\\n\\n\\n                Comprehensive Income\\n                    \\n\\n\\n\\n\\n                Balance Sheets\\n                    \\n\\n\\n\\n\\n                Cash Flows\\n                    \\n\\n\\n\\n\\nSegment Revenue & Operating Income\\n\\n\\n\\n\\n\\n\\n\\n\\n\\n\\n\\n\\n\\n\\n\\n\\n\\n\\n\\n\\n\\n\\nSegment Revenue and Operating Income\\n\\n\\n\\n\\n\\n\\r\\n  (In millions) \\n\\n\\n\\nYear Ended June 30,\\n\\n\\n\\n\\n2024\\n\\n\\n2023\\n\\n\\n2022\\n\\n\\n\\n\\n\\n\\nElementName\\n\\nRevenue\\n\\n\\n\\n\\n\\n\\n\\nus-gaap:RevenueFromContractWithCustomerExcludingAssessedTaxmsft:ProductivityAndBusinessProcessesMember')]"
      ]
     },
     "execution_count": 4,
     "metadata": {},
     "output_type": "execute_result"
    }
   ],
   "source": [
    "retriever.invoke(\"Microsoft revenue 2024\")"
   ]
  },
  {
   "cell_type": "code",
   "execution_count": 6,
   "id": "dd3da3b0",
   "metadata": {},
   "outputs": [],
   "source": [
    "from langchain.tools.retriever import create_retriever_tool\n",
    "\n",
    "retriever_tool=create_retriever_tool(\n",
    "    retriever,\n",
    "    \"retriever_vector_db_blog\",\n",
    "    \"Search and run information about Microsoft Revenue details\"\n",
    ")"
   ]
  },
  {
   "cell_type": "code",
   "execution_count": 7,
   "id": "0f173ce1",
   "metadata": {},
   "outputs": [
    {
     "data": {
      "text/plain": [
       "Tool(name='retriever_vector_db_blog', description='Search and run information about Microsoft Revenue details', args_schema=<class 'langchain_core.tools.retriever.RetrieverInput'>, func=functools.partial(<function _get_relevant_documents at 0x11ead9800>, retriever=VectorStoreRetriever(tags=['FAISS', 'OpenAIEmbeddings'], vectorstore=<langchain_community.vectorstores.faiss.FAISS object at 0x13e6a39b0>, search_kwargs={}), document_prompt=PromptTemplate(input_variables=['page_content'], input_types={}, partial_variables={}, template='{page_content}'), document_separator='\\n\\n', response_format='content'), coroutine=functools.partial(<function _aget_relevant_documents at 0x11ead9940>, retriever=VectorStoreRetriever(tags=['FAISS', 'OpenAIEmbeddings'], vectorstore=<langchain_community.vectorstores.faiss.FAISS object at 0x13e6a39b0>, search_kwargs={}), document_prompt=PromptTemplate(input_variables=['page_content'], input_types={}, partial_variables={}, template='{page_content}'), document_separator='\\n\\n', response_format='content'))"
      ]
     },
     "execution_count": 7,
     "metadata": {},
     "output_type": "execute_result"
    }
   ],
   "source": [
    "retriever_tool"
   ]
  },
  {
   "cell_type": "code",
   "execution_count": 8,
   "id": "9bbff0f1",
   "metadata": {},
   "outputs": [],
   "source": [
    "tools=[retriever_tool]"
   ]
  },
  {
   "cell_type": "code",
   "execution_count": 9,
   "id": "e4e77c0d",
   "metadata": {},
   "outputs": [],
   "source": [
    "from typing import Annotated, Sequence\n",
    "from typing_extensions import TypedDict\n",
    "\n",
    "from langchain_core.messages import BaseMessage\n",
    "\n",
    "from langgraph.graph.message import add_messages\n",
    "\n",
    "\n",
    "class AgentState(TypedDict):\n",
    "    # The add_messages function defines how an update should be processed\n",
    "    # Default is to replace. add_messages says \"append\"\n",
    "    messages: Annotated[Sequence[BaseMessage], add_messages]"
   ]
  },
  {
   "cell_type": "code",
   "execution_count": 10,
   "id": "d9c5c2af",
   "metadata": {},
   "outputs": [
    {
     "data": {
      "text/plain": [
       "AIMessage(content='Hello! How can I assist you today?', additional_kwargs={'refusal': None}, response_metadata={'token_usage': {'completion_tokens': 10, 'prompt_tokens': 8, 'total_tokens': 18, 'completion_tokens_details': {'accepted_prediction_tokens': 0, 'audio_tokens': 0, 'reasoning_tokens': 0, 'rejected_prediction_tokens': 0}, 'prompt_tokens_details': {'audio_tokens': 0, 'cached_tokens': 0}}, 'model_name': 'gpt-4o-2024-08-06', 'system_fingerprint': 'fp_d8864f8b6b', 'id': 'chatcmpl-BSTUE3GfIaIR49iXOFkR0WRbuajPV', 'finish_reason': 'stop', 'logprobs': None}, id='run-7251448e-22f3-4a4b-af10-0069419f7385-0', usage_metadata={'input_tokens': 8, 'output_tokens': 10, 'total_tokens': 18, 'input_token_details': {'audio': 0, 'cache_read': 0}, 'output_token_details': {'audio': 0, 'reasoning': 0}})"
      ]
     },
     "execution_count": 10,
     "metadata": {},
     "output_type": "execute_result"
    }
   ],
   "source": [
    "from langchain_openai import ChatOpenAI\n",
    "llm=ChatOpenAI(model=\"gpt-4o\")\n",
    "llm.invoke(\"Hello\")"
   ]
  },
  {
   "cell_type": "code",
   "execution_count": 11,
   "id": "0fcfd3f0",
   "metadata": {},
   "outputs": [],
   "source": [
    "def agent(state):\n",
    "    \"\"\"\n",
    "    Invokes the agent model to generate a response based on the current state. Given\n",
    "    the question, it will decide to retrieve using the retriever tool, or simply end.\n",
    "\n",
    "    Args:\n",
    "        state (messages): The current state\n",
    "\n",
    "    Returns:\n",
    "        dict: The updated state with the agent response appended to messages\n",
    "    \"\"\"\n",
    "    print(\"---CALL AGENT---\")\n",
    "    messages = state[\"messages\"]\n",
    "    model = ChatOpenAI(model=\"gpt-4o\")\n",
    "    model = model.bind_tools(tools)\n",
    "    response = model.invoke(messages)\n",
    "    # We return a list, because this will get added to the existing list\n",
    "    return {\"messages\": [response]}"
   ]
  },
  {
   "cell_type": "code",
   "execution_count": 12,
   "id": "afa6a65e",
   "metadata": {},
   "outputs": [],
   "source": [
    "from typing import Annotated, Literal, Sequence\n",
    "from typing_extensions import TypedDict\n",
    "\n",
    "from langchain import hub\n",
    "from langchain_core.messages import BaseMessage, HumanMessage\n",
    "from langchain_core.output_parsers import StrOutputParser\n",
    "from langchain_core.prompts import PromptTemplate\n",
    "from langchain_openai import ChatOpenAI\n",
    "\n",
    "from pydantic import BaseModel, Field"
   ]
  },
  {
   "cell_type": "code",
   "execution_count": 13,
   "id": "cb7e440d",
   "metadata": {},
   "outputs": [],
   "source": [
    "### Edges\n",
    "def grade_documents(state) -> Literal[\"generate\", \"rewrite\"]:\n",
    "    \"\"\"\n",
    "    Determines whether the retrieved documents are relevant to the question.\n",
    "\n",
    "    Args:\n",
    "        state (messages): The current state\n",
    "\n",
    "    Returns:\n",
    "        str: A decision for whether the documents are relevant or not\n",
    "    \"\"\"\n",
    "\n",
    "    print(\"---CHECK RELEVANCE---\")\n",
    "\n",
    "    # Data model\n",
    "    class grade(BaseModel):\n",
    "        \"\"\"Binary score for relevance check.\"\"\"\n",
    "\n",
    "        binary_score: str = Field(description=\"Relevance score 'yes' or 'no'\")\n",
    "\n",
    "    # LLM\n",
    "    model = ChatOpenAI(model=\"gpt-4o\")\n",
    "\n",
    "    # LLM with tool and validation\n",
    "    llm_with_tool = model.with_structured_output(grade)\n",
    "\n",
    "    # Prompt\n",
    "    prompt = PromptTemplate(\n",
    "        template=\"\"\"You are a grader assessing relevance of a retrieved document to a user question. \\n\n",
    "        Here is the retrieved document: \\n\\n {context} \\n\\n\n",
    "        Here is the user question: {question} \\n\n",
    "        If the document contains keyword(s) or semantic meaning related to the user question, grade it as relevant. \\n\n",
    "        Give a binary score 'yes' or 'no' score to indicate whether the document is relevant to the question.\"\"\",\n",
    "        input_variables=[\"context\", \"question\"],\n",
    "    )\n",
    "\n",
    "    # Chain\n",
    "    chain = prompt | llm_with_tool\n",
    "\n",
    "    messages = state[\"messages\"]\n",
    "    last_message = messages[-1]\n",
    "\n",
    "    question = messages[0].content\n",
    "    docs = last_message.content\n",
    "\n",
    "    scored_result = chain.invoke({\"question\": question, \"context\": docs})\n",
    "\n",
    "    score = scored_result.binary_score\n",
    "\n",
    "    if score == \"yes\":\n",
    "        print(\"---DECISION: DOCS RELEVANT---\")\n",
    "        return \"generate\"\n",
    "\n",
    "    else:\n",
    "        print(\"---DECISION: DOCS NOT RELEVANT---\")\n",
    "        print(score)\n",
    "        return \"rewrite\"\n"
   ]
  },
  {
   "cell_type": "code",
   "execution_count": 14,
   "id": "a9e394c7",
   "metadata": {},
   "outputs": [],
   "source": [
    "def generate(state):\n",
    "    \"\"\"\n",
    "    Generate answer\n",
    "\n",
    "    Args:\n",
    "        state (messages): The current state\n",
    "\n",
    "    Returns:\n",
    "         dict: The updated message\n",
    "    \"\"\"\n",
    "    print(\"---GENERATE---\")\n",
    "    messages = state[\"messages\"]\n",
    "    question = messages[0].content\n",
    "    last_message = messages[-1]\n",
    "\n",
    "    docs = last_message.content\n",
    "\n",
    "    # Prompt\n",
    "    prompt = hub.pull(\"rlm/rag-prompt\")\n",
    "\n",
    "    # LLM\n",
    "    llm = ChatOpenAI(model=\"gpt-4o\")\n",
    "\n",
    "    # Post-processing\n",
    "    def format_docs(docs):\n",
    "        return \"\\n\\n\".join(doc.page_content for doc in docs)\n",
    "\n",
    "    # Chain\n",
    "    rag_chain = prompt | llm | StrOutputParser()\n",
    "\n",
    "    # Run\n",
    "    response = rag_chain.invoke({\"context\": docs, \"question\": question})\n",
    "    return {\"messages\": [response]}"
   ]
  },
  {
   "cell_type": "code",
   "execution_count": 15,
   "id": "95f8658e",
   "metadata": {},
   "outputs": [
    {
     "name": "stdout",
     "output_type": "stream",
     "text": [
      "********************Prompt[rlm/rag-prompt]********************\n",
      "================================\u001b[1m Human Message \u001b[0m=================================\n",
      "\n",
      "You are an assistant for question-answering tasks. Use the following pieces of retrieved context to answer the question. If you don't know the answer, just say that you don't know. Use three sentences maximum and keep the answer concise.\n",
      "Question: \u001b[33;1m\u001b[1;3m{question}\u001b[0m \n",
      "Context: \u001b[33;1m\u001b[1;3m{context}\u001b[0m \n",
      "Answer:\n"
     ]
    }
   ],
   "source": [
    "print(\"*\" * 20 + \"Prompt[rlm/rag-prompt]\" + \"*\" * 20)\n",
    "prompt = hub.pull(\"rlm/rag-prompt\").pretty_print()  #"
   ]
  },
  {
   "cell_type": "code",
   "execution_count": 17,
   "id": "5ed5b32e",
   "metadata": {},
   "outputs": [],
   "source": [
    "def rewrite(state):\n",
    "    \"\"\"\n",
    "    Transform the query to produce a better question.\n",
    "\n",
    "    Args:\n",
    "        state (messages): The current state\n",
    "\n",
    "    Returns:\n",
    "        dict: The updated state with re-phrased question\n",
    "    \"\"\"\n",
    "\n",
    "    print(\"---TRANSFORM QUERY---\")\n",
    "    messages = state[\"messages\"]\n",
    "    question = messages[0].content\n",
    "\n",
    "    msg = [\n",
    "        HumanMessage(\n",
    "            content=f\"\"\" \\n\n",
    "    Look at the input and try to reason about the underlying semantic intent / meaning. \\n\n",
    "    Here is the initial question:\n",
    "    \\n ------- \\n\n",
    "    {question}\n",
    "    \\n ------- \\n\n",
    "    Formulate an improved question: \"\"\",\n",
    "        )\n",
    "    ]\n",
    "\n",
    "    # Grader\n",
    "    model = ChatOpenAI(model=\"gpt-4o\")\n",
    "    response = model.invoke(msg)\n",
    "    return {\"messages\": [response]}"
   ]
  },
  {
   "cell_type": "code",
   "execution_count": 18,
   "id": "11d94518",
   "metadata": {},
   "outputs": [],
   "source": [
    "from langgraph.graph import END, StateGraph, START\n",
    "from langgraph.prebuilt import ToolNode\n",
    "from langgraph.prebuilt import tools_condition\n",
    "\n",
    "# Define a new graph\n",
    "workflow = StateGraph(AgentState)\n",
    "\n",
    "# Define the nodes we will cycle between\n",
    "workflow.add_node(\"agent\", agent)  # agent\n",
    "retrieve = ToolNode([retriever_tool])\n",
    "workflow.add_node(\"retrieve\", retrieve)  # retrieval\n",
    "workflow.add_node(\"rewrite\", rewrite)  # Re-writing the question\n",
    "workflow.add_node(\n",
    "    \"generate\", generate\n",
    ")  # Generating a response after we know the documents are relevant\n",
    "# Call agent node to decide to retrieve or not\n",
    "workflow.add_edge(START, \"agent\")\n",
    "\n",
    "# Decide whether to retrieve\n",
    "workflow.add_conditional_edges(\n",
    "    \"agent\",\n",
    "    # Assess agent decision\n",
    "    tools_condition,\n",
    "    {\n",
    "        # Translate the condition outputs to nodes in our graph\n",
    "        \"tools\": \"retrieve\",\n",
    "        END: END,\n",
    "    },\n",
    ")\n",
    "\n",
    "# Edges taken after the `action` node is called.\n",
    "workflow.add_conditional_edges(\n",
    "    \"retrieve\",\n",
    "    # Assess agent decision\n",
    "    grade_documents,\n",
    ")\n",
    "workflow.add_edge(\"generate\", END)\n",
    "workflow.add_edge(\"rewrite\", \"agent\")\n",
    "\n",
    "# Compile\n",
    "graph = workflow.compile()"
   ]
  },
  {
   "cell_type": "code",
   "execution_count": 19,
   "id": "71e66ae5",
   "metadata": {},
   "outputs": [
    {
     "data": {
      "image/png": "[encoded data removed]",
      "text/plain": [
       "<IPython.core.display.Image object>"
      ]
     },
     "metadata": {},
     "output_type": "display_data"
    }
   ],
   "source": [
    "from IPython.display import Image, display\n",
    "display(Image(graph.get_graph(xray=True).draw_mermaid_png()))"
   ]
  },
  {
   "cell_type": "code",
   "execution_count": 20,
   "id": "f1e86fca",
   "metadata": {},
   "outputs": [
    {
     "name": "stdout",
     "output_type": "stream",
     "text": [
      "---CALL AGENT---\n",
      "---CHECK RELEVANCE---\n",
      "---DECISION: DOCS NOT RELEVANT---\n",
      "no\n",
      "---TRANSFORM QUERY---\n",
      "---CALL AGENT---\n",
      "---CHECK RELEVANCE---\n",
      "---DECISION: DOCS NOT RELEVANT---\n",
      "no\n",
      "---TRANSFORM QUERY---\n",
      "---CALL AGENT---\n"
     ]
    },
    {
     "data": {
      "text/plain": [
       "{'messages': [HumanMessage(content='What is happening in Planet Mars', additional_kwargs={}, response_metadata={}, id='3b395e27-956f-471e-81e7-0a73b7662ce8'),\n",
       "  AIMessage(content='', additional_kwargs={'tool_calls': [{'id': 'call_99gwLtob4MLp9t8TZQWpsAdk', 'function': {'arguments': '{\"query\":\"Planet Mars recent updates\"}', 'name': 'retriever_vector_db_blog'}, 'type': 'function'}], 'refusal': None}, response_metadata={'token_usage': {'completion_tokens': 22, 'prompt_tokens': 64, 'total_tokens': 86, 'completion_tokens_details': {'accepted_prediction_tokens': 0, 'audio_tokens': 0, 'reasoning_tokens': 0, 'rejected_prediction_tokens': 0}, 'prompt_tokens_details': {'audio_tokens': 0, 'cached_tokens': 0}}, 'model_name': 'gpt-4o-2024-08-06', 'system_fingerprint': 'fp_f5bdcc3276', 'id': 'chatcmpl-BSTupcC0FjtveeujcEV23VQVm9uza', 'finish_reason': 'tool_calls', 'logprobs': None}, id='run-4aeedcb7-1424-4128-8b22-c8cdd5b7d2ab-0', tool_calls=[{'name': 'retriever_vector_db_blog', 'args': {'query': 'Planet Mars recent updates'}, 'id': 'call_99gwLtob4MLp9t8TZQWpsAdk', 'type': 'tool_call'}], usage_metadata={'input_tokens': 64, 'output_tokens': 22, 'total_tokens': 86, 'input_token_details': {'audio': 0, 'cache_read': 0}, 'output_token_details': {'audio': 0, 'reasoning': 0}}),\n",
       "  ToolMessage(content='U.S. Securities and Exchange Commission. \"Form 10-Q Microsoft Corporation,\" Page 29.\\nForbes. \"Exclusive: Bill Gates On Advising OpenAI, Microsoft And Why AI Is ‘The Hottest Topic Of 2023’.\"\\nMicrosoft. \"About Microsoft: Satya Nadella Marks Five Years as CEO.\"\\nMicrosoft. \"Microsoft Announces $3.3 Billion Investment in Wisconsin To Spur Artificial Intelligence Innovation and Economic Growth.\"\\nMicrosoft. \"Microsoft Announces US$1.7 Billion Investment To Advance Indonesia’s Cloud and AI Ambitions.\"\\nMicrosoft. \"Microsoft Announces Collaboration With NVIDIA To Accelerate Healthcare and Life Sciences Innovation With Advanced Cloud, AI and Accelerated Computing Capabilities.\"\\n\\nThe resource you are looking for has been removed, had its name changed, or is temporarily unavailable.\\n\\nTarget\\'s Circle Card: What You Need to Know\\n\\n\\n\\n\\n\\n\\n\\n\\n\\n\\n\\n\\n\\n\\n\\nTesla: The True Untold Story\\n\\n\\n\\n\\n\\n\\n\\n\\n\\n\\n\\n\\n\\n\\n\\nTop 10 Largest Global IPOs of All Time\\n\\n\\n\\n\\n\\n\\n\\n\\n\\n\\n\\n\\n\\n\\n\\nWhy Is There an IPO Lockup Period and How Long Does It Last?\\n\\n\\n\\n\\n\\n\\n\\n\\n\\n\\n\\n\\n\\n\\n\\nThe Evolution of the Coca-Cola Brand\\n\\n\\n\\n\\n\\n\\n\\n\\n\\n\\n\\n\\n\\n\\n\\n5 Companies Owned by Comcast\\n\\n\\n\\n\\n\\n\\n\\n\\n\\n\\n\\n\\n \\n\\n\\n \\n\\n \\n\\n\\n \\n\\n \\n\\n\\n \\n\\n \\n\\n\\n \\n\\n\\n\\n About Us\\nTerms of Service\\nDictionary\\nEditorial Policy\\nAdvertise\\nNews\\nPrivacy Policy\\nContact Us\\nCareers\\nEU Privacy\\n\\n\\n#\\nA\\nB\\nC\\nD\\nE\\nF\\nG\\nH\\nI\\nJ\\nK\\nL\\nM\\nN\\nO\\nP\\nQ\\nR\\nS\\nT\\nU\\nV\\nW\\nX\\nY\\nZ\\n \\n\\n\\n\\n\\n\\nInvestopedia\\nis part of the Dotdash Meredith\\xa0publishing\\xa0family.\\n\\nAllen was Microsoft\\'s chief technologist until he resigned in 1983. He passed away in 2018.\\n\\n\\n In January 2000, Steve Ballmer was named Microsoft\\'s President and Chief Executive Officer. He left the company in 2014. Satya Nadella has held the position of CEO since 2014. He has overseen an important period of change for the company, during which it has placed a major focus on cloud computing and subscription services, and AI.\\n\\n\\n  Recent Developments  \\n • In May 2024, Microsoft announced its intended investment in Southeast Wisconsin to develop AI-powered economic activity, innovation, and job creation. The amount of $3.3 billion will go to cloud computing and AI infrastructure, an AI co-innovation lab that will focus on manufacturing, and a program to train more than 100,000 Wisconsin residents in AI.', name='retriever_vector_db_blog', id='2e86fb32-8fc6-474e-bcc7-ffde8dcf02da', tool_call_id='call_99gwLtob4MLp9t8TZQWpsAdk'),\n",
       "  AIMessage(content='What recent developments or discoveries have been made regarding Mars?', additional_kwargs={'refusal': None}, response_metadata={'token_usage': {'completion_tokens': 12, 'prompt_tokens': 54, 'total_tokens': 66, 'completion_tokens_details': {'accepted_prediction_tokens': 0, 'audio_tokens': 0, 'reasoning_tokens': 0, 'rejected_prediction_tokens': 0}, 'prompt_tokens_details': {'audio_tokens': 0, 'cached_tokens': 0}}, 'model_name': 'gpt-4o-2024-08-06', 'system_fingerprint': 'fp_f5bdcc3276', 'id': 'chatcmpl-BSTusUym27eaMcu68I4fcKG2wFNSe', 'finish_reason': 'stop', 'logprobs': None}, id='run-07f1cd7b-962b-4fcb-b6ef-ad59300533ba-0', usage_metadata={'input_tokens': 54, 'output_tokens': 12, 'total_tokens': 66, 'input_token_details': {'audio': 0, 'cache_read': 0}, 'output_token_details': {'audio': 0, 'reasoning': 0}}),\n",
       "  AIMessage(content='', additional_kwargs={'tool_calls': [{'id': 'call_BfiDuZXNhr8u0ycwmi1vHClx', 'function': {'arguments': '{\"query\":\"Mars recent discoveries 2023\"}', 'name': 'retriever_vector_db_blog'}, 'type': 'function'}], 'refusal': None}, response_metadata={'token_usage': {'completion_tokens': 24, 'prompt_tokens': 611, 'total_tokens': 635, 'completion_tokens_details': {'accepted_prediction_tokens': 0, 'audio_tokens': 0, 'reasoning_tokens': 0, 'rejected_prediction_tokens': 0}, 'prompt_tokens_details': {'audio_tokens': 0, 'cached_tokens': 0}}, 'model_name': 'gpt-4o-2024-08-06', 'system_fingerprint': 'fp_f5bdcc3276', 'id': 'chatcmpl-BSTutnChToTGoF7ETxkLOUE4J2THU', 'finish_reason': 'tool_calls', 'logprobs': None}, id='run-af30d2da-c28d-4421-8b8e-af07c947c884-0', tool_calls=[{'name': 'retriever_vector_db_blog', 'args': {'query': 'Mars recent discoveries 2023'}, 'id': 'call_BfiDuZXNhr8u0ycwmi1vHClx', 'type': 'tool_call'}], usage_metadata={'input_tokens': 611, 'output_tokens': 24, 'total_tokens': 635, 'input_token_details': {'audio': 0, 'cache_read': 0}, 'output_token_details': {'audio': 0, 'reasoning': 0}}),\n",
       "  ToolMessage(content='U.S. Securities and Exchange Commission. \"Form 10-Q Microsoft Corporation,\" Page 29.\\nForbes. \"Exclusive: Bill Gates On Advising OpenAI, Microsoft And Why AI Is ‘The Hottest Topic Of 2023’.\"\\nMicrosoft. \"About Microsoft: Satya Nadella Marks Five Years as CEO.\"\\nMicrosoft. \"Microsoft Announces $3.3 Billion Investment in Wisconsin To Spur Artificial Intelligence Innovation and Economic Growth.\"\\nMicrosoft. \"Microsoft Announces US$1.7 Billion Investment To Advance Indonesia’s Cloud and AI Ambitions.\"\\nMicrosoft. \"Microsoft Announces Collaboration With NVIDIA To Accelerate Healthcare and Life Sciences Innovation With Advanced Cloud, AI and Accelerated Computing Capabilities.\"\\n\\n• In April 2024, Microsoft announced an investment of $1.7 billion to build new cloud and AI infrastructure in the nation of Indonesia. It will also offer training in AI for 840,000 people. The investment is the largest Microsoft has ever made in Indonesia.\\xa0Microsoft\\'s goal is to assist the Indonesian government in achieving its Golden Indonesia 2045 Vision of developing the nation into a \"global economic powerhouse.\"\\n\\n\\n • In March 2024, Microsoft and NVIDIA merged their efforts to deliver the capabilities of generative AI, the cloud, and accelerated computing to companies focused on healthcare and life sciences. Microsoft Azure,\\xa0NVIDIA\\xa0DGX Cloud, and the\\xa0NVIDIA\\xa0Clara\\xa0computing platforms and software will be used to improve patient care.\\n\\n\\n What\\'s the Value of a Share of Microsoft Stock?\\nOn May 10, 2024, a share of Microsoft was trading at $413.86.\\n\\nAllen was Microsoft\\'s chief technologist until he resigned in 1983. He passed away in 2018.\\n\\n\\n In January 2000, Steve Ballmer was named Microsoft\\'s President and Chief Executive Officer. He left the company in 2014. Satya Nadella has held the position of CEO since 2014. He has overseen an important period of change for the company, during which it has placed a major focus on cloud computing and subscription services, and AI.\\n\\n\\n  Recent Developments  \\n • In May 2024, Microsoft announced its intended investment in Southeast Wisconsin to develop AI-powered economic activity, innovation, and job creation. The amount of $3.3 billion will go to cloud computing and AI infrastructure, an AI co-innovation lab that will focus on manufacturing, and a program to train more than 100,000 Wisconsin residents in AI.\\n\\nInvestopedia requires writers to use primary sources to support their work. These include white papers, government data, original reporting, and interviews with industry experts. We also reference original research from other reputable publishers where appropriate. You can learn more about the standards we follow in producing accurate, unbiased content in our\\neditorial policy.\\n \\nMicrosoft. \"Annual Report 2023: CEO\\'s Letter.\"\\nMicrosoft. \"Annual Report 2023: Business–What We Offer.\"\\nMicrosoft. \"Annual Report 2023: Business–Embracing Our Future.\"\\ncompaniesmarketcap. \"Largest Companies by Market Cap.\"\\ncompaniesmarketcap. \"Market Capitalization of Microsoft (MSFT).\"\\nMicrosoft. \"Microsoft Cloud Strength Fuels Third Quarter Results.\"\\nMicrosoft. \"Annual Report 2023: Summary Results of Operations.\"\\nMicrosoft. \"Segment Information.\"\\nMicrosoft. \"Annual Report 2023: Segment Results of Operations.\"\\nU.S. Securities and Exchange Commission. \"Form 10-Q Microsoft Corporation,\" Page 29.', name='retriever_vector_db_blog', id='16a22282-55c5-403b-913f-889a0f2a4628', tool_call_id='call_BfiDuZXNhr8u0ycwmi1vHClx'),\n",
       "  AIMessage(content='What recent developments or discoveries have been made on or about Mars?', additional_kwargs={'refusal': None}, response_metadata={'token_usage': {'completion_tokens': 14, 'prompt_tokens': 54, 'total_tokens': 68, 'completion_tokens_details': {'accepted_prediction_tokens': 0, 'audio_tokens': 0, 'reasoning_tokens': 0, 'rejected_prediction_tokens': 0}, 'prompt_tokens_details': {'audio_tokens': 0, 'cached_tokens': 0}}, 'model_name': 'gpt-4o-2024-08-06', 'system_fingerprint': 'fp_f5bdcc3276', 'id': 'chatcmpl-BSTuvQX0MuuQy4moi2nZJ1LAYDycy', 'finish_reason': 'stop', 'logprobs': None}, id='run-59b4a44e-2777-49ed-b070-d412aa3307a5-0', usage_metadata={'input_tokens': 54, 'output_tokens': 14, 'total_tokens': 68, 'input_token_details': {'audio': 0, 'cache_read': 0}, 'output_token_details': {'audio': 0, 'reasoning': 0}}),\n",
       "  AIMessage(content=\"I'm sorry, but I couldn't retrieve any recent updates about Mars from my current resources. However, I recommend checking NASA's official website or reputable space news outlets for the latest discoveries and missions related to Mars.\", additional_kwargs={'refusal': None}, response_metadata={'token_usage': {'completion_tokens': 43, 'prompt_tokens': 1362, 'total_tokens': 1405, 'completion_tokens_details': {'accepted_prediction_tokens': 0, 'audio_tokens': 0, 'reasoning_tokens': 0, 'rejected_prediction_tokens': 0}, 'prompt_tokens_details': {'audio_tokens': 0, 'cached_tokens': 0}}, 'model_name': 'gpt-4o-2024-08-06', 'system_fingerprint': 'fp_f5bdcc3276', 'id': 'chatcmpl-BSTuw3r2aw596p823UWmrqfXHU3Tr', 'finish_reason': 'stop', 'logprobs': None}, id='run-c22871bd-4b36-4430-a3cd-3533f3888764-0', usage_metadata={'input_tokens': 1362, 'output_tokens': 43, 'total_tokens': 1405, 'input_token_details': {'audio': 0, 'cache_read': 0}, 'output_token_details': {'audio': 0, 'reasoning': 0}})]}"
      ]
     },
     "execution_count": 20,
     "metadata": {},
     "output_type": "execute_result"
    }
   ],
   "source": [
    "graph.invoke({\"messages\":\"What is happening in Planet Mars\"})"
   ]
  },
  {
   "cell_type": "code",
   "execution_count": 21,
   "id": "2c21d084",
   "metadata": {},
   "outputs": [
    {
     "name": "stdout",
     "output_type": "stream",
     "text": [
      "---CALL AGENT---\n",
      "---CHECK RELEVANCE---\n",
      "---DECISION: DOCS RELEVANT---\n",
      "---GENERATE---\n"
     ]
    },
    {
     "data": {
      "text/plain": [
       "{'messages': [HumanMessage(content='What are the revenue distribution of Microsoft company ', additional_kwargs={}, response_metadata={}, id='c8847a04-008d-4975-a85d-1d35f263b83c'),\n",
       "  AIMessage(content='', additional_kwargs={'tool_calls': [{'id': 'call_GeqPvjP8oCyrwhQArw4rOQP3', 'function': {'arguments': '{\"query\":\"Microsoft revenue distribution 2023\"}', 'name': 'retriever_vector_db_blog'}, 'type': 'function'}], 'refusal': None}, response_metadata={'token_usage': {'completion_tokens': 24, 'prompt_tokens': 67, 'total_tokens': 91, 'completion_tokens_details': {'accepted_prediction_tokens': 0, 'audio_tokens': 0, 'reasoning_tokens': 0, 'rejected_prediction_tokens': 0}, 'prompt_tokens_details': {'audio_tokens': 0, 'cached_tokens': 0}}, 'model_name': 'gpt-4o-2024-08-06', 'system_fingerprint': 'fp_f5bdcc3276', 'id': 'chatcmpl-BSTwRgCwjaVCeZBd23Ns1b8HeoQHq', 'finish_reason': 'tool_calls', 'logprobs': None}, id='run-94c4cf52-b0bb-431a-a05d-0309fc1ee1d1-0', tool_calls=[{'name': 'retriever_vector_db_blog', 'args': {'query': 'Microsoft revenue distribution 2023'}, 'id': 'call_GeqPvjP8oCyrwhQArw4rOQP3', 'type': 'tool_call'}], usage_metadata={'input_tokens': 67, 'output_tokens': 24, 'total_tokens': 91, 'input_token_details': {'audio': 0, 'cache_read': 0}, 'output_token_details': {'audio': 0, 'reasoning': 0}}),\n",
       "  ToolMessage(content='For the third quarter of FY 2024, revenue was $26.7 billion, an increase of 21% over the same period the previous year. In addition to the growth of revenue from Microsoft Cloud mentioned above, revenue from Azure and other cloud services grew 31%, which powered the overall revenue from server products and cloud services to a 24% growth. Operating income for the quarter was $12.5 billion, up about 32%.\\n\\n\\n More Personal Computing\\n\\n\\n Microsoft describes its More Personal Computing segment as consisting of products and services aimed at putting \"customers at the center of the experience with our technology.\" The Windows operating system, Surface device, gaming products, and search and news advertising are all included in this segment.\\n\\n\\n For FY 2023, More Personal Computing generated $54.7 billion in revenue, down 9% from the previous year. Operating income was $16.4 billion, down 20%.\\n\\nRevenue  \\n For FY 2023, revenue was $211.91 billion, an increase of 7% over the previous year\\'s $198.27 billion. For the third quarter of FY 2024, revenue was $61.9 billion, an increase of 17% over the previous year\\'s third quarter.\\n\\n\\n  Net Income  \\n For FY 2023, net income was $72.36 billion, a drop of 1% from the previous year\\'s $72.73 billion. For the third quarter of FY 2024, net income was $21.9 billion, an increase of 20% over the previous year\\'s third quarter.\\n\\n\\n  Operating Income  \\n For FY 2023, operating income was $88.52 billion, an increase of 6% over the previous year\\'s $83.38 billion. For the third quarter of FY 2024, operating income was $27.6 billion, an increase of 23% over the previous year\\'s third quarter.\\n\\n\\n  Revenue From Business Segments  \\n Microsoft divides its business into three segments for the purpose of operating and reporting. These segments are Productivity and Business Processes, Intelligent Cloud, and More Personal Computing.\\n\\nFor the third quarter of FY 2024, revenue was $19.6 billion, an increase of 12% over the same period the previous year. It was driven by Dynamics products and cloud services which increased 19%. Operating income for the quarter was $10.1 billion, up about 17%.\\n\\n\\n Intelligent Cloud\\n\\n\\n The Intelligent Cloud segment is comprised of all of Microsoft\\'s public, private, and hybrid server products as well as cloud services for business. These include Microsoft Azure, SQL Server, Windows Server, GitHub, Enterprise Services, and more.\\n\\n\\n For FY 2023, Intelligent Cloud generated $87.9 billion in revenue, up 17% over the previous year. Operating income was $37.8 billion, an increase of 14% over the previous year.\\n\\nDeveloper & IT  \\nDeveloper & IT  \\n\\n\\nAzure\\n\\n\\nMicrosoft Developer\\n\\n\\nMicrosoft Learn\\n\\n\\nSupport for AI marketplace apps\\n\\n\\nMicrosoft Tech Community\\n\\n\\nAzure Marketplace\\n\\n\\nAppSource\\n\\n\\nVisual Studio\\n\\n\\n\\n\\nOther\\nOther\\n\\n\\nMicrosoft Rewards \\n\\n\\nFree downloads & security\\n\\n\\nEducation\\n\\n\\nGift cards\\n\\n\\nLicensing\\n\\n\\nUnlocked stories\\n\\n\\n\\n\\nView Sitemap\\n\\n\\n\\n\\n\\n\\n\\n\\n\\n\\nSearch\\nSearch Microsoft.com\\n\\n\\n\\n\\n No results\\n\\n\\n\\n\\nCancel\\n\\n\\n\\n\\n\\n\\n\\n\\n\\n\\n\\n\\n\\n\\n\\n\\n\\n\\n\\n\\n\\n\\n\\n\\n\\n\\n\\n\\nEarnings Release FY24 Q4\\n\\n\\n\\n\\n\\n\\n\\n\\n                Income Statements\\n                    \\n\\n\\n\\n\\n                Comprehensive Income\\n                    \\n\\n\\n\\n\\n                Balance Sheets\\n                    \\n\\n\\n\\n\\n                Cash Flows\\n                    \\n\\n\\n\\n\\nSegment Revenue & Operating Income\\n\\n\\n\\n\\n\\n\\n\\n\\n\\n\\n\\n\\n\\n\\n\\n\\n\\n\\n\\n\\n\\n\\nSegment Revenue and Operating Income\\n\\n\\n\\n\\n\\n\\r\\n  (In millions) \\n\\n\\n\\nYear Ended June 30,\\n\\n\\n\\n\\n2024\\n\\n\\n2023\\n\\n\\n2022\\n\\n\\n\\n\\n\\n\\nElementName\\n\\nRevenue\\n\\n\\n\\n\\n\\n\\n\\nus-gaap:RevenueFromContractWithCustomerExcludingAssessedTaxmsft:ProductivityAndBusinessProcessesMember', name='retriever_vector_db_blog', id='c86700a9-e5a3-465e-a20a-9dc626f036e5', tool_call_id='call_GeqPvjP8oCyrwhQArw4rOQP3'),\n",
       "  HumanMessage(content=\"Microsoft's revenue is distributed across three main segments: Productivity and Business Processes, Intelligent Cloud, and More Personal Computing. For FY 2023, the Intelligent Cloud segment generated $87.9 billion, and More Personal Computing generated $54.7 billion. The specific numbers for the Productivity and Business Processes segment aren't provided, but together with the other segments, Microsoft's total revenue for FY 2023 was $211.91 billion.\", additional_kwargs={}, response_metadata={}, id='da509b4b-0354-4b9b-9127-dcb980964018')]}"
      ]
     },
     "execution_count": 21,
     "metadata": {},
     "output_type": "execute_result"
    }
   ],
   "source": [
    "graph.invoke({\"messages\":\"What are the revenue distribution of Microsoft company \"})"
   ]
  },
  {
   "cell_type": "code",
   "execution_count": null,
   "id": "06807c6a",
   "metadata": {},
   "outputs": [],
   "source": []
  },
  {
   "cell_type": "code",
   "execution_count": null,
   "id": "e4665bf6",
   "metadata": {},
   "outputs": [],
   "source": []
  },
  {
   "cell_type": "code",
   "execution_count": 22,
   "id": "81e207b6",
   "metadata": {},
   "outputs": [
    {
     "name": "stdout",
     "output_type": "stream",
     "text": [
      "---CALL AGENT---\n",
      "{'agent': {'messages': [AIMessage(content='', additional_kwargs={'tool_calls': [{'id': 'call_fyvOSGeGdA36ElJDbEAiT8mn', 'function': {'arguments': '{\"query\": \"Microsoft revenue streams\"}', 'name': 'retriever_vector_db_blog'}, 'type': 'function'}, {'id': 'call_DAQGlf6WrJneVidppjTnE1SD', 'function': {'arguments': '{\"query\": \"how Microsoft makes money\"}', 'name': 'retriever_vector_db_blog'}, 'type': 'function'}], 'refusal': None}, response_metadata={'token_usage': {'completion_tokens': 58, 'prompt_tokens': 64, 'total_tokens': 122, 'completion_tokens_details': {'accepted_prediction_tokens': 0, 'audio_tokens': 0, 'reasoning_tokens': 0, 'rejected_prediction_tokens': 0}, 'prompt_tokens_details': {'audio_tokens': 0, 'cached_tokens': 0}}, 'model_name': 'gpt-4o-2024-08-06', 'system_fingerprint': 'fp_f5bdcc3276', 'id': 'chatcmpl-BSTzZZlyGYCaieYqrC6eCFXcU7gP9', 'finish_reason': 'tool_calls', 'logprobs': None}, id='run-5e336415-6d77-466b-b2d2-c0fd135f3f69-0', tool_calls=[{'name': 'retriever_vector_db_blog', 'args': {'query': 'Microsoft revenue streams'}, 'id': 'call_fyvOSGeGdA36ElJDbEAiT8mn', 'type': 'tool_call'}, {'name': 'retriever_vector_db_blog', 'args': {'query': 'how Microsoft makes money'}, 'id': 'call_DAQGlf6WrJneVidppjTnE1SD', 'type': 'tool_call'}], usage_metadata={'input_tokens': 64, 'output_tokens': 58, 'total_tokens': 122, 'input_token_details': {'audio': 0, 'cache_read': 0}, 'output_token_details': {'audio': 0, 'reasoning': 0}})]}}\n",
      "---CHECK RELEVANCE---\n",
      "---DECISION: DOCS RELEVANT---\n",
      "{'retrieve': {'messages': [ToolMessage(content='For the third quarter of FY 2024, revenue was $26.7 billion, an increase of 21% over the same period the previous year. In addition to the growth of revenue from Microsoft Cloud mentioned above, revenue from Azure and other cloud services grew 31%, which powered the overall revenue from server products and cloud services to a 24% growth. Operating income for the quarter was $12.5 billion, up about 32%.\\n\\n\\n More Personal Computing\\n\\n\\n Microsoft describes its More Personal Computing segment as consisting of products and services aimed at putting \"customers at the center of the experience with our technology.\" The Windows operating system, Surface device, gaming products, and search and news advertising are all included in this segment.\\n\\n\\n For FY 2023, More Personal Computing generated $54.7 billion in revenue, down 9% from the previous year. Operating income was $16.4 billion, down 20%.\\n\\nDeveloper & IT  \\nDeveloper & IT  \\n\\n\\nAzure\\n\\n\\nMicrosoft Developer\\n\\n\\nMicrosoft Learn\\n\\n\\nSupport for AI marketplace apps\\n\\n\\nMicrosoft Tech Community\\n\\n\\nAzure Marketplace\\n\\n\\nAppSource\\n\\n\\nVisual Studio\\n\\n\\n\\n\\nOther\\nOther\\n\\n\\nMicrosoft Rewards \\n\\n\\nFree downloads & security\\n\\n\\nEducation\\n\\n\\nGift cards\\n\\n\\nLicensing\\n\\n\\nUnlocked stories\\n\\n\\n\\n\\nView Sitemap\\n\\n\\n\\n\\n\\n\\n\\n\\n\\n\\nSearch\\nSearch Microsoft.com\\n\\n\\n\\n\\n No results\\n\\n\\n\\n\\nCancel\\n\\n\\n\\n\\n\\n\\n\\n\\n\\n\\n\\n\\n\\n\\n\\n\\n\\n\\n\\n\\n\\n\\n\\n\\n\\n\\n\\n\\nEarnings Release FY24 Q4\\n\\n\\n\\n\\n\\n\\n\\n\\n                Income Statements\\n                    \\n\\n\\n\\n\\n                Comprehensive Income\\n                    \\n\\n\\n\\n\\n                Balance Sheets\\n                    \\n\\n\\n\\n\\n                Cash Flows\\n                    \\n\\n\\n\\n\\nSegment Revenue & Operating Income\\n\\n\\n\\n\\n\\n\\n\\n\\n\\n\\n\\n\\n\\n\\n\\n\\n\\n\\n\\n\\n\\n\\nSegment Revenue and Operating Income\\n\\n\\n\\n\\n\\n\\r\\n  (In millions) \\n\\n\\n\\nYear Ended June 30,\\n\\n\\n\\n\\n2024\\n\\n\\n2023\\n\\n\\n2022\\n\\n\\n\\n\\n\\n\\nElementName\\n\\nRevenue\\n\\n\\n\\n\\n\\n\\n\\nus-gaap:RevenueFromContractWithCustomerExcludingAssessedTaxmsft:ProductivityAndBusinessProcessesMember\\n\\nRevenue  \\n For FY 2023, revenue was $211.91 billion, an increase of 7% over the previous year\\'s $198.27 billion. For the third quarter of FY 2024, revenue was $61.9 billion, an increase of 17% over the previous year\\'s third quarter.\\n\\n\\n  Net Income  \\n For FY 2023, net income was $72.36 billion, a drop of 1% from the previous year\\'s $72.73 billion. For the third quarter of FY 2024, net income was $21.9 billion, an increase of 20% over the previous year\\'s third quarter.\\n\\n\\n  Operating Income  \\n For FY 2023, operating income was $88.52 billion, an increase of 6% over the previous year\\'s $83.38 billion. For the third quarter of FY 2024, operating income was $27.6 billion, an increase of 23% over the previous year\\'s third quarter.\\n\\n\\n  Revenue From Business Segments  \\n Microsoft divides its business into three segments for the purpose of operating and reporting. These segments are Productivity and Business Processes, Intelligent Cloud, and More Personal Computing.\\n\\nFor the third quarter of FY 2024, revenue was $19.6 billion, an increase of 12% over the same period the previous year. It was driven by Dynamics products and cloud services which increased 19%. Operating income for the quarter was $10.1 billion, up about 17%.\\n\\n\\n Intelligent Cloud\\n\\n\\n The Intelligent Cloud segment is comprised of all of Microsoft\\'s public, private, and hybrid server products as well as cloud services for business. These include Microsoft Azure, SQL Server, Windows Server, GitHub, Enterprise Services, and more.\\n\\n\\n For FY 2023, Intelligent Cloud generated $87.9 billion in revenue, up 17% over the previous year. Operating income was $37.8 billion, an increase of 14% over the previous year.', name='retriever_vector_db_blog', id='8a2d96ba-f9b7-4211-81bf-cb92b426d615', tool_call_id='call_fyvOSGeGdA36ElJDbEAiT8mn'), ToolMessage(content='Learn about our \\neditorial policies\\n\\n\\n\\n\\n\\n\\nClose\\n\\n\\n\\n Microsoft Corp., one of the world\\'s biggest tech companies, sells a variety of products and services to support the various efforts of people and businesses in work and life. The source of its greatest amount of revenue is its Intelligent Cloud business segment.\\n\\n\\n For the AI era, Microsoft is reexamining all of its customer solutions and every part of its tech stack to ensure that it delivers responsibly designed AI and maintains the company\\'s mission to \"empower every person and every organization on the planet to achieve more.\"\\n\\n\\n Microsoft\\'s products include operating systems, server applications, business solution applications, software development tools, and collaboration applications. It also designs and offers personal computing devices such as PCs, tablets, and gaming consoles.\\n\\n\\n Its services include cloud-based computing solutions, online advertising, online platforms and content, and consulting.\\n\\nFor the third quarter of FY 2024, revenue was $26.7 billion, an increase of 21% over the same period the previous year. In addition to the growth of revenue from Microsoft Cloud mentioned above, revenue from Azure and other cloud services grew 31%, which powered the overall revenue from server products and cloud services to a 24% growth. Operating income for the quarter was $12.5 billion, up about 32%.\\n\\n\\n More Personal Computing\\n\\n\\n Microsoft describes its More Personal Computing segment as consisting of products and services aimed at putting \"customers at the center of the experience with our technology.\" The Windows operating system, Surface device, gaming products, and search and news advertising are all included in this segment.\\n\\n\\n For FY 2023, More Personal Computing generated $54.7 billion in revenue, down 9% from the previous year. Operating income was $16.4 billion, down 20%.\\n\\nFor the third quarter of FY 2024, revenue was $15.6 billion, an increase of 17% over the same period the previous year. Revenue from Xbox content and services grew by 62%. Search and news advertising revenue grew by 12%. Operating income for the quarter was $4.9 billion, up about 16%.\\n\\n\\n\\n\\n  History and Leadership  \\n Microsoft was founded in 1975 by Bill Gates and Paul Allen. It is headquartered in Redmond, Wash.\\n\\n\\n Gates was a software developer and manager in the company. He stepped away from daily activities in 2008 and resigned from the Board of Directors in 2020. Gates continues to meet with the company\\'s product teams to discuss a variety of relevant topics, and in particular, artificial intelligence and Microsoft\\'s role in developing AI\\'s capabilities for a variety of applications.\\n\\n\\n Allen was Microsoft\\'s chief technologist until he resigned in 1983. He passed away in 2018.\\n\\nHow Microsoft Makes Money\\n\\n\\n\\n\\n\\n\\n\\n\\n\\n\\n\\n\\n\\n\\n\\n\\n\\n\\n\\n\\n\\n\\n\\n\\n\\n\\n\\n\\n\\n\\n\\n\\n\\n\\n\\n\\n\\n\\n\\n\\n\\n\\n\\n\\n\\n\\n\\n\\n\\n\\n\\n \\n\\n \\n\\n \\n\\n \\n\\n \\n\\n \\n\\n \\n\\n \\n\\n \\n\\n \\n\\n \\n\\n \\n\\n \\n\\n \\n\\n \\n\\n \\n\\n \\n\\n \\n\\n \\n\\n \\n\\n \\n\\n \\n\\n \\n\\n \\n\\n \\n\\n \\n\\n \\n\\n\\n\\n\\n\\n\\n\\nSkip to content\\n\\n\\n\\n\\n\\n\\n\\n\\n\\n\\n\\n\\n\\n\\n\\n\\n \\n\\n\\n\\n\\n News\\n\\n\\n\\n Markets\\n \\n\\n Companies\\n \\n\\n Earnings\\n \\n\\n CD Rates\\n \\n\\n Mortgage Rates\\n \\n\\n Economy\\n \\n\\n Government\\n \\n\\n Crypto\\n \\n\\n Live Markets News\\n \\n\\n Personal Finance\\n \\n\\n View All\\n \\n\\n\\n\\n Investing\\n\\n\\n\\n Best Online Brokers\\n \\n\\n Best Stock Screeners\\n \\n\\n Best Robo Advisors\\n \\n\\n Best Investment Apps\\n \\n\\n Best Brokers for ETFs\\n \\n\\n Best Crypto Exchanges\\n \\n\\n Best Gold IRAs\\n \\n\\n Best IRAs\\n \\n\\n Best Bitcoin IRAs\\n \\n\\n View All\\n \\n\\n\\n\\n Banking\\n\\n\\n\\n Best CD Rates\\n \\n\\n Best High Yield Savings Accounts\\n \\n\\n Best 1 Year CD Rates\\n \\n\\n Best 6 Month CD Rates\\n \\n\\n Best Jumbo CD Rates\\n \\n\\n Best Money Market Accounts\\n \\n\\n Best 3 Month CD Rates\\n \\n\\n Best 18 Month CD Rates\\n \\n\\n Best Savings Account for Kids\\n \\n\\n View All\\n \\n\\n\\n\\n Personal Finance\\n\\n\\n\\n Best Savings Account Bonuses\\n \\n\\n Best Bank Account Bonuses', name='retriever_vector_db_blog', id='b66a8b9d-1976-4b0d-90e6-69c2dd36fae9', tool_call_id='call_DAQGlf6WrJneVidppjTnE1SD')]}}\n",
      "---GENERATE---\n",
      "{'generate': {'messages': ['Microsoft earns money primarily from its Intelligent Cloud business segment, which includes Azure and other cloud services. It also generates revenue through personal computing products like Windows, Surface devices, and Xbox, as well as through online advertising. Additionally, Microsoft offers a variety of products and services, including operating systems, server applications, and personal computing devices.']}}\n"
     ]
    }
   ],
   "source": [
    "inputs={\n",
    "    \"messages\": [\n",
    "        (\"user\", \"How Microsoft is earning money?\"),\n",
    "    ]\n",
    "}\n",
    "for output in graph.stream(inputs):\n",
    "    print(output)"
   ]
  },
  {
   "cell_type": "code",
   "execution_count": 24,
   "id": "44c2e863",
   "metadata": {},
   "outputs": [
    {
     "name": "stdout",
     "output_type": "stream",
     "text": [
      "---CALL AGENT---\n",
      "{'agent': {'messages': [AIMessage(content='', additional_kwargs={'tool_calls': [{'id': 'call_erFusWkvmzG3ieW2YQUe50Bt', 'function': {'arguments': '{\"query\":\"Microsoft profit details\"}', 'name': 'retriever_vector_db_blog'}, 'type': 'function'}], 'refusal': None}, response_metadata={'token_usage': {'completion_tokens': 21, 'prompt_tokens': 65, 'total_tokens': 86, 'completion_tokens_details': {'accepted_prediction_tokens': 0, 'audio_tokens': 0, 'reasoning_tokens': 0, 'rejected_prediction_tokens': 0}, 'prompt_tokens_details': {'audio_tokens': 0, 'cached_tokens': 0}}, 'model_name': 'gpt-4o-2024-08-06', 'system_fingerprint': 'fp_f5bdcc3276', 'id': 'chatcmpl-BSU20LTBgTxFxQJmqEwiUP9K3Dx8e', 'finish_reason': 'tool_calls', 'logprobs': None}, id='run-27e93e9d-301c-4697-a0bb-1c6bdb6a51cf-0', tool_calls=[{'name': 'retriever_vector_db_blog', 'args': {'query': 'Microsoft profit details'}, 'id': 'call_erFusWkvmzG3ieW2YQUe50Bt', 'type': 'tool_call'}], usage_metadata={'input_tokens': 65, 'output_tokens': 21, 'total_tokens': 86, 'input_token_details': {'audio': 0, 'cache_read': 0}, 'output_token_details': {'audio': 0, 'reasoning': 0}})]}}\n",
      "---CHECK RELEVANCE---\n",
      "---DECISION: DOCS RELEVANT---\n",
      "{'retrieve': {'messages': [ToolMessage(content='The foundation for all of Microsoft\\'s efforts are the core principles of fairness, reliability and safety, privacy and security, inclusiveness, transparency, and accountability.\\n\\n\\n Key Takeaways\\nMicrosoft sells computing devices, cloud systems and services, software, and other products to consumers and businesses.The company\\'s Intelligent Cloud segment is the largest source of profit, as well as the fastest-growing.Microsoft is focused on delivering AI solutions to customers in a broad swath of industries.Some of its many competitors include Apple, Amazon, Meta, Alphabet, Oracle, and IBM.Microsoft\\'s current CEO is Satya Nadella.\\n\\n  Microsoft\\'s Industry  \\n Microsoft (MSFT) operates in the software industry within the information technology sector. AI continues to drive the software industry at a lightning pace. Microsoft is at the forefront of the development and distribution of AI for application by all types of companies, business industries, people, and countries.\\n\\nIts three business and reporting segments, Productivity and Business Processes, Intelligent Cloud, and More Personal Computing face competition from such well-known companies as:\\n\\n\\n Productivity and Business Processes\\n\\n\\n\\nApple (AAPL)\\nCisco Systems (CSCO)\\nMeta (META)\\nAlphabet (GOOG)\\nOkta (OKTA)\\nSlack (WORK)\\nZoom (ZM)\\nOracle (ORCL)\\nSalesforce (CRM)\\nSAP (SAP)\\n\\n\\n Intelligent Cloud\\n\\n\\n\\nAmazon Code Whisperer\\nGoogle AI\\nIBM (IBM)\\nOracle\\nVMware\\nHewlett-Packard (HPE)\\nAdobe (ADBE)\\nApache\\nCA Technologies\\nSnowflake\\n\\n\\n More Personal Computing\\n\\n\\n\\nApple\\nAmazon (AMZN)\\nMeta\\nTencent\\nNintendo\\nSony\\n\\n\\n Fast Fact\\nMicrosoft is the largest company in the world as measured by market cap.\\n\\n\\n\\n  Microsoft\\'s Financials  \\n As of May 2024, Microsoft\\'s market capitalization was $3.07 trillion.\\n\\n\\n Microsoft\\'s 2023 annual report reported the company\\'s financial results for the 2023 fiscal year (FY). Additionally, on April 25, 2024, the company announced financial results for the quarter ended March 31, 2024.\\n\\nFor the third quarter of FY 2024, revenue was $26.7 billion, an increase of 21% over the same period the previous year. In addition to the growth of revenue from Microsoft Cloud mentioned above, revenue from Azure and other cloud services grew 31%, which powered the overall revenue from server products and cloud services to a 24% growth. Operating income for the quarter was $12.5 billion, up about 32%.\\n\\n\\n More Personal Computing\\n\\n\\n Microsoft describes its More Personal Computing segment as consisting of products and services aimed at putting \"customers at the center of the experience with our technology.\" The Windows operating system, Surface device, gaming products, and search and news advertising are all included in this segment.\\n\\n\\n For FY 2023, More Personal Computing generated $54.7 billion in revenue, down 9% from the previous year. Operating income was $16.4 billion, down 20%.\\n\\nFor the third quarter of FY 2024, revenue was $15.6 billion, an increase of 17% over the same period the previous year. Revenue from Xbox content and services grew by 62%. Search and news advertising revenue grew by 12%. Operating income for the quarter was $4.9 billion, up about 16%.\\n\\n\\n\\n\\n  History and Leadership  \\n Microsoft was founded in 1975 by Bill Gates and Paul Allen. It is headquartered in Redmond, Wash.\\n\\n\\n Gates was a software developer and manager in the company. He stepped away from daily activities in 2008 and resigned from the Board of Directors in 2020. Gates continues to meet with the company\\'s product teams to discuss a variety of relevant topics, and in particular, artificial intelligence and Microsoft\\'s role in developing AI\\'s capabilities for a variety of applications.\\n\\n\\n Allen was Microsoft\\'s chief technologist until he resigned in 1983. He passed away in 2018.', name='retriever_vector_db_blog', id='a72fcd27-a4b6-4192-84bd-1ba890e08e0f', tool_call_id='call_erFusWkvmzG3ieW2YQUe50Bt')]}}\n",
      "---GENERATE---\n",
      "{'generate': {'messages': [\"Microsoft is highly profitable, with its Intelligent Cloud segment being the largest source of profit and the fastest-growing area. In the third quarter of FY 2024, operating income was $12.5 billion, up about 32% from the previous year. The company's strategy focuses on cloud services, AI solutions, and a wide range of products and services.\"]}}\n"
     ]
    }
   ],
   "source": [
    "inputs={\n",
    "    \"messages\": [\n",
    "        (\"user\", \"How  microsoft is  profit ?\"),\n",
    "    ]\n",
    "}\n",
    "for output in graph.stream(inputs):\n",
    "    print(output)"
   ]
  },
  {
   "cell_type": "code",
   "execution_count": null,
   "id": "fd6bb7f6",
   "metadata": {},
   "outputs": [],
   "source": []
  },
  {
   "cell_type": "code",
   "execution_count": null,
   "id": "3f2b4e48",
   "metadata": {},
   "outputs": [],
   "source": []
  }
 ],
 "metadata": {
  "kernelspec": {
   "display_name": "venv",
   "language": "python",
   "name": "python3"
  },
  "language_info": {
   "codemirror_mode": {
    "name": "ipython",
    "version": 3
   },
   "file_extension": ".py",
   "mimetype": "text/x-python",
   "name": "python",
   "nbconvert_exporter": "python",
   "pygments_lexer": "ipython3",
   "version": "3.12.7"
  }
 },
 "nbformat": 4,
 "nbformat_minor": 5
}

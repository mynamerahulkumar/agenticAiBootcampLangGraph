{
  "cells": [
    {
      "cell_type": "markdown",
      "metadata": {},
      "source": [
        "### Shark tank Evaluator-optimizer\n",
        "\n",
        "In the evaluator-optimizer workflow, one LLM call generates a response while another provides evaluation and feedback in a loop.\n",
        "\n",
        "When to use this workflow: This workflow is particularly effective when we have clear evaluation criteria, and when iterative refinement provides measurable value. The two signs of good fit are, first, that LLM responses can be demonstrably improved when a human articulates their feedback; and second, that the LLM can provide such feedback. This is analogous to the iterative writing process a human writer might go through when producing a polished document.\n",
        "\n"
      ]
    },
    {
      "cell_type": "code",
      "execution_count": 1,
      "metadata": {},
      "outputs": [
        {
          "data": {
            "text/plain": [
              "AIMessage(content='Hello! How can I assist you today?', additional_kwargs={'refusal': None}, response_metadata={'token_usage': {'completion_tokens': 10, 'prompt_tokens': 10, 'total_tokens': 20, 'completion_tokens_details': {'accepted_prediction_tokens': 0, 'audio_tokens': 0, 'reasoning_tokens': 0, 'rejected_prediction_tokens': 0}, 'prompt_tokens_details': {'audio_tokens': 0, 'cached_tokens': 0}}, 'model_name': 'gpt-4o-2024-08-06', 'system_fingerprint': 'fp_f5bdcc3276', 'id': 'chatcmpl-BQJTdCkWOMwWEQ71w4Ncq5H3BS7H5', 'finish_reason': 'stop', 'logprobs': None}, id='run-01a47ca4-c6d2-4bfa-904e-6f56ead4d682-0', usage_metadata={'input_tokens': 10, 'output_tokens': 10, 'total_tokens': 20, 'input_token_details': {'audio': 0, 'cache_read': 0}, 'output_token_details': {'audio': 0, 'reasoning': 0}})"
            ]
          },
          "execution_count": 1,
          "metadata": {},
          "output_type": "execute_result"
        }
      ],
      "source": [
        "\n",
        "import os\n",
        "from dotenv import load_dotenv\n",
        "load_dotenv()\n",
        "\n",
        "from langchain_groq import ChatGroq\n",
        "from langchain_openai import ChatOpenAI\n",
        "\n",
        "os.environ[\"OPENAI_API_KEY\"]=os.getenv(\"OPENAI_API_KEY\")\n",
        "# os.environ[\"GROQ_API_KEY\"]=os.getenv(\"GROQ_API_KEY\")\n",
        "\n",
        "\n",
        "# llm=ChatGroq(model=\"qwen-2.5-32b\")\n",
        "llm = ChatOpenAI(model=\"gpt-4o\")\n",
        "result=llm.invoke(\"Hello Agent Ai\")\n",
        "result\n"
      ]
    },
    {
      "cell_type": "code",
      "execution_count": 6,
      "metadata": {},
      "outputs": [],
      "source": [
        "from typing_extensions import Literal,TypedDict\n",
        "from pydantic import BaseModel, Field\n",
        "from langchain_core.messages import HumanMessage, SystemMessage\n",
        "from IPython.display import Image,display\n"
      ]
    },
    {
      "cell_type": "code",
      "execution_count": 3,
      "metadata": {},
      "outputs": [
        {
          "name": "stderr",
          "output_type": "stream",
          "text": [
            "/Users/rahulkumar/Documents/GitHub/LLMs_Agent/Langchain_Langgraph/venv/lib/python3.12/site-packages/pydantic/json_schema.py:2324: PydanticJsonSchemaWarning: Default value (FieldInfo(annotation=NoneType, required=True, description='Decide product pitch is good for investment by shark tank judge'),) is not JSON serializable; excluding default from JSON schema [non-serializable-default]\n",
            "  warnings.warn(message, PydanticJsonSchemaWarning)\n"
          ]
        }
      ],
      "source": [
        "#Graph state\n",
        "\n",
        "class State(TypedDict):\n",
        "    pitch:str\n",
        "    product:str\n",
        "    judge_feedback:str \n",
        "    pitch_good_or_not:str \n",
        "\n",
        "# Schema for structured output to use in evaluation\n",
        "class Feedback(BaseModel):\n",
        "    grade:Literal[\"good pitch\",\"not good pitch\"]=Field(description=\"Decide product pitch is good for investment by shark tank judge\"),\n",
        "    feedback:str=Field(\n",
        "        description=\"If the pitch is not investable in current AI market ,provide feedback on how to make product AI marker fit\"\n",
        "    )\n",
        "\n",
        "# Augment the LLM with schema for structured output\n",
        "\n",
        "evaluator=llm.with_structured_output(Feedback)\n",
        "\n",
        "#Nodes \n",
        "\n",
        "def llm_call_pitch_generator(state:State):\n",
        "    \"\"\" LLM generates a pitch based on the topic\"\"\"\n",
        "    if state.get(\"judge_feedback\"):\n",
        "        msg=llm.invoke(\n",
        "            f\"Write a investment pitch for the {state[\"product\"]} but take into account the judge feedback:{state[\"feedback\"]}\"\n",
        "        )\n",
        "    else:\n",
        "        msg=llm.invoke(f\"Write a investment pitch about {state[\"product\"]}\")\n",
        "    return {\"pitch\":msg.content}\n",
        "\n",
        "#Nodes \n",
        "def llm_shark_tank_judge_pitch_evaluator(state:State):\n",
        "    \"\"\"LLM evaluate the pitch as a shark tank judge\"\"\"\n",
        "    grade=evaluator.invoke(f\"Grade the pitch {state[\"product\"]}\")\n",
        "    return {\"pitch_good_or_not\":grade.grade,\"judge_feedback\":grade.feedback}\n",
        "\n",
        "\n",
        "# Conditional edge function to route back to pitch generator or end based upon feedback from the evaluator\n",
        "\n",
        "def route_pitch(state:State):\n",
        "    \"\"\"Route back to pitch generator or end based on upon the feedback from shark tank judge evaluator\"\"\"\n",
        "    if state[\"pitch_good_or_not\"]==\"good pitch\":\n",
        "        return \"Accepted\"\n",
        "    elif state[\"pitch_good_or_not\"]==\"not good pitch\":\n",
        "        return \"Rejected +Feedback\"\n",
        "\n",
        "\n",
        "\n"
      ]
    },
    {
      "cell_type": "code",
      "execution_count": null,
      "metadata": {},
      "outputs": [
        {
          "data": {
            "image/png": "[encoded data removed]",
            "text/plain": [
              "<IPython.core.display.Image object>"
            ]
          },
          "metadata": {},
          "output_type": "display_data"
        }
      ],
      "source": [
        "#Build workflow\n",
        "from langgraph.graph import StateGraph,START,END\n",
        "shark_tank_builder=StateGraph(State)\n",
        "\n",
        "#Add the nodes\n",
        "shark_tank_builder.add_node(\"llm_call_pitch_generator\",llm_call_pitch_generator)\n",
        "shark_tank_builder.add_node(\"llm_shark_tank_judge_pitch_evaluator\",llm_shark_tank_judge_pitch_evaluator)\n",
        "\n",
        "#Add edges to connect nodes \n",
        "shark_tank_builder.add_edge(START,\"llm_call_pitch_generator\")\n",
        "shark_tank_builder.add_edge(\"llm_call_pitch_generator\",\"llm_shark_tank_judge_pitch_evaluator\")\n",
        "\n",
        "shark_tank_builder.add_conditional_edges(\n",
        "    \"llm_shark_tank_judge_pitch_evaluator\",\n",
        "    route_pitch,{\n",
        "        # Name returned by route_joke:NAME OF NEXT NODE TO VISIT\n",
        "        \"Accepted\":END,\n",
        "        \"Rejected +Feedback\":\"llm_call_pitch_generator\"\n",
        "    },\n",
        ")\n",
        "\n",
        "#Compile the workflow\n",
        "shark_tank_workflow=shark_tank_builder.compile()\n",
        "\n",
        "#show the workflow\n",
        "\n",
        "display(Image(shark_tank_workflow.get_graph().draw_mermaid_png()))\n",
        "\n",
        "\n",
        "\n"
      ]
    },
    {
      "cell_type": "markdown",
      "metadata": {
        "id": "VH-pBizvFm9O"
      },
      "source": []
    },
    {
      "cell_type": "code",
      "execution_count": 10,
      "metadata": {},
      "outputs": [
        {
          "name": "stderr",
          "output_type": "stream",
          "text": [
            "/Users/rahulkumar/Documents/GitHub/LLMs_Agent/Langchain_Langgraph/venv/lib/python3.12/site-packages/pydantic/json_schema.py:2324: PydanticJsonSchemaWarning: Default value (FieldInfo(annotation=NoneType, required=True, description='Decide product pitch is good for investment by shark tank judge'),) is not JSON serializable; excluding default from JSON schema [non-serializable-default]\n",
            "  warnings.warn(message, PydanticJsonSchemaWarning)\n"
          ]
        },
        {
          "name": "stdout",
          "output_type": "stream",
          "text": [
            "**Investment Pitch: AI Image Generator**\n",
            "\n",
            "**Introduction:**\n",
            "\n",
            "Ladies and gentlemen, esteemed investors, thank you for joining me today as we explore an unparalleled investment opportunity in the rapidly evolving world of artificial intelligence. I am thrilled to introduce you to our cutting-edge AI Image Generator, a transformative tool at the intersection of technology, creativity, and business, poised to redefine numerous industries and create significant economic value.\n",
            "\n",
            "**The Market Opportunity:**\n",
            "\n",
            "The global AI-driven image synthesis market is projected to grow exponentially over the next decade, driven by the increasing demand for high-quality visual content across various sectors. From advertising and entertainment to design and education, industries are in constant need of innovative, cost-efficient, and scalable solutions for content creation. Our AI Image Generator is designed to meet this demand, thereby capitalizing on an expanding market that is estimated to reach billions of dollars by 2030.\n",
            "\n",
            "**Technology Overview:**\n",
            "\n",
            "Our proprietary AI Image Generator utilizes state-of-the-art deep learning algorithms and generative adversarial networks (GANs) to create stunning, hyper-realistic images from simple textual descriptions or sketches. This not only accelerates the content creation process but also democratizes it, allowing individuals and businesses without graphic design expertise to generate sophisticated visuals effortlessly.\n",
            "\n",
            "**Key Features:**\n",
            "\n",
            "1. **User-Friendliness:** Intuitive interface that requires no technical expertise.\n",
            "2. **Versatility:** Capable of generating a vast range of images suitable for different uses, from marketing collateral to virtual reality environments.\n",
            "3. **Customization:** Offers users unparalleled control over style, color, and composition to tailor images to specific needs.\n",
            "4. **Scalability:** Robust architecture designed to handle large-scale demands efficiently.\n",
            "5. **Integration:** Seamlessly integrates with existing digital and creative tools, enhancing workflow and productivity.\n",
            "\n",
            "**Business Model:**\n",
            "\n",
            "Our business model is centered around a subscription-based SaaS platform. Pricing tiers are tailored to individual users, small to medium enterprises, and large corporations, ensuring accessibility while maximizing revenue. Additionally, we offer API integrations and enterprise solutions for businesses seeking to embed our technology into their operations.\n",
            "\n",
            "**Market Differentiation:**\n",
            "\n",
            "Unlike competitors, our AI Image Generator offers superior quality at an unparalleled speed, combined with a focus on ethical AI practices. Our commitment to responsible AI ensures that our models are trained on diverse and bias-free datasets, appealing to ethically conscious consumers and businesses.\n",
            "\n",
            "**Traction and Roadmap:**\n",
            "\n",
            "Since launching our beta version, we have attracted over 50,000 users, with a 30% conversion rate to paid subscriptions. Our strategic partnerships with content creation platforms and educational institutions further reinforce our market presence. Over the next 18 months, we plan to expand our team, enhance AI capabilities, and explore new verticals like medical imaging and real-time video synthesis.\n",
            "\n",
            "**Financial Projections:**\n",
            "\n",
            "We project a revenue growth rate of 150% year-over-year, with profitability expected within three years. Our modest initial estimates are driven by strong early traction and substantial interest from enterprise clients.\n",
            "\n",
            "**Investment Ask:**\n",
            "\n",
            "We seek a $10 million investment to accelerate development, scale operations, and boost marketing efforts. This funding will also enable us to solidify our position as the market leader and drive innovation to stay ahead of the competitive curve.\n",
            "\n",
            "**Conclusion:**\n",
            "\n",
            "With the AI Image Generator, we have the opportunity to transform how the world creates and consumes visual content. By investing in our company, you are investing in the future of creativity, empowering businesses, and individuals to bring their visions to life. Join us as we shape the digital landscape and unlock unprecedented potential in the industry.\n",
            "\n",
            "Thank you for considering this exceptional opportunity. We look forward to partnering with you to create a visually stunning future.\n"
          ]
        }
      ],
      "source": [
        "#Invoke\n",
        "\n",
        "state=shark_tank_workflow.invoke({\"product\":\"AI Image generator\"})\n",
        "print(state[\"pitch\"])"
      ]
    },
    {
      "cell_type": "code",
      "execution_count": 11,
      "metadata": {
        "id": "V_wVt_lfFm9P"
      },
      "outputs": [
        {
          "name": "stdout",
          "output_type": "stream",
          "text": [
            "The pitch for an AI Image Generator is generally strong, considering the high demand and versatile applications of such technology. However, to ensure it stands out and remains competitive in the rapidly advancing AI market, consider the following enhancements:\n",
            "\n",
            "1. **Unique Selling Proposition (USP):**\n",
            "   - **Personalization:** Offer unique customization features that allow users to generate images based on personal preferences or previous usage patterns.\n",
            "   - **High-Quality Outputs:** Ensure the tool consistently produces high-resolution images that meet professional standards.\n",
            "   - **Integration:** Provide seamless integration options with popular design software or platforms which can expand usability.\n",
            "\n",
            "2. **Target Market and Applications:**\n",
            "   - **Broaden Use Cases:** Besides art and design, promote applications in industries like marketing, advertising, digital media, and more.\n",
            "   - **Educational Use:** Highlight how the tool can be used by educators and students for creative projects or visual aids.\n",
            "\n",
            "3. **Ethical Considerations:**\n",
            "   - **Content Moderation:** Implement robust content moderation strategies to prevent misuse.\n",
            "   - **Bias Mitigation:** Ensure the generator’s algorithms are checked for and address inherent biases.\n",
            "\n",
            "4. **User Experience:**\n",
            "   - **Intuitive Interface:** Prioritize a user-friendly design that appeals to both novice and experienced users.\n",
            "   - **Support & Tutorials:** Offer accessible tutorials and customer support to assist users in leveraging the full potential of the generator.\n",
            "\n",
            "5. **Monetization Strategy:**\n",
            "   - **Freemium Model:** Introduce a free tier with basic features while offering a subscription for advanced capabilities.\n",
            "   - **Partnerships:** Partner with educational institutions or companies for exclusive access or licensing deals.\n",
            "\n",
            "By addressing these areas, the AI Image Generator pitch can become an even more compelling proposition to potential investors or users. Good luck!\n"
          ]
        }
      ],
      "source": [
        "print(state[\"judge_feedback\"])"
      ]
    }
  ],
  "metadata": {
    "colab": {
      "provenance": []
    },
    "kernelspec": {
      "display_name": "venv",
      "language": "python",
      "name": "python3"
    },
    "language_info": {
      "codemirror_mode": {
        "name": "ipython",
        "version": 3
      },
      "file_extension": ".py",
      "mimetype": "text/x-python",
      "name": "python",
      "nbconvert_exporter": "python",
      "pygments_lexer": "ipython3",
      "version": "3.12.7"
    }
  },
  "nbformat": 4,
  "nbformat_minor": 0
}

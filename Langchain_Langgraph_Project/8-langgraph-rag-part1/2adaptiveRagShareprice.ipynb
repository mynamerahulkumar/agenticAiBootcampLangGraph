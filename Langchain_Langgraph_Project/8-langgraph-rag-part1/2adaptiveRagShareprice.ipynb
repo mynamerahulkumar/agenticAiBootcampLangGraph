{
 "cells": [
  {
   "cell_type": "markdown",
   "id": "d6760425",
   "metadata": {},
   "source": [
    "## Adaptive RAG Revenue details and Share price"
   ]
  },
  {
   "cell_type": "code",
   "execution_count": 24,
   "id": "e2267f57",
   "metadata": {},
   "outputs": [],
   "source": [
    "import os\n",
    "from dotenv import load_dotenv\n",
    "load_dotenv() ## aloading all the environment variable\n",
    "\n",
    "os.environ[\"GROQ_API_KEY\"]=os.getenv(\"GROQ_API_KEY\")\n",
    "os.environ[\"OPENAI_API_KEY\"]=os.getenv(\"OPENAI_API_KEY\")"
   ]
  },
  {
   "cell_type": "code",
   "execution_count": 2,
   "id": "1f40dfcc",
   "metadata": {},
   "outputs": [
    {
     "name": "stderr",
     "output_type": "stream",
     "text": [
      "USER_AGENT environment variable not set, consider setting it to identify your requests.\n"
     ]
    },
    {
     "data": {
      "text/plain": [
       "[[Document(metadata={'source': 'https://www.microsoft.com/investor/reports/ar24/index.html/'}, page_content='The resource you are looking for has been removed, had its name changed, or is temporarily unavailable.')],\n",
       " [Document(metadata={'source': 'https://www.microsoft.com/en-us/investor/earnings/fy-2024-q4/segment-revenues/', 'title': 'FY24 Q4 - Segment Revenue and Operating Income - Investor Relations - Microsoft', 'language': 'en-US'}, page_content=\"\\n\\n\\n\\n\\n\\n\\n\\n\\n\\n\\n\\n\\n\\n\\n\\n\\n\\n\\n\\n\\n\\n\\n\\n\\n\\n\\n\\n\\n\\n\\n\\n\\n\\n\\n\\n\\n\\n\\n\\n\\n\\n\\n\\n\\n\\n\\n\\n\\n\\n\\n\\n\\n\\n\\n\\n\\n\\n\\n\\nFY24 Q4 - Segment Revenue and Operating Income - Investor Relations - Microsoft\\n\\n\\n\\n\\n\\n\\n\\n\\n\\n\\n\\n\\n\\n\\n\\n\\n\\n\\n\\n\\n\\n\\n\\n\\n\\n\\n\\n\\t\\t\\t\\n\\n\\t\\t\\n\\t\\t\\n\\t\\t\\t\\tThis is the Trace Id: a1c8783dbe6708355e621b4b4857bbad\\n\\t\\t\\t\\t\\n\\n\\n\\n\\n\\n\\n\\n\\n\\n\\n\\n\\n\\n \\n\\n\\n\\n\\n\\n\\n\\n\\n\\n\\n\\n\\n\\n\\n\\n\\n\\n\\n\\n\\n\\n\\n\\n\\nSkip to main content\\n\\n\\n\\n\\n\\n\\n\\nMicrosoft\\n\\n\\n\\nInvestor Relations\\n\\n\\n\\n\\nInvestor Relations\\n\\n\\n\\n\\n                            Investor Relations\\n                        \\n\\n\\n\\n\\n Home \\n\\n\\n\\nInvestor Relations\\n\\n\\nHome\\n\\n\\nCompany Information\\n\\n\\nBoard & ESG\\n\\n\\nAnnual Reports\\n\\n\\nSEC Filings\\n\\n\\nEvents\\n\\n\\nInvestor Information\\n\\n\\nContacts\\n\\n\\n\\n \\n\\nEarnings Releases\\n\\n\\nPress Release & Webcast\\n\\n\\nFinancial Statements\\nFinancial Statements\\n\\n\\nIncome Statements\\n\\n\\nComprehensive Income\\n\\n\\nBalance Sheets\\n\\n\\nCash Flows\\n\\n\\nSegment Revenue & Operating Income\\n\\n\\n\\n\\nPerformance\\n\\n\\nMetrics\\n\\n\\nSegment Results\\nSegment Results\\n\\n\\nProductivity and Business Processes\\n\\n\\nIntelligent Cloud\\n\\n\\nMore Personal Computing\\n\\n\\n\\n\\n\\n \\n\\nFinancial Statements\\n\\n\\nIncome Statements\\n\\n\\nComprehensive Income\\n\\n\\nBalance Sheets\\n\\n\\nCash Flows\\n\\n\\nSegment Revenue & Operating Income\\n\\n\\n\\n\\n\\n\\nMore\\n\\n\\n\\n\\n\\n\\n\\n \\n\\n\\n\\n All Microsoft\\n\\n\\nGlobal\\n\\n\\nMicrosoft 365\\n\\n\\nTeams\\n\\n\\nCopilot\\n\\n\\nWindows\\n\\n\\nSurface\\n\\n\\nXbox\\n\\n\\nDeals\\n\\n\\nSmall Business\\n\\n\\nSupport\\n\\n\\n\\n\\nSoftware\\nSoftware\\n\\n\\nWindows Apps\\n\\n\\nAI\\n\\n\\nOutlook\\n\\n\\nOneDrive\\n\\n\\nMicrosoft Teams\\n\\n\\nOneNote\\n\\n\\nMicrosoft Edge\\n\\n\\nSkype\\n\\n\\n\\n\\nPCs & Devices  \\nPCs & Devices  \\n\\n\\nComputers\\n\\n\\nShop Xbox\\n\\n\\nAccessories\\n\\n\\nVR & mixed reality\\n\\n\\nCertified Refurbished\\n\\n\\nTrade-in for cash\\n\\n\\n\\n\\nEntertainment\\nEntertainment\\n\\n\\nXbox Game Pass Ultimate\\n\\n\\nPC Game Pass\\n\\n\\nXbox games\\n\\n\\nPC and Windows games\\n\\n\\nMovies & TV\\n\\n\\n\\n\\nBusiness\\nBusiness\\n\\n\\nMicrosoft Cloud\\n\\n\\nMicrosoft Security\\n\\n\\nDynamics 365\\n\\n\\nMicrosoft 365 for business\\n\\n\\nMicrosoft Power Platform\\n\\n\\nWindows 365\\n\\n\\nMicrosoft Industry\\n\\n\\nSmall Business\\n\\n\\n\\n\\nDeveloper & IT  \\nDeveloper & IT  \\n\\n\\nAzure\\n\\n\\nMicrosoft Developer\\n\\n\\nMicrosoft Learn\\n\\n\\nSupport for AI marketplace apps\\n\\n\\nMicrosoft Tech Community\\n\\n\\nAzure Marketplace\\n\\n\\nAppSource\\n\\n\\nVisual Studio\\n\\n\\n\\n\\nOther\\nOther\\n\\n\\nMicrosoft Rewards \\n\\n\\nFree downloads & security\\n\\n\\nEducation\\n\\n\\nGift cards\\n\\n\\nLicensing\\n\\n\\nUnlocked stories\\n\\n\\n\\n\\nView Sitemap\\n\\n\\n\\n\\n\\n\\n\\n\\n\\n\\nSearch\\nSearch Microsoft.com\\n\\n\\n\\n\\n No results\\n\\n\\n\\n\\nCancel\\n\\n\\n\\n\\n\\n\\n\\n\\n\\n\\n\\n\\n\\n\\n\\n\\n\\n\\n\\n\\n\\n\\n\\n\\n\\n\\n\\n\\nEarnings Release FY24 Q4\\n\\n\\n\\n\\n\\n\\n\\n\\n                Income Statements\\n                    \\n\\n\\n\\n\\n                Comprehensive Income\\n                    \\n\\n\\n\\n\\n                Balance Sheets\\n                    \\n\\n\\n\\n\\n                Cash Flows\\n                    \\n\\n\\n\\n\\nSegment Revenue & Operating Income\\n\\n\\n\\n\\n\\n\\n\\n\\n\\n\\n\\n\\n\\n\\n\\n\\n\\n\\n\\n\\n\\n\\nSegment Revenue and Operating Income\\n\\n\\n\\n\\n\\n\\r\\n  (In millions) \\n\\n\\n\\nYear Ended June 30,\\n\\n\\n\\n\\n2024\\n\\n\\n2023\\n\\n\\n2022\\n\\n\\n\\n\\n\\n\\nElementName\\n\\nRevenue\\n\\n\\n\\n\\n\\n\\n\\nus-gaap:RevenueFromContractWithCustomerExcludingAssessedTaxmsft:ProductivityAndBusinessProcessesMember\\n\\n\\nProductivity and Business Processes\\n\\n\\n\\n\\n\\n$\\n77,728\\n\\n\\n\\n\\n\\n\\n$\\n69,274\\n\\n\\n\\n\\n\\n$\\n63,364\\n\\n\\n\\n\\n\\n\\nus-gaap:RevenueFromContractWithCustomerExcludingAssessedTaxmsft:IntelligentCloudMember\\n\\n\\nIntelligent Cloud\\n\\n\\n\\n\\n\\n\\n105,362\\n\\n\\n\\n\\n\\n\\n\\n87,907\\n\\n\\n\\n\\n\\n\\n74,965\\n\\n\\n\\n\\n\\n\\nus-gaap:RevenueFromContractWithCustomerExcludingAssessedTaxmsft:MorePersonalComputingMember\\n\\n\\nMore Personal Computing\\n\\n\\n\\n\\n\\n\\n62,032\\n\\n\\n\\n\\n\\n\\n\\n54,734\\n\\n\\n\\n\\n\\n\\n59,941\\n\\n\\n\\n\\n\\n\\nus-gaap:RevenueFromContractWithCustomerExcludingAssessedTax\\n\\nTotal\\n\\n\\n\\n\\n$\\n245,122\\n\\n\\n\\n\\n\\n\\n$\\n211,915\\n\\n\\n\\n\\n\\n$\\n198,270\\n\\n\\n\\n\\n\\nElementName\\n\\nOperating Income\\n\\n\\n\\n\\n\\n\\n\\nus-gaap:OperatingIncomeLossmsft:ProductivityAndBusinessProcessesMember\\n\\n\\nProductivity and Business Processes\\n\\n\\n\\n\\n\\n$\\n40,540\\n\\n\\n\\n\\n\\n\\n$\\n34,189\\n\\n\\n\\n\\n\\n$\\n29,690\\n\\n\\n\\n\\n\\n\\nus-gaap:OperatingIncomeLossmsft:IntelligentCloudMember\\n\\n\\nIntelligent Cloud\\n\\n\\n\\n\\n\\n\\n49,584\\n\\n\\n\\n\\n\\n\\n\\n37,884\\n\\n\\n\\n\\n\\n\\n33,203\\n\\n\\n\\n\\n\\n\\nus-gaap:OperatingIncomeLossmsft:MorePersonalComputingMember\\n\\n\\nMore Personal Computing\\n\\n\\n\\n\\n\\n\\n19,309\\n\\n\\n\\n\\n\\n\\n\\n16,450\\n\\n\\n\\n\\n\\n\\n20,490\\n\\n\\n\\n\\n\\n\\nus-gaap:OperatingIncomeLoss\\n\\nTotal\\n\\n\\n\\n\\n$\\n109,433\\n\\n\\n\\n\\n\\n\\n$\\n88,523\\n\\n\\n\\n\\n\\n$\\n83,383\\n\\n\\n\\n\\n\\n\\n\\n\\nIMPORTANT NOTICE TO USERS (summary only,\\r\\nclick here\\r\\n\\xa0for full text of notice);\\xa0All information is unaudited unless otherwise noted or accompanied by an audit opinion and\\r\\nis subject to the more comprehensive information contained in our SEC reports and filings. We do not endorse third-party\\r\\ninformation. All information speaks as of the last fiscal quarter or year for which we have filed a Form 10-K or 10-Q, or\\r\\nfor historical information the date or period expressly indicated in or with such information. We undertake no duty to update\\r\\nthe information. Forward-looking statements are subject to risks and uncertainties described in our\\xa0\\r\\nForms 10-Q and 10-K.\\n\\n\\n\\n\\n\\n\\n\\n\\n\\n\\n\\n\\n\\n\\nDownload Earnings Related Files\\nInformation contained in these documents is current as of the earnings date, and not restated for new accounting standards\\nEarnings Call Slides\\n        \\nEarnings Call Transcript\\n        \\nFinancial Statements\\n        \\nOutlook\\n        \\nPress Release\\n        \\n10K\\n        \\nFY24Q4 Product Release List\\n        \\n\\n            ASSET PACKAGE\\n            \\n\\n\\n\\n\\n\\n\\n\\n\\n\\n\\n\\n'max-age=0,s-maxage=900'\\n\\n\\n\\n                        $add_header('Cache-Control', $(xfMaxAgeHeaders))\\n                    \\n\\n\\n\\n\\n\\n\\n\\n\\n\\n\\n\\n\\nEarnings Release Pages\\nMetrics\\nPerformance\\nPress Release & Webcast\\nFinancial Statements\\nSegment Results\\nCustomer & Partner Highlights\\r\\n\\xa0\\n\\n\\n\\n\\n\\n\\n\\n\\n'max-age=0,s-maxage=900'\\n\\n\\n\\n                        $add_header('Cache-Control', $(xfMaxAgeHeaders))\\n                    \\n\\n\\n\\n\\n\\n\\n\\n\\n\\n\\n\\n\\r\\n Related Information\\nWebcast\\nSEC Filings\\nXBRL\\n\\n\\n\\n\\n\\n\\n\\n\\n\\n'max-age=0,s-maxage=900'\\n\\n\\n\\n                        $add_header('Cache-Control', $(xfMaxAgeHeaders))\\n                    \\n\\n\\n\\n\\n\\n\\n\\n\\n\\n\\n\\n\\n\\n\\n\\n\\n\\n\\n\\n\\n\\n\\n\\n\\n\\n\\n\\n\\n\\nMicrosoft Corp (MSFT)\\n\\n\\n\\n\\n\\n\\n\\n\\n\\n\\n\\n\\n\\n\\n\\n\\n\\n\\n\\n\\n\\r\\n2024 ANNUAL REPORT\\n\\nVIEW ONLINE\\xa0\\nDOWNLOAD NOW\\n\\xa0\\n\\n\\n\\n\\n\\n\\n\\n\\n\\n\\n\\n\\n'max-age=0,s-maxage=900'\\n\\n\\n\\n                        $add_header('Cache-Control', $(xfMaxAgeHeaders))\\n                    \\n\\n\\n\\n\\n\\n\\n\\n\\n\\n\\n\\n\\n\\n\\n\\n\\n\\n\\n\\n\\n\\n            Follow us\\n        \\n\\n\\n\\n\\n\\n\\n\\n\\n\\n\\n\\n\\n\\n\\n\\n\\n\\n\\n\\n\\n\\n\\n\\n\\n\\n\\n\\n\\n\\n\\n\\n            Share this page\\n        \\n\\n\\n\\n\\n\\n\\n\\n\\n\\n\\n\\n\\n\\n\\n\\n\\n\\n\\n\\n\\n\\n\\n\\n\\n\\n\\n\\n\\n\\n'max-age=0,s-maxage=900'\\n\\n\\n\\n                        $add_header('Cache-Control', $(xfMaxAgeHeaders))\\n                    \\n\\n\\n\\n\\n\\n\\n\\n\\n\\n\\n\\n\\n\\n\\n\\n\\n\\n\\nWhat's new\\n\\n\\nSurface Pro\\n\\n\\nSurface Laptop\\n\\n\\nSurface Laptop Studio 2\\n\\n\\nSurface Laptop Go 3\\n\\n\\nMicrosoft Copilot\\n\\n\\nAI in Windows\\n\\n\\nExplore Microsoft products\\n\\n\\nWindows 11 apps\\n\\n\\n\\n\\nMicrosoft Store\\n\\n\\nAccount profile\\n\\n\\nDownload Center\\n\\n\\nMicrosoft Store support\\n\\n\\nReturns\\n\\n\\nOrder tracking\\n\\n\\nCertified Refurbished\\n\\n\\nMicrosoft Store Promise\\n\\n\\nFlexible Payments\\n\\n\\n\\n\\nEducation\\n\\n\\nMicrosoft in education\\n\\n\\nDevices for education\\n\\n\\nMicrosoft Teams for Education\\n\\n\\nMicrosoft 365 Education\\n\\n\\nHow to buy for your school\\n\\n\\nEducator training and development\\n\\n\\nDeals for students and parents\\n\\n\\nAI for education\\n\\n\\n\\n\\n\\n\\nBusiness\\n\\n\\nMicrosoft Cloud\\n\\n\\nMicrosoft Security\\n\\n\\nDynamics 365\\n\\n\\nMicrosoft 365\\n\\n\\nMicrosoft Power Platform\\n\\n\\nMicrosoft Teams\\n\\n\\nMicrosoft 365 Copilot\\n\\n\\nSmall Business\\n\\n\\n\\n\\nDeveloper & IT\\n\\n\\nAzure\\n\\n\\nMicrosoft Developer\\n\\n\\nMicrosoft Learn\\n\\n\\nSupport for AI marketplace apps\\n\\n\\nMicrosoft Tech Community\\n\\n\\nAzure Marketplace\\n\\n\\nAppSource\\n\\n\\nVisual Studio\\n\\n\\n\\n\\nCompany\\n\\n\\nCareers\\n\\n\\nAbout Microsoft\\n\\n\\nCompany news\\n\\n\\nPrivacy at Microsoft\\n\\n\\nInvestors\\n\\n\\nDiversity and inclusion\\n\\n\\nAccessibility\\n\\n\\nSustainability\\n\\n\\n\\n\\n\\n\\nEnglish (United States)\\n\\n\\nYour Privacy Choices Opt-Out Icon\\n\\n\\n\\n\\n\\nYour Privacy Choices\\n\\n\\n\\n\\nYour Privacy Choices Opt-Out Icon\\n\\n\\n\\n\\n\\nYour Privacy Choices\\n\\n\\n\\nConsumer Health Privacy\\n\\n\\n\\n\\nSitemap\\n\\n\\nContact Microsoft\\n\\n\\nPrivacy \\n\\n\\nManage cookies\\n\\n\\nTerms of use\\n\\n\\nTrademarks\\n\\n\\nSafety & eco\\n\\n\\nRecycling\\n\\n\\nAbout our ads\\n\\n© Microsoft 2025\\n\\n\\n\\n\\n\\n\\n\\n\\n\\n\\n\\n\\n\\n\\n\\n\\n\\n\\n\\n\\n\\n\\n\\n\\n\\n\\n\\n\\n\\n\\n\\n\\n\\n\\n\\n\\n\")],\n",
       " [Document(metadata={'source': 'https://www.investopedia.com/how-microsoft-makes-money-4798809/', 'title': 'How Microsoft Makes Money', 'description': \"Microsoft's is committed to responsibly designed AI. Its Intelligent Cloud segment is growing fast and is the largest source of the company's revenue and profit.\", 'language': 'en'}, page_content='\\n\\n\\n\\n\\n\\n\\n\\n\\n\\n\\n\\n\\nHow Microsoft Makes Money\\n\\n\\n\\n\\n\\n\\n\\n\\n\\n\\n\\n\\n\\n\\n\\n\\n\\n\\n\\n\\n\\n\\n\\n\\n\\n\\n\\n\\n\\n\\n\\n\\n\\n\\n\\n\\n\\n\\n\\n\\n\\n\\n\\n\\n\\n\\n\\n\\n\\n\\n\\n \\n\\n \\n\\n \\n\\n \\n\\n \\n\\n \\n\\n \\n\\n \\n\\n \\n\\n \\n\\n \\n\\n \\n\\n \\n\\n \\n\\n \\n\\n \\n\\n \\n\\n \\n\\n \\n\\n \\n\\n \\n\\n \\n\\n \\n\\n \\n\\n \\n\\n \\n\\n \\n\\n\\n\\n\\n\\n\\n\\nSkip to content\\n\\n\\n\\n\\n\\n\\n\\n\\n\\n\\n\\n\\n\\n\\n\\n\\n \\n\\n\\n\\n\\n News\\n\\n\\n\\n Markets\\n \\n\\n Companies\\n \\n\\n Earnings\\n \\n\\n CD Rates\\n \\n\\n Mortgage Rates\\n \\n\\n Economy\\n \\n\\n Government\\n \\n\\n Crypto\\n \\n\\n Live Markets News\\n \\n\\n Personal Finance\\n \\n\\n View All\\n \\n\\n\\n\\n Investing\\n\\n\\n\\n Best Online Brokers\\n \\n\\n Best Stock Screeners\\n \\n\\n Best Robo Advisors\\n \\n\\n Best Investment Apps\\n \\n\\n Best Brokers for ETFs\\n \\n\\n Best Crypto Exchanges\\n \\n\\n Best Gold IRAs\\n \\n\\n Best IRAs\\n \\n\\n Best Bitcoin IRAs\\n \\n\\n View All\\n \\n\\n\\n\\n Banking\\n\\n\\n\\n Best CD Rates\\n \\n\\n Best High Yield Savings Accounts\\n \\n\\n Best 1 Year CD Rates\\n \\n\\n Best 6 Month CD Rates\\n \\n\\n Best Jumbo CD Rates\\n \\n\\n Best Money Market Accounts\\n \\n\\n Best 3 Month CD Rates\\n \\n\\n Best 18 Month CD Rates\\n \\n\\n Best Savings Account for Kids\\n \\n\\n View All\\n \\n\\n\\n\\n Personal Finance\\n\\n\\n\\n Best Savings Account Bonuses\\n \\n\\n Best Bank Account Bonuses\\n \\n\\n Best High Yield Checking Accounts\\n \\n\\n Best Tax Relief Companies\\n \\n\\n Best Debt Relief Companies\\n \\n\\n Best Small Business Bank Accounts\\n \\n\\n Best Cash Advance Apps\\n \\n\\n Best Credit Repair Companies\\n \\n\\n Best Credit Unions\\n \\n\\n View All\\n \\n\\n\\n\\n Loans\\n\\n\\n\\n Best Mortgage Rates\\n \\n\\n Best Auto Loan Rates\\n \\n\\n Best Personal Loans\\n \\n\\n Best Bad Credit Loans\\n \\n\\n Best Emergency Loans for Bad Credit\\n \\n\\n Best Debt Consolidation Loans\\n \\n\\n Best Personal Loans With No Fees\\n \\n\\n Best Auto Refinance Loans\\n \\n\\n Best HELOC Loans\\n \\n\\n View All\\n \\n\\n\\n\\n Insurance\\n\\n\\n\\n Best Affordable Health Insurance\\n \\n\\n Best Dental Insurance\\n \\n\\n Best Life Insurance\\n \\n\\n Best Small Business Insurance\\n \\n\\n Best Life Insurance for People Over 50\\n \\n\\n Best Universal Life Insurance\\n \\n\\n Best Dental Insurance for Implants\\n \\n\\n Best Health Insurance Companies\\n \\n\\n Best Disability Insurance\\n \\n\\n View All\\n \\n\\n\\n\\n Simulator\\n\\n\\n\\n Login / Portfolio\\n \\n\\n Trade\\n \\n\\n Research\\n \\n\\n My Games\\n \\n\\n Leaderboard\\n \\n\\n\\n\\n\\n\\nTrade\\n\\n\\n \\n\\n\\n\\n\\n\\n\\nSearch\\n\\n\\nSearch\\n\\n\\n\\n\\n\\n\\n\\n\\n\\n\\n\\n \\n\\n\\n\\nPlease fill out this field.\\n\\n\\n\\n\\n\\n\\n\\n\\n\\n\\n \\n\\n\\n\\n\\n\\nSearch\\n\\n\\nSearch\\n\\n\\n\\n\\n\\n\\n \\n\\n\\n\\nPlease fill out this field.\\n\\n\\n\\n\\n\\n\\n\\n\\n\\n\\n\\nNews\\n\\n\\n\\n\\n\\n\\n\\n\\n\\n\\nNews\\n\\n\\n\\n\\n Markets\\n \\n\\n Companies\\n \\n\\n Earnings\\n \\n\\n CD Rates\\n \\n\\n Mortgage Rates\\n \\n\\n Economy\\n \\n\\n Government\\n \\n\\n Crypto\\n \\n\\n Live Markets News\\n \\n\\n Personal Finance\\n \\n\\n View All\\n \\n\\n\\n\\n\\n\\nInvesting\\n\\n\\n\\n\\n\\n\\n\\n\\n\\n\\nInvesting\\n\\n\\n\\n\\n Best Online Brokers\\n \\n\\n Best Stock Screeners\\n \\n\\n Best Robo Advisors\\n \\n\\n Best Investment Apps\\n \\n\\n Best Brokers for ETFs\\n \\n\\n Best Crypto Exchanges\\n \\n\\n Best Gold IRAs\\n \\n\\n Best IRAs\\n \\n\\n Best Bitcoin IRAs\\n \\n\\n View All\\n \\n\\n\\n\\n\\n\\nBanking\\n\\n\\n\\n\\n\\n\\n\\n\\n\\n\\nBanking\\n\\n\\n\\n\\n Best CD Rates\\n \\n\\n Best High Yield Savings Accounts\\n \\n\\n Best 1 Year CD Rates\\n \\n\\n Best 6 Month CD Rates\\n \\n\\n Best Jumbo CD Rates\\n \\n\\n Best Money Market Accounts\\n \\n\\n Best 3 Month CD Rates\\n \\n\\n Best 18 Month CD Rates\\n \\n\\n Best Savings Account for Kids\\n \\n\\n View All\\n \\n\\n\\n\\n\\n\\nPersonal Finance\\n\\n\\n\\n\\n\\n\\n\\n\\n\\n\\nPersonal Finance\\n\\n\\n\\n\\n Best Savings Account Bonuses\\n \\n\\n Best Bank Account Bonuses\\n \\n\\n Best High Yield Checking Accounts\\n \\n\\n Best Tax Relief Companies\\n \\n\\n Best Debt Relief Companies\\n \\n\\n Best Small Business Bank Accounts\\n \\n\\n Best Cash Advance Apps\\n \\n\\n Best Credit Repair Companies\\n \\n\\n Best Credit Unions\\n \\n\\n View All\\n \\n\\n\\n\\n\\n\\nLoans\\n\\n\\n\\n\\n\\n\\n\\n\\n\\n\\nLoans\\n\\n\\n\\n\\n Best Mortgage Rates\\n \\n\\n Best Auto Loan Rates\\n \\n\\n Best Personal Loans\\n \\n\\n Best Bad Credit Loans\\n \\n\\n Best Emergency Loans for Bad Credit\\n \\n\\n Best Debt Consolidation Loans\\n \\n\\n Best Personal Loans With No Fees\\n \\n\\n Best Auto Refinance Loans\\n \\n\\n Best HELOC Loans\\n \\n\\n View All\\n \\n\\n\\n\\n\\n\\nInsurance\\n\\n\\n\\n\\n\\n\\n\\n\\n\\n\\nInsurance\\n\\n\\n\\n\\n Best Affordable Health Insurance\\n \\n\\n Best Dental Insurance\\n \\n\\n Best Life Insurance\\n \\n\\n Best Small Business Insurance\\n \\n\\n Best Life Insurance for People Over 50\\n \\n\\n Best Universal Life Insurance\\n \\n\\n Best Dental Insurance for Implants\\n \\n\\n Best Health Insurance Companies\\n \\n\\n Best Disability Insurance\\n \\n\\n View All\\n \\n\\n\\n\\n\\n\\nSimulator\\n\\n\\n\\n\\n\\n\\n\\n\\n\\n\\nSimulator\\n\\n\\n\\n\\n Login / Portfolio\\n \\n\\n Trade\\n \\n\\n Research\\n \\n\\n My Games\\n \\n\\n Leaderboard\\n \\n\\n\\n\\n\\n\\n\\n\\n\\n\\nFollow Us\\n\\n\\n \\n\\n\\n \\n\\n \\n\\n\\n \\n\\n \\n\\n\\n \\n\\n \\n\\n\\n \\n\\n \\n\\n\\n \\n\\n\\n \\n\\n\\n\\n\\n\\n\\nTable of Contents\\nExpand\\nTable of Contents\\n\\n\\n\\nMicrosoft\\'s Industry\\nFinancials\\nHistory and Leadership\\nRecent Developments\\nFAQs\\nThe Bottom Line\\nCompany Profiles\\nFAANG and FAAMG Companies\\nHow Microsoft Makes Money\\nIntelligent Cloud Generates the Most Profit\\n\\n\\nBy\\n Nathan Reiff\\n \\n\\n\\n\\n\\n\\n\\n \\nFull Bio \\nNathan Reiff has been writing expert articles and news about financial topics such as investing and trading, cryptocurrency, ETFs, and alternative investments on Investopedia since 2016.\\n\\n\\n\\nLearn about our \\neditorial policies\\n\\n\\n\\nUpdated May 10, 2024\\n\\n\\n\\nReviewed by\\n Somer Anderson\\n \\n\\n\\n\\n\\n\\n\\n \\n\\n\\n\\nReviewed by\\nSomer Anderson\\n\\nFull Bio\\n\\n\\n\\n \\n\\n\\n \\n\\n \\n\\u200bSomer G. Anderson is CPA, doctor of accounting, and an accounting and finance professor who has been working in the accounting and finance industries for more than 20 years. Her expertise covers a wide range of accounting, corporate finance, taxes, lending, and personal finance areas.\\n\\n\\n\\nLearn about our \\nFinancial Review Board\\n\\n\\n\\n\\n\\n\\nFact checked by\\n Suzanne Kvilhaug\\n \\n\\n\\n\\n\\n\\n\\n \\n\\n\\n\\nFact checked by\\nSuzanne Kvilhaug\\n\\nFull Bio \\nSuzanne is a content marketer, writer, and fact-checker.\\xa0She holds a Bachelor of Science in Finance degree from Bridgewater State University and helps develop content strategies.\\n\\n\\n\\nLearn about our \\neditorial policies\\n\\n\\n\\n\\n\\n\\nClose\\n\\n\\n\\n Microsoft Corp., one of the world\\'s biggest tech companies, sells a variety of products and services to support the various efforts of people and businesses in work and life. The source of its greatest amount of revenue is its Intelligent Cloud business segment.\\n\\n\\n For the AI era, Microsoft is reexamining all of its customer solutions and every part of its tech stack to ensure that it delivers responsibly designed AI and maintains the company\\'s mission to \"empower every person and every organization on the planet to achieve more.\"\\n\\n\\n Microsoft\\'s products include operating systems, server applications, business solution applications, software development tools, and collaboration applications. It also designs and offers personal computing devices such as PCs, tablets, and gaming consoles.\\n\\n\\n Its services include cloud-based computing solutions, online advertising, online platforms and content, and consulting.\\n\\n\\n The foundation for all of Microsoft\\'s efforts are the core principles of fairness, reliability and safety, privacy and security, inclusiveness, transparency, and accountability.\\n\\n\\n Key Takeaways\\nMicrosoft sells computing devices, cloud systems and services, software, and other products to consumers and businesses.The company\\'s Intelligent Cloud segment is the largest source of profit, as well as the fastest-growing.Microsoft is focused on delivering AI solutions to customers in a broad swath of industries.Some of its many competitors include Apple, Amazon, Meta, Alphabet, Oracle, and IBM.Microsoft\\'s current CEO is Satya Nadella.\\n\\n  Microsoft\\'s Industry  \\n Microsoft (MSFT) operates in the software industry within the information technology sector. AI continues to drive the software industry at a lightning pace. Microsoft is at the forefront of the development and distribution of AI for application by all types of companies, business industries, people, and countries.\\n\\n\\n Its three business and reporting segments, Productivity and Business Processes, Intelligent Cloud, and More Personal Computing face competition from such well-known companies as:\\n\\n\\n Productivity and Business Processes\\n\\n\\n\\nApple (AAPL)\\nCisco Systems (CSCO)\\nMeta (META)\\nAlphabet (GOOG)\\nOkta (OKTA)\\nSlack (WORK)\\nZoom (ZM)\\nOracle (ORCL)\\nSalesforce (CRM)\\nSAP (SAP)\\n\\n\\n Intelligent Cloud\\n\\n\\n\\nAmazon Code Whisperer\\nGoogle AI\\nIBM (IBM)\\nOracle\\nVMware\\nHewlett-Packard (HPE)\\nAdobe (ADBE)\\nApache\\nCA Technologies\\nSnowflake\\n\\n\\n More Personal Computing\\n\\n\\n\\nApple\\nAmazon (AMZN)\\nMeta\\nTencent\\nNintendo\\nSony\\n\\n\\n Fast Fact\\nMicrosoft is the largest company in the world as measured by market cap.\\n\\n\\n\\n  Microsoft\\'s Financials  \\n As of May 2024, Microsoft\\'s market capitalization was $3.07 trillion.\\n\\n\\n Microsoft\\'s 2023 annual report reported the company\\'s financial results for the 2023 fiscal year (FY). Additionally, on April 25, 2024, the company announced financial results for the quarter ended March 31, 2024.\\n\\n\\n  Revenue  \\n For FY 2023, revenue was $211.91 billion, an increase of 7% over the previous year\\'s $198.27 billion. For the third quarter of FY 2024, revenue was $61.9 billion, an increase of 17% over the previous year\\'s third quarter.\\n\\n\\n  Net Income  \\n For FY 2023, net income was $72.36 billion, a drop of 1% from the previous year\\'s $72.73 billion. For the third quarter of FY 2024, net income was $21.9 billion, an increase of 20% over the previous year\\'s third quarter.\\n\\n\\n  Operating Income  \\n For FY 2023, operating income was $88.52 billion, an increase of 6% over the previous year\\'s $83.38 billion. For the third quarter of FY 2024, operating income was $27.6 billion, an increase of 23% over the previous year\\'s third quarter.\\n\\n\\n  Revenue From Business Segments  \\n Microsoft divides its business into three segments for the purpose of operating and reporting. These segments are Productivity and Business Processes, Intelligent Cloud, and More Personal Computing.\\n\\n\\n Underscoring the financials of the Intelligent Cloud segment, CEO Satya Nadella wrote, “Microsoft Copilot and Copilot stack are orchestrating a new era of AI transformation, driving better business outcomes across every role and industry.” In addition, for the third quarter of FY 2024, Microsoft Cloud revenue was up 23% year over year, at $35.1 billion.\\n\\n\\n Productivity and Business Processes\\n\\n\\n This segment offers a portfolio of products designed to enhance corporate productivity, communication, and information services. One of its major products is Microsoft\\'s Office software suite, including both the commercial and consumer divisions. The segment also includes business solutions products such as Dynamics 365, as well as the professional networking site, LinkedIn.\\n\\n\\n For FY 2023, Productivity and Business Processes generated $69.3 billion in revenue, up 9% over the previous year. Operating income was $34.1 billion, an increase of 15% over the previous year. \\n\\n\\n For the third quarter of FY 2024, revenue was $19.6 billion, an increase of 12% over the same period the previous year. It was driven by Dynamics products and cloud services which increased 19%. Operating income for the quarter was $10.1 billion, up about 17%.\\n\\n\\n Intelligent Cloud\\n\\n\\n The Intelligent Cloud segment is comprised of all of Microsoft\\'s public, private, and hybrid server products as well as cloud services for business. These include Microsoft Azure, SQL Server, Windows Server, GitHub, Enterprise Services, and more.\\n\\n\\n For FY 2023, Intelligent Cloud generated $87.9 billion in revenue, up 17% over the previous year. Operating income was $37.8 billion, an increase of 14% over the previous year.\\n\\n\\n For the third quarter of FY 2024, revenue was $26.7 billion, an increase of 21% over the same period the previous year. In addition to the growth of revenue from Microsoft Cloud mentioned above, revenue from Azure and other cloud services grew 31%, which powered the overall revenue from server products and cloud services to a 24% growth. Operating income for the quarter was $12.5 billion, up about 32%.\\n\\n\\n More Personal Computing\\n\\n\\n Microsoft describes its More Personal Computing segment as consisting of products and services aimed at putting \"customers at the center of the experience with our technology.\" The Windows operating system, Surface device, gaming products, and search and news advertising are all included in this segment.\\n\\n\\n For FY 2023, More Personal Computing generated $54.7 billion in revenue, down 9% from the previous year. Operating income was $16.4 billion, down 20%.\\n\\n\\n For the third quarter of FY 2024, revenue was $15.6 billion, an increase of 17% over the same period the previous year. Revenue from Xbox content and services grew by 62%. Search and news advertising revenue grew by 12%. Operating income for the quarter was $4.9 billion, up about 16%.\\n\\n\\n\\n\\n  History and Leadership  \\n Microsoft was founded in 1975 by Bill Gates and Paul Allen. It is headquartered in Redmond, Wash.\\n\\n\\n Gates was a software developer and manager in the company. He stepped away from daily activities in 2008 and resigned from the Board of Directors in 2020. Gates continues to meet with the company\\'s product teams to discuss a variety of relevant topics, and in particular, artificial intelligence and Microsoft\\'s role in developing AI\\'s capabilities for a variety of applications.\\n\\n\\n Allen was Microsoft\\'s chief technologist until he resigned in 1983. He passed away in 2018.\\n\\n\\n In January 2000, Steve Ballmer was named Microsoft\\'s President and Chief Executive Officer. He left the company in 2014. Satya Nadella has held the position of CEO since 2014. He has overseen an important period of change for the company, during which it has placed a major focus on cloud computing and subscription services, and AI.\\n\\n\\n  Recent Developments  \\n • In May 2024, Microsoft announced its intended investment in Southeast Wisconsin to develop AI-powered economic activity, innovation, and job creation. The amount of $3.3 billion will go to cloud computing and AI infrastructure, an AI co-innovation lab that will focus on manufacturing, and a program to train more than 100,000 Wisconsin residents in AI.\\n\\n\\n • In April 2024, Microsoft announced an investment of $1.7 billion to build new cloud and AI infrastructure in the nation of Indonesia. It will also offer training in AI for 840,000 people. The investment is the largest Microsoft has ever made in Indonesia.\\xa0Microsoft\\'s goal is to assist the Indonesian government in achieving its Golden Indonesia 2045 Vision of developing the nation into a \"global economic powerhouse.\"\\n\\n\\n • In March 2024, Microsoft and NVIDIA merged their efforts to deliver the capabilities of generative AI, the cloud, and accelerated computing to companies focused on healthcare and life sciences. Microsoft Azure,\\xa0NVIDIA\\xa0DGX Cloud, and the\\xa0NVIDIA\\xa0Clara\\xa0computing platforms and software will be used to improve patient care.\\n\\n\\n What\\'s the Value of a Share of Microsoft Stock?\\nOn May 10, 2024, a share of Microsoft was trading at $413.86.\\n\\n\\n What\\'s Microsoft\\'s Primary Focus Now?\\nAs with other technology companies, Microsoft has dramatically increased its efforts to develop artificial intelligence for use by people and companies. One of its goals is to design a natural language for a more intuitive human-computer interface and a new reasoning engine.\\n\\n\\n Does Bill Gates Still Run Microsoft?\\nNo, Bill Gates left behind day-to-day business activities at Microsoft in 2008. He resigned from the Board in 2020. Now, he focuses a lot of time on the Bill and Melinda Gates Foundation.\\n\\n\\n  The Bottom Line  \\n Founded in 1975 by Bill Gates and Paul Allen, Microsoft is the world\\'s largest technology company today, measured by market cap.\\n\\n\\n It offers products and services related to, among other things, software, business applications, cloud computing, gaming, and online advertising. It invests heavily in AI.\\n\\n\\n The greatest amount of revenue for the company comes from its Intelligent Cloud business segment.\\n\\n\\n\\n\\n\\nArticle Sources\\n\\n\\n\\nInvestopedia requires writers to use primary sources to support their work. These include white papers, government data, original reporting, and interviews with industry experts. We also reference original research from other reputable publishers where appropriate. You can learn more about the standards we follow in producing accurate, unbiased content in our\\neditorial policy.\\n \\nMicrosoft. \"Annual Report 2023: CEO\\'s Letter.\"\\nMicrosoft. \"Annual Report 2023: Business–What We Offer.\"\\nMicrosoft. \"Annual Report 2023: Business–Embracing Our Future.\"\\ncompaniesmarketcap. \"Largest Companies by Market Cap.\"\\ncompaniesmarketcap. \"Market Capitalization of Microsoft (MSFT).\"\\nMicrosoft. \"Microsoft Cloud Strength Fuels Third Quarter Results.\"\\nMicrosoft. \"Annual Report 2023: Summary Results of Operations.\"\\nMicrosoft. \"Segment Information.\"\\nMicrosoft. \"Annual Report 2023: Segment Results of Operations.\"\\nU.S. Securities and Exchange Commission. \"Form 10-Q Microsoft Corporation,\" Page 29.\\nForbes. \"Exclusive: Bill Gates On Advising OpenAI, Microsoft And Why AI Is ‘The Hottest Topic Of 2023’.\"\\nMicrosoft. \"About Microsoft: Satya Nadella Marks Five Years as CEO.\"\\nMicrosoft. \"Microsoft Announces $3.3 Billion Investment in Wisconsin To Spur Artificial Intelligence Innovation and Economic Growth.\"\\nMicrosoft. \"Microsoft Announces US$1.7 Billion Investment To Advance Indonesia’s Cloud and AI Ambitions.\"\\nMicrosoft. \"Microsoft Announces Collaboration With NVIDIA To Accelerate Healthcare and Life Sciences Innovation With Advanced Cloud, AI and Accelerated Computing Capabilities.\"\\n\\n\\n\\nCompare Accounts\\n Advertiser Disclosure\\n\\n ×\\n\\nThe offers that appear in this table are from partnerships from which Investopedia receives compensation. This compensation may impact how and where listings appear. Investopedia does not include all offers available in the marketplace.\\n\\n\\n\\n\\n\\n\\n\\n\\n\\nPartner Links\\n\\n\\n\\n\\n\\n\\n\\n\\n\\n\\n\\n\\n\\n\\n\\n\\n\\n\\n\\n\\n\\n\\n\\n\\n\\n\\n\\n\\n\\n\\n\\n\\n\\n\\n\\n\\n\\n\\n\\n\\n\\n\\n\\n\\n\\n\\n\\n\\n\\n\\n\\n\\nRelated Articles\\n\\n\\n\\n\\n\\n\\n\\n\\n\\n\\n\\n\\nTop 3 Companies Owned by Facebook (Meta)\\n\\n\\n\\n\\n\\n\\n\\n\\n\\n\\n\\n\\n\\n\\n\\nAlphabet’s GOOG vs. GOOGL: What’s the Difference?\\n\\n\\n\\n\\n\\n\\n\\n\\n\\n\\n\\n\\n\\n\\n\\nHow Amazon Makes Money\\n\\n\\n\\n\\n\\n\\n\\n\\n\\n\\n\\n\\n\\n\\n\\nThe Secret to Microsoft\\'s Success\\n\\n\\n\\n\\n\\n\\n\\n\\n\\n\\n\\n\\n\\n\\n\\nHow BlackRock Makes Money\\n\\n\\n\\n\\n\\n\\n\\n\\n\\n\\n\\n\\n\\n\\n\\nMoneyGram vs. PayPal vs. Xoom: Who Has the Lowest Fees?\\n\\n\\n\\n\\n\\n\\n\\n\\n\\n\\n\\n\\n\\n\\n\\nHow Reddit Makes Money\\n\\n\\n\\n\\n\\n\\n\\n\\n\\n\\n\\n\\n\\n\\n\\nStartup Capital Definition, Types, and Risks\\n\\n\\n\\n\\n\\n\\n\\n\\n\\n\\n\\n\\n\\n\\n\\n\\n\\n\\nAmerican Express\\'s Main Competition\\n\\n\\n\\n\\n\\n\\n\\n\\n\\n\\n\\n\\n\\n\\n\\nValuing Startup Ventures\\n\\n\\n\\n\\n\\n\\n\\n\\n\\n\\n\\n\\n\\n\\n\\nTarget\\'s Circle Card: What You Need to Know\\n\\n\\n\\n\\n\\n\\n\\n\\n\\n\\n\\n\\n\\n\\n\\nTesla: The True Untold Story\\n\\n\\n\\n\\n\\n\\n\\n\\n\\n\\n\\n\\n\\n\\n\\nWhy Is There an IPO Lockup Period and How Long Does It Last?\\n\\n\\n\\n\\n\\n\\n\\n\\n\\n\\n\\n\\n\\n\\n\\nTop 10 Largest Global IPOs of All Time\\n\\n\\n\\n\\n\\n\\n\\n\\n\\n\\n\\n\\n\\n\\n\\nThe Evolution of the Coca-Cola Brand\\n\\n\\n\\n\\n\\n\\n\\n\\n\\n\\n\\n\\n\\n\\n\\n5 Companies Owned by Comcast\\n\\n\\n\\n\\n\\n\\n\\n\\n\\n\\n\\n\\n \\n\\n\\n \\n\\n \\n\\n\\n \\n\\n \\n\\n\\n \\n\\n \\n\\n\\n \\n\\n\\n\\n About Us\\nTerms of Service\\nDictionary\\nEditorial Policy\\nAdvertise\\nNews\\nPrivacy Policy\\nContact Us\\nCareers\\nEU Privacy\\n\\n\\n#\\nA\\nB\\nC\\nD\\nE\\nF\\nG\\nH\\nI\\nJ\\nK\\nL\\nM\\nN\\nO\\nP\\nQ\\nR\\nS\\nT\\nU\\nV\\nW\\nX\\nY\\nZ\\n \\n\\n\\n\\n\\n\\nInvestopedia\\nis part of the Dotdash Meredith\\xa0publishing\\xa0family.\\n\\n\\n\\n\\n\\n\\n\\n\\n\\n\\n\\n\\n\\nWe Care About Your PrivacyWe and our 100 partners store and/or access information on a device, such as unique IDs in cookies to process personal data. You may accept or manage your choices by clicking below, including your right to object where legitimate interest is used, or at any time in the privacy policy page. These choices will be signaled to our partners and will not affect browsing data.We and our partners process data to provide:Store and/or access information on a device. Use limited data to select advertising. Create profiles for personalised advertising. Use profiles to select personalised advertising. Create profiles to personalise content. Use profiles to select personalised content. Measure advertising performance. Measure content performance. Understand audiences through statistics or combinations of data from different sources. Develop and improve services. Use limited data to select content. \\nList of Partners (vendors)\\nAccept All Reject All Show Purposes\\n\\n\\n')]]"
      ]
     },
     "execution_count": 2,
     "metadata": {},
     "output_type": "execute_result"
    }
   ],
   "source": [
    "from langchain_community.document_loaders import WebBaseLoader\n",
    "from langchain_community.vectorstores import FAISS\n",
    "from langchain_openai import OpenAIEmbeddings\n",
    "from langchain_text_splitters import RecursiveCharacterTextSplitter\n",
    "\n",
    "\n",
    "urls=[\n",
    "    \"https://www.microsoft.com/investor/reports/ar24/index.html/\",\n",
    "    \"https://www.microsoft.com/en-us/investor/earnings/fy-2024-q4/segment-revenues/\",\n",
    "    \"https://www.investopedia.com/how-microsoft-makes-money-4798809/\"\n",
    "]\n",
    "docs=[WebBaseLoader(url).load() for url in urls]\n",
    "docs\n"
   ]
  },
  {
   "cell_type": "code",
   "execution_count": 3,
   "id": "d8bae08a",
   "metadata": {},
   "outputs": [
    {
     "data": {
      "text/plain": [
       "[Document(metadata={'source': 'https://www.microsoft.com/investor/reports/ar24/index.html/'}, page_content='The resource you are looking for has been removed, had its name changed, or is temporarily unavailable.'),\n",
       " Document(metadata={'source': 'https://www.microsoft.com/en-us/investor/earnings/fy-2024-q4/segment-revenues/', 'title': 'FY24 Q4 - Segment Revenue and Operating Income - Investor Relations - Microsoft', 'language': 'en-US'}, page_content=\"\\n\\n\\n\\n\\n\\n\\n\\n\\n\\n\\n\\n\\n\\n\\n\\n\\n\\n\\n\\n\\n\\n\\n\\n\\n\\n\\n\\n\\n\\n\\n\\n\\n\\n\\n\\n\\n\\n\\n\\n\\n\\n\\n\\n\\n\\n\\n\\n\\n\\n\\n\\n\\n\\n\\n\\n\\n\\n\\n\\nFY24 Q4 - Segment Revenue and Operating Income - Investor Relations - Microsoft\\n\\n\\n\\n\\n\\n\\n\\n\\n\\n\\n\\n\\n\\n\\n\\n\\n\\n\\n\\n\\n\\n\\n\\n\\n\\n\\n\\n\\t\\t\\t\\n\\n\\t\\t\\n\\t\\t\\n\\t\\t\\t\\tThis is the Trace Id: a1c8783dbe6708355e621b4b4857bbad\\n\\t\\t\\t\\t\\n\\n\\n\\n\\n\\n\\n\\n\\n\\n\\n\\n\\n\\n \\n\\n\\n\\n\\n\\n\\n\\n\\n\\n\\n\\n\\n\\n\\n\\n\\n\\n\\n\\n\\n\\n\\n\\n\\nSkip to main content\\n\\n\\n\\n\\n\\n\\n\\nMicrosoft\\n\\n\\n\\nInvestor Relations\\n\\n\\n\\n\\nInvestor Relations\\n\\n\\n\\n\\n                            Investor Relations\\n                        \\n\\n\\n\\n\\n Home \\n\\n\\n\\nInvestor Relations\\n\\n\\nHome\\n\\n\\nCompany Information\\n\\n\\nBoard & ESG\\n\\n\\nAnnual Reports\\n\\n\\nSEC Filings\\n\\n\\nEvents\\n\\n\\nInvestor Information\\n\\n\\nContacts\\n\\n\\n\\n \\n\\nEarnings Releases\\n\\n\\nPress Release & Webcast\\n\\n\\nFinancial Statements\\nFinancial Statements\\n\\n\\nIncome Statements\\n\\n\\nComprehensive Income\\n\\n\\nBalance Sheets\\n\\n\\nCash Flows\\n\\n\\nSegment Revenue & Operating Income\\n\\n\\n\\n\\nPerformance\\n\\n\\nMetrics\\n\\n\\nSegment Results\\nSegment Results\\n\\n\\nProductivity and Business Processes\\n\\n\\nIntelligent Cloud\\n\\n\\nMore Personal Computing\\n\\n\\n\\n\\n\\n \\n\\nFinancial Statements\\n\\n\\nIncome Statements\\n\\n\\nComprehensive Income\\n\\n\\nBalance Sheets\\n\\n\\nCash Flows\\n\\n\\nSegment Revenue & Operating Income\\n\\n\\n\\n\\n\\n\\nMore\\n\\n\\n\\n\\n\\n\\n\\n \\n\\n\\n\\n All Microsoft\\n\\n\\nGlobal\\n\\n\\nMicrosoft 365\\n\\n\\nTeams\\n\\n\\nCopilot\\n\\n\\nWindows\\n\\n\\nSurface\\n\\n\\nXbox\\n\\n\\nDeals\\n\\n\\nSmall Business\\n\\n\\nSupport\\n\\n\\n\\n\\nSoftware\\nSoftware\\n\\n\\nWindows Apps\\n\\n\\nAI\\n\\n\\nOutlook\\n\\n\\nOneDrive\\n\\n\\nMicrosoft Teams\\n\\n\\nOneNote\\n\\n\\nMicrosoft Edge\\n\\n\\nSkype\\n\\n\\n\\n\\nPCs & Devices  \\nPCs & Devices  \\n\\n\\nComputers\\n\\n\\nShop Xbox\\n\\n\\nAccessories\\n\\n\\nVR & mixed reality\\n\\n\\nCertified Refurbished\\n\\n\\nTrade-in for cash\\n\\n\\n\\n\\nEntertainment\\nEntertainment\\n\\n\\nXbox Game Pass Ultimate\\n\\n\\nPC Game Pass\\n\\n\\nXbox games\\n\\n\\nPC and Windows games\\n\\n\\nMovies & TV\\n\\n\\n\\n\\nBusiness\\nBusiness\\n\\n\\nMicrosoft Cloud\\n\\n\\nMicrosoft Security\\n\\n\\nDynamics 365\\n\\n\\nMicrosoft 365 for business\\n\\n\\nMicrosoft Power Platform\\n\\n\\nWindows 365\\n\\n\\nMicrosoft Industry\\n\\n\\nSmall Business\\n\\n\\n\\n\\nDeveloper & IT  \\nDeveloper & IT  \\n\\n\\nAzure\\n\\n\\nMicrosoft Developer\\n\\n\\nMicrosoft Learn\\n\\n\\nSupport for AI marketplace apps\\n\\n\\nMicrosoft Tech Community\\n\\n\\nAzure Marketplace\\n\\n\\nAppSource\\n\\n\\nVisual Studio\\n\\n\\n\\n\\nOther\\nOther\\n\\n\\nMicrosoft Rewards \\n\\n\\nFree downloads & security\\n\\n\\nEducation\\n\\n\\nGift cards\\n\\n\\nLicensing\\n\\n\\nUnlocked stories\\n\\n\\n\\n\\nView Sitemap\\n\\n\\n\\n\\n\\n\\n\\n\\n\\n\\nSearch\\nSearch Microsoft.com\\n\\n\\n\\n\\n No results\\n\\n\\n\\n\\nCancel\\n\\n\\n\\n\\n\\n\\n\\n\\n\\n\\n\\n\\n\\n\\n\\n\\n\\n\\n\\n\\n\\n\\n\\n\\n\\n\\n\\n\\nEarnings Release FY24 Q4\\n\\n\\n\\n\\n\\n\\n\\n\\n                Income Statements\\n                    \\n\\n\\n\\n\\n                Comprehensive Income\\n                    \\n\\n\\n\\n\\n                Balance Sheets\\n                    \\n\\n\\n\\n\\n                Cash Flows\\n                    \\n\\n\\n\\n\\nSegment Revenue & Operating Income\\n\\n\\n\\n\\n\\n\\n\\n\\n\\n\\n\\n\\n\\n\\n\\n\\n\\n\\n\\n\\n\\n\\nSegment Revenue and Operating Income\\n\\n\\n\\n\\n\\n\\r\\n  (In millions) \\n\\n\\n\\nYear Ended June 30,\\n\\n\\n\\n\\n2024\\n\\n\\n2023\\n\\n\\n2022\\n\\n\\n\\n\\n\\n\\nElementName\\n\\nRevenue\\n\\n\\n\\n\\n\\n\\n\\nus-gaap:RevenueFromContractWithCustomerExcludingAssessedTaxmsft:ProductivityAndBusinessProcessesMember\\n\\n\\nProductivity and Business Processes\\n\\n\\n\\n\\n\\n$\\n77,728\\n\\n\\n\\n\\n\\n\\n$\\n69,274\\n\\n\\n\\n\\n\\n$\\n63,364\\n\\n\\n\\n\\n\\n\\nus-gaap:RevenueFromContractWithCustomerExcludingAssessedTaxmsft:IntelligentCloudMember\\n\\n\\nIntelligent Cloud\\n\\n\\n\\n\\n\\n\\n105,362\\n\\n\\n\\n\\n\\n\\n\\n87,907\\n\\n\\n\\n\\n\\n\\n74,965\\n\\n\\n\\n\\n\\n\\nus-gaap:RevenueFromContractWithCustomerExcludingAssessedTaxmsft:MorePersonalComputingMember\\n\\n\\nMore Personal Computing\\n\\n\\n\\n\\n\\n\\n62,032\\n\\n\\n\\n\\n\\n\\n\\n54,734\\n\\n\\n\\n\\n\\n\\n59,941\\n\\n\\n\\n\\n\\n\\nus-gaap:RevenueFromContractWithCustomerExcludingAssessedTax\\n\\nTotal\\n\\n\\n\\n\\n$\\n245,122\\n\\n\\n\\n\\n\\n\\n$\\n211,915\\n\\n\\n\\n\\n\\n$\\n198,270\\n\\n\\n\\n\\n\\nElementName\\n\\nOperating Income\\n\\n\\n\\n\\n\\n\\n\\nus-gaap:OperatingIncomeLossmsft:ProductivityAndBusinessProcessesMember\\n\\n\\nProductivity and Business Processes\\n\\n\\n\\n\\n\\n$\\n40,540\\n\\n\\n\\n\\n\\n\\n$\\n34,189\\n\\n\\n\\n\\n\\n$\\n29,690\\n\\n\\n\\n\\n\\n\\nus-gaap:OperatingIncomeLossmsft:IntelligentCloudMember\\n\\n\\nIntelligent Cloud\\n\\n\\n\\n\\n\\n\\n49,584\\n\\n\\n\\n\\n\\n\\n\\n37,884\\n\\n\\n\\n\\n\\n\\n33,203\\n\\n\\n\\n\\n\\n\\nus-gaap:OperatingIncomeLossmsft:MorePersonalComputingMember\\n\\n\\nMore Personal Computing\\n\\n\\n\\n\\n\\n\\n19,309\\n\\n\\n\\n\\n\\n\\n\\n16,450\\n\\n\\n\\n\\n\\n\\n20,490\\n\\n\\n\\n\\n\\n\\nus-gaap:OperatingIncomeLoss\\n\\nTotal\\n\\n\\n\\n\\n$\\n109,433\\n\\n\\n\\n\\n\\n\\n$\\n88,523\\n\\n\\n\\n\\n\\n$\\n83,383\\n\\n\\n\\n\\n\\n\\n\\n\\nIMPORTANT NOTICE TO USERS (summary only,\\r\\nclick here\\r\\n\\xa0for full text of notice);\\xa0All information is unaudited unless otherwise noted or accompanied by an audit opinion and\\r\\nis subject to the more comprehensive information contained in our SEC reports and filings. We do not endorse third-party\\r\\ninformation. All information speaks as of the last fiscal quarter or year for which we have filed a Form 10-K or 10-Q, or\\r\\nfor historical information the date or period expressly indicated in or with such information. We undertake no duty to update\\r\\nthe information. Forward-looking statements are subject to risks and uncertainties described in our\\xa0\\r\\nForms 10-Q and 10-K.\\n\\n\\n\\n\\n\\n\\n\\n\\n\\n\\n\\n\\n\\n\\nDownload Earnings Related Files\\nInformation contained in these documents is current as of the earnings date, and not restated for new accounting standards\\nEarnings Call Slides\\n        \\nEarnings Call Transcript\\n        \\nFinancial Statements\\n        \\nOutlook\\n        \\nPress Release\\n        \\n10K\\n        \\nFY24Q4 Product Release List\\n        \\n\\n            ASSET PACKAGE\\n            \\n\\n\\n\\n\\n\\n\\n\\n\\n\\n\\n\\n'max-age=0,s-maxage=900'\\n\\n\\n\\n                        $add_header('Cache-Control', $(xfMaxAgeHeaders))\\n                    \\n\\n\\n\\n\\n\\n\\n\\n\\n\\n\\n\\n\\nEarnings Release Pages\\nMetrics\\nPerformance\\nPress Release & Webcast\\nFinancial Statements\\nSegment Results\\nCustomer & Partner Highlights\\r\\n\\xa0\\n\\n\\n\\n\\n\\n\\n\\n\\n'max-age=0,s-maxage=900'\\n\\n\\n\\n                        $add_header('Cache-Control', $(xfMaxAgeHeaders))\\n                    \\n\\n\\n\\n\\n\\n\\n\\n\\n\\n\\n\\n\\r\\n Related Information\\nWebcast\\nSEC Filings\\nXBRL\\n\\n\\n\\n\\n\\n\\n\\n\\n\\n'max-age=0,s-maxage=900'\\n\\n\\n\\n                        $add_header('Cache-Control', $(xfMaxAgeHeaders))\\n                    \\n\\n\\n\\n\\n\\n\\n\\n\\n\\n\\n\\n\\n\\n\\n\\n\\n\\n\\n\\n\\n\\n\\n\\n\\n\\n\\n\\n\\n\\nMicrosoft Corp (MSFT)\\n\\n\\n\\n\\n\\n\\n\\n\\n\\n\\n\\n\\n\\n\\n\\n\\n\\n\\n\\n\\n\\r\\n2024 ANNUAL REPORT\\n\\nVIEW ONLINE\\xa0\\nDOWNLOAD NOW\\n\\xa0\\n\\n\\n\\n\\n\\n\\n\\n\\n\\n\\n\\n\\n'max-age=0,s-maxage=900'\\n\\n\\n\\n                        $add_header('Cache-Control', $(xfMaxAgeHeaders))\\n                    \\n\\n\\n\\n\\n\\n\\n\\n\\n\\n\\n\\n\\n\\n\\n\\n\\n\\n\\n\\n\\n\\n            Follow us\\n        \\n\\n\\n\\n\\n\\n\\n\\n\\n\\n\\n\\n\\n\\n\\n\\n\\n\\n\\n\\n\\n\\n\\n\\n\\n\\n\\n\\n\\n\\n\\n\\n            Share this page\\n        \\n\\n\\n\\n\\n\\n\\n\\n\\n\\n\\n\\n\\n\\n\\n\\n\\n\\n\\n\\n\\n\\n\\n\\n\\n\\n\\n\\n\\n\\n'max-age=0,s-maxage=900'\\n\\n\\n\\n                        $add_header('Cache-Control', $(xfMaxAgeHeaders))\\n                    \\n\\n\\n\\n\\n\\n\\n\\n\\n\\n\\n\\n\\n\\n\\n\\n\\n\\n\\nWhat's new\\n\\n\\nSurface Pro\\n\\n\\nSurface Laptop\\n\\n\\nSurface Laptop Studio 2\\n\\n\\nSurface Laptop Go 3\\n\\n\\nMicrosoft Copilot\\n\\n\\nAI in Windows\\n\\n\\nExplore Microsoft products\\n\\n\\nWindows 11 apps\\n\\n\\n\\n\\nMicrosoft Store\\n\\n\\nAccount profile\\n\\n\\nDownload Center\\n\\n\\nMicrosoft Store support\\n\\n\\nReturns\\n\\n\\nOrder tracking\\n\\n\\nCertified Refurbished\\n\\n\\nMicrosoft Store Promise\\n\\n\\nFlexible Payments\\n\\n\\n\\n\\nEducation\\n\\n\\nMicrosoft in education\\n\\n\\nDevices for education\\n\\n\\nMicrosoft Teams for Education\\n\\n\\nMicrosoft 365 Education\\n\\n\\nHow to buy for your school\\n\\n\\nEducator training and development\\n\\n\\nDeals for students and parents\\n\\n\\nAI for education\\n\\n\\n\\n\\n\\n\\nBusiness\\n\\n\\nMicrosoft Cloud\\n\\n\\nMicrosoft Security\\n\\n\\nDynamics 365\\n\\n\\nMicrosoft 365\\n\\n\\nMicrosoft Power Platform\\n\\n\\nMicrosoft Teams\\n\\n\\nMicrosoft 365 Copilot\\n\\n\\nSmall Business\\n\\n\\n\\n\\nDeveloper & IT\\n\\n\\nAzure\\n\\n\\nMicrosoft Developer\\n\\n\\nMicrosoft Learn\\n\\n\\nSupport for AI marketplace apps\\n\\n\\nMicrosoft Tech Community\\n\\n\\nAzure Marketplace\\n\\n\\nAppSource\\n\\n\\nVisual Studio\\n\\n\\n\\n\\nCompany\\n\\n\\nCareers\\n\\n\\nAbout Microsoft\\n\\n\\nCompany news\\n\\n\\nPrivacy at Microsoft\\n\\n\\nInvestors\\n\\n\\nDiversity and inclusion\\n\\n\\nAccessibility\\n\\n\\nSustainability\\n\\n\\n\\n\\n\\n\\nEnglish (United States)\\n\\n\\nYour Privacy Choices Opt-Out Icon\\n\\n\\n\\n\\n\\nYour Privacy Choices\\n\\n\\n\\n\\nYour Privacy Choices Opt-Out Icon\\n\\n\\n\\n\\n\\nYour Privacy Choices\\n\\n\\n\\nConsumer Health Privacy\\n\\n\\n\\n\\nSitemap\\n\\n\\nContact Microsoft\\n\\n\\nPrivacy \\n\\n\\nManage cookies\\n\\n\\nTerms of use\\n\\n\\nTrademarks\\n\\n\\nSafety & eco\\n\\n\\nRecycling\\n\\n\\nAbout our ads\\n\\n© Microsoft 2025\\n\\n\\n\\n\\n\\n\\n\\n\\n\\n\\n\\n\\n\\n\\n\\n\\n\\n\\n\\n\\n\\n\\n\\n\\n\\n\\n\\n\\n\\n\\n\\n\\n\\n\\n\\n\\n\"),\n",
       " Document(metadata={'source': 'https://www.investopedia.com/how-microsoft-makes-money-4798809/', 'title': 'How Microsoft Makes Money', 'description': \"Microsoft's is committed to responsibly designed AI. Its Intelligent Cloud segment is growing fast and is the largest source of the company's revenue and profit.\", 'language': 'en'}, page_content='\\n\\n\\n\\n\\n\\n\\n\\n\\n\\n\\n\\n\\nHow Microsoft Makes Money\\n\\n\\n\\n\\n\\n\\n\\n\\n\\n\\n\\n\\n\\n\\n\\n\\n\\n\\n\\n\\n\\n\\n\\n\\n\\n\\n\\n\\n\\n\\n\\n\\n\\n\\n\\n\\n\\n\\n\\n\\n\\n\\n\\n\\n\\n\\n\\n\\n\\n\\n\\n \\n\\n \\n\\n \\n\\n \\n\\n \\n\\n \\n\\n \\n\\n \\n\\n \\n\\n \\n\\n \\n\\n \\n\\n \\n\\n \\n\\n \\n\\n \\n\\n \\n\\n \\n\\n \\n\\n \\n\\n \\n\\n \\n\\n \\n\\n \\n\\n \\n\\n \\n\\n \\n\\n\\n\\n\\n\\n\\n\\nSkip to content\\n\\n\\n\\n\\n\\n\\n\\n\\n\\n\\n\\n\\n\\n\\n\\n\\n \\n\\n\\n\\n\\n News\\n\\n\\n\\n Markets\\n \\n\\n Companies\\n \\n\\n Earnings\\n \\n\\n CD Rates\\n \\n\\n Mortgage Rates\\n \\n\\n Economy\\n \\n\\n Government\\n \\n\\n Crypto\\n \\n\\n Live Markets News\\n \\n\\n Personal Finance\\n \\n\\n View All\\n \\n\\n\\n\\n Investing\\n\\n\\n\\n Best Online Brokers\\n \\n\\n Best Stock Screeners\\n \\n\\n Best Robo Advisors\\n \\n\\n Best Investment Apps\\n \\n\\n Best Brokers for ETFs\\n \\n\\n Best Crypto Exchanges\\n \\n\\n Best Gold IRAs\\n \\n\\n Best IRAs\\n \\n\\n Best Bitcoin IRAs\\n \\n\\n View All\\n \\n\\n\\n\\n Banking\\n\\n\\n\\n Best CD Rates\\n \\n\\n Best High Yield Savings Accounts\\n \\n\\n Best 1 Year CD Rates\\n \\n\\n Best 6 Month CD Rates\\n \\n\\n Best Jumbo CD Rates\\n \\n\\n Best Money Market Accounts\\n \\n\\n Best 3 Month CD Rates\\n \\n\\n Best 18 Month CD Rates\\n \\n\\n Best Savings Account for Kids\\n \\n\\n View All\\n \\n\\n\\n\\n Personal Finance\\n\\n\\n\\n Best Savings Account Bonuses\\n \\n\\n Best Bank Account Bonuses\\n \\n\\n Best High Yield Checking Accounts\\n \\n\\n Best Tax Relief Companies\\n \\n\\n Best Debt Relief Companies\\n \\n\\n Best Small Business Bank Accounts\\n \\n\\n Best Cash Advance Apps\\n \\n\\n Best Credit Repair Companies\\n \\n\\n Best Credit Unions\\n \\n\\n View All\\n \\n\\n\\n\\n Loans\\n\\n\\n\\n Best Mortgage Rates\\n \\n\\n Best Auto Loan Rates\\n \\n\\n Best Personal Loans\\n \\n\\n Best Bad Credit Loans\\n \\n\\n Best Emergency Loans for Bad Credit\\n \\n\\n Best Debt Consolidation Loans\\n \\n\\n Best Personal Loans With No Fees\\n \\n\\n Best Auto Refinance Loans\\n \\n\\n Best HELOC Loans\\n \\n\\n View All\\n \\n\\n\\n\\n Insurance\\n\\n\\n\\n Best Affordable Health Insurance\\n \\n\\n Best Dental Insurance\\n \\n\\n Best Life Insurance\\n \\n\\n Best Small Business Insurance\\n \\n\\n Best Life Insurance for People Over 50\\n \\n\\n Best Universal Life Insurance\\n \\n\\n Best Dental Insurance for Implants\\n \\n\\n Best Health Insurance Companies\\n \\n\\n Best Disability Insurance\\n \\n\\n View All\\n \\n\\n\\n\\n Simulator\\n\\n\\n\\n Login / Portfolio\\n \\n\\n Trade\\n \\n\\n Research\\n \\n\\n My Games\\n \\n\\n Leaderboard\\n \\n\\n\\n\\n\\n\\nTrade\\n\\n\\n \\n\\n\\n\\n\\n\\n\\nSearch\\n\\n\\nSearch\\n\\n\\n\\n\\n\\n\\n\\n\\n\\n\\n\\n \\n\\n\\n\\nPlease fill out this field.\\n\\n\\n\\n\\n\\n\\n\\n\\n\\n\\n \\n\\n\\n\\n\\n\\nSearch\\n\\n\\nSearch\\n\\n\\n\\n\\n\\n\\n \\n\\n\\n\\nPlease fill out this field.\\n\\n\\n\\n\\n\\n\\n\\n\\n\\n\\n\\nNews\\n\\n\\n\\n\\n\\n\\n\\n\\n\\n\\nNews\\n\\n\\n\\n\\n Markets\\n \\n\\n Companies\\n \\n\\n Earnings\\n \\n\\n CD Rates\\n \\n\\n Mortgage Rates\\n \\n\\n Economy\\n \\n\\n Government\\n \\n\\n Crypto\\n \\n\\n Live Markets News\\n \\n\\n Personal Finance\\n \\n\\n View All\\n \\n\\n\\n\\n\\n\\nInvesting\\n\\n\\n\\n\\n\\n\\n\\n\\n\\n\\nInvesting\\n\\n\\n\\n\\n Best Online Brokers\\n \\n\\n Best Stock Screeners\\n \\n\\n Best Robo Advisors\\n \\n\\n Best Investment Apps\\n \\n\\n Best Brokers for ETFs\\n \\n\\n Best Crypto Exchanges\\n \\n\\n Best Gold IRAs\\n \\n\\n Best IRAs\\n \\n\\n Best Bitcoin IRAs\\n \\n\\n View All\\n \\n\\n\\n\\n\\n\\nBanking\\n\\n\\n\\n\\n\\n\\n\\n\\n\\n\\nBanking\\n\\n\\n\\n\\n Best CD Rates\\n \\n\\n Best High Yield Savings Accounts\\n \\n\\n Best 1 Year CD Rates\\n \\n\\n Best 6 Month CD Rates\\n \\n\\n Best Jumbo CD Rates\\n \\n\\n Best Money Market Accounts\\n \\n\\n Best 3 Month CD Rates\\n \\n\\n Best 18 Month CD Rates\\n \\n\\n Best Savings Account for Kids\\n \\n\\n View All\\n \\n\\n\\n\\n\\n\\nPersonal Finance\\n\\n\\n\\n\\n\\n\\n\\n\\n\\n\\nPersonal Finance\\n\\n\\n\\n\\n Best Savings Account Bonuses\\n \\n\\n Best Bank Account Bonuses\\n \\n\\n Best High Yield Checking Accounts\\n \\n\\n Best Tax Relief Companies\\n \\n\\n Best Debt Relief Companies\\n \\n\\n Best Small Business Bank Accounts\\n \\n\\n Best Cash Advance Apps\\n \\n\\n Best Credit Repair Companies\\n \\n\\n Best Credit Unions\\n \\n\\n View All\\n \\n\\n\\n\\n\\n\\nLoans\\n\\n\\n\\n\\n\\n\\n\\n\\n\\n\\nLoans\\n\\n\\n\\n\\n Best Mortgage Rates\\n \\n\\n Best Auto Loan Rates\\n \\n\\n Best Personal Loans\\n \\n\\n Best Bad Credit Loans\\n \\n\\n Best Emergency Loans for Bad Credit\\n \\n\\n Best Debt Consolidation Loans\\n \\n\\n Best Personal Loans With No Fees\\n \\n\\n Best Auto Refinance Loans\\n \\n\\n Best HELOC Loans\\n \\n\\n View All\\n \\n\\n\\n\\n\\n\\nInsurance\\n\\n\\n\\n\\n\\n\\n\\n\\n\\n\\nInsurance\\n\\n\\n\\n\\n Best Affordable Health Insurance\\n \\n\\n Best Dental Insurance\\n \\n\\n Best Life Insurance\\n \\n\\n Best Small Business Insurance\\n \\n\\n Best Life Insurance for People Over 50\\n \\n\\n Best Universal Life Insurance\\n \\n\\n Best Dental Insurance for Implants\\n \\n\\n Best Health Insurance Companies\\n \\n\\n Best Disability Insurance\\n \\n\\n View All\\n \\n\\n\\n\\n\\n\\nSimulator\\n\\n\\n\\n\\n\\n\\n\\n\\n\\n\\nSimulator\\n\\n\\n\\n\\n Login / Portfolio\\n \\n\\n Trade\\n \\n\\n Research\\n \\n\\n My Games\\n \\n\\n Leaderboard\\n \\n\\n\\n\\n\\n\\n\\n\\n\\n\\nFollow Us\\n\\n\\n \\n\\n\\n \\n\\n \\n\\n\\n \\n\\n \\n\\n\\n \\n\\n \\n\\n\\n \\n\\n \\n\\n\\n \\n\\n\\n \\n\\n\\n\\n\\n\\n\\nTable of Contents\\nExpand\\nTable of Contents\\n\\n\\n\\nMicrosoft\\'s Industry\\nFinancials\\nHistory and Leadership\\nRecent Developments\\nFAQs\\nThe Bottom Line\\nCompany Profiles\\nFAANG and FAAMG Companies\\nHow Microsoft Makes Money\\nIntelligent Cloud Generates the Most Profit\\n\\n\\nBy\\n Nathan Reiff\\n \\n\\n\\n\\n\\n\\n\\n \\nFull Bio \\nNathan Reiff has been writing expert articles and news about financial topics such as investing and trading, cryptocurrency, ETFs, and alternative investments on Investopedia since 2016.\\n\\n\\n\\nLearn about our \\neditorial policies\\n\\n\\n\\nUpdated May 10, 2024\\n\\n\\n\\nReviewed by\\n Somer Anderson\\n \\n\\n\\n\\n\\n\\n\\n \\n\\n\\n\\nReviewed by\\nSomer Anderson\\n\\nFull Bio\\n\\n\\n\\n \\n\\n\\n \\n\\n \\n\\u200bSomer G. Anderson is CPA, doctor of accounting, and an accounting and finance professor who has been working in the accounting and finance industries for more than 20 years. Her expertise covers a wide range of accounting, corporate finance, taxes, lending, and personal finance areas.\\n\\n\\n\\nLearn about our \\nFinancial Review Board\\n\\n\\n\\n\\n\\n\\nFact checked by\\n Suzanne Kvilhaug\\n \\n\\n\\n\\n\\n\\n\\n \\n\\n\\n\\nFact checked by\\nSuzanne Kvilhaug\\n\\nFull Bio \\nSuzanne is a content marketer, writer, and fact-checker.\\xa0She holds a Bachelor of Science in Finance degree from Bridgewater State University and helps develop content strategies.\\n\\n\\n\\nLearn about our \\neditorial policies\\n\\n\\n\\n\\n\\n\\nClose\\n\\n\\n\\n Microsoft Corp., one of the world\\'s biggest tech companies, sells a variety of products and services to support the various efforts of people and businesses in work and life. The source of its greatest amount of revenue is its Intelligent Cloud business segment.\\n\\n\\n For the AI era, Microsoft is reexamining all of its customer solutions and every part of its tech stack to ensure that it delivers responsibly designed AI and maintains the company\\'s mission to \"empower every person and every organization on the planet to achieve more.\"\\n\\n\\n Microsoft\\'s products include operating systems, server applications, business solution applications, software development tools, and collaboration applications. It also designs and offers personal computing devices such as PCs, tablets, and gaming consoles.\\n\\n\\n Its services include cloud-based computing solutions, online advertising, online platforms and content, and consulting.\\n\\n\\n The foundation for all of Microsoft\\'s efforts are the core principles of fairness, reliability and safety, privacy and security, inclusiveness, transparency, and accountability.\\n\\n\\n Key Takeaways\\nMicrosoft sells computing devices, cloud systems and services, software, and other products to consumers and businesses.The company\\'s Intelligent Cloud segment is the largest source of profit, as well as the fastest-growing.Microsoft is focused on delivering AI solutions to customers in a broad swath of industries.Some of its many competitors include Apple, Amazon, Meta, Alphabet, Oracle, and IBM.Microsoft\\'s current CEO is Satya Nadella.\\n\\n  Microsoft\\'s Industry  \\n Microsoft (MSFT) operates in the software industry within the information technology sector. AI continues to drive the software industry at a lightning pace. Microsoft is at the forefront of the development and distribution of AI for application by all types of companies, business industries, people, and countries.\\n\\n\\n Its three business and reporting segments, Productivity and Business Processes, Intelligent Cloud, and More Personal Computing face competition from such well-known companies as:\\n\\n\\n Productivity and Business Processes\\n\\n\\n\\nApple (AAPL)\\nCisco Systems (CSCO)\\nMeta (META)\\nAlphabet (GOOG)\\nOkta (OKTA)\\nSlack (WORK)\\nZoom (ZM)\\nOracle (ORCL)\\nSalesforce (CRM)\\nSAP (SAP)\\n\\n\\n Intelligent Cloud\\n\\n\\n\\nAmazon Code Whisperer\\nGoogle AI\\nIBM (IBM)\\nOracle\\nVMware\\nHewlett-Packard (HPE)\\nAdobe (ADBE)\\nApache\\nCA Technologies\\nSnowflake\\n\\n\\n More Personal Computing\\n\\n\\n\\nApple\\nAmazon (AMZN)\\nMeta\\nTencent\\nNintendo\\nSony\\n\\n\\n Fast Fact\\nMicrosoft is the largest company in the world as measured by market cap.\\n\\n\\n\\n  Microsoft\\'s Financials  \\n As of May 2024, Microsoft\\'s market capitalization was $3.07 trillion.\\n\\n\\n Microsoft\\'s 2023 annual report reported the company\\'s financial results for the 2023 fiscal year (FY). Additionally, on April 25, 2024, the company announced financial results for the quarter ended March 31, 2024.\\n\\n\\n  Revenue  \\n For FY 2023, revenue was $211.91 billion, an increase of 7% over the previous year\\'s $198.27 billion. For the third quarter of FY 2024, revenue was $61.9 billion, an increase of 17% over the previous year\\'s third quarter.\\n\\n\\n  Net Income  \\n For FY 2023, net income was $72.36 billion, a drop of 1% from the previous year\\'s $72.73 billion. For the third quarter of FY 2024, net income was $21.9 billion, an increase of 20% over the previous year\\'s third quarter.\\n\\n\\n  Operating Income  \\n For FY 2023, operating income was $88.52 billion, an increase of 6% over the previous year\\'s $83.38 billion. For the third quarter of FY 2024, operating income was $27.6 billion, an increase of 23% over the previous year\\'s third quarter.\\n\\n\\n  Revenue From Business Segments  \\n Microsoft divides its business into three segments for the purpose of operating and reporting. These segments are Productivity and Business Processes, Intelligent Cloud, and More Personal Computing.\\n\\n\\n Underscoring the financials of the Intelligent Cloud segment, CEO Satya Nadella wrote, “Microsoft Copilot and Copilot stack are orchestrating a new era of AI transformation, driving better business outcomes across every role and industry.” In addition, for the third quarter of FY 2024, Microsoft Cloud revenue was up 23% year over year, at $35.1 billion.\\n\\n\\n Productivity and Business Processes\\n\\n\\n This segment offers a portfolio of products designed to enhance corporate productivity, communication, and information services. One of its major products is Microsoft\\'s Office software suite, including both the commercial and consumer divisions. The segment also includes business solutions products such as Dynamics 365, as well as the professional networking site, LinkedIn.\\n\\n\\n For FY 2023, Productivity and Business Processes generated $69.3 billion in revenue, up 9% over the previous year. Operating income was $34.1 billion, an increase of 15% over the previous year. \\n\\n\\n For the third quarter of FY 2024, revenue was $19.6 billion, an increase of 12% over the same period the previous year. It was driven by Dynamics products and cloud services which increased 19%. Operating income for the quarter was $10.1 billion, up about 17%.\\n\\n\\n Intelligent Cloud\\n\\n\\n The Intelligent Cloud segment is comprised of all of Microsoft\\'s public, private, and hybrid server products as well as cloud services for business. These include Microsoft Azure, SQL Server, Windows Server, GitHub, Enterprise Services, and more.\\n\\n\\n For FY 2023, Intelligent Cloud generated $87.9 billion in revenue, up 17% over the previous year. Operating income was $37.8 billion, an increase of 14% over the previous year.\\n\\n\\n For the third quarter of FY 2024, revenue was $26.7 billion, an increase of 21% over the same period the previous year. In addition to the growth of revenue from Microsoft Cloud mentioned above, revenue from Azure and other cloud services grew 31%, which powered the overall revenue from server products and cloud services to a 24% growth. Operating income for the quarter was $12.5 billion, up about 32%.\\n\\n\\n More Personal Computing\\n\\n\\n Microsoft describes its More Personal Computing segment as consisting of products and services aimed at putting \"customers at the center of the experience with our technology.\" The Windows operating system, Surface device, gaming products, and search and news advertising are all included in this segment.\\n\\n\\n For FY 2023, More Personal Computing generated $54.7 billion in revenue, down 9% from the previous year. Operating income was $16.4 billion, down 20%.\\n\\n\\n For the third quarter of FY 2024, revenue was $15.6 billion, an increase of 17% over the same period the previous year. Revenue from Xbox content and services grew by 62%. Search and news advertising revenue grew by 12%. Operating income for the quarter was $4.9 billion, up about 16%.\\n\\n\\n\\n\\n  History and Leadership  \\n Microsoft was founded in 1975 by Bill Gates and Paul Allen. It is headquartered in Redmond, Wash.\\n\\n\\n Gates was a software developer and manager in the company. He stepped away from daily activities in 2008 and resigned from the Board of Directors in 2020. Gates continues to meet with the company\\'s product teams to discuss a variety of relevant topics, and in particular, artificial intelligence and Microsoft\\'s role in developing AI\\'s capabilities for a variety of applications.\\n\\n\\n Allen was Microsoft\\'s chief technologist until he resigned in 1983. He passed away in 2018.\\n\\n\\n In January 2000, Steve Ballmer was named Microsoft\\'s President and Chief Executive Officer. He left the company in 2014. Satya Nadella has held the position of CEO since 2014. He has overseen an important period of change for the company, during which it has placed a major focus on cloud computing and subscription services, and AI.\\n\\n\\n  Recent Developments  \\n • In May 2024, Microsoft announced its intended investment in Southeast Wisconsin to develop AI-powered economic activity, innovation, and job creation. The amount of $3.3 billion will go to cloud computing and AI infrastructure, an AI co-innovation lab that will focus on manufacturing, and a program to train more than 100,000 Wisconsin residents in AI.\\n\\n\\n • In April 2024, Microsoft announced an investment of $1.7 billion to build new cloud and AI infrastructure in the nation of Indonesia. It will also offer training in AI for 840,000 people. The investment is the largest Microsoft has ever made in Indonesia.\\xa0Microsoft\\'s goal is to assist the Indonesian government in achieving its Golden Indonesia 2045 Vision of developing the nation into a \"global economic powerhouse.\"\\n\\n\\n • In March 2024, Microsoft and NVIDIA merged their efforts to deliver the capabilities of generative AI, the cloud, and accelerated computing to companies focused on healthcare and life sciences. Microsoft Azure,\\xa0NVIDIA\\xa0DGX Cloud, and the\\xa0NVIDIA\\xa0Clara\\xa0computing platforms and software will be used to improve patient care.\\n\\n\\n What\\'s the Value of a Share of Microsoft Stock?\\nOn May 10, 2024, a share of Microsoft was trading at $413.86.\\n\\n\\n What\\'s Microsoft\\'s Primary Focus Now?\\nAs with other technology companies, Microsoft has dramatically increased its efforts to develop artificial intelligence for use by people and companies. One of its goals is to design a natural language for a more intuitive human-computer interface and a new reasoning engine.\\n\\n\\n Does Bill Gates Still Run Microsoft?\\nNo, Bill Gates left behind day-to-day business activities at Microsoft in 2008. He resigned from the Board in 2020. Now, he focuses a lot of time on the Bill and Melinda Gates Foundation.\\n\\n\\n  The Bottom Line  \\n Founded in 1975 by Bill Gates and Paul Allen, Microsoft is the world\\'s largest technology company today, measured by market cap.\\n\\n\\n It offers products and services related to, among other things, software, business applications, cloud computing, gaming, and online advertising. It invests heavily in AI.\\n\\n\\n The greatest amount of revenue for the company comes from its Intelligent Cloud business segment.\\n\\n\\n\\n\\n\\nArticle Sources\\n\\n\\n\\nInvestopedia requires writers to use primary sources to support their work. These include white papers, government data, original reporting, and interviews with industry experts. We also reference original research from other reputable publishers where appropriate. You can learn more about the standards we follow in producing accurate, unbiased content in our\\neditorial policy.\\n \\nMicrosoft. \"Annual Report 2023: CEO\\'s Letter.\"\\nMicrosoft. \"Annual Report 2023: Business–What We Offer.\"\\nMicrosoft. \"Annual Report 2023: Business–Embracing Our Future.\"\\ncompaniesmarketcap. \"Largest Companies by Market Cap.\"\\ncompaniesmarketcap. \"Market Capitalization of Microsoft (MSFT).\"\\nMicrosoft. \"Microsoft Cloud Strength Fuels Third Quarter Results.\"\\nMicrosoft. \"Annual Report 2023: Summary Results of Operations.\"\\nMicrosoft. \"Segment Information.\"\\nMicrosoft. \"Annual Report 2023: Segment Results of Operations.\"\\nU.S. Securities and Exchange Commission. \"Form 10-Q Microsoft Corporation,\" Page 29.\\nForbes. \"Exclusive: Bill Gates On Advising OpenAI, Microsoft And Why AI Is ‘The Hottest Topic Of 2023’.\"\\nMicrosoft. \"About Microsoft: Satya Nadella Marks Five Years as CEO.\"\\nMicrosoft. \"Microsoft Announces $3.3 Billion Investment in Wisconsin To Spur Artificial Intelligence Innovation and Economic Growth.\"\\nMicrosoft. \"Microsoft Announces US$1.7 Billion Investment To Advance Indonesia’s Cloud and AI Ambitions.\"\\nMicrosoft. \"Microsoft Announces Collaboration With NVIDIA To Accelerate Healthcare and Life Sciences Innovation With Advanced Cloud, AI and Accelerated Computing Capabilities.\"\\n\\n\\n\\nCompare Accounts\\n Advertiser Disclosure\\n\\n ×\\n\\nThe offers that appear in this table are from partnerships from which Investopedia receives compensation. This compensation may impact how and where listings appear. Investopedia does not include all offers available in the marketplace.\\n\\n\\n\\n\\n\\n\\n\\n\\n\\nPartner Links\\n\\n\\n\\n\\n\\n\\n\\n\\n\\n\\n\\n\\n\\n\\n\\n\\n\\n\\n\\n\\n\\n\\n\\n\\n\\n\\n\\n\\n\\n\\n\\n\\n\\n\\n\\n\\n\\n\\n\\n\\n\\n\\n\\n\\n\\n\\n\\n\\n\\n\\n\\n\\nRelated Articles\\n\\n\\n\\n\\n\\n\\n\\n\\n\\n\\n\\n\\nTop 3 Companies Owned by Facebook (Meta)\\n\\n\\n\\n\\n\\n\\n\\n\\n\\n\\n\\n\\n\\n\\n\\nAlphabet’s GOOG vs. GOOGL: What’s the Difference?\\n\\n\\n\\n\\n\\n\\n\\n\\n\\n\\n\\n\\n\\n\\n\\nHow Amazon Makes Money\\n\\n\\n\\n\\n\\n\\n\\n\\n\\n\\n\\n\\n\\n\\n\\nThe Secret to Microsoft\\'s Success\\n\\n\\n\\n\\n\\n\\n\\n\\n\\n\\n\\n\\n\\n\\n\\nHow BlackRock Makes Money\\n\\n\\n\\n\\n\\n\\n\\n\\n\\n\\n\\n\\n\\n\\n\\nMoneyGram vs. PayPal vs. Xoom: Who Has the Lowest Fees?\\n\\n\\n\\n\\n\\n\\n\\n\\n\\n\\n\\n\\n\\n\\n\\nHow Reddit Makes Money\\n\\n\\n\\n\\n\\n\\n\\n\\n\\n\\n\\n\\n\\n\\n\\nStartup Capital Definition, Types, and Risks\\n\\n\\n\\n\\n\\n\\n\\n\\n\\n\\n\\n\\n\\n\\n\\n\\n\\n\\nAmerican Express\\'s Main Competition\\n\\n\\n\\n\\n\\n\\n\\n\\n\\n\\n\\n\\n\\n\\n\\nValuing Startup Ventures\\n\\n\\n\\n\\n\\n\\n\\n\\n\\n\\n\\n\\n\\n\\n\\nTarget\\'s Circle Card: What You Need to Know\\n\\n\\n\\n\\n\\n\\n\\n\\n\\n\\n\\n\\n\\n\\n\\nTesla: The True Untold Story\\n\\n\\n\\n\\n\\n\\n\\n\\n\\n\\n\\n\\n\\n\\n\\nWhy Is There an IPO Lockup Period and How Long Does It Last?\\n\\n\\n\\n\\n\\n\\n\\n\\n\\n\\n\\n\\n\\n\\n\\nTop 10 Largest Global IPOs of All Time\\n\\n\\n\\n\\n\\n\\n\\n\\n\\n\\n\\n\\n\\n\\n\\nThe Evolution of the Coca-Cola Brand\\n\\n\\n\\n\\n\\n\\n\\n\\n\\n\\n\\n\\n\\n\\n\\n5 Companies Owned by Comcast\\n\\n\\n\\n\\n\\n\\n\\n\\n\\n\\n\\n\\n \\n\\n\\n \\n\\n \\n\\n\\n \\n\\n \\n\\n\\n \\n\\n \\n\\n\\n \\n\\n\\n\\n About Us\\nTerms of Service\\nDictionary\\nEditorial Policy\\nAdvertise\\nNews\\nPrivacy Policy\\nContact Us\\nCareers\\nEU Privacy\\n\\n\\n#\\nA\\nB\\nC\\nD\\nE\\nF\\nG\\nH\\nI\\nJ\\nK\\nL\\nM\\nN\\nO\\nP\\nQ\\nR\\nS\\nT\\nU\\nV\\nW\\nX\\nY\\nZ\\n \\n\\n\\n\\n\\n\\nInvestopedia\\nis part of the Dotdash Meredith\\xa0publishing\\xa0family.\\n\\n\\n\\n\\n\\n\\n\\n\\n\\n\\n\\n\\n\\nWe Care About Your PrivacyWe and our 100 partners store and/or access information on a device, such as unique IDs in cookies to process personal data. You may accept or manage your choices by clicking below, including your right to object where legitimate interest is used, or at any time in the privacy policy page. These choices will be signaled to our partners and will not affect browsing data.We and our partners process data to provide:Store and/or access information on a device. Use limited data to select advertising. Create profiles for personalised advertising. Use profiles to select personalised advertising. Create profiles to personalise content. Use profiles to select personalised content. Measure advertising performance. Measure content performance. Understand audiences through statistics or combinations of data from different sources. Develop and improve services. Use limited data to select content. \\nList of Partners (vendors)\\nAccept All Reject All Show Purposes\\n\\n\\n')]"
      ]
     },
     "execution_count": 3,
     "metadata": {},
     "output_type": "execute_result"
    }
   ],
   "source": [
    "doc_list=[item for sublist in docs for item in sublist]\n",
    "doc_list"
   ]
  },
  {
   "cell_type": "code",
   "execution_count": 4,
   "id": "ba3ffb88",
   "metadata": {},
   "outputs": [],
   "source": [
    "text_splitter=RecursiveCharacterTextSplitter.from_tiktoken_encoder(\n",
    "    chunk_size=1000,chunk_overlap=100\n",
    ")\n",
    "\n",
    "doc_split=text_splitter.split_documents(doc_list)\n",
    "\n",
    "#Add to VectorDB\n",
    "vectorstore=FAISS.from_documents(\n",
    "    documents=doc_split,\n",
    "    embedding=OpenAIEmbeddings()\n",
    ")\n",
    "retriever=vectorstore.as_retriever()"
   ]
  },
  {
   "cell_type": "code",
   "execution_count": 5,
   "id": "77c34e15",
   "metadata": {},
   "outputs": [
    {
     "data": {
      "text/plain": [
       "[Document(id='6a9eef95-252d-4774-96b2-a049c39efae8', metadata={'source': 'https://www.investopedia.com/how-microsoft-makes-money-4798809/', 'title': 'How Microsoft Makes Money', 'description': \"Microsoft's is committed to responsibly designed AI. Its Intelligent Cloud segment is growing fast and is the largest source of the company's revenue and profit.\", 'language': 'en'}, page_content='For the third quarter of FY 2024, revenue was $19.6 billion, an increase of 12% over the same period the previous year. It was driven by Dynamics products and cloud services which increased 19%. Operating income for the quarter was $10.1 billion, up about 17%.\\n\\n\\n Intelligent Cloud\\n\\n\\n The Intelligent Cloud segment is comprised of all of Microsoft\\'s public, private, and hybrid server products as well as cloud services for business. These include Microsoft Azure, SQL Server, Windows Server, GitHub, Enterprise Services, and more.\\n\\n\\n For FY 2023, Intelligent Cloud generated $87.9 billion in revenue, up 17% over the previous year. Operating income was $37.8 billion, an increase of 14% over the previous year.\\n\\n\\n For the third quarter of FY 2024, revenue was $26.7 billion, an increase of 21% over the same period the previous year. In addition to the growth of revenue from Microsoft Cloud mentioned above, revenue from Azure and other cloud services grew 31%, which powered the overall revenue from server products and cloud services to a 24% growth. Operating income for the quarter was $12.5 billion, up about 32%.\\n\\n\\n More Personal Computing\\n\\n\\n Microsoft describes its More Personal Computing segment as consisting of products and services aimed at putting \"customers at the center of the experience with our technology.\" The Windows operating system, Surface device, gaming products, and search and news advertising are all included in this segment.\\n\\n\\n For FY 2023, More Personal Computing generated $54.7 billion in revenue, down 9% from the previous year. Operating income was $16.4 billion, down 20%.\\n\\n\\n For the third quarter of FY 2024, revenue was $15.6 billion, an increase of 17% over the same period the previous year. Revenue from Xbox content and services grew by 62%. Search and news advertising revenue grew by 12%. Operating income for the quarter was $4.9 billion, up about 16%.\\n\\n\\n\\n\\n  History and Leadership  \\n Microsoft was founded in 1975 by Bill Gates and Paul Allen. It is headquartered in Redmond, Wash.\\n\\n\\n Gates was a software developer and manager in the company. He stepped away from daily activities in 2008 and resigned from the Board of Directors in 2020. Gates continues to meet with the company\\'s product teams to discuss a variety of relevant topics, and in particular, artificial intelligence and Microsoft\\'s role in developing AI\\'s capabilities for a variety of applications.\\n\\n\\n Allen was Microsoft\\'s chief technologist until he resigned in 1983. He passed away in 2018.\\n\\n\\n In January 2000, Steve Ballmer was named Microsoft\\'s President and Chief Executive Officer. He left the company in 2014. Satya Nadella has held the position of CEO since 2014. He has overseen an important period of change for the company, during which it has placed a major focus on cloud computing and subscription services, and AI.\\n\\n\\n  Recent Developments  \\n • In May 2024, Microsoft announced its intended investment in Southeast Wisconsin to develop AI-powered economic activity, innovation, and job creation. The amount of $3.3 billion will go to cloud computing and AI infrastructure, an AI co-innovation lab that will focus on manufacturing, and a program to train more than 100,000 Wisconsin residents in AI.\\n\\n\\n • In April 2024, Microsoft announced an investment of $1.7 billion to build new cloud and AI infrastructure in the nation of Indonesia. It will also offer training in AI for 840,000 people. The investment is the largest Microsoft has ever made in Indonesia.\\xa0Microsoft\\'s goal is to assist the Indonesian government in achieving its Golden Indonesia 2045 Vision of developing the nation into a \"global economic powerhouse.\"\\n\\n\\n • In March 2024, Microsoft and NVIDIA merged their efforts to deliver the capabilities of generative AI, the cloud, and accelerated computing to companies focused on healthcare and life sciences. Microsoft Azure,\\xa0NVIDIA\\xa0DGX Cloud, and the\\xa0NVIDIA\\xa0Clara\\xa0computing platforms and software will be used to improve patient care.\\n\\n\\n What\\'s the Value of a Share of Microsoft Stock?\\nOn May 10, 2024, a share of Microsoft was trading at $413.86.\\n\\n\\n What\\'s Microsoft\\'s Primary Focus Now?\\nAs with other technology companies, Microsoft has dramatically increased its efforts to develop artificial intelligence for use by people and companies. One of its goals is to design a natural language for a more intuitive human-computer interface and a new reasoning engine.\\n\\n\\n Does Bill Gates Still Run Microsoft?\\nNo, Bill Gates left behind day-to-day business activities at Microsoft in 2008. He resigned from the Board in 2020. Now, he focuses a lot of time on the Bill and Melinda Gates Foundation.'),\n",
       " Document(id='86d0f269-054a-4aaa-8183-019f52bff51b', metadata={'source': 'https://www.microsoft.com/en-us/investor/earnings/fy-2024-q4/segment-revenues/', 'title': 'FY24 Q4 - Segment Revenue and Operating Income - Investor Relations - Microsoft', 'language': 'en-US'}, page_content='FY24 Q4 - Segment Revenue and Operating Income - Investor Relations - Microsoft\\n\\n\\n\\n\\n\\n\\n\\n\\n\\n\\n\\n\\n\\n\\n\\n\\n\\n\\n\\n\\n\\n\\n\\n\\n\\n\\n\\n\\t\\t\\t\\n\\n\\t\\t\\n\\t\\t\\n\\t\\t\\t\\tThis is the Trace Id: a1c8783dbe6708355e621b4b4857bbad\\n\\t\\t\\t\\t\\n\\n\\n\\n\\n\\n\\n\\n\\n\\n\\n\\n\\n\\n \\n\\n\\n\\n\\n\\n\\n\\n\\n\\n\\n\\n\\n\\n\\n\\n\\n\\n\\n\\n\\n\\n\\n\\n\\nSkip to main content\\n\\n\\n\\n\\n\\n\\n\\nMicrosoft\\n\\n\\n\\nInvestor Relations\\n\\n\\n\\n\\nInvestor Relations\\n\\n\\n\\n\\n                            Investor Relations\\n                        \\n\\n\\n\\n\\n Home \\n\\n\\n\\nInvestor Relations\\n\\n\\nHome\\n\\n\\nCompany Information\\n\\n\\nBoard & ESG\\n\\n\\nAnnual Reports\\n\\n\\nSEC Filings\\n\\n\\nEvents\\n\\n\\nInvestor Information\\n\\n\\nContacts\\n\\n\\n\\n \\n\\nEarnings Releases\\n\\n\\nPress Release & Webcast\\n\\n\\nFinancial Statements\\nFinancial Statements\\n\\n\\nIncome Statements\\n\\n\\nComprehensive Income\\n\\n\\nBalance Sheets\\n\\n\\nCash Flows\\n\\n\\nSegment Revenue & Operating Income\\n\\n\\n\\n\\nPerformance\\n\\n\\nMetrics\\n\\n\\nSegment Results\\nSegment Results\\n\\n\\nProductivity and Business Processes\\n\\n\\nIntelligent Cloud\\n\\n\\nMore Personal Computing\\n\\n\\n\\n\\n\\n \\n\\nFinancial Statements\\n\\n\\nIncome Statements\\n\\n\\nComprehensive Income\\n\\n\\nBalance Sheets\\n\\n\\nCash Flows\\n\\n\\nSegment Revenue & Operating Income\\n\\n\\n\\n\\n\\n\\nMore\\n\\n\\n\\n\\n\\n\\n\\n \\n\\n\\n\\n All Microsoft\\n\\n\\nGlobal\\n\\n\\nMicrosoft 365\\n\\n\\nTeams\\n\\n\\nCopilot\\n\\n\\nWindows\\n\\n\\nSurface\\n\\n\\nXbox\\n\\n\\nDeals\\n\\n\\nSmall Business\\n\\n\\nSupport\\n\\n\\n\\n\\nSoftware\\nSoftware\\n\\n\\nWindows Apps\\n\\n\\nAI\\n\\n\\nOutlook\\n\\n\\nOneDrive\\n\\n\\nMicrosoft Teams\\n\\n\\nOneNote\\n\\n\\nMicrosoft Edge\\n\\n\\nSkype\\n\\n\\n\\n\\nPCs & Devices  \\nPCs & Devices  \\n\\n\\nComputers\\n\\n\\nShop Xbox\\n\\n\\nAccessories\\n\\n\\nVR & mixed reality\\n\\n\\nCertified Refurbished\\n\\n\\nTrade-in for cash\\n\\n\\n\\n\\nEntertainment\\nEntertainment\\n\\n\\nXbox Game Pass Ultimate\\n\\n\\nPC Game Pass\\n\\n\\nXbox games\\n\\n\\nPC and Windows games\\n\\n\\nMovies & TV\\n\\n\\n\\n\\nBusiness\\nBusiness\\n\\n\\nMicrosoft Cloud\\n\\n\\nMicrosoft Security\\n\\n\\nDynamics 365\\n\\n\\nMicrosoft 365 for business\\n\\n\\nMicrosoft Power Platform\\n\\n\\nWindows 365\\n\\n\\nMicrosoft Industry\\n\\n\\nSmall Business\\n\\n\\n\\n\\nDeveloper & IT  \\nDeveloper & IT  \\n\\n\\nAzure\\n\\n\\nMicrosoft Developer\\n\\n\\nMicrosoft Learn\\n\\n\\nSupport for AI marketplace apps\\n\\n\\nMicrosoft Tech Community\\n\\n\\nAzure Marketplace\\n\\n\\nAppSource\\n\\n\\nVisual Studio\\n\\n\\n\\n\\nOther\\nOther\\n\\n\\nMicrosoft Rewards \\n\\n\\nFree downloads & security\\n\\n\\nEducation\\n\\n\\nGift cards\\n\\n\\nLicensing\\n\\n\\nUnlocked stories\\n\\n\\n\\n\\nView Sitemap\\n\\n\\n\\n\\n\\n\\n\\n\\n\\n\\nSearch\\nSearch Microsoft.com\\n\\n\\n\\n\\n No results\\n\\n\\n\\n\\nCancel\\n\\n\\n\\n\\n\\n\\n\\n\\n\\n\\n\\n\\n\\n\\n\\n\\n\\n\\n\\n\\n\\n\\n\\n\\n\\n\\n\\n\\nEarnings Release FY24 Q4\\n\\n\\n\\n\\n\\n\\n\\n\\n                Income Statements\\n                    \\n\\n\\n\\n\\n                Comprehensive Income\\n                    \\n\\n\\n\\n\\n                Balance Sheets\\n                    \\n\\n\\n\\n\\n                Cash Flows\\n                    \\n\\n\\n\\n\\nSegment Revenue & Operating Income\\n\\n\\n\\n\\n\\n\\n\\n\\n\\n\\n\\n\\n\\n\\n\\n\\n\\n\\n\\n\\n\\n\\nSegment Revenue and Operating Income\\n\\n\\n\\n\\n\\n\\r\\n  (In millions) \\n\\n\\n\\nYear Ended June 30,\\n\\n\\n\\n\\n2024\\n\\n\\n2023\\n\\n\\n2022\\n\\n\\n\\n\\n\\n\\nElementName\\n\\nRevenue\\n\\n\\n\\n\\n\\n\\n\\nus-gaap:RevenueFromContractWithCustomerExcludingAssessedTaxmsft:ProductivityAndBusinessProcessesMember\\n\\n\\nProductivity and Business Processes'),\n",
       " Document(id='b0a586d8-fd45-4d50-88d2-2fbdfaff3603', metadata={'source': 'https://www.investopedia.com/how-microsoft-makes-money-4798809/', 'title': 'How Microsoft Makes Money', 'description': \"Microsoft's is committed to responsibly designed AI. Its Intelligent Cloud segment is growing fast and is the largest source of the company's revenue and profit.\", 'language': 'en'}, page_content=\"Key Takeaways\\nMicrosoft sells computing devices, cloud systems and services, software, and other products to consumers and businesses.The company's Intelligent Cloud segment is the largest source of profit, as well as the fastest-growing.Microsoft is focused on delivering AI solutions to customers in a broad swath of industries.Some of its many competitors include Apple, Amazon, Meta, Alphabet, Oracle, and IBM.Microsoft's current CEO is Satya Nadella.\\n\\n  Microsoft's Industry  \\n Microsoft (MSFT) operates in the software industry within the information technology sector. AI continues to drive the software industry at a lightning pace. Microsoft is at the forefront of the development and distribution of AI for application by all types of companies, business industries, people, and countries.\\n\\n\\n Its three business and reporting segments, Productivity and Business Processes, Intelligent Cloud, and More Personal Computing face competition from such well-known companies as:\\n\\n\\n Productivity and Business Processes\\n\\n\\n\\nApple (AAPL)\\nCisco Systems (CSCO)\\nMeta (META)\\nAlphabet (GOOG)\\nOkta (OKTA)\\nSlack (WORK)\\nZoom (ZM)\\nOracle (ORCL)\\nSalesforce (CRM)\\nSAP (SAP)\\n\\n\\n Intelligent Cloud\\n\\n\\n\\nAmazon Code Whisperer\\nGoogle AI\\nIBM (IBM)\\nOracle\\nVMware\\nHewlett-Packard (HPE)\\nAdobe (ADBE)\\nApache\\nCA Technologies\\nSnowflake\\n\\n\\n More Personal Computing\\n\\n\\n\\nApple\\nAmazon (AMZN)\\nMeta\\nTencent\\nNintendo\\nSony\\n\\n\\n Fast Fact\\nMicrosoft is the largest company in the world as measured by market cap.\\n\\n\\n\\n  Microsoft's Financials  \\n As of May 2024, Microsoft's market capitalization was $3.07 trillion.\\n\\n\\n Microsoft's 2023 annual report reported the company's financial results for the 2023 fiscal year (FY). Additionally, on April 25, 2024, the company announced financial results for the quarter ended March 31, 2024.\\n\\n\\n  Revenue  \\n For FY 2023, revenue was $211.91 billion, an increase of 7% over the previous year's $198.27 billion. For the third quarter of FY 2024, revenue was $61.9 billion, an increase of 17% over the previous year's third quarter.\\n\\n\\n  Net Income  \\n For FY 2023, net income was $72.36 billion, a drop of 1% from the previous year's $72.73 billion. For the third quarter of FY 2024, net income was $21.9 billion, an increase of 20% over the previous year's third quarter.\\n\\n\\n  Operating Income  \\n For FY 2023, operating income was $88.52 billion, an increase of 6% over the previous year's $83.38 billion. For the third quarter of FY 2024, operating income was $27.6 billion, an increase of 23% over the previous year's third quarter.\\n\\n\\n  Revenue From Business Segments  \\n Microsoft divides its business into three segments for the purpose of operating and reporting. These segments are Productivity and Business Processes, Intelligent Cloud, and More Personal Computing.\\n\\n\\n Underscoring the financials of the Intelligent Cloud segment, CEO Satya Nadella wrote, “Microsoft Copilot and Copilot stack are orchestrating a new era of AI transformation, driving better business outcomes across every role and industry.” In addition, for the third quarter of FY 2024, Microsoft Cloud revenue was up 23% year over year, at $35.1 billion.\\n\\n\\n Productivity and Business Processes\\n\\n\\n This segment offers a portfolio of products designed to enhance corporate productivity, communication, and information services. One of its major products is Microsoft's Office software suite, including both the commercial and consumer divisions. The segment also includes business solutions products such as Dynamics 365, as well as the professional networking site, LinkedIn.\\n\\n\\n For FY 2023, Productivity and Business Processes generated $69.3 billion in revenue, up 9% over the previous year. Operating income was $34.1 billion, an increase of 15% over the previous year. \\n\\n\\n For the third quarter of FY 2024, revenue was $19.6 billion, an increase of 12% over the same period the previous year. It was driven by Dynamics products and cloud services which increased 19%. Operating income for the quarter was $10.1 billion, up about 17%.\\n\\n\\n Intelligent Cloud\"),\n",
       " Document(id='8f00fa15-390a-4e2a-971b-4a4765b8b51c', metadata={'source': 'https://www.microsoft.com/en-us/investor/earnings/fy-2024-q4/segment-revenues/', 'title': 'FY24 Q4 - Segment Revenue and Operating Income - Investor Relations - Microsoft', 'language': 'en-US'}, page_content=\"Segment Revenue and Operating Income\\n\\n\\n\\n\\n\\n\\r\\n  (In millions) \\n\\n\\n\\nYear Ended June 30,\\n\\n\\n\\n\\n2024\\n\\n\\n2023\\n\\n\\n2022\\n\\n\\n\\n\\n\\n\\nElementName\\n\\nRevenue\\n\\n\\n\\n\\n\\n\\n\\nus-gaap:RevenueFromContractWithCustomerExcludingAssessedTaxmsft:ProductivityAndBusinessProcessesMember\\n\\n\\nProductivity and Business Processes\\n\\n\\n\\n\\n\\n$\\n77,728\\n\\n\\n\\n\\n\\n\\n$\\n69,274\\n\\n\\n\\n\\n\\n$\\n63,364\\n\\n\\n\\n\\n\\n\\nus-gaap:RevenueFromContractWithCustomerExcludingAssessedTaxmsft:IntelligentCloudMember\\n\\n\\nIntelligent Cloud\\n\\n\\n\\n\\n\\n\\n105,362\\n\\n\\n\\n\\n\\n\\n\\n87,907\\n\\n\\n\\n\\n\\n\\n74,965\\n\\n\\n\\n\\n\\n\\nus-gaap:RevenueFromContractWithCustomerExcludingAssessedTaxmsft:MorePersonalComputingMember\\n\\n\\nMore Personal Computing\\n\\n\\n\\n\\n\\n\\n62,032\\n\\n\\n\\n\\n\\n\\n\\n54,734\\n\\n\\n\\n\\n\\n\\n59,941\\n\\n\\n\\n\\n\\n\\nus-gaap:RevenueFromContractWithCustomerExcludingAssessedTax\\n\\nTotal\\n\\n\\n\\n\\n$\\n245,122\\n\\n\\n\\n\\n\\n\\n$\\n211,915\\n\\n\\n\\n\\n\\n$\\n198,270\\n\\n\\n\\n\\n\\nElementName\\n\\nOperating Income\\n\\n\\n\\n\\n\\n\\n\\nus-gaap:OperatingIncomeLossmsft:ProductivityAndBusinessProcessesMember\\n\\n\\nProductivity and Business Processes\\n\\n\\n\\n\\n\\n$\\n40,540\\n\\n\\n\\n\\n\\n\\n$\\n34,189\\n\\n\\n\\n\\n\\n$\\n29,690\\n\\n\\n\\n\\n\\n\\nus-gaap:OperatingIncomeLossmsft:IntelligentCloudMember\\n\\n\\nIntelligent Cloud\\n\\n\\n\\n\\n\\n\\n49,584\\n\\n\\n\\n\\n\\n\\n\\n37,884\\n\\n\\n\\n\\n\\n\\n33,203\\n\\n\\n\\n\\n\\n\\nus-gaap:OperatingIncomeLossmsft:MorePersonalComputingMember\\n\\n\\nMore Personal Computing\\n\\n\\n\\n\\n\\n\\n19,309\\n\\n\\n\\n\\n\\n\\n\\n16,450\\n\\n\\n\\n\\n\\n\\n20,490\\n\\n\\n\\n\\n\\n\\nus-gaap:OperatingIncomeLoss\\n\\nTotal\\n\\n\\n\\n\\n$\\n109,433\\n\\n\\n\\n\\n\\n\\n$\\n88,523\\n\\n\\n\\n\\n\\n$\\n83,383\\n\\n\\n\\n\\n\\n\\n\\n\\nIMPORTANT NOTICE TO USERS (summary only,\\r\\nclick here\\r\\n\\xa0for full text of notice);\\xa0All information is unaudited unless otherwise noted or accompanied by an audit opinion and\\r\\nis subject to the more comprehensive information contained in our SEC reports and filings. We do not endorse third-party\\r\\ninformation. All information speaks as of the last fiscal quarter or year for which we have filed a Form 10-K or 10-Q, or\\r\\nfor historical information the date or period expressly indicated in or with such information. We undertake no duty to update\\r\\nthe information. Forward-looking statements are subject to risks and uncertainties described in our\\xa0\\r\\nForms 10-Q and 10-K.\\n\\n\\n\\n\\n\\n\\n\\n\\n\\n\\n\\n\\n\\n\\nDownload Earnings Related Files\\nInformation contained in these documents is current as of the earnings date, and not restated for new accounting standards\\nEarnings Call Slides\\n        \\nEarnings Call Transcript\\n        \\nFinancial Statements\\n        \\nOutlook\\n        \\nPress Release\\n        \\n10K\\n        \\nFY24Q4 Product Release List\\n        \\n\\n            ASSET PACKAGE\\n            \\n\\n\\n\\n\\n\\n\\n\\n\\n\\n\\n\\n'max-age=0,s-maxage=900'\\n\\n\\n\\n                        $add_header('Cache-Control', $(xfMaxAgeHeaders))\\n                    \\n\\n\\n\\n\\n\\n\\n\\n\\n\\n\\n\\n\\nEarnings Release Pages\\nMetrics\\nPerformance\\nPress Release & Webcast\\nFinancial Statements\\nSegment Results\\nCustomer & Partner Highlights\\r\\n\\xa0\\n\\n\\n\\n\\n\\n\\n\\n\\n'max-age=0,s-maxage=900'\")]"
      ]
     },
     "execution_count": 5,
     "metadata": {},
     "output_type": "execute_result"
    }
   ],
   "source": [
    "retriever.invoke(\"microsoft revenue detail\")"
   ]
  },
  {
   "cell_type": "code",
   "execution_count": 6,
   "id": "afa8caf0",
   "metadata": {},
   "outputs": [
    {
     "name": "stdout",
     "output_type": "stream",
     "text": [
      "datasource='web_search'\n"
     ]
    }
   ],
   "source": [
    "### Router\n",
    "\n",
    "from typing import Literal\n",
    "\n",
    "from langchain_core.prompts import ChatPromptTemplate\n",
    "from langchain_openai import ChatOpenAI\n",
    "\n",
    "from pydantic import BaseModel, Field\n",
    "\n",
    "# Data Model\n",
    "class RouteQuery(BaseModel):\n",
    "    \"\"\"Route a user query to the most relevant datasource\"\"\"\n",
    "    \n",
    "    datasource:Literal[\"vectorstore\",\"web_search\"]=Field(\n",
    "        description=\"Given a user question choose to route it to web search or a vectorstore.\"\n",
    "    )\n",
    "\n",
    "# LLM with function call\n",
    "llm=ChatOpenAI(model=\"gpt-4o-mini\",temperature=0)\n",
    "structured_llm_router=llm.with_structured_output(RouteQuery)\n",
    "\n",
    "\n",
    "#Prompt\n",
    "system=\"\"\"You are an finance expert at routing a user question to a vectorstore or web search.\n",
    "The vectorstore contains documents related to Microsoft Revenue ,Satya Nadella microsoft CEO shareholder 2024 letter,revenue \n",
    "distributtion of microsoft.\n",
    "Use the vectorstore for questions on these topics. Otherwise, use web-search.\"\"\"\n",
    "\n",
    "route_prompt=ChatPromptTemplate.from_messages(\n",
    "    [\n",
    "        (\"system\",system),\n",
    "        (\"human\",\"{question}\"),\n",
    "    ]\n",
    ")\n",
    "\n",
    "question_router=route_prompt|structured_llm_router\n",
    "\n",
    "print(question_router.invoke({\"question\":\"What is microsoft current_stock price?\"}))"
   ]
  },
  {
   "cell_type": "code",
   "execution_count": 7,
   "id": "d2d5c74c",
   "metadata": {},
   "outputs": [
    {
     "name": "stdout",
     "output_type": "stream",
     "text": [
      "binary_score='yes'\n"
     ]
    }
   ],
   "source": [
    "### Retrieval Grader\n",
    "\n",
    "\n",
    "# Data model\n",
    "class GradeDocuments(BaseModel):\n",
    "    \"\"\"Binary score for relevance check on retrieved documents.\"\"\"\n",
    "\n",
    "    binary_score: str = Field(\n",
    "        description=\"Documents are relevant to the question, 'yes' or 'no'\"\n",
    "    )\n",
    "\n",
    "\n",
    "# LLM with function call\n",
    "llm = ChatOpenAI(model=\"gpt-4o-mini\", temperature=0)\n",
    "structured_llm_grader = llm.with_structured_output(GradeDocuments)\n",
    "\n",
    "# Prompt\n",
    "system = \"\"\"You are a grader assessing relevance of a retrieved document to a user question. \\n \n",
    "    If the document contains keyword(s) or semantic meaning related to the user question, grade it as relevant. \\n\n",
    "    It does not need to be a stringent test. The goal is to filter out erroneous retrievals. \\n\n",
    "    Give a binary score 'yes' or 'no' score to indicate whether the document is relevant to the question.\"\"\"\n",
    "grade_prompt = ChatPromptTemplate.from_messages(\n",
    "    [\n",
    "        (\"system\", system),\n",
    "        (\"human\", \"Retrieved document: \\n\\n {document} \\n\\n User question: {question}\"),\n",
    "    ]\n",
    ")\n",
    "\n",
    "retrieval_grader = grade_prompt | structured_llm_grader\n",
    "question = \"microsoft revenue\"\n",
    "docs = retriever.invoke(question)\n",
    "doc_txt = docs[1].page_content\n",
    "print(retrieval_grader.invoke({\"question\": question, \"document\": doc_txt}))"
   ]
  },
  {
   "cell_type": "code",
   "execution_count": 9,
   "id": "46a176d5",
   "metadata": {},
   "outputs": [
    {
     "data": {
      "text/plain": [
       "[Document(id='6a9eef95-252d-4774-96b2-a049c39efae8', metadata={'source': 'https://www.investopedia.com/how-microsoft-makes-money-4798809/', 'title': 'How Microsoft Makes Money', 'description': \"Microsoft's is committed to responsibly designed AI. Its Intelligent Cloud segment is growing fast and is the largest source of the company's revenue and profit.\", 'language': 'en'}, page_content='For the third quarter of FY 2024, revenue was $19.6 billion, an increase of 12% over the same period the previous year. It was driven by Dynamics products and cloud services which increased 19%. Operating income for the quarter was $10.1 billion, up about 17%.\\n\\n\\n Intelligent Cloud\\n\\n\\n The Intelligent Cloud segment is comprised of all of Microsoft\\'s public, private, and hybrid server products as well as cloud services for business. These include Microsoft Azure, SQL Server, Windows Server, GitHub, Enterprise Services, and more.\\n\\n\\n For FY 2023, Intelligent Cloud generated $87.9 billion in revenue, up 17% over the previous year. Operating income was $37.8 billion, an increase of 14% over the previous year.\\n\\n\\n For the third quarter of FY 2024, revenue was $26.7 billion, an increase of 21% over the same period the previous year. In addition to the growth of revenue from Microsoft Cloud mentioned above, revenue from Azure and other cloud services grew 31%, which powered the overall revenue from server products and cloud services to a 24% growth. Operating income for the quarter was $12.5 billion, up about 32%.\\n\\n\\n More Personal Computing\\n\\n\\n Microsoft describes its More Personal Computing segment as consisting of products and services aimed at putting \"customers at the center of the experience with our technology.\" The Windows operating system, Surface device, gaming products, and search and news advertising are all included in this segment.\\n\\n\\n For FY 2023, More Personal Computing generated $54.7 billion in revenue, down 9% from the previous year. Operating income was $16.4 billion, down 20%.\\n\\n\\n For the third quarter of FY 2024, revenue was $15.6 billion, an increase of 17% over the same period the previous year. Revenue from Xbox content and services grew by 62%. Search and news advertising revenue grew by 12%. Operating income for the quarter was $4.9 billion, up about 16%.\\n\\n\\n\\n\\n  History and Leadership  \\n Microsoft was founded in 1975 by Bill Gates and Paul Allen. It is headquartered in Redmond, Wash.\\n\\n\\n Gates was a software developer and manager in the company. He stepped away from daily activities in 2008 and resigned from the Board of Directors in 2020. Gates continues to meet with the company\\'s product teams to discuss a variety of relevant topics, and in particular, artificial intelligence and Microsoft\\'s role in developing AI\\'s capabilities for a variety of applications.\\n\\n\\n Allen was Microsoft\\'s chief technologist until he resigned in 1983. He passed away in 2018.\\n\\n\\n In January 2000, Steve Ballmer was named Microsoft\\'s President and Chief Executive Officer. He left the company in 2014. Satya Nadella has held the position of CEO since 2014. He has overseen an important period of change for the company, during which it has placed a major focus on cloud computing and subscription services, and AI.\\n\\n\\n  Recent Developments  \\n • In May 2024, Microsoft announced its intended investment in Southeast Wisconsin to develop AI-powered economic activity, innovation, and job creation. The amount of $3.3 billion will go to cloud computing and AI infrastructure, an AI co-innovation lab that will focus on manufacturing, and a program to train more than 100,000 Wisconsin residents in AI.\\n\\n\\n • In April 2024, Microsoft announced an investment of $1.7 billion to build new cloud and AI infrastructure in the nation of Indonesia. It will also offer training in AI for 840,000 people. The investment is the largest Microsoft has ever made in Indonesia.\\xa0Microsoft\\'s goal is to assist the Indonesian government in achieving its Golden Indonesia 2045 Vision of developing the nation into a \"global economic powerhouse.\"\\n\\n\\n • In March 2024, Microsoft and NVIDIA merged their efforts to deliver the capabilities of generative AI, the cloud, and accelerated computing to companies focused on healthcare and life sciences. Microsoft Azure,\\xa0NVIDIA\\xa0DGX Cloud, and the\\xa0NVIDIA\\xa0Clara\\xa0computing platforms and software will be used to improve patient care.\\n\\n\\n What\\'s the Value of a Share of Microsoft Stock?\\nOn May 10, 2024, a share of Microsoft was trading at $413.86.\\n\\n\\n What\\'s Microsoft\\'s Primary Focus Now?\\nAs with other technology companies, Microsoft has dramatically increased its efforts to develop artificial intelligence for use by people and companies. One of its goals is to design a natural language for a more intuitive human-computer interface and a new reasoning engine.\\n\\n\\n Does Bill Gates Still Run Microsoft?\\nNo, Bill Gates left behind day-to-day business activities at Microsoft in 2008. He resigned from the Board in 2020. Now, he focuses a lot of time on the Bill and Melinda Gates Foundation.'),\n",
       " Document(id='86d0f269-054a-4aaa-8183-019f52bff51b', metadata={'source': 'https://www.microsoft.com/en-us/investor/earnings/fy-2024-q4/segment-revenues/', 'title': 'FY24 Q4 - Segment Revenue and Operating Income - Investor Relations - Microsoft', 'language': 'en-US'}, page_content='FY24 Q4 - Segment Revenue and Operating Income - Investor Relations - Microsoft\\n\\n\\n\\n\\n\\n\\n\\n\\n\\n\\n\\n\\n\\n\\n\\n\\n\\n\\n\\n\\n\\n\\n\\n\\n\\n\\n\\n\\t\\t\\t\\n\\n\\t\\t\\n\\t\\t\\n\\t\\t\\t\\tThis is the Trace Id: a1c8783dbe6708355e621b4b4857bbad\\n\\t\\t\\t\\t\\n\\n\\n\\n\\n\\n\\n\\n\\n\\n\\n\\n\\n\\n \\n\\n\\n\\n\\n\\n\\n\\n\\n\\n\\n\\n\\n\\n\\n\\n\\n\\n\\n\\n\\n\\n\\n\\n\\nSkip to main content\\n\\n\\n\\n\\n\\n\\n\\nMicrosoft\\n\\n\\n\\nInvestor Relations\\n\\n\\n\\n\\nInvestor Relations\\n\\n\\n\\n\\n                            Investor Relations\\n                        \\n\\n\\n\\n\\n Home \\n\\n\\n\\nInvestor Relations\\n\\n\\nHome\\n\\n\\nCompany Information\\n\\n\\nBoard & ESG\\n\\n\\nAnnual Reports\\n\\n\\nSEC Filings\\n\\n\\nEvents\\n\\n\\nInvestor Information\\n\\n\\nContacts\\n\\n\\n\\n \\n\\nEarnings Releases\\n\\n\\nPress Release & Webcast\\n\\n\\nFinancial Statements\\nFinancial Statements\\n\\n\\nIncome Statements\\n\\n\\nComprehensive Income\\n\\n\\nBalance Sheets\\n\\n\\nCash Flows\\n\\n\\nSegment Revenue & Operating Income\\n\\n\\n\\n\\nPerformance\\n\\n\\nMetrics\\n\\n\\nSegment Results\\nSegment Results\\n\\n\\nProductivity and Business Processes\\n\\n\\nIntelligent Cloud\\n\\n\\nMore Personal Computing\\n\\n\\n\\n\\n\\n \\n\\nFinancial Statements\\n\\n\\nIncome Statements\\n\\n\\nComprehensive Income\\n\\n\\nBalance Sheets\\n\\n\\nCash Flows\\n\\n\\nSegment Revenue & Operating Income\\n\\n\\n\\n\\n\\n\\nMore\\n\\n\\n\\n\\n\\n\\n\\n \\n\\n\\n\\n All Microsoft\\n\\n\\nGlobal\\n\\n\\nMicrosoft 365\\n\\n\\nTeams\\n\\n\\nCopilot\\n\\n\\nWindows\\n\\n\\nSurface\\n\\n\\nXbox\\n\\n\\nDeals\\n\\n\\nSmall Business\\n\\n\\nSupport\\n\\n\\n\\n\\nSoftware\\nSoftware\\n\\n\\nWindows Apps\\n\\n\\nAI\\n\\n\\nOutlook\\n\\n\\nOneDrive\\n\\n\\nMicrosoft Teams\\n\\n\\nOneNote\\n\\n\\nMicrosoft Edge\\n\\n\\nSkype\\n\\n\\n\\n\\nPCs & Devices  \\nPCs & Devices  \\n\\n\\nComputers\\n\\n\\nShop Xbox\\n\\n\\nAccessories\\n\\n\\nVR & mixed reality\\n\\n\\nCertified Refurbished\\n\\n\\nTrade-in for cash\\n\\n\\n\\n\\nEntertainment\\nEntertainment\\n\\n\\nXbox Game Pass Ultimate\\n\\n\\nPC Game Pass\\n\\n\\nXbox games\\n\\n\\nPC and Windows games\\n\\n\\nMovies & TV\\n\\n\\n\\n\\nBusiness\\nBusiness\\n\\n\\nMicrosoft Cloud\\n\\n\\nMicrosoft Security\\n\\n\\nDynamics 365\\n\\n\\nMicrosoft 365 for business\\n\\n\\nMicrosoft Power Platform\\n\\n\\nWindows 365\\n\\n\\nMicrosoft Industry\\n\\n\\nSmall Business\\n\\n\\n\\n\\nDeveloper & IT  \\nDeveloper & IT  \\n\\n\\nAzure\\n\\n\\nMicrosoft Developer\\n\\n\\nMicrosoft Learn\\n\\n\\nSupport for AI marketplace apps\\n\\n\\nMicrosoft Tech Community\\n\\n\\nAzure Marketplace\\n\\n\\nAppSource\\n\\n\\nVisual Studio\\n\\n\\n\\n\\nOther\\nOther\\n\\n\\nMicrosoft Rewards \\n\\n\\nFree downloads & security\\n\\n\\nEducation\\n\\n\\nGift cards\\n\\n\\nLicensing\\n\\n\\nUnlocked stories\\n\\n\\n\\n\\nView Sitemap\\n\\n\\n\\n\\n\\n\\n\\n\\n\\n\\nSearch\\nSearch Microsoft.com\\n\\n\\n\\n\\n No results\\n\\n\\n\\n\\nCancel\\n\\n\\n\\n\\n\\n\\n\\n\\n\\n\\n\\n\\n\\n\\n\\n\\n\\n\\n\\n\\n\\n\\n\\n\\n\\n\\n\\n\\nEarnings Release FY24 Q4\\n\\n\\n\\n\\n\\n\\n\\n\\n                Income Statements\\n                    \\n\\n\\n\\n\\n                Comprehensive Income\\n                    \\n\\n\\n\\n\\n                Balance Sheets\\n                    \\n\\n\\n\\n\\n                Cash Flows\\n                    \\n\\n\\n\\n\\nSegment Revenue & Operating Income\\n\\n\\n\\n\\n\\n\\n\\n\\n\\n\\n\\n\\n\\n\\n\\n\\n\\n\\n\\n\\n\\n\\nSegment Revenue and Operating Income\\n\\n\\n\\n\\n\\n\\r\\n  (In millions) \\n\\n\\n\\nYear Ended June 30,\\n\\n\\n\\n\\n2024\\n\\n\\n2023\\n\\n\\n2022\\n\\n\\n\\n\\n\\n\\nElementName\\n\\nRevenue\\n\\n\\n\\n\\n\\n\\n\\nus-gaap:RevenueFromContractWithCustomerExcludingAssessedTaxmsft:ProductivityAndBusinessProcessesMember\\n\\n\\nProductivity and Business Processes'),\n",
       " Document(id='b0a586d8-fd45-4d50-88d2-2fbdfaff3603', metadata={'source': 'https://www.investopedia.com/how-microsoft-makes-money-4798809/', 'title': 'How Microsoft Makes Money', 'description': \"Microsoft's is committed to responsibly designed AI. Its Intelligent Cloud segment is growing fast and is the largest source of the company's revenue and profit.\", 'language': 'en'}, page_content=\"Key Takeaways\\nMicrosoft sells computing devices, cloud systems and services, software, and other products to consumers and businesses.The company's Intelligent Cloud segment is the largest source of profit, as well as the fastest-growing.Microsoft is focused on delivering AI solutions to customers in a broad swath of industries.Some of its many competitors include Apple, Amazon, Meta, Alphabet, Oracle, and IBM.Microsoft's current CEO is Satya Nadella.\\n\\n  Microsoft's Industry  \\n Microsoft (MSFT) operates in the software industry within the information technology sector. AI continues to drive the software industry at a lightning pace. Microsoft is at the forefront of the development and distribution of AI for application by all types of companies, business industries, people, and countries.\\n\\n\\n Its three business and reporting segments, Productivity and Business Processes, Intelligent Cloud, and More Personal Computing face competition from such well-known companies as:\\n\\n\\n Productivity and Business Processes\\n\\n\\n\\nApple (AAPL)\\nCisco Systems (CSCO)\\nMeta (META)\\nAlphabet (GOOG)\\nOkta (OKTA)\\nSlack (WORK)\\nZoom (ZM)\\nOracle (ORCL)\\nSalesforce (CRM)\\nSAP (SAP)\\n\\n\\n Intelligent Cloud\\n\\n\\n\\nAmazon Code Whisperer\\nGoogle AI\\nIBM (IBM)\\nOracle\\nVMware\\nHewlett-Packard (HPE)\\nAdobe (ADBE)\\nApache\\nCA Technologies\\nSnowflake\\n\\n\\n More Personal Computing\\n\\n\\n\\nApple\\nAmazon (AMZN)\\nMeta\\nTencent\\nNintendo\\nSony\\n\\n\\n Fast Fact\\nMicrosoft is the largest company in the world as measured by market cap.\\n\\n\\n\\n  Microsoft's Financials  \\n As of May 2024, Microsoft's market capitalization was $3.07 trillion.\\n\\n\\n Microsoft's 2023 annual report reported the company's financial results for the 2023 fiscal year (FY). Additionally, on April 25, 2024, the company announced financial results for the quarter ended March 31, 2024.\\n\\n\\n  Revenue  \\n For FY 2023, revenue was $211.91 billion, an increase of 7% over the previous year's $198.27 billion. For the third quarter of FY 2024, revenue was $61.9 billion, an increase of 17% over the previous year's third quarter.\\n\\n\\n  Net Income  \\n For FY 2023, net income was $72.36 billion, a drop of 1% from the previous year's $72.73 billion. For the third quarter of FY 2024, net income was $21.9 billion, an increase of 20% over the previous year's third quarter.\\n\\n\\n  Operating Income  \\n For FY 2023, operating income was $88.52 billion, an increase of 6% over the previous year's $83.38 billion. For the third quarter of FY 2024, operating income was $27.6 billion, an increase of 23% over the previous year's third quarter.\\n\\n\\n  Revenue From Business Segments  \\n Microsoft divides its business into three segments for the purpose of operating and reporting. These segments are Productivity and Business Processes, Intelligent Cloud, and More Personal Computing.\\n\\n\\n Underscoring the financials of the Intelligent Cloud segment, CEO Satya Nadella wrote, “Microsoft Copilot and Copilot stack are orchestrating a new era of AI transformation, driving better business outcomes across every role and industry.” In addition, for the third quarter of FY 2024, Microsoft Cloud revenue was up 23% year over year, at $35.1 billion.\\n\\n\\n Productivity and Business Processes\\n\\n\\n This segment offers a portfolio of products designed to enhance corporate productivity, communication, and information services. One of its major products is Microsoft's Office software suite, including both the commercial and consumer divisions. The segment also includes business solutions products such as Dynamics 365, as well as the professional networking site, LinkedIn.\\n\\n\\n For FY 2023, Productivity and Business Processes generated $69.3 billion in revenue, up 9% over the previous year. Operating income was $34.1 billion, an increase of 15% over the previous year. \\n\\n\\n For the third quarter of FY 2024, revenue was $19.6 billion, an increase of 12% over the same period the previous year. It was driven by Dynamics products and cloud services which increased 19%. Operating income for the quarter was $10.1 billion, up about 17%.\\n\\n\\n Intelligent Cloud\"),\n",
       " Document(id='9bca2b54-4f44-450a-944c-72f6cc20e4e5', metadata={'source': 'https://www.investopedia.com/how-microsoft-makes-money-4798809/', 'title': 'How Microsoft Makes Money', 'description': \"Microsoft's is committed to responsibly designed AI. Its Intelligent Cloud segment is growing fast and is the largest source of the company's revenue and profit.\", 'language': 'en'}, page_content='Best Bank Account Bonuses\\n \\n\\n Best High Yield Checking Accounts\\n \\n\\n Best Tax Relief Companies\\n \\n\\n Best Debt Relief Companies\\n \\n\\n Best Small Business Bank Accounts\\n \\n\\n Best Cash Advance Apps\\n \\n\\n Best Credit Repair Companies\\n \\n\\n Best Credit Unions\\n \\n\\n View All\\n \\n\\n\\n\\n\\n\\nLoans\\n\\n\\n\\n\\n\\n\\n\\n\\n\\n\\nLoans\\n\\n\\n\\n\\n Best Mortgage Rates\\n \\n\\n Best Auto Loan Rates\\n \\n\\n Best Personal Loans\\n \\n\\n Best Bad Credit Loans\\n \\n\\n Best Emergency Loans for Bad Credit\\n \\n\\n Best Debt Consolidation Loans\\n \\n\\n Best Personal Loans With No Fees\\n \\n\\n Best Auto Refinance Loans\\n \\n\\n Best HELOC Loans\\n \\n\\n View All\\n \\n\\n\\n\\n\\n\\nInsurance\\n\\n\\n\\n\\n\\n\\n\\n\\n\\n\\nInsurance\\n\\n\\n\\n\\n Best Affordable Health Insurance\\n \\n\\n Best Dental Insurance\\n \\n\\n Best Life Insurance\\n \\n\\n Best Small Business Insurance\\n \\n\\n Best Life Insurance for People Over 50\\n \\n\\n Best Universal Life Insurance\\n \\n\\n Best Dental Insurance for Implants\\n \\n\\n Best Health Insurance Companies\\n \\n\\n Best Disability Insurance\\n \\n\\n View All\\n \\n\\n\\n\\n\\n\\nSimulator\\n\\n\\n\\n\\n\\n\\n\\n\\n\\n\\nSimulator\\n\\n\\n\\n\\n Login / Portfolio\\n \\n\\n Trade\\n \\n\\n Research\\n \\n\\n My Games\\n \\n\\n Leaderboard\\n \\n\\n\\n\\n\\n\\n\\n\\n\\n\\nFollow Us\\n\\n\\n \\n\\n\\n \\n\\n \\n\\n\\n \\n\\n \\n\\n\\n \\n\\n \\n\\n\\n \\n\\n \\n\\n\\n \\n\\n\\n \\n\\n\\n\\n\\n\\n\\nTable of Contents\\nExpand\\nTable of Contents\\n\\n\\n\\nMicrosoft\\'s Industry\\nFinancials\\nHistory and Leadership\\nRecent Developments\\nFAQs\\nThe Bottom Line\\nCompany Profiles\\nFAANG and FAAMG Companies\\nHow Microsoft Makes Money\\nIntelligent Cloud Generates the Most Profit\\n\\n\\nBy\\n Nathan Reiff\\n \\n\\n\\n\\n\\n\\n\\n \\nFull Bio \\nNathan Reiff has been writing expert articles and news about financial topics such as investing and trading, cryptocurrency, ETFs, and alternative investments on Investopedia since 2016.\\n\\n\\n\\nLearn about our \\neditorial policies\\n\\n\\n\\nUpdated May 10, 2024\\n\\n\\n\\nReviewed by\\n Somer Anderson\\n \\n\\n\\n\\n\\n\\n\\n \\n\\n\\n\\nReviewed by\\nSomer Anderson\\n\\nFull Bio\\n\\n\\n\\n \\n\\n\\n \\n\\n \\n\\u200bSomer G. Anderson is CPA, doctor of accounting, and an accounting and finance professor who has been working in the accounting and finance industries for more than 20 years. Her expertise covers a wide range of accounting, corporate finance, taxes, lending, and personal finance areas.\\n\\n\\n\\nLearn about our \\nFinancial Review Board\\n\\n\\n\\n\\n\\n\\nFact checked by\\n Suzanne Kvilhaug\\n \\n\\n\\n\\n\\n\\n\\n \\n\\n\\n\\nFact checked by\\nSuzanne Kvilhaug\\n\\nFull Bio \\nSuzanne is a content marketer, writer, and fact-checker.\\xa0She holds a Bachelor of Science in Finance degree from Bridgewater State University and helps develop content strategies.\\n\\n\\n\\nLearn about our \\neditorial policies\\n\\n\\n\\n\\n\\n\\nClose\\n\\n\\n\\n Microsoft Corp., one of the world\\'s biggest tech companies, sells a variety of products and services to support the various efforts of people and businesses in work and life. The source of its greatest amount of revenue is its Intelligent Cloud business segment.\\n\\n\\n For the AI era, Microsoft is reexamining all of its customer solutions and every part of its tech stack to ensure that it delivers responsibly designed AI and maintains the company\\'s mission to \"empower every person and every organization on the planet to achieve more.\"\\n\\n\\n Microsoft\\'s products include operating systems, server applications, business solution applications, software development tools, and collaboration applications. It also designs and offers personal computing devices such as PCs, tablets, and gaming consoles.\\n\\n\\n Its services include cloud-based computing solutions, online advertising, online platforms and content, and consulting.\\n\\n\\n The foundation for all of Microsoft\\'s efforts are the core principles of fairness, reliability and safety, privacy and security, inclusiveness, transparency, and accountability.\\n\\n\\n Key Takeaways\\nMicrosoft sells computing devices, cloud systems and services, software, and other products to consumers and businesses.The company\\'s Intelligent Cloud segment is the largest source of profit, as well as the fastest-growing.Microsoft is focused on delivering AI solutions to customers in a broad swath of industries.Some of its many competitors include Apple, Amazon, Meta, Alphabet, Oracle, and IBM.Microsoft\\'s current CEO is Satya Nadella.')]"
      ]
     },
     "execution_count": 9,
     "metadata": {},
     "output_type": "execute_result"
    }
   ],
   "source": [
    "docs"
   ]
  },
  {
   "cell_type": "code",
   "execution_count": 14,
   "id": "ffac67c6",
   "metadata": {},
   "outputs": [
    {
     "name": "stdout",
     "output_type": "stream",
     "text": [
      "In FY 2023, Microsoft's total revenue was $211.91 billion, which represents a 7% increase from the previous year. The Intelligent Cloud segment generated $87.9 billion, while the More Personal Computing segment brought in $54.7 billion. Overall, the company experienced growth across its various business segments.\n"
     ]
    }
   ],
   "source": [
    "### Generate\n",
    "\n",
    "from langchain import hub\n",
    "from langchain_core.output_parsers import StrOutputParser\n",
    "question = \"microsoft revenue 2023\"\n",
    "\n",
    "# Prompt\n",
    "prompt = hub.pull(\"rlm/rag-prompt\")\n",
    "\n",
    "# LLM\n",
    "llm = ChatOpenAI(model_name=\"gpt-4o-mini\", temperature=0)\n",
    "\n",
    "\n",
    "# Post-processing\n",
    "def format_docs(docs):\n",
    "    return \"\\n\\n\".join(doc.page_content for doc in docs)\n",
    "\n",
    "\n",
    "# Chain\n",
    "rag_chain = prompt | llm | StrOutputParser()\n",
    "\n",
    "# Run\n",
    "generation = rag_chain.invoke({\"context\": docs, \"question\": question})\n",
    "print(generation)"
   ]
  },
  {
   "cell_type": "code",
   "execution_count": 15,
   "id": "822e0d87",
   "metadata": {},
   "outputs": [
    {
     "data": {
      "text/plain": [
       "GradeHallucinations(binary_score='yes')"
      ]
     },
     "execution_count": 15,
     "metadata": {},
     "output_type": "execute_result"
    }
   ],
   "source": [
    "### Hallucination Grader\n",
    "\n",
    "\n",
    "# Data model\n",
    "class GradeHallucinations(BaseModel):\n",
    "    \"\"\"Binary score for hallucination present in generation answer.\"\"\"\n",
    "\n",
    "    binary_score: str = Field(\n",
    "        description=\"Answer is grounded in the facts, 'yes' or 'no'\"\n",
    "    )\n",
    "\n",
    "\n",
    "# LLM with function call\n",
    "llm = ChatOpenAI(model=\"gpt-4o-mini\", temperature=0)\n",
    "structured_llm_grader = llm.with_structured_output(GradeHallucinations)\n",
    "\n",
    "# Prompt\n",
    "system = \"\"\"You are a grader assessing whether an LLM generation is grounded in / supported by a set of retrieved facts. \\n\n",
    "     Give a binary score 'yes' or 'no'. 'Yes' means that the answer is grounded in / supported by the set of facts.\"\"\"\n",
    "hallucination_prompt = ChatPromptTemplate.from_messages(\n",
    "    [\n",
    "        (\"system\", system),\n",
    "        (\"human\", \"Set of facts: \\n\\n {documents} \\n\\n LLM generation: {generation}\"),\n",
    "    ]\n",
    ")\n",
    "\n",
    "hallucination_grader = hallucination_prompt | structured_llm_grader\n",
    "hallucination_grader.invoke({\"documents\": docs, \"generation\": generation})"
   ]
  },
  {
   "cell_type": "code",
   "execution_count": 12,
   "id": "570f3492",
   "metadata": {},
   "outputs": [
    {
     "data": {
      "text/plain": [
       "GradeAnswer(binary_score='yes')"
      ]
     },
     "execution_count": 12,
     "metadata": {},
     "output_type": "execute_result"
    }
   ],
   "source": [
    "### Answer Grader\n",
    "\n",
    "\n",
    "# Data model\n",
    "class GradeAnswer(BaseModel):\n",
    "    \"\"\"Binary score to assess answer addresses question.\"\"\"\n",
    "\n",
    "    binary_score: str = Field(\n",
    "        description=\"Answer addresses the question, 'yes' or 'no'\"\n",
    "    )\n",
    "\n",
    "\n",
    "# LLM with function call\n",
    "llm = ChatOpenAI(model=\"gpt-4o-mini\", temperature=0)\n",
    "structured_llm_grader = llm.with_structured_output(GradeAnswer)\n",
    "\n",
    "# Prompt\n",
    "system = \"\"\"You are a grader assessing whether an answer addresses / resolves a question \\n\n",
    "     Give a binary score 'yes' or 'no'. Yes' means that the answer resolves the question.\"\"\"\n",
    "answer_prompt = ChatPromptTemplate.from_messages(\n",
    "    [\n",
    "        (\"system\", system),\n",
    "        (\"human\", \"User question: \\n\\n {question} \\n\\n LLM generation: {generation}\"),\n",
    "    ]\n",
    ")\n",
    "\n",
    "answer_grader = answer_prompt | structured_llm_grader\n",
    "answer_grader.invoke({\"question\": question, \"generation\": generation})"
   ]
  },
  {
   "cell_type": "code",
   "execution_count": 16,
   "id": "3e18b3b0",
   "metadata": {},
   "outputs": [
    {
     "data": {
      "text/plain": [
       "\"What is Microsoft's revenue for the year 2023?\""
      ]
     },
     "execution_count": 16,
     "metadata": {},
     "output_type": "execute_result"
    }
   ],
   "source": [
    "### Question Re-writer\n",
    "\n",
    "# LLM\n",
    "llm = ChatOpenAI(model=\"gpt-4o-mini\", temperature=0)\n",
    " \n",
    "# Prompt\n",
    "system = \"\"\"You a question re-writer that converts an input question to a better version that is optimized \\n\n",
    "     for vectorstore retrieval. Look at the input and try to reason about the underlying semantic intent / meaning.\"\"\"\n",
    "re_write_prompt = ChatPromptTemplate.from_messages(\n",
    "    [\n",
    "        (\"system\", system),\n",
    "        (\n",
    "            \"human\",\n",
    "            \"Here is the initial question: \\n\\n {question} \\n Formulate an improved question.\",\n",
    "        ),\n",
    "    ]\n",
    ")\n",
    "\n",
    "question_rewriter = re_write_prompt | llm | StrOutputParser()\n",
    "question_rewriter.invoke({\"question\": question})"
   ]
  },
  {
   "cell_type": "code",
   "execution_count": 28,
   "id": "b4df28b8",
   "metadata": {},
   "outputs": [],
   "source": [
    "os.environ[\"TAVILY_API_KEY\"]=os.getenv(\"TAVILY_API_KEY\")\n",
    "\n",
    "from langchain_community.tools.tavily_search import TavilySearchResults\n",
    "web_search_tool=TavilySearchResults(k=3)"
   ]
  },
  {
   "cell_type": "code",
   "execution_count": 29,
   "id": "ac102467",
   "metadata": {},
   "outputs": [],
   "source": [
    "from typing import List\n",
    "\n",
    "from typing_extensions import TypedDict\n",
    "\n",
    "\n",
    "class GraphState(TypedDict):\n",
    "    \"\"\"\n",
    "    Represents the state of our graph.\n",
    "\n",
    "    Attributes:\n",
    "        question: question\n",
    "        generation: LLM generation\n",
    "        documents: list of documents\n",
    "    \"\"\"\n",
    "\n",
    "    question: str\n",
    "    generation: str\n",
    "    documents: List[str]"
   ]
  },
  {
   "cell_type": "code",
   "execution_count": 30,
   "id": "03de0872",
   "metadata": {},
   "outputs": [],
   "source": [
    "from langchain.schema import Document\n",
    "\n",
    "\n",
    "def retrieve(state):\n",
    "    \"\"\"\n",
    "    Retrieve documents\n",
    "\n",
    "    Args:\n",
    "        state (dict): The current graph state\n",
    "\n",
    "    Returns:\n",
    "        state (dict): New key added to state, documents, that contains retrieved documents\n",
    "    \"\"\"\n",
    "    print(\"---RETRIEVE---\")\n",
    "    question = state[\"question\"]\n",
    "\n",
    "    # Retrieval\n",
    "    documents = retriever.invoke(question)\n",
    "    return {\"documents\": documents, \"question\": question}\n",
    "\n",
    "\n",
    "def generate(state):\n",
    "    \"\"\"\n",
    "    Generate answer\n",
    "\n",
    "    Args:\n",
    "        state (dict): The current graph state\n",
    "\n",
    "    Returns:\n",
    "        state (dict): New key added to state, generation, that contains LLM generation\n",
    "    \"\"\"\n",
    "    print(\"---GENERATE---\")\n",
    "    question = state[\"question\"]\n",
    "    documents = state[\"documents\"]\n",
    "\n",
    "    # RAG generation\n",
    "    generation = rag_chain.invoke({\"context\": documents, \"question\": question})\n",
    "    return {\"documents\": documents, \"question\": question, \"generation\": generation}\n",
    "\n",
    "\n",
    "def grade_documents(state):\n",
    "    \"\"\"\n",
    "    Determines whether the retrieved documents are relevant to the question.\n",
    "\n",
    "    Args:\n",
    "        state (dict): The current graph state\n",
    "\n",
    "    Returns:\n",
    "        state (dict): Updates documents key with only filtered relevant documents\n",
    "    \"\"\"\n",
    "\n",
    "    print(\"---CHECK DOCUMENT RELEVANCE TO QUESTION---\")\n",
    "    question = state[\"question\"]\n",
    "    documents = state[\"documents\"]\n",
    "\n",
    "    # Score each doc\n",
    "    filtered_docs = []\n",
    "    for d in documents:\n",
    "        score = retrieval_grader.invoke(\n",
    "            {\"question\": question, \"document\": d.page_content}\n",
    "        )\n",
    "        grade = score.binary_score\n",
    "        if grade == \"yes\":\n",
    "            print(\"---GRADE: DOCUMENT RELEVANT---\")\n",
    "            filtered_docs.append(d)\n",
    "        else:\n",
    "            print(\"---GRADE: DOCUMENT NOT RELEVANT---\")\n",
    "            continue\n",
    "    return {\"documents\": filtered_docs, \"question\": question}\n",
    "\n",
    "\n",
    "def transform_query(state):\n",
    "    \"\"\"\n",
    "    Transform the query to produce a better question.\n",
    "\n",
    "    Args:\n",
    "        state (dict): The current graph state\n",
    "\n",
    "    Returns:\n",
    "        state (dict): Updates question key with a re-phrased question\n",
    "    \"\"\"\n",
    "\n",
    "    print(\"---TRANSFORM QUERY---\")\n",
    "    question = state[\"question\"]\n",
    "    documents = state[\"documents\"]\n",
    "\n",
    "    # Re-write question\n",
    "    better_question = question_rewriter.invoke({\"question\": question})\n",
    "    return {\"documents\": documents, \"question\": better_question}\n",
    "\n",
    "\n",
    "def web_search(state):\n",
    "    \"\"\"\n",
    "    Web search based on the re-phrased question.\n",
    "\n",
    "    Args:\n",
    "        state (dict): The current graph state\n",
    "\n",
    "    Returns:\n",
    "        state (dict): Updates documents key with appended web results\n",
    "    \"\"\"\n",
    "\n",
    "    print(\"---WEB SEARCH---\")\n",
    "    question = state[\"question\"]\n",
    "\n",
    "    # Web search\n",
    "    docs = web_search_tool.invoke({\"query\": question})\n",
    "    web_results = \"\\n\".join([d[\"content\"] for d in docs])\n",
    "    web_results = Document(page_content=web_results)\n",
    "\n",
    "    return {\"documents\": web_results, \"question\": question}\n",
    "\n",
    "\n",
    "### Edges ###\n",
    "\n",
    "\n",
    "def route_question(state):\n",
    "    \"\"\"\n",
    "    Route question to web search or RAG.\n",
    "\n",
    "    Args:\n",
    "        state (dict): The current graph state\n",
    "\n",
    "    Returns:\n",
    "        str: Next node to call\n",
    "    \"\"\"\n",
    "\n",
    "    print(\"---ROUTE QUESTION---\")\n",
    "    question = state[\"question\"]\n",
    "    source = question_router.invoke({\"question\": question})\n",
    "    if source.datasource == \"web_search\":\n",
    "        print(\"---ROUTE QUESTION TO WEB SEARCH---\")\n",
    "        return \"web_search\"\n",
    "    elif source.datasource == \"vectorstore\":\n",
    "        print(\"---ROUTE QUESTION TO RAG---\")\n",
    "        return \"vectorstore\"\n",
    "\n",
    "\n",
    "def decide_to_generate(state):\n",
    "    \"\"\"\n",
    "    Determines whether to generate an answer, or re-generate a question.\n",
    "\n",
    "    Args:\n",
    "        state (dict): The current graph state\n",
    "\n",
    "    Returns:\n",
    "        str: Binary decision for next node to call\n",
    "    \"\"\"\n",
    "\n",
    "    print(\"---ASSESS GRADED DOCUMENTS---\")\n",
    "    state[\"question\"]\n",
    "    filtered_documents = state[\"documents\"]\n",
    "\n",
    "    if not filtered_documents:\n",
    "        # All documents have been filtered check_relevance\n",
    "        # We will re-generate a new query\n",
    "        print(\n",
    "            \"---DECISION: ALL DOCUMENTS ARE NOT RELEVANT TO QUESTION, TRANSFORM QUERY---\"\n",
    "        )\n",
    "        return \"transform_query\"\n",
    "    else:\n",
    "        # We have relevant documents, so generate answer\n",
    "        print(\"---DECISION: GENERATE---\")\n",
    "        return \"generate\"\n",
    "\n",
    "\n",
    "def grade_generation_v_documents_and_question(state):\n",
    "    \"\"\"\n",
    "    Determines whether the generation is grounded in the document and answers question.\n",
    "\n",
    "    Args:\n",
    "        state (dict): The current graph state\n",
    "\n",
    "    Returns:\n",
    "        str: Decision for next node to call\n",
    "    \"\"\"\n",
    "\n",
    "    print(\"---CHECK HALLUCINATIONS---\")\n",
    "    question = state[\"question\"]\n",
    "    documents = state[\"documents\"]\n",
    "    generation = state[\"generation\"]\n",
    "\n",
    "    score = hallucination_grader.invoke(\n",
    "        {\"documents\": documents, \"generation\": generation}\n",
    "    )\n",
    "    grade = score.binary_score\n",
    "\n",
    "    # Check hallucination\n",
    "    if grade == \"yes\":\n",
    "        print(\"---DECISION: GENERATION IS GROUNDED IN DOCUMENTS---\")\n",
    "        # Check question-answering\n",
    "        print(\"---GRADE GENERATION vs QUESTION---\")\n",
    "        score = answer_grader.invoke({\"question\": question, \"generation\": generation})\n",
    "        grade = score.binary_score\n",
    "        if grade == \"yes\":\n",
    "            print(\"---DECISION: GENERATION ADDRESSES QUESTION---\")\n",
    "            return \"useful\"\n",
    "        else:\n",
    "            print(\"---DECISION: GENERATION DOES NOT ADDRESS QUESTION---\")\n",
    "            return \"not useful\"\n",
    "    else:\n",
    "        print(\"---DECISION: GENERATION IS NOT GROUNDED IN DOCUMENTS, RE-TRY---\")\n",
    "        return \"not supported\""
   ]
  },
  {
   "cell_type": "code",
   "execution_count": 31,
   "id": "367bde91",
   "metadata": {},
   "outputs": [],
   "source": [
    "from langgraph.graph import END, StateGraph, START\n",
    "\n",
    "workflow = StateGraph(GraphState)\n",
    "\n",
    "# Define the nodes\n",
    "workflow.add_node(\"web_search\", web_search)  # web search\n",
    "workflow.add_node(\"retrieve\", retrieve)  # retrieve\n",
    "workflow.add_node(\"grade_documents\", grade_documents)  # grade documents\n",
    "workflow.add_node(\"generate\", generate)  # generatae\n",
    "workflow.add_node(\"transform_query\", transform_query)  # transform_query\n",
    "\n",
    "# Build graph\n",
    "workflow.add_conditional_edges(\n",
    "    START,\n",
    "    route_question,\n",
    "    {\n",
    "        \"web_search\": \"web_search\",\n",
    "        \"vectorstore\": \"retrieve\",\n",
    "    },\n",
    ")\n",
    "workflow.add_edge(\"web_search\", \"generate\")\n",
    "workflow.add_edge(\"retrieve\", \"grade_documents\")\n",
    "workflow.add_conditional_edges(\n",
    "    \"grade_documents\",\n",
    "    decide_to_generate,\n",
    "    {\n",
    "        \"transform_query\": \"transform_query\",\n",
    "        \"generate\": \"generate\",\n",
    "    },\n",
    ")\n",
    "workflow.add_edge(\"transform_query\", \"retrieve\")\n",
    "workflow.add_conditional_edges(\n",
    "    \"generate\",\n",
    "    grade_generation_v_documents_and_question,\n",
    "    {\n",
    "        \"not supported\": \"generate\",\n",
    "        \"useful\": END,\n",
    "        \"not useful\": \"transform_query\",\n",
    "    },\n",
    ")\n",
    "\n",
    "# Compile\n",
    "app = workflow.compile()"
   ]
  },
  {
   "cell_type": "code",
   "execution_count": 32,
   "id": "ee8debf9",
   "metadata": {},
   "outputs": [
    {
     "data": {
      "image/png": "[encoded data removed]",
      "text/plain": [
       "<IPython.core.display.Image object>"
      ]
     },
     "metadata": {},
     "output_type": "display_data"
    }
   ],
   "source": [
    "from IPython.display import Image, display\n",
    "\n",
    "try:\n",
    "    display(Image(app.get_graph(xray=True).draw_mermaid_png()))\n",
    "except Exception:\n",
    "    # This requires some extra dependencies and is optional\n",
    "    pass"
   ]
  },
  {
   "cell_type": "code",
   "execution_count": 33,
   "id": "dc18e904",
   "metadata": {},
   "outputs": [
    {
     "name": "stdout",
     "output_type": "stream",
     "text": [
      "---ROUTE QUESTION---\n",
      "---ROUTE QUESTION TO RAG---\n",
      "---RETRIEVE---\n",
      "\"Node 'retrieve':\"\n",
      "'\\n---\\n'\n",
      "---CHECK DOCUMENT RELEVANCE TO QUESTION---\n",
      "---GRADE: DOCUMENT RELEVANT---\n",
      "---GRADE: DOCUMENT RELEVANT---\n",
      "---GRADE: DOCUMENT RELEVANT---\n",
      "---GRADE: DOCUMENT RELEVANT---\n",
      "---ASSESS GRADED DOCUMENTS---\n",
      "---DECISION: GENERATE---\n",
      "\"Node 'grade_documents':\"\n",
      "'\\n---\\n'\n",
      "---GENERATE---\n",
      "---CHECK HALLUCINATIONS---\n",
      "---DECISION: GENERATION IS GROUNDED IN DOCUMENTS---\n",
      "---GRADE GENERATION vs QUESTION---\n",
      "---DECISION: GENERATION ADDRESSES QUESTION---\n",
      "\"Node 'generate':\"\n",
      "'\\n---\\n'\n",
      "('Microsoft is making the most money in its Intelligent Cloud segment, which '\n",
      " \"is the largest source of the company's revenue and profit. For FY 2023, this \"\n",
      " 'segment generated $87.9 billion in revenue, reflecting a 17% increase from '\n",
      " 'the previous year. The growth is driven by services like Microsoft Azure and '\n",
      " 'other cloud offerings.')\n"
     ]
    }
   ],
   "source": [
    "from pprint import pprint\n",
    "\n",
    "# Run\n",
    "inputs = {\n",
    "    \"question\": \"In which  area microsoft is making more money?\"\n",
    "}\n",
    "for output in app.stream(inputs):\n",
    "    for key, value in output.items():\n",
    "        # Node\n",
    "        pprint(f\"Node '{key}':\")\n",
    "        # Optional: print full state at each node\n",
    "        # pprint.pprint(value[\"keys\"], indent=2, width=80, depth=None)\n",
    "    pprint(\"\\n---\\n\")\n",
    "\n",
    "# Final generation\n",
    "pprint(value[\"generation\"])"
   ]
  },
  {
   "cell_type": "code",
   "execution_count": 34,
   "id": "f57fdd5b",
   "metadata": {},
   "outputs": [
    {
     "name": "stdout",
     "output_type": "stream",
     "text": [
      "---ROUTE QUESTION---\n",
      "---ROUTE QUESTION TO WEB SEARCH---\n",
      "---WEB SEARCH---\n",
      "\"Node 'web_search':\"\n",
      "'\\n---\\n'\n",
      "---GENERATE---\n",
      "---CHECK HALLUCINATIONS---\n",
      "---DECISION: GENERATION IS GROUNDED IN DOCUMENTS---\n",
      "---GRADE GENERATION vs QUESTION---\n",
      "---DECISION: GENERATION ADDRESSES QUESTION---\n",
      "\"Node 'generate':\"\n",
      "'\\n---\\n'\n",
      "('In 2025, Microsoft plans to invest approximately $80 billion in AI-enabled '\n",
      " 'data centers to train AI models and deploy cloud-based applications '\n",
      " 'globally. More than half of this investment will be directed toward the '\n",
      " \"United States, reflecting the company's commitment to the American economy. \"\n",
      " \"This initiative is part of Microsoft's broader vision to advance AI \"\n",
      " 'technology and infrastructure.')\n"
     ]
    }
   ],
   "source": [
    "from pprint import pprint\n",
    "\n",
    "# Run\n",
    "inputs = {\n",
    "    \"question\": \"What is microsoft investing in 2025?\"\n",
    "}\n",
    "for output in app.stream(inputs):\n",
    "    for key, value in output.items():\n",
    "        # Node\n",
    "        pprint(f\"Node '{key}':\")\n",
    "        # Optional: print full state at each node\n",
    "        # pprint.pprint(value[\"keys\"], indent=2, width=80, depth=None)\n",
    "    pprint(\"\\n---\\n\")\n",
    "\n",
    "# Final generation\n",
    "pprint(value[\"generation\"])"
   ]
  },
  {
   "cell_type": "code",
   "execution_count": null,
   "id": "6a5f3a10",
   "metadata": {},
   "outputs": [],
   "source": []
  },
  {
   "cell_type": "code",
   "execution_count": null,
   "id": "698bb5e4",
   "metadata": {},
   "outputs": [],
   "source": []
  },
  {
   "cell_type": "code",
   "execution_count": null,
   "id": "c1195155",
   "metadata": {},
   "outputs": [],
   "source": []
  },
  {
   "cell_type": "code",
   "execution_count": null,
   "id": "e5c707f6",
   "metadata": {},
   "outputs": [],
   "source": []
  },
  {
   "cell_type": "code",
   "execution_count": null,
   "id": "3d99241a",
   "metadata": {},
   "outputs": [],
   "source": []
  },
  {
   "cell_type": "code",
   "execution_count": null,
   "id": "08006ebd",
   "metadata": {},
   "outputs": [],
   "source": []
  },
  {
   "cell_type": "code",
   "execution_count": null,
   "id": "4f84c7c4",
   "metadata": {},
   "outputs": [],
   "source": []
  },
  {
   "cell_type": "code",
   "execution_count": null,
   "id": "2bde38dd",
   "metadata": {},
   "outputs": [],
   "source": []
  },
  {
   "cell_type": "code",
   "execution_count": null,
   "id": "a19cdca3",
   "metadata": {},
   "outputs": [],
   "source": []
  },
  {
   "cell_type": "code",
   "execution_count": null,
   "id": "3e8e9bde",
   "metadata": {},
   "outputs": [],
   "source": []
  },
  {
   "cell_type": "code",
   "execution_count": null,
   "id": "7a680880",
   "metadata": {},
   "outputs": [],
   "source": []
  },
  {
   "cell_type": "code",
   "execution_count": null,
   "id": "8138837d",
   "metadata": {},
   "outputs": [],
   "source": []
  },
  {
   "cell_type": "code",
   "execution_count": null,
   "id": "810f60a9",
   "metadata": {},
   "outputs": [],
   "source": []
  },
  {
   "cell_type": "code",
   "execution_count": null,
   "id": "52771503",
   "metadata": {},
   "outputs": [],
   "source": []
  },
  {
   "cell_type": "code",
   "execution_count": null,
   "id": "5340dec0",
   "metadata": {},
   "outputs": [],
   "source": []
  }
 ],
 "metadata": {
  "kernelspec": {
   "display_name": "venv",
   "language": "python",
   "name": "python3"
  },
  "language_info": {
   "codemirror_mode": {
    "name": "ipython",
    "version": 3
   },
   "file_extension": ".py",
   "mimetype": "text/x-python",
   "name": "python",
   "nbconvert_exporter": "python",
   "pygments_lexer": "ipython3",
   "version": "3.12.7"
  }
 },
 "nbformat": 4,
 "nbformat_minor": 5
}

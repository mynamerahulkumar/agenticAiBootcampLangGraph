{
 "cells": [
  {
   "cell_type": "markdown",
   "id": "73641187",
   "metadata": {},
   "source": [
    "# AI AGENT"
   ]
  },
  {
   "cell_type": "code",
   "execution_count": 4,
   "id": "cf38f17d",
   "metadata": {},
   "outputs": [
    {
     "data": {
      "text/plain": [
       "True"
      ]
     },
     "execution_count": 4,
     "metadata": {},
     "output_type": "execute_result"
    }
   ],
   "source": [
    "import os\n",
    "from dotenv import load_dotenv\n",
    "from pprint import pprint\n",
    "load_dotenv()"
   ]
  },
  {
   "cell_type": "code",
   "execution_count": 2,
   "id": "fcd1b373",
   "metadata": {},
   "outputs": [],
   "source": [
    "os.environ[\"OPENAI_API_KEY\"]=os.getenv(\"OPENAI_API_KEY\")\n",
    "\n",
    "## Langsmith Tracking and tracing\n",
    "\n",
    "os.environ[\"LANGCHAIN_API_KEY\"]=os.getenv(\"LANGCHAIN_API_KEY\")\n",
    "os.environ[\"LANGCHAIN_TRACING_V2\"]=\"true\"\n",
    "os.environ[\"LANGCHAIN_PROJECT\"]=os.getenv(\"LANGCHAIN_PROJECT\")"
   ]
  },
  {
   "cell_type": "code",
   "execution_count": null,
   "id": "5f18e2ce",
   "metadata": {},
   "outputs": [
    {
     "name": "stdout",
     "output_type": "stream",
     "text": [
      "ChatOpenAI(client=<openai.resources.chat.completions.completions.Completions object at 0x1114a1b20>, async_client=<openai.resources.chat.completions.completions.AsyncCompletions object at 0x1114a3440>, root_client=<openai.OpenAI object at 0x111482d50>, root_async_client=<openai.AsyncOpenAI object at 0x1114a1a00>, model_name='o1-mini', temperature=1.0, model_kwargs={}, openai_api_key=SecretStr('**********'))\n"
     ]
    }
   ],
   "source": [
    "from langchain_openai import ChatOpenAI\n",
    "llm=ChatOpenAI(model='o1-mini')\n"
   ]
  },
  {
   "cell_type": "code",
   "execution_count": 6,
   "id": "8a4a54da",
   "metadata": {},
   "outputs": [
    {
     "name": "stdout",
     "output_type": "stream",
     "text": [
      "ChatOpenAI(client=<openai.resources.chat.completions.completions.Completions object at 0x1114a1b20>, async_client=<openai.resources.chat.completions.completions.AsyncCompletions object at 0x1114a3440>, root_client=<openai.OpenAI object at 0x111482d50>, root_async_client=<openai.AsyncOpenAI object at 0x1114a1a00>, model_name='o1-mini', temperature=1.0, model_kwargs={}, openai_api_key=SecretStr('**********'))\n"
     ]
    }
   ],
   "source": [
    "pprint(llm, indent=2, width=1)"
   ]
  },
  {
   "cell_type": "code",
   "execution_count": 8,
   "id": "1c094e34",
   "metadata": {},
   "outputs": [
    {
     "name": "stdout",
     "output_type": "stream",
     "text": [
      "AIMessage(content=\"A **RAG Agent** stands for **Retrieval-Augmented Generation Agent**, an advanced type of artificial intelligence system that combines the strengths of two key components: information retrieval and generative language modeling. This integration enables the agent to produce more accurate, contextually relevant, and informed responses by accessing external information sources in real-time.\\n\\n### **Core Components of a RAG Agent**\\n\\n1. **Retrieval Mechanism:**\\n   - **Purpose:** To fetch relevant information from external sources such as databases, knowledge bases, documents, or the internet based on the input query.\\n   - **Techniques:** Utilizes algorithms like BM25 (a ranking function used by search engines), dense vector retrieval (leveraging embeddings for semantic search), or other sophisticated information retrieval methods to identify pertinent data.\\n\\n2. **Generative Model:**\\n   - **Purpose:** To generate coherent, fluent, and contextually appropriate responses using the information retrieved.\\n   - **Technologies:** Typically based on advanced language models like GPT (Generative Pre-trained Transformer), BERT (Bidirectional Encoder Representations from Transformers), or similar architectures that are capable of understanding and producing human-like text.\\n\\n### **How a RAG Agent Works**\\n\\n1. **Input Processing:** When a user poses a question or makes a request, the RAG Agent first interprets the input to understand the intent and context.\\n2. **Information Retrieval:** The agent then queries its retrieval mechanism to gather relevant documents or data related to the input.\\n3. **Generation Phase:** The generative model takes both the original input and the retrieved information to craft a comprehensive and accurate response.\\n4. **Output Delivery:** The final response is presented to the user, enriched with up-to-date and specific information sourced externally.\\n\\n### **Advantages of Using a RAG Agent**\\n\\n- **Enhanced Accuracy:** By accessing external data, the agent can provide more precise and factually correct information compared to models relying solely on their training data.\\n- **Up-to-Date Information:** Retrieval components can tap into current databases or the internet, ensuring responses reflect the latest information and developments.\\n- **Contextual Relevance:** The combination of retrieval and generation allows the agent to maintain context and relevance, especially in complex or specialized queries.\\n- **Scalability:** RAG Agents can be scaled to handle vast amounts of data, making them suitable for applications requiring extensive knowledge bases.\\n\\n### **Applications of RAG Agents**\\n\\n- **Customer Support:** Providing detailed and accurate responses to customer inquiries by accessing product databases or support documents.\\n- **Healthcare:** Assisting medical professionals or patients by retrieving and summarizing relevant medical research or guidelines.\\n- **Education:** Offering tailored explanations and resources based on curriculum materials or educational content.\\n- **Content Creation:** Generating articles, reports, or summaries that are informed by the latest data and information sources.\\n\\n### **Examples and Implementations**\\n\\n- **Facebook AI's RAG Model:** One of the pioneering implementations, Facebook AI introduced the RAG model to enhance question-answering systems by integrating retrieval mechanisms with generative capabilities.\\n- **Hugging Face Transformers:** Platforms like Hugging Face provide tools and libraries that facilitate the development and deployment of RAG Agents, leveraging pre-trained models and customizable retrieval systems.\\n\\n### **Conclusion**\\n\\nA RAG Agent represents a significant advancement in the field of artificial intelligence by merging the tactical retrieval of information with the creative generation of language. This synergy allows for more dynamic, accurate, and context-aware interactions, making RAG Agents highly effective for a wide range of applications where quality and reliability of information are paramount.\", additional_kwargs={'refusal': None}, response_metadata={'token_usage': {'completion_tokens': 1369, 'prompt_tokens': 14, 'total_tokens': 1383, 'completion_tokens_details': {'accepted_prediction_tokens': 0, 'audio_tokens': 0, 'reasoning_tokens': 640, 'rejected_prediction_tokens': 0}, 'prompt_tokens_details': {'audio_tokens': 0, 'cached_tokens': 0}}, 'model_name': 'o1-mini-2024-09-12', 'system_fingerprint': 'fp_e8044cf94c', 'id': 'chatcmpl-BK7uU5xGlhDjzCjyKDxpzjdOzSq6Q', 'finish_reason': 'stop', 'logprobs': None}, id='run-3a04ca62-3791-4694-85c0-0051ad911a91-0', usage_metadata={'input_tokens': 14, 'output_tokens': 1369, 'total_tokens': 1383, 'input_token_details': {'audio': 0, 'cache_read': 0}, 'output_token_details': {'audio': 0, 'reasoning': 640}})\n"
     ]
    }
   ],
   "source": [
    "result=llm.invoke(\"What is RAG AGENT\")\n",
    "pprint(result)"
   ]
  },
  {
   "cell_type": "code",
   "execution_count": 9,
   "id": "9680bd9f",
   "metadata": {},
   "outputs": [
    {
     "name": "stdout",
     "output_type": "stream",
     "text": [
      "('A **RAG Agent** stands for **Retrieval-Augmented Generation Agent**, an '\n",
      " 'advanced type of artificial intelligence system that combines the strengths '\n",
      " 'of two key components: information retrieval and generative language '\n",
      " 'modeling. This integration enables the agent to produce more accurate, '\n",
      " 'contextually relevant, and informed responses by accessing external '\n",
      " 'information sources in real-time.\\n'\n",
      " '\\n'\n",
      " '### **Core Components of a RAG Agent**\\n'\n",
      " '\\n'\n",
      " '1. **Retrieval Mechanism:**\\n'\n",
      " '   - **Purpose:** To fetch relevant information from external sources such '\n",
      " 'as databases, knowledge bases, documents, or the internet based on the input '\n",
      " 'query.\\n'\n",
      " '   - **Techniques:** Utilizes algorithms like BM25 (a ranking function used '\n",
      " 'by search engines), dense vector retrieval (leveraging embeddings for '\n",
      " 'semantic search), or other sophisticated information retrieval methods to '\n",
      " 'identify pertinent data.\\n'\n",
      " '\\n'\n",
      " '2. **Generative Model:**\\n'\n",
      " '   - **Purpose:** To generate coherent, fluent, and contextually appropriate '\n",
      " 'responses using the information retrieved.\\n'\n",
      " '   - **Technologies:** Typically based on advanced language models like GPT '\n",
      " '(Generative Pre-trained Transformer), BERT (Bidirectional Encoder '\n",
      " 'Representations from Transformers), or similar architectures that are '\n",
      " 'capable of understanding and producing human-like text.\\n'\n",
      " '\\n'\n",
      " '### **How a RAG Agent Works**\\n'\n",
      " '\\n'\n",
      " '1. **Input Processing:** When a user poses a question or makes a request, '\n",
      " 'the RAG Agent first interprets the input to understand the intent and '\n",
      " 'context.\\n'\n",
      " '2. **Information Retrieval:** The agent then queries its retrieval mechanism '\n",
      " 'to gather relevant documents or data related to the input.\\n'\n",
      " '3. **Generation Phase:** The generative model takes both the original input '\n",
      " 'and the retrieved information to craft a comprehensive and accurate '\n",
      " 'response.\\n'\n",
      " '4. **Output Delivery:** The final response is presented to the user, '\n",
      " 'enriched with up-to-date and specific information sourced externally.\\n'\n",
      " '\\n'\n",
      " '### **Advantages of Using a RAG Agent**\\n'\n",
      " '\\n'\n",
      " '- **Enhanced Accuracy:** By accessing external data, the agent can provide '\n",
      " 'more precise and factually correct information compared to models relying '\n",
      " 'solely on their training data.\\n'\n",
      " '- **Up-to-Date Information:** Retrieval components can tap into current '\n",
      " 'databases or the internet, ensuring responses reflect the latest information '\n",
      " 'and developments.\\n'\n",
      " '- **Contextual Relevance:** The combination of retrieval and generation '\n",
      " 'allows the agent to maintain context and relevance, especially in complex or '\n",
      " 'specialized queries.\\n'\n",
      " '- **Scalability:** RAG Agents can be scaled to handle vast amounts of data, '\n",
      " 'making them suitable for applications requiring extensive knowledge bases.\\n'\n",
      " '\\n'\n",
      " '### **Applications of RAG Agents**\\n'\n",
      " '\\n'\n",
      " '- **Customer Support:** Providing detailed and accurate responses to '\n",
      " 'customer inquiries by accessing product databases or support documents.\\n'\n",
      " '- **Healthcare:** Assisting medical professionals or patients by retrieving '\n",
      " 'and summarizing relevant medical research or guidelines.\\n'\n",
      " '- **Education:** Offering tailored explanations and resources based on '\n",
      " 'curriculum materials or educational content.\\n'\n",
      " '- **Content Creation:** Generating articles, reports, or summaries that are '\n",
      " 'informed by the latest data and information sources.\\n'\n",
      " '\\n'\n",
      " '### **Examples and Implementations**\\n'\n",
      " '\\n'\n",
      " \"- **Facebook AI's RAG Model:** One of the pioneering implementations, \"\n",
      " 'Facebook AI introduced the RAG model to enhance question-answering systems '\n",
      " 'by integrating retrieval mechanisms with generative capabilities.\\n'\n",
      " '- **Hugging Face Transformers:** Platforms like Hugging Face provide tools '\n",
      " 'and libraries that facilitate the development and deployment of RAG Agents, '\n",
      " 'leveraging pre-trained models and customizable retrieval systems.\\n'\n",
      " '\\n'\n",
      " '### **Conclusion**\\n'\n",
      " '\\n'\n",
      " 'A RAG Agent represents a significant advancement in the field of artificial '\n",
      " 'intelligence by merging the tactical retrieval of information with the '\n",
      " 'creative generation of language. This synergy allows for more dynamic, '\n",
      " 'accurate, and context-aware interactions, making RAG Agents highly effective '\n",
      " 'for a wide range of applications where quality and reliability of '\n",
      " 'information are paramount.')\n"
     ]
    }
   ],
   "source": [
    "pprint(result.content)"
   ]
  },
  {
   "cell_type": "code",
   "execution_count": 16,
   "id": "761d8db0",
   "metadata": {},
   "outputs": [
    {
     "data": {
      "text/plain": [
       "ChatPromptTemplate(input_variables=['input'], input_types={}, partial_variables={}, messages=[SystemMessagePromptTemplate(prompt=PromptTemplate(input_variables=[], input_types={}, partial_variables={}, template='You are an financial AI expert, Provide me answer based on the question'), additional_kwargs={}), HumanMessagePromptTemplate(prompt=PromptTemplate(input_variables=['input'], input_types={}, partial_variables={}, template='{input}'), additional_kwargs={})])"
      ]
     },
     "execution_count": 16,
     "metadata": {},
     "output_type": "execute_result"
    }
   ],
   "source": [
    "from langchain_core.prompts import ChatPromptTemplate\n",
    "prompt=ChatPromptTemplate.from_messages(\n",
    "    [\n",
    "    (\"system\",\"You are an financial AI expert, Provide me answer based on the question\"),\n",
    "    (\"user\",\"{input}\")\n",
    "    ]\n",
    ")\n",
    "prompt"
   ]
  },
  {
   "cell_type": "code",
   "execution_count": 20,
   "id": "a15c9959",
   "metadata": {},
   "outputs": [],
   "source": [
    "llm=ChatOpenAI(model=\"gpt-4o\")"
   ]
  },
  {
   "cell_type": "code",
   "execution_count": 21,
   "id": "b34ce2c6",
   "metadata": {},
   "outputs": [],
   "source": [
    "chain=prompt|llm"
   ]
  },
  {
   "cell_type": "code",
   "execution_count": 22,
   "id": "e5646f47",
   "metadata": {},
   "outputs": [],
   "source": [
    "response=chain.invoke({\"input\":\"Which is good investing crypto or Tech sector Stock like Apple or Google\"})"
   ]
  },
  {
   "cell_type": "code",
   "execution_count": 25,
   "id": "bf9bdc6a",
   "metadata": {},
   "outputs": [
    {
     "name": "stdout",
     "output_type": "stream",
     "text": [
      "('Deciding between investing in cryptocurrencies or tech sector stocks like '\n",
      " 'Apple or Google depends on several factors, including your risk tolerance, '\n",
      " 'investment goals, and market outlook.\\n'\n",
      " '\\n'\n",
      " '1. **Cryptocurrencies:**\\n'\n",
      " '   - **Volatility and Risk:** Cryptocurrencies are known for their high '\n",
      " 'volatility and potential for significant short-term gains or losses. This '\n",
      " 'makes them a higher-risk investment compared to traditional stocks.\\n'\n",
      " '   - **Growth Potential:** Cryptos like Bitcoin and Ethereum have seen '\n",
      " 'substantial growth over the past decade. However, the market is still '\n",
      " 'speculative, and regulatory uncertainties persist.\\n'\n",
      " '   - **Diversification:** Cryptocurrencies can provide diversification '\n",
      " \"benefits as they don't always move in tandem with traditional financial \"\n",
      " 'markets.\\n'\n",
      " '\\n'\n",
      " '2. **Tech Sector Stocks:**\\n'\n",
      " '   - **Stability and Established Track Record:** Companies like Apple and '\n",
      " 'Google (Alphabet) have a long history of profitability and growth. They are '\n",
      " 'less volatile than cryptocurrencies.\\n'\n",
      " '   - **Dividends and Buybacks:** Some tech stocks offer dividends and share '\n",
      " 'buyback programs, which can provide additional returns.\\n'\n",
      " '   - **Innovation and Market Leadership:** Apple and Google are leaders in '\n",
      " 'technology and continue to innovate, which can drive long-term growth.\\n'\n",
      " '   - **Lower Risk:** Generally considered less risky than cryptocurrencies '\n",
      " 'due to their established market position and financial strength.\\n'\n",
      " '\\n'\n",
      " '3. **Investment Strategy:**\\n'\n",
      " '   - **Risk Tolerance:** If you have a high-risk tolerance and are looking '\n",
      " 'for potentially high returns, you might explore cryptocurrencies. If you '\n",
      " 'prefer stability with moderate growth, tech stocks could be more suitable.\\n'\n",
      " '   - **Portfolio Diversification:** Consider diversifying your investments '\n",
      " 'across both asset types to balance risk and reward.\\n'\n",
      " '   - **Time Horizon:** Longer investment horizons may withstand the '\n",
      " 'volatility of cryptocurrencies, whereas tech stocks might be better for '\n",
      " 'short to mid-term goals.\\n'\n",
      " '\\n'\n",
      " 'Ultimately, the better investment depends on your personal financial '\n",
      " \"situation, investment goals, and how comfortable you are with risk. It's \"\n",
      " 'often advisable to consult with a financial advisor to tailor an investment '\n",
      " 'strategy that suits your needs.')\n"
     ]
    }
   ],
   "source": [
    "pprint(response.content)"
   ]
  },
  {
   "cell_type": "markdown",
   "id": "8f468c6e",
   "metadata": {},
   "source": [
    "# JSON Output"
   ]
  },
  {
   "cell_type": "code",
   "execution_count": 26,
   "id": "87de6b14",
   "metadata": {},
   "outputs": [],
   "source": [
    "from langchain_core.prompts import PromptTemplate\n",
    "from langchain_core.output_parsers import JsonOutputParser\n"
   ]
  },
  {
   "cell_type": "code",
   "execution_count": 37,
   "id": "e299f38e",
   "metadata": {},
   "outputs": [
    {
     "data": {
      "text/plain": [
       "PromptTemplate(input_variables=['query'], input_types={}, partial_variables={'format_instructions': 'Return a JSON object.'}, template='You are an Financial expert .Answer the user query.\\n{format_instructions}\\n{query}\\n')"
      ]
     },
     "execution_count": 37,
     "metadata": {},
     "output_type": "execute_result"
    }
   ],
   "source": [
    "output_parser=JsonOutputParser()\n",
    "prompt=PromptTemplate(\n",
    "    template=\"You are an Financial expert .Answer the user query.\\n{format_instructions}\\n{query}\\n\",\n",
    "    input_variables=[\"query\"],\n",
    "    partial_variables={\"format_instructions\":output_parser.get_format_instructions()}\n",
    "\n",
    ")\n",
    "prompt"
   ]
  },
  {
   "cell_type": "code",
   "execution_count": 41,
   "id": "76e2af0c",
   "metadata": {},
   "outputs": [
    {
     "data": {
      "text/plain": [
       "PromptTemplate(input_variables=['query'], input_types={}, partial_variables={'format_instructions': 'Return a JSON object.'}, template='You are an Financial expert .Answer the user query.\\n{format_instructions}\\n{query}\\n')\n",
       "| ChatOpenAI(client=<openai.resources.chat.completions.completions.Completions object at 0x115a882c0>, async_client=<openai.resources.chat.completions.completions.AsyncCompletions object at 0x115a8d2b0>, root_client=<openai.OpenAI object at 0x111482c00>, root_async_client=<openai.AsyncOpenAI object at 0x115a89100>, model_name='gpt-4o', model_kwargs={}, openai_api_key=SecretStr('**********'))\n",
       "| JsonOutputParser()"
      ]
     },
     "execution_count": 41,
     "metadata": {},
     "output_type": "execute_result"
    }
   ],
   "source": [
    "chain=prompt|llm|output_parser\n",
    "chain"
   ]
  },
  {
   "cell_type": "code",
   "execution_count": 40,
   "id": "3e161a6c",
   "metadata": {},
   "outputs": [
    {
     "name": "stdout",
     "output_type": "stream",
     "text": [
      "{'competitors': ['AMD (Advanced Micro Devices)',\n",
      "                 'Intel Corporation',\n",
      "                 'Qualcomm',\n",
      "                 'Broadcom',\n",
      "                 'ARM Holdings',\n",
      "                 'Xilinx (acquired by AMD)',\n",
      "                 'Micron Technology'],\n",
      " 'investment_advice': 'NVIDIA is considered a strong investment in the long '\n",
      "                      'term due to its leadership in the graphics processing '\n",
      "                      'unit (GPU) industry, significant role in artificial '\n",
      "                      'intelligence and machine learning, and expansion into '\n",
      "                      'data centers and autonomous vehicles. However, as with '\n",
      "                      \"any investment, it's essential to perform due \"\n",
      "                      'diligence, consider market conditions, and consult with '\n",
      "                      'a financial advisor for personalized advice.'}\n"
     ]
    }
   ],
   "source": [
    "response=chain.invoke({\"query\":\"Can you tell me NVIDIA is good to invest in long term,can you suggest me who are competitors to this company?\"})\n",
    "pprint(response)"
   ]
  },
  {
   "cell_type": "code",
   "execution_count": null,
   "id": "f0928b90",
   "metadata": {},
   "outputs": [],
   "source": []
  },
  {
   "cell_type": "code",
   "execution_count": null,
   "id": "f0837ded",
   "metadata": {},
   "outputs": [],
   "source": []
  },
  {
   "cell_type": "code",
   "execution_count": null,
   "id": "5fec5274",
   "metadata": {},
   "outputs": [],
   "source": []
  },
  {
   "cell_type": "code",
   "execution_count": null,
   "id": "b4ae4b3d",
   "metadata": {},
   "outputs": [],
   "source": []
  },
  {
   "cell_type": "code",
   "execution_count": null,
   "id": "ce9ca362",
   "metadata": {},
   "outputs": [],
   "source": []
  },
  {
   "cell_type": "code",
   "execution_count": null,
   "id": "c7812c25",
   "metadata": {},
   "outputs": [],
   "source": []
  },
  {
   "cell_type": "code",
   "execution_count": null,
   "id": "75879acd",
   "metadata": {},
   "outputs": [],
   "source": []
  },
  {
   "cell_type": "code",
   "execution_count": null,
   "id": "fa7a5940",
   "metadata": {},
   "outputs": [],
   "source": []
  },
  {
   "cell_type": "code",
   "execution_count": null,
   "id": "4e4d5633",
   "metadata": {},
   "outputs": [],
   "source": []
  },
  {
   "cell_type": "code",
   "execution_count": null,
   "id": "e4da2d21",
   "metadata": {},
   "outputs": [],
   "source": []
  },
  {
   "cell_type": "code",
   "execution_count": null,
   "id": "3733be37",
   "metadata": {},
   "outputs": [],
   "source": []
  },
  {
   "cell_type": "code",
   "execution_count": null,
   "id": "71efe0fe",
   "metadata": {},
   "outputs": [],
   "source": []
  },
  {
   "cell_type": "code",
   "execution_count": null,
   "id": "5b2490e9",
   "metadata": {},
   "outputs": [],
   "source": []
  },
  {
   "cell_type": "code",
   "execution_count": null,
   "id": "5ea0d1e1",
   "metadata": {},
   "outputs": [],
   "source": []
  },
  {
   "cell_type": "code",
   "execution_count": null,
   "id": "503cdbd4",
   "metadata": {},
   "outputs": [],
   "source": []
  },
  {
   "cell_type": "code",
   "execution_count": null,
   "id": "f6338e97",
   "metadata": {},
   "outputs": [],
   "source": []
  },
  {
   "cell_type": "code",
   "execution_count": null,
   "id": "595bd2a5",
   "metadata": {},
   "outputs": [],
   "source": []
  },
  {
   "cell_type": "markdown",
   "id": "7d867e70",
   "metadata": {},
   "source": []
  },
  {
   "cell_type": "markdown",
   "id": "daed0097",
   "metadata": {},
   "source": []
  },
  {
   "cell_type": "markdown",
   "id": "3c2234d8",
   "metadata": {},
   "source": []
  },
  {
   "cell_type": "markdown",
   "id": "f24fe8ac",
   "metadata": {},
   "source": []
  },
  {
   "cell_type": "markdown",
   "id": "7244e420",
   "metadata": {},
   "source": []
  },
  {
   "cell_type": "markdown",
   "id": "aad4a7d9",
   "metadata": {},
   "source": []
  },
  {
   "cell_type": "markdown",
   "id": "e1ff3950",
   "metadata": {},
   "source": []
  },
  {
   "cell_type": "markdown",
   "id": "9b6a1040",
   "metadata": {},
   "source": []
  },
  {
   "cell_type": "markdown",
   "id": "074d3ce5",
   "metadata": {},
   "source": []
  },
  {
   "cell_type": "markdown",
   "id": "9dea800a",
   "metadata": {},
   "source": []
  },
  {
   "cell_type": "markdown",
   "id": "d274df7c",
   "metadata": {},
   "source": []
  }
 ],
 "metadata": {
  "kernelspec": {
   "display_name": "venv",
   "language": "python",
   "name": "python3"
  },
  "language_info": {
   "codemirror_mode": {
    "name": "ipython",
    "version": 3
   },
   "file_extension": ".py",
   "mimetype": "text/x-python",
   "name": "python",
   "nbconvert_exporter": "python",
   "pygments_lexer": "ipython3",
   "version": "3.12.7"
  }
 },
 "nbformat": 4,
 "nbformat_minor": 5
}

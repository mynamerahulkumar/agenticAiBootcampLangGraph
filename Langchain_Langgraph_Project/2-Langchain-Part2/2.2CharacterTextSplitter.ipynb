{
 "cells": [
  {
   "cell_type": "markdown",
   "id": "a889184b",
   "metadata": {},
   "source": [
    "# Character Text Splitter\n",
    "\n",
    "How to split by character-Character Text Splitter\n",
    "\n",
    "This is the simplest method. This splits based on a \n",
    "given character sequence, which defaults to \"\\n\\n\". \n",
    "Chunk length is measured by number of characters.\n",
    "\n",
    "How the text is split: by single character separator.\n",
    "How the chunk size is measured: by number of characters."
   ]
  },
  {
   "cell_type": "code",
   "execution_count": 15,
   "id": "956341fd",
   "metadata": {},
   "outputs": [
    {
     "data": {
      "text/plain": [
       "[Document(metadata={'source': 'data/loreal_shareholder_2022.txt'}, page_content='“Dear Shareholders,\\nL’Oréal continues on the path to success with an ever-stronger ambition, while acting with the sense of responsibility of a global leader. Dual financial and social excellence will always be at the heart of our business model.\\nWe have set ourselves the ultimate goal of creating value that benefits everyone.\\nWe create value for you, our shareholders.\\xa0The resilience and outperformance of your Company are the perfect demonstration of its robust, virtuous and value creating business model. The quality of our results puts us in a position to offer a dividend of €6 per share, representing a significant increase of +25%. And the preferential dividend with a 10% loyalty bonus(1), at €6.60, is recognition of your long-term loyalty.\\nI also know that you attach just as much importance to the quality of our relationship with you, our shareholders. I am delighted to welcome the more than 30,000 new individual shareholders in France who joined us in 2022.\\nWe create value thanks to our 87,400 employees. \\n\\nsAnd for them.Their determination to go that extra mile, their creativity and their spirit of solidarity were, once again, exemplary last year. They have my utmost admiration.\\nIt was only natural that we share L’Oréal’s performance with them. In 2022, we launched a third employee share ownership plan. More than a third of our employees around the world and two-thirds of employees in France are Group shareholders. That is outstanding proof of their attachment to L’Oréal. And it is yet another means of aligning their interests with yours.\\nWe also need to create values.\\xa0Entrepreneurial spirit, courage, respect, transparency, ethics and responsibility are the values underpinning our long-term future. The culture that binds us is a unique, fundamental asset that no other company could ever copy.\\nWe create value for our ecosystem.\\xa0L’Oréal is a global company that thrives on its diversity. But our heart beats in France and always will. We have nearly\\xa015,000 employees\\xa0in the country. Our French plants handle more than 26% of our worldwide production, even though France represents 7% of our sales. We have made France a land of the Group’s scientific and technological excellence, with\\xa02,700 researchers\\xa0and nearly 70% of our R&D investments.\\nWe create value for our environment and society.\\xa0Sustainable development has long been a priority for our governance, a pillar of our business strategy and a results-based commitment on the part of each and every employee.\\nAlongside the many initiatives undertaken by your Company, the Fondation L’Oréal has also stepped up its efforts. This June marks the 25th\\xa0anniversary of the For Women in Science programme, which has provided human and financial support to nearly\\xa04,100 female\\xa0scientists in more than 110 countries.\\nWith your support,\\xa0L’Oréal is more than ever driven by tremendous energy to continue its beautiful Adventure.”\\n')]"
      ]
     },
     "execution_count": 15,
     "metadata": {},
     "output_type": "execute_result"
    }
   ],
   "source": [
    "from langchain_community.document_loaders import TextLoader\n",
    "\n",
    "loader=TextLoader('data/loreal_shareholder_2022.txt')\n",
    "docs=loader.load()\n",
    "docs"
   ]
  },
  {
   "cell_type": "code",
   "execution_count": 9,
   "id": "15b47a30",
   "metadata": {},
   "outputs": [
    {
     "name": "stderr",
     "output_type": "stream",
     "text": [
      "Created a chunk of size 1024, which is longer than the specified 100\n"
     ]
    }
   ],
   "source": [
    "from langchain_text_splitters import CharacterTextSplitter\n",
    "text_splitter=CharacterTextSplitter(separator=\"\\n\\n\",chunk_size=100,chunk_overlap=20)\n",
    "\n",
    "documents=text_splitter.split_documents(docs)"
   ]
  },
  {
   "cell_type": "code",
   "execution_count": 10,
   "id": "9bdd2dec",
   "metadata": {},
   "outputs": [
    {
     "data": {
      "text/plain": [
       "2"
      ]
     },
     "execution_count": 10,
     "metadata": {},
     "output_type": "execute_result"
    }
   ],
   "source": [
    "len(documents)"
   ]
  },
  {
   "cell_type": "code",
   "execution_count": 16,
   "id": "99aa1ebd",
   "metadata": {},
   "outputs": [
    {
     "name": "stderr",
     "output_type": "stream",
     "text": [
      "Created a chunk of size 1024, which is longer than the specified 100\n"
     ]
    }
   ],
   "source": [
    "from langchain_text_splitters import CharacterTextSplitter\n",
    "text_splitter=CharacterTextSplitter(chunk_size=100,chunk_overlap=20)\n",
    "\n",
    "documents=text_splitter.split_documents(docs)"
   ]
  },
  {
   "cell_type": "code",
   "execution_count": 17,
   "id": "3e0e8cd7",
   "metadata": {},
   "outputs": [
    {
     "data": {
      "text/plain": [
       "2"
      ]
     },
     "execution_count": 17,
     "metadata": {},
     "output_type": "execute_result"
    }
   ],
   "source": [
    "len(documents)"
   ]
  },
  {
   "cell_type": "code",
   "execution_count": null,
   "id": "788b1a63",
   "metadata": {},
   "outputs": [],
   "source": []
  },
  {
   "cell_type": "code",
   "execution_count": null,
   "id": "e182b119",
   "metadata": {},
   "outputs": [],
   "source": []
  },
  {
   "cell_type": "code",
   "execution_count": null,
   "id": "4801defd",
   "metadata": {},
   "outputs": [],
   "source": []
  },
  {
   "cell_type": "markdown",
   "id": "1d3b74d6",
   "metadata": {},
   "source": []
  }
 ],
 "metadata": {
  "kernelspec": {
   "display_name": "venv",
   "language": "python",
   "name": "python3"
  },
  "language_info": {
   "codemirror_mode": {
    "name": "ipython",
    "version": 3
   },
   "file_extension": ".py",
   "mimetype": "text/x-python",
   "name": "python",
   "nbconvert_exporter": "python",
   "pygments_lexer": "ipython3",
   "version": "3.12.7"
  }
 },
 "nbformat": 4,
 "nbformat_minor": 5
}

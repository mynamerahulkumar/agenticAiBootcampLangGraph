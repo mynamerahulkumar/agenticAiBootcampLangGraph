{
 "cells": [
  {
   "cell_type": "markdown",
   "id": "6cc6c16f",
   "metadata": {},
   "source": [
    "## Chroma\n",
    "\n",
    "Chroma is a AI-native open-source vector database focused on developer productivity and happiness. Chroma is licensed under Apache 2.0.\n",
    "\n",
    "https://python.langchain.com/v0.2/docs/integrations/vectorstores/"
   ]
  },
  {
   "cell_type": "code",
   "execution_count": 1,
   "id": "7dfdd363",
   "metadata": {},
   "outputs": [],
   "source": [
    "## building a sample vectordb\n",
    "from langchain_community.vectorstores import Chroma\n",
    "from langchain_community.document_loaders import TextLoader\n",
    "from langchain_community.embeddings import OllamaEmbeddings\n",
    "from langchain_text_splitters import RecursiveCharacterTextSplitter"
   ]
  },
  {
   "cell_type": "code",
   "execution_count": 2,
   "id": "49471217",
   "metadata": {},
   "outputs": [
    {
     "data": {
      "text/plain": [
       "[Document(metadata={'source': 'data/loreal_shareholder_2022.txt'}, page_content='“Dear Shareholders,\\nL’Oréal continues on the path to success with an ever-stronger ambition, while acting with the sense of responsibility of a global leader. Dual financial and social excellence will always be at the heart of our business model.\\nWe have set ourselves the ultimate goal of creating value that benefits everyone.\\nWe create value for you, our shareholders.\\xa0The resilience and outperformance of your Company are the perfect demonstration of its robust, virtuous and value creating business model. The quality of our results puts us in a position to offer a dividend of €6 per share, representing a significant increase of +25%. And the preferential dividend with a 10% loyalty bonus(1), at €6.60, is recognition of your long-term loyalty.\\nI also know that you attach just as much importance to the quality of our relationship with you, our shareholders. I am delighted to welcome the more than 30,000 new individual shareholders in France who joined us in 2022.\\nWe create value thanks to our 87,400 employees. \\nsAnd for them.Their determination to go that extra mile, their creativity and their spirit of solidarity were, once again, exemplary last year. They have my utmost admiration.\\nIt was only natural that we share L’Oréal’s performance with them. In 2022, we launched a third employee share ownership plan. More than a third of our employees around the world and two-thirds of employees in France are Group shareholders. That is outstanding proof of their attachment to L’Oréal. And it is yet another means of aligning their interests with yours.\\nWe also need to create values.\\xa0Entrepreneurial spirit, courage, respect, transparency, ethics and responsibility are the values underpinning our long-term future. The culture that binds us is a unique, fundamental asset that no other company could ever copy.\\nWe create value for our ecosystem.\\xa0L’Oréal is a global company that thrives on its diversity. But our heart beats in France and always will. We have nearly\\xa015,000 employees\\xa0in the country. Our French plants handle more than 26% of our worldwide production, even though France represents 7% of our sales. We have made France a land of the Group’s scientific and technological excellence, with\\xa02,700 researchers\\xa0and nearly 70% of our R&D investments.\\nWe create value for our environment and society.\\xa0Sustainable development has long been a priority for our governance, a pillar of our business strategy and a results-based commitment on the part of each and every employee.\\nAlongside the many initiatives undertaken by your Company, the Fondation L’Oréal has also stepped up its efforts. This June marks the 25th\\xa0anniversary of the For Women in Science programme, which has provided human and financial support to nearly\\xa04,100 female\\xa0scientists in more than 110 countries.\\nWith your support,\\xa0L’Oréal is more than ever driven by tremendous energy to continue its beautiful Adventure.”\\n')]"
      ]
     },
     "execution_count": 2,
     "metadata": {},
     "output_type": "execute_result"
    }
   ],
   "source": [
    "loader=TextLoader(\"data/loreal_shareholder_2022.txt\")\n",
    "data = loader.load()\n",
    "data"
   ]
  },
  {
   "cell_type": "markdown",
   "id": "6afd1100",
   "metadata": {},
   "source": []
  },
  {
   "cell_type": "code",
   "execution_count": null,
   "id": "d24e35fc",
   "metadata": {},
   "outputs": [],
   "source": []
  },
  {
   "cell_type": "code",
   "execution_count": 3,
   "id": "ebaf04b9",
   "metadata": {},
   "outputs": [],
   "source": [
    "# Split\n",
    "text_splitter = RecursiveCharacterTextSplitter(chunk_size=500, chunk_overlap=0)\n",
    "splits = text_splitter.split_documents(data)"
   ]
  },
  {
   "cell_type": "code",
   "execution_count": 4,
   "id": "53832acd",
   "metadata": {},
   "outputs": [
    {
     "data": {
      "text/plain": [
       "8"
      ]
     },
     "execution_count": 4,
     "metadata": {},
     "output_type": "execute_result"
    }
   ],
   "source": [
    "len(splits)"
   ]
  },
  {
   "cell_type": "code",
   "execution_count": 5,
   "id": "b1609d7d",
   "metadata": {},
   "outputs": [
    {
     "name": "stderr",
     "output_type": "stream",
     "text": [
      "/var/folders/7z/5qb9wcyx7z9b5_ff36bxqt8c0000gn/T/ipykernel_20918/3277018236.py:1: LangChainDeprecationWarning: The class `OllamaEmbeddings` was deprecated in LangChain 0.3.1 and will be removed in 1.0.0. An updated version of the class exists in the :class:`~langchain-ollama package and should be used instead. To use it run `pip install -U :class:`~langchain-ollama` and import as `from :class:`~langchain_ollama import OllamaEmbeddings``.\n",
      "  embedding=OllamaEmbeddings(model=\"llama3.2:1b\")\n"
     ]
    },
    {
     "data": {
      "text/plain": [
       "<langchain_community.vectorstores.chroma.Chroma at 0x107f3c950>"
      ]
     },
     "execution_count": 5,
     "metadata": {},
     "output_type": "execute_result"
    }
   ],
   "source": [
    "embedding=OllamaEmbeddings(model=\"llama3.2:1b\")\n",
    "vectordb=Chroma.from_documents(documents=splits,embedding=embedding)\n",
    "vectordb\n"
   ]
  },
  {
   "cell_type": "code",
   "execution_count": null,
   "id": "0af07274",
   "metadata": {},
   "outputs": [],
   "source": []
  },
  {
   "cell_type": "code",
   "execution_count": 6,
   "id": "7912bf0c",
   "metadata": {},
   "outputs": [
    {
     "data": {
      "text/plain": [
       "'It was only natural that we share L’Oréal’s performance with them. In 2022, we launched a third employee share ownership plan. More than a third of our employees around the world and two-thirds of employees in France are Group shareholders. That is outstanding proof of their attachment to L’Oréal. And it is yet another means of aligning their interests with yours.'"
      ]
     },
     "execution_count": 6,
     "metadata": {},
     "output_type": "execute_result"
    }
   ],
   "source": [
    "## query it\n",
    "query = \"What is loyalty bonus for shareholder of Loreals?\"\n",
    "docs = vectordb.similarity_search(query)\n",
    "docs[0].page_content"
   ]
  },
  {
   "cell_type": "code",
   "execution_count": 7,
   "id": "3d29155c",
   "metadata": {},
   "outputs": [],
   "source": [
    "## Saving to the disk\n",
    "vectordb=Chroma.from_documents(documents=splits,embedding=embedding,persist_directory=\"./chroma_db\")\n"
   ]
  },
  {
   "cell_type": "code",
   "execution_count": 8,
   "id": "de43d720",
   "metadata": {},
   "outputs": [
    {
     "name": "stdout",
     "output_type": "stream",
     "text": [
      "It was only natural that we share L’Oréal’s performance with them. In 2022, we launched a third employee share ownership plan. More than a third of our employees around the world and two-thirds of employees in France are Group shareholders. That is outstanding proof of their attachment to L’Oréal. And it is yet another means of aligning their interests with yours.\n"
     ]
    },
    {
     "name": "stderr",
     "output_type": "stream",
     "text": [
      "/var/folders/7z/5qb9wcyx7z9b5_ff36bxqt8c0000gn/T/ipykernel_20918/2162271539.py:2: LangChainDeprecationWarning: The class `Chroma` was deprecated in LangChain 0.2.9 and will be removed in 1.0. An updated version of the class exists in the :class:`~langchain-chroma package and should be used instead. To use it run `pip install -U :class:`~langchain-chroma` and import as `from :class:`~langchain_chroma import Chroma``.\n",
      "  db2 = Chroma(persist_directory=\"./chroma_db\", embedding_function=embedding)\n"
     ]
    }
   ],
   "source": [
    "# load from disk\n",
    "db2 = Chroma(persist_directory=\"./chroma_db\", embedding_function=embedding)\n",
    "docs=db2.similarity_search(query)\n",
    "print(docs[0].page_content)"
   ]
  },
  {
   "cell_type": "code",
   "execution_count": 9,
   "id": "1d28b33a",
   "metadata": {},
   "outputs": [
    {
     "data": {
      "text/plain": [
       "[(Document(metadata={'source': 'data/loreal_shareholder_2022.txt'}, page_content='It was only natural that we share L’Oréal’s performance with them. In 2022, we launched a third employee share ownership plan. More than a third of our employees around the world and two-thirds of employees in France are Group shareholders. That is outstanding proof of their attachment to L’Oréal. And it is yet another means of aligning their interests with yours.'),\n",
       "  6911.93150222343),\n",
       " (Document(metadata={'source': 'data/loreal_shareholder_2022.txt'}, page_content='We create value for you, our shareholders.\\xa0The resilience and outperformance of your Company are the perfect demonstration of its robust, virtuous and value creating business model. The quality of our results puts us in a position to offer a dividend of €6 per share, representing a significant increase of +25%. And the preferential dividend with a 10% loyalty bonus(1), at €6.60, is recognition of your long-term loyalty.'),\n",
       "  7056.684322362017),\n",
       " (Document(metadata={'source': 'data/loreal_shareholder_2022.txt'}, page_content='I also know that you attach just as much importance to the quality of our relationship with you, our shareholders. I am delighted to welcome the more than 30,000 new individual shareholders in France who joined us in 2022.\\nWe create value thanks to our 87,400 employees. \\nsAnd for them.Their determination to go that extra mile, their creativity and their spirit of solidarity were, once again, exemplary last year. They have my utmost admiration.'),\n",
       "  7466.54922687542),\n",
       " (Document(metadata={'source': 'data/loreal_shareholder_2022.txt'}, page_content='“Dear Shareholders,\\nL’Oréal continues on the path to success with an ever-stronger ambition, while acting with the sense of responsibility of a global leader. Dual financial and social excellence will always be at the heart of our business model.\\nWe have set ourselves the ultimate goal of creating value that benefits everyone.'),\n",
       "  7620.6063405471505)]"
      ]
     },
     "execution_count": 9,
     "metadata": {},
     "output_type": "execute_result"
    }
   ],
   "source": [
    "## similarity Search With Score\n",
    "docs = vectordb.similarity_search_with_score(query)\n",
    "docs"
   ]
  },
  {
   "cell_type": "code",
   "execution_count": 10,
   "id": "3a91666b",
   "metadata": {},
   "outputs": [
    {
     "data": {
      "text/plain": [
       "'It was only natural that we share L’Oréal’s performance with them. In 2022, we launched a third employee share ownership plan. More than a third of our employees around the world and two-thirds of employees in France are Group shareholders. That is outstanding proof of their attachment to L’Oréal. And it is yet another means of aligning their interests with yours.'"
      ]
     },
     "execution_count": 10,
     "metadata": {},
     "output_type": "execute_result"
    }
   ],
   "source": [
    "### Retriever option\n",
    "retriever=vectordb.as_retriever()\n",
    "retriever.invoke(query)[0].page_content"
   ]
  },
  {
   "cell_type": "code",
   "execution_count": null,
   "id": "e34ba41c",
   "metadata": {},
   "outputs": [],
   "source": []
  }
 ],
 "metadata": {
  "kernelspec": {
   "display_name": "venv",
   "language": "python",
   "name": "python3"
  },
  "language_info": {
   "codemirror_mode": {
    "name": "ipython",
    "version": 3
   },
   "file_extension": ".py",
   "mimetype": "text/x-python",
   "name": "python",
   "nbconvert_exporter": "python",
   "pygments_lexer": "ipython3",
   "version": "3.12.7"
  }
 },
 "nbformat": 4,
 "nbformat_minor": 5
}
